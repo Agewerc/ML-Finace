{
 "cells": [
  {
   "cell_type": "markdown",
   "metadata": {},
   "source": [
    "# Corporate Credit Rating Forecasting \n",
    "\n",
    "\n",
    "Libraries used:\n",
    "- ...\n",
    "- ...\n",
    "- ...\n",
    "\n",
    "\n",
    "## Introduction\n",
    "\n",
    "This notebook contains the results of the data analysis performed on a set of corporate credit ratings given by ratings agencies to a set of companies. The aim of the data analysis is to build a machine learning model from the rating data that can be used to predict the rating a company will receive.\n",
    "\n",
    "The first section section of the notebook shows the exploratory data analysis (EDA) performed to explore and understand the data. It looks at each attribute (variable) in the data to understand the nature and distribution of the attribute values. It also examines the correlation between the variables through visual analysis. A summary at the end highlights the key findings of the EDA.\n",
    "\n",
    "The second section shows the development of the linear regression model. It details the process used to build the model and shows the model at key points in the development process. The final model is then presented along with an analysis and interpretation of the model. This section concludes with the results of using the model to predict house prices for the data in the development dataset.\n",
    "\n",
    "The final section provides the details of the model to enable it to be rebuilt. In addition to the model itself, it includes the functions used to transform the data and run the model.\n",
    "\n",
    "Two datasets were provided for the assignment - training.csv and dev.csv. The exploratory data analysis and the model building were done using the training.csv dataset; the dev.csv dataset was only used to test the generated model\n",
    "\n",
    "## The Dataset\n",
    "\n",
    "There are xxxx features for every company. They can be divided in: <br>\n",
    "- Liquidity Measurement Ratios: currentRatio, quickRatio, cashRatio, daysOfSalesOutstanding, daysOfInventoryOutstanding, operatingCycle, daysOfPayablesOutstanding, cashConversionCycle\n",
    "- Profitability Indicator Ratios: grossProfitMargin, operatingProfitMargin, pretaxProfitMargin, netProfitMargin, effectiveTaxRate, returnOnAssets, returnOnEquity, returnOnCapitalEmployed, netIncomePerEBT, ebtPerEbit, ebitPerRevenue\n",
    "- Debt Ratios: debtRatio, debtEquityRatio, longTermDebtToCapitalization, totalDebtToCapitalization, interestCoverage, cashFlowToDebtRatio, companyEquityMultiplier\n",
    "- Operating Performance Ratios: receivablesTurnover, payablesTurnover, inventoryTurnover, fixedAssetTurnover, assetTurnover\n",
    "- Cash Flow Indicator Ratios: operatingCashFlowPerShare, freeCashFlowPerShare, cashPerShare, payoutRatio, operatingCashFlowSalesRatio, freeCashFlowOperatingCashFlowRatio, cashFlowCoverageRatios, shortTermCoverageRatios, capitalExpenditureCoverageRatio, dividendPaidAndCapexCoverageRatio, dividendPayoutRatio, \n",
    "- Investment Valuation Ratios: priceBookValueRatio, priceToBookRatio, priceToSalesRatio, priceEarningsRatio, priceToFreeCashFlowsRatio, priceToOperatingCashFlowsRatio, priceCashFlowRatio, priceEarningsToGrowthRatio, priceSalesRatio, dividendYield, enterpriseValueMultiple, priceFairValue\n"
   ]
  },
  {
   "cell_type": "markdown",
   "metadata": {},
   "source": [
    "Load the Libraries used in the notebook"
   ]
  },
  {
   "cell_type": "code",
   "execution_count": 351,
   "metadata": {},
   "outputs": [],
   "source": [
    "import pandas as pd\n",
    "import matplotlib.pyplot as plt\n",
    "import re\n",
    "import numpy as np\n",
    "import seaborn as sns\n",
    "from random import sample \n",
    "from random import choices \n",
    "import seaborn as sns\n",
    "from sklearn.datasets import make_classification\n",
    "from sklearn.ensemble import GradientBoostingClassifier\n",
    "from sklearn.model_selection import train_test_split\n",
    "import numpy as np\n",
    "from sklearn.model_selection import train_test_split\n",
    "from sklearn.model_selection import StratifiedShuffleSplit\n",
    "from sklearn.neural_network import MLPClassifier\n",
    "from sklearn import svm\n",
    "from sklearn import metrics\n",
    "from sklearn.discriminant_analysis import QuadraticDiscriminantAnalysis\n",
    "from sklearn.ensemble import RandomForestClassifier\n",
    "from sklearn.discriminant_analysis import LinearDiscriminantAnalysis\n",
    "from sklearn.utils import resample\n",
    "from sklearn.metrics import confusion_matrix\n"
   ]
  },
  {
   "cell_type": "markdown",
   "metadata": {},
   "source": [
    "## Exploratory Data Analysis\n",
    "\n",
    "### Import Dataset"
   ]
  },
  {
   "cell_type": "code",
   "execution_count": 255,
   "metadata": {},
   "outputs": [],
   "source": [
    "df_rating = pd.read_csv('data/rating_dataframe.csv')"
   ]
  },
  {
   "cell_type": "markdown",
   "metadata": {},
   "source": [
    "### Descriptive Data "
   ]
  },
  {
   "cell_type": "code",
   "execution_count": 256,
   "metadata": {},
   "outputs": [
    {
     "name": "stdout",
     "output_type": "stream",
     "text": [
      "The credit rating dataset has 2029 records, each with 31 attributes\n"
     ]
    }
   ],
   "source": [
    "# Display the dimensions\n",
    "print(\"The credit rating dataset has\", df_rating.shape[0], \"records, each with\", df_rating.shape[1],\n",
    "    \"attributes\")"
   ]
  },
  {
   "cell_type": "markdown",
   "metadata": {},
   "source": [
    "Investigate class of columns.  "
   ]
  },
  {
   "cell_type": "code",
   "execution_count": 257,
   "metadata": {},
   "outputs": [
    {
     "name": "stdout",
     "output_type": "stream",
     "text": [
      "<class 'pandas.core.frame.DataFrame'>\n",
      "RangeIndex: 2029 entries, 0 to 2028\n",
      "Data columns (total 31 columns):\n",
      "Rating                                2029 non-null object\n",
      "Name                                  2029 non-null object\n",
      "Symbol                                2029 non-null object\n",
      "Sector                                2029 non-null object\n",
      "Rating Agency Name                    2029 non-null object\n",
      "Date                                  2029 non-null object\n",
      "currentRatio                          2029 non-null float64\n",
      "quickRatio                            2029 non-null float64\n",
      "cashRatio                             2029 non-null float64\n",
      "daysOfSalesOutstanding                2029 non-null float64\n",
      "netProfitMargin                       2029 non-null float64\n",
      "pretaxProfitMargin                    2029 non-null float64\n",
      "grossProfitMargin                     2029 non-null float64\n",
      "operatingProfitMargin                 2029 non-null float64\n",
      "returnOnAssets                        2029 non-null float64\n",
      "returnOnCapitalEmployed               2029 non-null float64\n",
      "returnOnEquity                        2029 non-null float64\n",
      "assetTurnover                         2029 non-null float64\n",
      "fixedAssetTurnover                    2029 non-null float64\n",
      "debtEquityRatio                       2029 non-null float64\n",
      "debtRatio                             2029 non-null float64\n",
      "effectiveTaxRate                      2029 non-null float64\n",
      "freeCashFlowOperatingCashFlowRatio    2029 non-null float64\n",
      "freeCashFlowPerShare                  2029 non-null float64\n",
      "cashPerShare                          2029 non-null float64\n",
      "companyEquityMultiplier               2029 non-null float64\n",
      "ebitPerRevenue                        2029 non-null float64\n",
      "enterpriseValueMultiple               2029 non-null float64\n",
      "operatingCashFlowPerShare             2029 non-null float64\n",
      "operatingCashFlowSalesRatio           2029 non-null float64\n",
      "payablesTurnover                      2029 non-null float64\n",
      "dtypes: float64(25), object(6)\n",
      "memory usage: 491.5+ KB\n"
     ]
    }
   ],
   "source": [
    "# Display the structure\n",
    "df_rating.info()"
   ]
  },
  {
   "cell_type": "markdown",
   "metadata": {},
   "source": [
    "We have 26 columns of numerical data and 6 descriptive columns. A first look at the data:"
   ]
  },
  {
   "cell_type": "code",
   "execution_count": 258,
   "metadata": {
    "scrolled": true
   },
   "outputs": [
    {
     "data": {
      "text/html": [
       "<div>\n",
       "<style scoped>\n",
       "    .dataframe tbody tr th:only-of-type {\n",
       "        vertical-align: middle;\n",
       "    }\n",
       "\n",
       "    .dataframe tbody tr th {\n",
       "        vertical-align: top;\n",
       "    }\n",
       "\n",
       "    .dataframe thead th {\n",
       "        text-align: right;\n",
       "    }\n",
       "</style>\n",
       "<table border=\"1\" class=\"dataframe\">\n",
       "  <thead>\n",
       "    <tr style=\"text-align: right;\">\n",
       "      <th></th>\n",
       "      <th>Rating</th>\n",
       "      <th>Name</th>\n",
       "      <th>Symbol</th>\n",
       "      <th>Sector</th>\n",
       "      <th>Rating Agency Name</th>\n",
       "      <th>Date</th>\n",
       "      <th>currentRatio</th>\n",
       "      <th>quickRatio</th>\n",
       "      <th>cashRatio</th>\n",
       "      <th>daysOfSalesOutstanding</th>\n",
       "      <th>...</th>\n",
       "      <th>effectiveTaxRate</th>\n",
       "      <th>freeCashFlowOperatingCashFlowRatio</th>\n",
       "      <th>freeCashFlowPerShare</th>\n",
       "      <th>cashPerShare</th>\n",
       "      <th>companyEquityMultiplier</th>\n",
       "      <th>ebitPerRevenue</th>\n",
       "      <th>enterpriseValueMultiple</th>\n",
       "      <th>operatingCashFlowPerShare</th>\n",
       "      <th>operatingCashFlowSalesRatio</th>\n",
       "      <th>payablesTurnover</th>\n",
       "    </tr>\n",
       "  </thead>\n",
       "  <tbody>\n",
       "    <tr>\n",
       "      <td>0</td>\n",
       "      <td>A</td>\n",
       "      <td>whirlpool</td>\n",
       "      <td>WHR</td>\n",
       "      <td>Consumer Durables</td>\n",
       "      <td>Egan-Jones Ratings Company</td>\n",
       "      <td>11/27/2015</td>\n",
       "      <td>0.945894</td>\n",
       "      <td>0.426395</td>\n",
       "      <td>0.099690</td>\n",
       "      <td>44.203245</td>\n",
       "      <td>...</td>\n",
       "      <td>0.202716</td>\n",
       "      <td>0.437551</td>\n",
       "      <td>6.810673</td>\n",
       "      <td>9.809403</td>\n",
       "      <td>4.008012</td>\n",
       "      <td>0.049351</td>\n",
       "      <td>7.057088</td>\n",
       "      <td>15.565438</td>\n",
       "      <td>0.058638</td>\n",
       "      <td>3.906655</td>\n",
       "    </tr>\n",
       "    <tr>\n",
       "      <td>1</td>\n",
       "      <td>BBB</td>\n",
       "      <td>whirlpool</td>\n",
       "      <td>WHR</td>\n",
       "      <td>Consumer Durables</td>\n",
       "      <td>Egan-Jones Ratings Company</td>\n",
       "      <td>2/13/2014</td>\n",
       "      <td>1.033559</td>\n",
       "      <td>0.498234</td>\n",
       "      <td>0.203120</td>\n",
       "      <td>38.991156</td>\n",
       "      <td>...</td>\n",
       "      <td>0.074155</td>\n",
       "      <td>0.541997</td>\n",
       "      <td>8.625473</td>\n",
       "      <td>17.402270</td>\n",
       "      <td>3.156783</td>\n",
       "      <td>0.048857</td>\n",
       "      <td>6.460618</td>\n",
       "      <td>15.914250</td>\n",
       "      <td>0.067239</td>\n",
       "      <td>4.002846</td>\n",
       "    </tr>\n",
       "    <tr>\n",
       "      <td>2</td>\n",
       "      <td>BBB</td>\n",
       "      <td>whirlpool</td>\n",
       "      <td>WHR</td>\n",
       "      <td>Consumer Durables</td>\n",
       "      <td>Fitch Ratings</td>\n",
       "      <td>3/6/2015</td>\n",
       "      <td>0.963703</td>\n",
       "      <td>0.451505</td>\n",
       "      <td>0.122099</td>\n",
       "      <td>50.841385</td>\n",
       "      <td>...</td>\n",
       "      <td>0.214529</td>\n",
       "      <td>0.513185</td>\n",
       "      <td>9.693487</td>\n",
       "      <td>13.103448</td>\n",
       "      <td>4.094575</td>\n",
       "      <td>0.044334</td>\n",
       "      <td>10.491970</td>\n",
       "      <td>18.888889</td>\n",
       "      <td>0.074426</td>\n",
       "      <td>3.483510</td>\n",
       "    </tr>\n",
       "    <tr>\n",
       "      <td>3</td>\n",
       "      <td>BBB</td>\n",
       "      <td>whirlpool</td>\n",
       "      <td>WHR</td>\n",
       "      <td>Consumer Durables</td>\n",
       "      <td>Fitch Ratings</td>\n",
       "      <td>6/15/2012</td>\n",
       "      <td>1.019851</td>\n",
       "      <td>0.510402</td>\n",
       "      <td>0.176116</td>\n",
       "      <td>41.161738</td>\n",
       "      <td>...</td>\n",
       "      <td>1.816667</td>\n",
       "      <td>-0.147170</td>\n",
       "      <td>-1.015625</td>\n",
       "      <td>14.440104</td>\n",
       "      <td>3.630950</td>\n",
       "      <td>-0.012858</td>\n",
       "      <td>4.080741</td>\n",
       "      <td>6.901042</td>\n",
       "      <td>0.028394</td>\n",
       "      <td>4.581150</td>\n",
       "    </tr>\n",
       "    <tr>\n",
       "      <td>4</td>\n",
       "      <td>BBB</td>\n",
       "      <td>whirlpool</td>\n",
       "      <td>WHR</td>\n",
       "      <td>Consumer Durables</td>\n",
       "      <td>Standard &amp; Poor's Ratings Services</td>\n",
       "      <td>10/24/2016</td>\n",
       "      <td>0.957844</td>\n",
       "      <td>0.495432</td>\n",
       "      <td>0.141608</td>\n",
       "      <td>47.761126</td>\n",
       "      <td>...</td>\n",
       "      <td>0.166966</td>\n",
       "      <td>0.451372</td>\n",
       "      <td>7.135348</td>\n",
       "      <td>14.257556</td>\n",
       "      <td>4.012780</td>\n",
       "      <td>0.053770</td>\n",
       "      <td>8.293505</td>\n",
       "      <td>15.808147</td>\n",
       "      <td>0.058065</td>\n",
       "      <td>3.857790</td>\n",
       "    </tr>\n",
       "  </tbody>\n",
       "</table>\n",
       "<p>5 rows × 31 columns</p>\n",
       "</div>"
      ],
      "text/plain": [
       "  Rating       Name Symbol             Sector  \\\n",
       "0      A  whirlpool    WHR  Consumer Durables   \n",
       "1    BBB  whirlpool    WHR  Consumer Durables   \n",
       "2    BBB  whirlpool    WHR  Consumer Durables   \n",
       "3    BBB  whirlpool    WHR  Consumer Durables   \n",
       "4    BBB  whirlpool    WHR  Consumer Durables   \n",
       "\n",
       "                   Rating Agency Name        Date  currentRatio  quickRatio  \\\n",
       "0          Egan-Jones Ratings Company  11/27/2015      0.945894    0.426395   \n",
       "1          Egan-Jones Ratings Company   2/13/2014      1.033559    0.498234   \n",
       "2                       Fitch Ratings    3/6/2015      0.963703    0.451505   \n",
       "3                       Fitch Ratings   6/15/2012      1.019851    0.510402   \n",
       "4  Standard & Poor's Ratings Services  10/24/2016      0.957844    0.495432   \n",
       "\n",
       "   cashRatio  daysOfSalesOutstanding  ...  effectiveTaxRate  \\\n",
       "0   0.099690               44.203245  ...          0.202716   \n",
       "1   0.203120               38.991156  ...          0.074155   \n",
       "2   0.122099               50.841385  ...          0.214529   \n",
       "3   0.176116               41.161738  ...          1.816667   \n",
       "4   0.141608               47.761126  ...          0.166966   \n",
       "\n",
       "   freeCashFlowOperatingCashFlowRatio  freeCashFlowPerShare  cashPerShare  \\\n",
       "0                            0.437551              6.810673      9.809403   \n",
       "1                            0.541997              8.625473     17.402270   \n",
       "2                            0.513185              9.693487     13.103448   \n",
       "3                           -0.147170             -1.015625     14.440104   \n",
       "4                            0.451372              7.135348     14.257556   \n",
       "\n",
       "   companyEquityMultiplier  ebitPerRevenue  enterpriseValueMultiple  \\\n",
       "0                 4.008012        0.049351                 7.057088   \n",
       "1                 3.156783        0.048857                 6.460618   \n",
       "2                 4.094575        0.044334                10.491970   \n",
       "3                 3.630950       -0.012858                 4.080741   \n",
       "4                 4.012780        0.053770                 8.293505   \n",
       "\n",
       "   operatingCashFlowPerShare  operatingCashFlowSalesRatio  payablesTurnover  \n",
       "0                  15.565438                     0.058638          3.906655  \n",
       "1                  15.914250                     0.067239          4.002846  \n",
       "2                  18.888889                     0.074426          3.483510  \n",
       "3                   6.901042                     0.028394          4.581150  \n",
       "4                  15.808147                     0.058065          3.857790  \n",
       "\n",
       "[5 rows x 31 columns]"
      ]
     },
     "execution_count": 258,
     "metadata": {},
     "output_type": "execute_result"
    }
   ],
   "source": [
    "df_rating.head()"
   ]
  },
  {
   "cell_type": "markdown",
   "metadata": {},
   "source": [
    "Grouping labels"
   ]
  },
  {
   "cell_type": "markdown",
   "metadata": {},
   "source": [
    "#### Analyse Labels\n",
    "We will group labels to check their pattern."
   ]
  },
  {
   "cell_type": "code",
   "execution_count": 259,
   "metadata": {},
   "outputs": [
    {
     "data": {
      "text/plain": [
       "BBB    671\n",
       "BB     490\n",
       "A      398\n",
       "B      302\n",
       "AA      89\n",
       "CCC     64\n",
       "AAA      7\n",
       "CC       5\n",
       "C        2\n",
       "D        1\n",
       "Name: Rating, dtype: int64"
      ]
     },
     "execution_count": 259,
     "metadata": {},
     "output_type": "execute_result"
    }
   ],
   "source": [
    "df_rating.Rating.value_counts()"
   ]
  },
  {
   "cell_type": "markdown",
   "metadata": {},
   "source": [
    "We observe that the dataset is very unbalanced.\n",
    "We will have to adress this issue in the Machine Learning steps. \n",
    "\n",
    "However now we will use the following table extracted from [investopedia](https://www.investopedia.com/terms/c/corporate-credit-rating.asp) to transform our labels. We will classify according to the grading risk. \n",
    "\n",
    "| Bond Rating |                   |          |            |              |\n",
    "|-------------|-------------------|----------|------------|--------------|\n",
    "| Moody's     | Standard & Poor's | Fitch    | Grade      | Risk         |\n",
    "| Aaa         | AAA               | AAA      | Investment | Lowest Risk  |\n",
    "| Aa          | AA                | AA       | Investment | Low Risk     |\n",
    "| A           | A                 | A        | Investment | Low Risk     |\n",
    "| Baa         | BBB               | BBB      | Investment | Medium Risk  |\n",
    "| Ba, B       | BB, B             | BB, B    | Junk       | High Risk    |\n",
    "| Caa/Ca      | CCC/CC/C          | CCC/CC/C | Junk       | Highest Risk |\n",
    "| C           | D                 | D        | Junk       | In Default   |"
   ]
  },
  {
   "cell_type": "code",
   "execution_count": 260,
   "metadata": {},
   "outputs": [],
   "source": [
    "rating_dict = {'AAA':'Lowest Risk', \n",
    "               'AA':'Low Risk',\n",
    "               'A':'Low Risk',\n",
    "               'BBB':'Medium Risk', \n",
    "               'BB':'High Risk',\n",
    "               'B':'High Risk',\n",
    "               'CCC':'Highest Risk', \n",
    "               'CC':'Highest Risk',\n",
    "               'C':'Highest Risk',\n",
    "               'D':'In Default'}\n",
    "\n",
    "df_rating.Rating = df_rating.Rating.map(rating_dict)"
   ]
  },
  {
   "cell_type": "code",
   "execution_count": 261,
   "metadata": {},
   "outputs": [
    {
     "data": {
      "image/png": "[encoded data removed]",
      "text/plain": [
       "<Figure size 576x288 with 1 Axes>"
      ]
     },
     "metadata": {
      "needs_background": "light"
     },
     "output_type": "display_data"
    }
   ],
   "source": [
    "ax = df_rating['Rating'].value_counts().plot(kind='bar',\n",
    "                                             figsize=(8,4),\n",
    "                                             title=\"Count of Ratings by Type\",\n",
    "                                             grid=True)"
   ]
  },
  {
   "cell_type": "markdown",
   "metadata": {},
   "source": [
    "Unfortunately given the lack of \"Lowest Risk\" and \"In Default\" companies we will have to eliminate then from the table."
   ]
  },
  {
   "cell_type": "code",
   "execution_count": 262,
   "metadata": {},
   "outputs": [],
   "source": [
    "df_rating = df_rating[df_rating['Rating']!='Lowest Risk']\n",
    "df_rating = df_rating[df_rating['Rating']!='In Default']"
   ]
  },
  {
   "cell_type": "markdown",
   "metadata": {},
   "source": [
    "### Descriptive Statistics"
   ]
  },
  {
   "cell_type": "code",
   "execution_count": 263,
   "metadata": {
    "scrolled": true
   },
   "outputs": [
    {
     "data": {
      "text/html": [
       "<div>\n",
       "<style scoped>\n",
       "    .dataframe tbody tr th:only-of-type {\n",
       "        vertical-align: middle;\n",
       "    }\n",
       "\n",
       "    .dataframe tbody tr th {\n",
       "        vertical-align: top;\n",
       "    }\n",
       "\n",
       "    .dataframe thead th {\n",
       "        text-align: right;\n",
       "    }\n",
       "</style>\n",
       "<table border=\"1\" class=\"dataframe\">\n",
       "  <thead>\n",
       "    <tr style=\"text-align: right;\">\n",
       "      <th></th>\n",
       "      <th>currentRatio</th>\n",
       "      <th>quickRatio</th>\n",
       "      <th>cashRatio</th>\n",
       "      <th>daysOfSalesOutstanding</th>\n",
       "      <th>netProfitMargin</th>\n",
       "      <th>pretaxProfitMargin</th>\n",
       "      <th>grossProfitMargin</th>\n",
       "      <th>operatingProfitMargin</th>\n",
       "      <th>returnOnAssets</th>\n",
       "      <th>returnOnCapitalEmployed</th>\n",
       "      <th>...</th>\n",
       "      <th>effectiveTaxRate</th>\n",
       "      <th>freeCashFlowOperatingCashFlowRatio</th>\n",
       "      <th>freeCashFlowPerShare</th>\n",
       "      <th>cashPerShare</th>\n",
       "      <th>companyEquityMultiplier</th>\n",
       "      <th>ebitPerRevenue</th>\n",
       "      <th>enterpriseValueMultiple</th>\n",
       "      <th>operatingCashFlowPerShare</th>\n",
       "      <th>operatingCashFlowSalesRatio</th>\n",
       "      <th>payablesTurnover</th>\n",
       "    </tr>\n",
       "  </thead>\n",
       "  <tbody>\n",
       "    <tr>\n",
       "      <td>count</td>\n",
       "      <td>2021.000000</td>\n",
       "      <td>2021.000000</td>\n",
       "      <td>2021.000000</td>\n",
       "      <td>2021.000000</td>\n",
       "      <td>2021.000000</td>\n",
       "      <td>2021.000000</td>\n",
       "      <td>2021.000000</td>\n",
       "      <td>2021.000000</td>\n",
       "      <td>2021.000000</td>\n",
       "      <td>2021.000000</td>\n",
       "      <td>...</td>\n",
       "      <td>2021.000000</td>\n",
       "      <td>2021.000000</td>\n",
       "      <td>2.021000e+03</td>\n",
       "      <td>2.021000e+03</td>\n",
       "      <td>2021.000000</td>\n",
       "      <td>2021.000000</td>\n",
       "      <td>2021.000000</td>\n",
       "      <td>2.021000e+03</td>\n",
       "      <td>2021.000000</td>\n",
       "      <td>2021.000000</td>\n",
       "    </tr>\n",
       "    <tr>\n",
       "      <td>mean</td>\n",
       "      <td>3.535411</td>\n",
       "      <td>2.657150</td>\n",
       "      <td>0.669048</td>\n",
       "      <td>334.855415</td>\n",
       "      <td>0.278725</td>\n",
       "      <td>0.432721</td>\n",
       "      <td>0.496900</td>\n",
       "      <td>0.588793</td>\n",
       "      <td>-37.666843</td>\n",
       "      <td>-74.267283</td>\n",
       "      <td>...</td>\n",
       "      <td>0.400755</td>\n",
       "      <td>0.408272</td>\n",
       "      <td>5.114871e+03</td>\n",
       "      <td>4.244248e+03</td>\n",
       "      <td>3.335166</td>\n",
       "      <td>0.438715</td>\n",
       "      <td>48.426558</td>\n",
       "      <td>6.540891e+03</td>\n",
       "      <td>1.452142</td>\n",
       "      <td>38.138233</td>\n",
       "    </tr>\n",
       "    <tr>\n",
       "      <td>std</td>\n",
       "      <td>44.139386</td>\n",
       "      <td>33.009920</td>\n",
       "      <td>3.590902</td>\n",
       "      <td>4456.606352</td>\n",
       "      <td>6.076128</td>\n",
       "      <td>9.002733</td>\n",
       "      <td>0.525996</td>\n",
       "      <td>11.246798</td>\n",
       "      <td>1168.476782</td>\n",
       "      <td>2354.920503</td>\n",
       "      <td>...</td>\n",
       "      <td>10.613711</td>\n",
       "      <td>3.803929</td>\n",
       "      <td>1.472059e+05</td>\n",
       "      <td>1.226418e+05</td>\n",
       "      <td>87.702375</td>\n",
       "      <td>9.002047</td>\n",
       "      <td>530.161001</td>\n",
       "      <td>1.778797e+05</td>\n",
       "      <td>19.521704</td>\n",
       "      <td>760.421855</td>\n",
       "    </tr>\n",
       "    <tr>\n",
       "      <td>min</td>\n",
       "      <td>-0.932005</td>\n",
       "      <td>-1.893266</td>\n",
       "      <td>-0.192736</td>\n",
       "      <td>-811.845623</td>\n",
       "      <td>-101.845815</td>\n",
       "      <td>-124.343612</td>\n",
       "      <td>-14.800817</td>\n",
       "      <td>-124.343612</td>\n",
       "      <td>-40213.178290</td>\n",
       "      <td>-87162.162160</td>\n",
       "      <td>...</td>\n",
       "      <td>-100.611016</td>\n",
       "      <td>-120.916010</td>\n",
       "      <td>-4.912742e+03</td>\n",
       "      <td>-1.915035e+01</td>\n",
       "      <td>-2555.419643</td>\n",
       "      <td>-124.343612</td>\n",
       "      <td>-3749.921337</td>\n",
       "      <td>-1.195049e+04</td>\n",
       "      <td>-4.461837</td>\n",
       "      <td>-76.662850</td>\n",
       "    </tr>\n",
       "    <tr>\n",
       "      <td>25%</td>\n",
       "      <td>1.071930</td>\n",
       "      <td>0.602298</td>\n",
       "      <td>0.131433</td>\n",
       "      <td>22.806507</td>\n",
       "      <td>0.020894</td>\n",
       "      <td>0.025649</td>\n",
       "      <td>0.232565</td>\n",
       "      <td>0.044546</td>\n",
       "      <td>0.018757</td>\n",
       "      <td>0.028112</td>\n",
       "      <td>...</td>\n",
       "      <td>0.147837</td>\n",
       "      <td>0.269616</td>\n",
       "      <td>4.094118e-01</td>\n",
       "      <td>1.562116e+00</td>\n",
       "      <td>2.050249</td>\n",
       "      <td>0.028057</td>\n",
       "      <td>6.235759</td>\n",
       "      <td>2.348851e+00</td>\n",
       "      <td>0.073664</td>\n",
       "      <td>2.202394</td>\n",
       "    </tr>\n",
       "    <tr>\n",
       "      <td>50%</td>\n",
       "      <td>1.492804</td>\n",
       "      <td>0.979094</td>\n",
       "      <td>0.297859</td>\n",
       "      <td>42.281804</td>\n",
       "      <td>0.064323</td>\n",
       "      <td>0.084965</td>\n",
       "      <td>0.414217</td>\n",
       "      <td>0.107640</td>\n",
       "      <td>0.045417</td>\n",
       "      <td>0.074639</td>\n",
       "      <td>...</td>\n",
       "      <td>0.300439</td>\n",
       "      <td>0.644265</td>\n",
       "      <td>2.123062e+00</td>\n",
       "      <td>3.680425e+00</td>\n",
       "      <td>2.657275</td>\n",
       "      <td>0.087424</td>\n",
       "      <td>9.269746</td>\n",
       "      <td>4.361649e+00</td>\n",
       "      <td>0.132758</td>\n",
       "      <td>5.775840</td>\n",
       "    </tr>\n",
       "    <tr>\n",
       "      <td>75%</td>\n",
       "      <td>2.160710</td>\n",
       "      <td>1.450457</td>\n",
       "      <td>0.625355</td>\n",
       "      <td>59.165369</td>\n",
       "      <td>0.113871</td>\n",
       "      <td>0.144763</td>\n",
       "      <td>0.849693</td>\n",
       "      <td>0.175334</td>\n",
       "      <td>0.077159</td>\n",
       "      <td>0.135036</td>\n",
       "      <td>...</td>\n",
       "      <td>0.370239</td>\n",
       "      <td>0.836949</td>\n",
       "      <td>4.230253e+00</td>\n",
       "      <td>8.027524e+00</td>\n",
       "      <td>3.665438</td>\n",
       "      <td>0.149355</td>\n",
       "      <td>12.898855</td>\n",
       "      <td>7.322553e+00</td>\n",
       "      <td>0.239359</td>\n",
       "      <td>9.500424</td>\n",
       "    </tr>\n",
       "    <tr>\n",
       "      <td>max</td>\n",
       "      <td>1725.505005</td>\n",
       "      <td>1139.541703</td>\n",
       "      <td>125.917417</td>\n",
       "      <td>115961.637400</td>\n",
       "      <td>198.517873</td>\n",
       "      <td>309.694856</td>\n",
       "      <td>2.702533</td>\n",
       "      <td>410.182214</td>\n",
       "      <td>0.487826</td>\n",
       "      <td>2.439504</td>\n",
       "      <td>...</td>\n",
       "      <td>429.926282</td>\n",
       "      <td>34.594086</td>\n",
       "      <td>5.753380e+06</td>\n",
       "      <td>4.786803e+06</td>\n",
       "      <td>2562.871795</td>\n",
       "      <td>309.694856</td>\n",
       "      <td>11153.607090</td>\n",
       "      <td>6.439270e+06</td>\n",
       "      <td>688.526591</td>\n",
       "      <td>20314.880400</td>\n",
       "    </tr>\n",
       "  </tbody>\n",
       "</table>\n",
       "<p>8 rows × 25 columns</p>\n",
       "</div>"
      ],
      "text/plain": [
       "       currentRatio   quickRatio    cashRatio  daysOfSalesOutstanding  \\\n",
       "count   2021.000000  2021.000000  2021.000000             2021.000000   \n",
       "mean       3.535411     2.657150     0.669048              334.855415   \n",
       "std       44.139386    33.009920     3.590902             4456.606352   \n",
       "min       -0.932005    -1.893266    -0.192736             -811.845623   \n",
       "25%        1.071930     0.602298     0.131433               22.806507   \n",
       "50%        1.492804     0.979094     0.297859               42.281804   \n",
       "75%        2.160710     1.450457     0.625355               59.165369   \n",
       "max     1725.505005  1139.541703   125.917417           115961.637400   \n",
       "\n",
       "       netProfitMargin  pretaxProfitMargin  grossProfitMargin  \\\n",
       "count      2021.000000         2021.000000        2021.000000   \n",
       "mean          0.278725            0.432721           0.496900   \n",
       "std           6.076128            9.002733           0.525996   \n",
       "min        -101.845815         -124.343612         -14.800817   \n",
       "25%           0.020894            0.025649           0.232565   \n",
       "50%           0.064323            0.084965           0.414217   \n",
       "75%           0.113871            0.144763           0.849693   \n",
       "max         198.517873          309.694856           2.702533   \n",
       "\n",
       "       operatingProfitMargin  returnOnAssets  returnOnCapitalEmployed  ...  \\\n",
       "count            2021.000000     2021.000000              2021.000000  ...   \n",
       "mean                0.588793      -37.666843               -74.267283  ...   \n",
       "std                11.246798     1168.476782              2354.920503  ...   \n",
       "min              -124.343612   -40213.178290            -87162.162160  ...   \n",
       "25%                 0.044546        0.018757                 0.028112  ...   \n",
       "50%                 0.107640        0.045417                 0.074639  ...   \n",
       "75%                 0.175334        0.077159                 0.135036  ...   \n",
       "max               410.182214        0.487826                 2.439504  ...   \n",
       "\n",
       "       effectiveTaxRate  freeCashFlowOperatingCashFlowRatio  \\\n",
       "count       2021.000000                         2021.000000   \n",
       "mean           0.400755                            0.408272   \n",
       "std           10.613711                            3.803929   \n",
       "min         -100.611016                         -120.916010   \n",
       "25%            0.147837                            0.269616   \n",
       "50%            0.300439                            0.644265   \n",
       "75%            0.370239                            0.836949   \n",
       "max          429.926282                           34.594086   \n",
       "\n",
       "       freeCashFlowPerShare  cashPerShare  companyEquityMultiplier  \\\n",
       "count          2.021000e+03  2.021000e+03              2021.000000   \n",
       "mean           5.114871e+03  4.244248e+03                 3.335166   \n",
       "std            1.472059e+05  1.226418e+05                87.702375   \n",
       "min           -4.912742e+03 -1.915035e+01             -2555.419643   \n",
       "25%            4.094118e-01  1.562116e+00                 2.050249   \n",
       "50%            2.123062e+00  3.680425e+00                 2.657275   \n",
       "75%            4.230253e+00  8.027524e+00                 3.665438   \n",
       "max            5.753380e+06  4.786803e+06              2562.871795   \n",
       "\n",
       "       ebitPerRevenue  enterpriseValueMultiple  operatingCashFlowPerShare  \\\n",
       "count     2021.000000              2021.000000               2.021000e+03   \n",
       "mean         0.438715                48.426558               6.540891e+03   \n",
       "std          9.002047               530.161001               1.778797e+05   \n",
       "min       -124.343612             -3749.921337              -1.195049e+04   \n",
       "25%          0.028057                 6.235759               2.348851e+00   \n",
       "50%          0.087424                 9.269746               4.361649e+00   \n",
       "75%          0.149355                12.898855               7.322553e+00   \n",
       "max        309.694856             11153.607090               6.439270e+06   \n",
       "\n",
       "       operatingCashFlowSalesRatio  payablesTurnover  \n",
       "count                  2021.000000       2021.000000  \n",
       "mean                      1.452142         38.138233  \n",
       "std                      19.521704        760.421855  \n",
       "min                      -4.461837        -76.662850  \n",
       "25%                       0.073664          2.202394  \n",
       "50%                       0.132758          5.775840  \n",
       "75%                       0.239359          9.500424  \n",
       "max                     688.526591      20314.880400  \n",
       "\n",
       "[8 rows x 25 columns]"
      ]
     },
     "execution_count": 263,
     "metadata": {},
     "output_type": "execute_result"
    }
   ],
   "source": [
    "# Statistical summary \n",
    "df_rating.describe()"
   ]
  },
  {
   "cell_type": "markdown",
   "metadata": {},
   "source": [
    "We observe a lot of skewness in the data with this first exploration. There is very little variation within the interquartile but the max and the min are very distant from the interquartile. The dataset is polluted with outliers. \n",
    "We will demonstrate with histograms and boxplots of four chosen variables."
   ]
  },
  {
   "cell_type": "code",
   "execution_count": 264,
   "metadata": {
    "scrolled": true
   },
   "outputs": [
    {
     "data": {
      "image/png": "[encoded data removed]",
      "text/plain": [
       "<Figure size 648x360 with 8 Axes>"
      ]
     },
     "metadata": {
      "needs_background": "light"
     },
     "output_type": "display_data"
    }
   ],
   "source": [
    "figure, axes = plt.subplots(nrows=2, ncols=4, figsize=(9,5))\n",
    "axes[0, 0].hist(df_rating.currentRatio)\n",
    "axes[0, 1].hist(df_rating.returnOnEquity)\n",
    "axes[1, 0].hist(df_rating.freeCashFlowPerShare)\n",
    "axes[1, 1].hist(df_rating.payablesTurnover)\n",
    "\n",
    "axes[0, 2].boxplot(df_rating.currentRatio)\n",
    "axes[1, 2].boxplot(df_rating.returnOnEquity)\n",
    "axes[0, 3].boxplot(df_rating.freeCashFlowPerShare)\n",
    "axes[1, 3].boxplot(df_rating.payablesTurnover)\n",
    "\n",
    "figure.tight_layout()"
   ]
  },
  {
   "cell_type": "markdown",
   "metadata": {},
   "source": [
    "We will use the function `.skew` from pandas in all columns. It should return between 0 and 1 if a column is normally distributed. "
   ]
  },
  {
   "cell_type": "code",
   "execution_count": 265,
   "metadata": {},
   "outputs": [
    {
     "data": {
      "text/plain": [
       "currentRatio                          34.271115\n",
       "quickRatio                            30.864610\n",
       "cashRatio                             27.046952\n",
       "daysOfSalesOutstanding                20.359098\n",
       "netProfitMargin                       17.585073\n",
       "pretaxProfitMargin                    22.052558\n",
       "grossProfitMargin                    -14.198688\n",
       "operatingProfitMargin                 26.441502\n",
       "returnOnAssets                       -32.049111\n",
       "returnOnCapitalEmployed              -33.252701\n",
       "returnOnEquity                        31.639845\n",
       "assetTurnover                         25.968848\n",
       "fixedAssetTurnover                    26.068762\n",
       "debtEquityRatio                        0.268074\n",
       "debtRatio                              1.284256\n",
       "effectiveTaxRate                      32.265705\n",
       "freeCashFlowOperatingCashFlowRatio   -22.868222\n",
       "freeCashFlowPerShare                  33.610677\n",
       "cashPerShare                          33.958646\n",
       "companyEquityMultiplier                0.268175\n",
       "ebitPerRevenue                        22.055668\n",
       "enterpriseValueMultiple               13.920117\n",
       "operatingCashFlowPerShare             30.292914\n",
       "operatingCashFlowSalesRatio           25.400129\n",
       "payablesTurnover                      25.868293\n",
       "dtype: float64"
      ]
     },
     "execution_count": 265,
     "metadata": {},
     "output_type": "execute_result"
    }
   ],
   "source": [
    "df_rating.skew(axis=0)"
   ]
  },
  {
   "cell_type": "markdown",
   "metadata": {},
   "source": [
    "As we can see almost all columns are extremely skewed. We will perform now transformations in the dataset to handle the skewness. An apprpriate method is usually to apply log or delete outliers, but we will follow a different approach. First we will perform an investigation of the data within the classes. "
   ]
  },
  {
   "cell_type": "code",
   "execution_count": 266,
   "metadata": {
    "scrolled": true
   },
   "outputs": [
    {
     "data": {
      "text/html": [
       "<div>\n",
       "<style scoped>\n",
       "    .dataframe tbody tr th:only-of-type {\n",
       "        vertical-align: middle;\n",
       "    }\n",
       "\n",
       "    .dataframe tbody tr th {\n",
       "        vertical-align: top;\n",
       "    }\n",
       "\n",
       "    .dataframe thead th {\n",
       "        text-align: right;\n",
       "    }\n",
       "</style>\n",
       "<table border=\"1\" class=\"dataframe\">\n",
       "  <thead>\n",
       "    <tr style=\"text-align: right;\">\n",
       "      <th></th>\n",
       "      <th>currentRatio</th>\n",
       "      <th>quickRatio</th>\n",
       "      <th>cashRatio</th>\n",
       "      <th>daysOfSalesOutstanding</th>\n",
       "      <th>netProfitMargin</th>\n",
       "      <th>pretaxProfitMargin</th>\n",
       "      <th>grossProfitMargin</th>\n",
       "      <th>operatingProfitMargin</th>\n",
       "      <th>returnOnAssets</th>\n",
       "      <th>returnOnCapitalEmployed</th>\n",
       "      <th>...</th>\n",
       "      <th>effectiveTaxRate</th>\n",
       "      <th>freeCashFlowOperatingCashFlowRatio</th>\n",
       "      <th>freeCashFlowPerShare</th>\n",
       "      <th>cashPerShare</th>\n",
       "      <th>companyEquityMultiplier</th>\n",
       "      <th>ebitPerRevenue</th>\n",
       "      <th>enterpriseValueMultiple</th>\n",
       "      <th>operatingCashFlowPerShare</th>\n",
       "      <th>operatingCashFlowSalesRatio</th>\n",
       "      <th>payablesTurnover</th>\n",
       "    </tr>\n",
       "    <tr>\n",
       "      <th>Rating</th>\n",
       "      <th></th>\n",
       "      <th></th>\n",
       "      <th></th>\n",
       "      <th></th>\n",
       "      <th></th>\n",
       "      <th></th>\n",
       "      <th></th>\n",
       "      <th></th>\n",
       "      <th></th>\n",
       "      <th></th>\n",
       "      <th></th>\n",
       "      <th></th>\n",
       "      <th></th>\n",
       "      <th></th>\n",
       "      <th></th>\n",
       "      <th></th>\n",
       "      <th></th>\n",
       "      <th></th>\n",
       "      <th></th>\n",
       "      <th></th>\n",
       "      <th></th>\n",
       "    </tr>\n",
       "  </thead>\n",
       "  <tbody>\n",
       "    <tr>\n",
       "      <td>High Risk</td>\n",
       "      <td>1.658488</td>\n",
       "      <td>1.105294</td>\n",
       "      <td>0.336215</td>\n",
       "      <td>43.894020</td>\n",
       "      <td>0.035028</td>\n",
       "      <td>0.043417</td>\n",
       "      <td>0.374811</td>\n",
       "      <td>0.073341</td>\n",
       "      <td>0.027916</td>\n",
       "      <td>0.043071</td>\n",
       "      <td>...</td>\n",
       "      <td>0.282804</td>\n",
       "      <td>0.636441</td>\n",
       "      <td>1.333805</td>\n",
       "      <td>3.293783</td>\n",
       "      <td>2.758037</td>\n",
       "      <td>0.044425</td>\n",
       "      <td>8.920671</td>\n",
       "      <td>2.797530</td>\n",
       "      <td>0.107241</td>\n",
       "      <td>6.260503</td>\n",
       "    </tr>\n",
       "    <tr>\n",
       "      <td>Highest Risk</td>\n",
       "      <td>1.587039</td>\n",
       "      <td>1.026375</td>\n",
       "      <td>0.375458</td>\n",
       "      <td>40.173557</td>\n",
       "      <td>-0.043047</td>\n",
       "      <td>-0.047269</td>\n",
       "      <td>0.827221</td>\n",
       "      <td>0.012483</td>\n",
       "      <td>-0.019987</td>\n",
       "      <td>-0.016542</td>\n",
       "      <td>...</td>\n",
       "      <td>0.168791</td>\n",
       "      <td>0.771947</td>\n",
       "      <td>0.007281</td>\n",
       "      <td>3.849680</td>\n",
       "      <td>3.354741</td>\n",
       "      <td>-0.040075</td>\n",
       "      <td>8.739748</td>\n",
       "      <td>1.315617</td>\n",
       "      <td>0.048700</td>\n",
       "      <td>1.865682</td>\n",
       "    </tr>\n",
       "    <tr>\n",
       "      <td>Low Risk</td>\n",
       "      <td>1.354468</td>\n",
       "      <td>0.872729</td>\n",
       "      <td>0.265012</td>\n",
       "      <td>39.902746</td>\n",
       "      <td>0.094578</td>\n",
       "      <td>0.127175</td>\n",
       "      <td>0.502950</td>\n",
       "      <td>0.142032</td>\n",
       "      <td>0.071791</td>\n",
       "      <td>0.135035</td>\n",
       "      <td>...</td>\n",
       "      <td>0.303178</td>\n",
       "      <td>0.692668</td>\n",
       "      <td>3.263620</td>\n",
       "      <td>4.311189</td>\n",
       "      <td>2.500230</td>\n",
       "      <td>0.130094</td>\n",
       "      <td>9.816527</td>\n",
       "      <td>5.930780</td>\n",
       "      <td>0.152270</td>\n",
       "      <td>5.205684</td>\n",
       "    </tr>\n",
       "    <tr>\n",
       "      <td>Medium Risk</td>\n",
       "      <td>1.433680</td>\n",
       "      <td>0.929725</td>\n",
       "      <td>0.277880</td>\n",
       "      <td>42.373491</td>\n",
       "      <td>0.073023</td>\n",
       "      <td>0.092640</td>\n",
       "      <td>0.384978</td>\n",
       "      <td>0.119031</td>\n",
       "      <td>0.048949</td>\n",
       "      <td>0.081951</td>\n",
       "      <td>...</td>\n",
       "      <td>0.308170</td>\n",
       "      <td>0.604912</td>\n",
       "      <td>2.417054</td>\n",
       "      <td>3.654395</td>\n",
       "      <td>2.675544</td>\n",
       "      <td>0.095435</td>\n",
       "      <td>9.202408</td>\n",
       "      <td>5.072782</td>\n",
       "      <td>0.145493</td>\n",
       "      <td>5.762747</td>\n",
       "    </tr>\n",
       "  </tbody>\n",
       "</table>\n",
       "<p>4 rows × 25 columns</p>\n",
       "</div>"
      ],
      "text/plain": [
       "              currentRatio  quickRatio  cashRatio  daysOfSalesOutstanding  \\\n",
       "Rating                                                                      \n",
       "High Risk         1.658488    1.105294   0.336215               43.894020   \n",
       "Highest Risk      1.587039    1.026375   0.375458               40.173557   \n",
       "Low Risk          1.354468    0.872729   0.265012               39.902746   \n",
       "Medium Risk       1.433680    0.929725   0.277880               42.373491   \n",
       "\n",
       "              netProfitMargin  pretaxProfitMargin  grossProfitMargin  \\\n",
       "Rating                                                                 \n",
       "High Risk            0.035028            0.043417           0.374811   \n",
       "Highest Risk        -0.043047           -0.047269           0.827221   \n",
       "Low Risk             0.094578            0.127175           0.502950   \n",
       "Medium Risk          0.073023            0.092640           0.384978   \n",
       "\n",
       "              operatingProfitMargin  returnOnAssets  returnOnCapitalEmployed  \\\n",
       "Rating                                                                         \n",
       "High Risk                  0.073341        0.027916                 0.043071   \n",
       "Highest Risk               0.012483       -0.019987                -0.016542   \n",
       "Low Risk                   0.142032        0.071791                 0.135035   \n",
       "Medium Risk                0.119031        0.048949                 0.081951   \n",
       "\n",
       "              ...  effectiveTaxRate  freeCashFlowOperatingCashFlowRatio  \\\n",
       "Rating        ...                                                         \n",
       "High Risk     ...          0.282804                            0.636441   \n",
       "Highest Risk  ...          0.168791                            0.771947   \n",
       "Low Risk      ...          0.303178                            0.692668   \n",
       "Medium Risk   ...          0.308170                            0.604912   \n",
       "\n",
       "              freeCashFlowPerShare  cashPerShare  companyEquityMultiplier  \\\n",
       "Rating                                                                      \n",
       "High Risk                 1.333805      3.293783                 2.758037   \n",
       "Highest Risk              0.007281      3.849680                 3.354741   \n",
       "Low Risk                  3.263620      4.311189                 2.500230   \n",
       "Medium Risk               2.417054      3.654395                 2.675544   \n",
       "\n",
       "              ebitPerRevenue  enterpriseValueMultiple  \\\n",
       "Rating                                                  \n",
       "High Risk           0.044425                 8.920671   \n",
       "Highest Risk       -0.040075                 8.739748   \n",
       "Low Risk            0.130094                 9.816527   \n",
       "Medium Risk         0.095435                 9.202408   \n",
       "\n",
       "              operatingCashFlowPerShare  operatingCashFlowSalesRatio  \\\n",
       "Rating                                                                 \n",
       "High Risk                      2.797530                     0.107241   \n",
       "Highest Risk                   1.315617                     0.048700   \n",
       "Low Risk                       5.930780                     0.152270   \n",
       "Medium Risk                    5.072782                     0.145493   \n",
       "\n",
       "              payablesTurnover  \n",
       "Rating                          \n",
       "High Risk             6.260503  \n",
       "Highest Risk          1.865682  \n",
       "Low Risk              5.205684  \n",
       "Medium Risk           5.762747  \n",
       "\n",
       "[4 rows x 25 columns]"
      ]
     },
     "execution_count": 266,
     "metadata": {},
     "output_type": "execute_result"
    }
   ],
   "source": [
    "df_rating.groupby('Rating').median()"
   ]
  },
  {
   "cell_type": "markdown",
   "metadata": {},
   "source": [
    "From the table we can see there is a difference in the means of each of the financial indicators with respect to the classes. Therefore, it might be worth to consider the distribution of each indicator whithin each class separetedly.\n",
    "\n",
    "### Outlier Handling\n",
    "\n",
    "We will do the following approach:\n",
    "\n",
    "1. Analyse each of the variables according to each class.\n",
    "2. Detect outliers.\n",
    "3. Replace the outliers a random variable from the same class from the same variable."
   ]
  },
  {
   "cell_type": "code",
   "execution_count": 267,
   "metadata": {},
   "outputs": [
    {
     "data": {
      "text/plain": [
       "1        1.033559\n",
       "2        0.963703\n",
       "3        1.019851\n",
       "4        0.957844\n",
       "13       1.222848\n",
       "          ...    \n",
       "2006     3.916568\n",
       "2007     3.841801\n",
       "2009     1.329228\n",
       "2016     1.855328\n",
       "2024    11.757767\n",
       "Name: currentRatio, Length: 671, dtype: float64"
      ]
     },
     "execution_count": 267,
     "metadata": {},
     "output_type": "execute_result"
    }
   ],
   "source": [
    "df_rating['currentRatio'].loc[df_rating.Rating  ==  'Medium Risk']\n"
   ]
  },
  {
   "cell_type": "code",
   "execution_count": 268,
   "metadata": {
    "scrolled": false
   },
   "outputs": [],
   "source": [
    "Rating_set = set(df_rating.Rating)\n",
    "\n",
    "for c in df_rating.columns[6:31]:\n",
    "    \n",
    "    df_support = df_rating[0:0].copy()\n",
    "    \n",
    "    for r in Rating_set:\n",
    "\n",
    "        df_copy = df_rating.loc[df_rating.Rating  ==  r].copy()\n",
    "        q1 = df_copy[c].quantile(0.25)\n",
    "        q3 = df_copy[c].quantile(0.75)\n",
    "        q5 = df_copy[c].quantile(0.5)\n",
    "        iqr = q3 - q1 #Interquartile range\n",
    "        fence_low  = q3-1.5*iqr\n",
    "        fence_high = q1+1.5*iqr\n",
    "        \n",
    "        n_lower = len(df_copy.loc[(df_copy[c] < fence_low),c])\n",
    "        n_upper = len(df_copy.loc[(df_copy[c] > fence_high),c])\n",
    "\n",
    "        non_outliers_lower_median = list(df_copy.loc[(df_copy[c] > fence_low) & (df_copy[c] < q5), c])\n",
    "        non_outliers_upper_median = list(df_copy.loc[(df_copy[c] < fence_high) & (df_copy[c] > q5), c])\n",
    "        \n",
    "        df_copy.loc[(df_copy[c] < fence_low),c] = choices(non_outliers_lower_median, k= n_lower)\n",
    "        df_copy.loc[(df_copy[c] > fence_high),c] = choices(non_outliers_upper_median, k = n_upper)\n",
    "        \n",
    "        frames = [df_support, df_copy]\n",
    "        df_support = pd.concat(frames)\n",
    "        \n",
    "    df_rating = df_support.copy()                        \n"
   ]
  },
  {
   "cell_type": "markdown",
   "metadata": {},
   "source": [
    "### Now we go back to the boxplots"
   ]
  },
  {
   "cell_type": "code",
   "execution_count": 269,
   "metadata": {},
   "outputs": [
    {
     "data": {
      "image/png": "[encoded data removed]",
      "text/plain": [
       "<Figure size 648x360 with 8 Axes>"
      ]
     },
     "metadata": {
      "needs_background": "light"
     },
     "output_type": "display_data"
    }
   ],
   "source": [
    "figure, axes = plt.subplots(nrows=2, ncols=4, figsize=(9,5))\n",
    "axes[0, 0].hist(df_rating.currentRatio)\n",
    "axes[0, 1].hist(df_rating.returnOnEquity)\n",
    "axes[1, 0].hist(df_rating.freeCashFlowPerShare)\n",
    "axes[1, 1].hist(df_rating.payablesTurnover)\n",
    "\n",
    "axes[0, 2].boxplot(df_rating.currentRatio)\n",
    "axes[1, 2].boxplot(df_rating.returnOnEquity)\n",
    "axes[0, 3].boxplot(df_rating.freeCashFlowPerShare)\n",
    "axes[1, 3].boxplot(df_rating.payablesTurnover)\n",
    "\n",
    "figure.tight_layout()"
   ]
  },
  {
   "cell_type": "markdown",
   "metadata": {},
   "source": [
    "Great!"
   ]
  },
  {
   "cell_type": "markdown",
   "metadata": {},
   "source": [
    "# Analyse Relations"
   ]
  },
  {
   "cell_type": "code",
   "execution_count": 275,
   "metadata": {},
   "outputs": [],
   "source": [
    "df_rating.colors = 'a'\n",
    "df_rating.loc[df_rating['Rating'] == 'Lowest Risk', 'color'] = 'r'\n",
    "df_rating.loc[df_rating['Rating'] == 'Low Risk', 'color'] = 'g'\n",
    "df_rating.loc[df_rating['Rating'] == 'Medium Risk', 'color'] = 'b'\n",
    "df_rating.loc[df_rating['Rating'] == 'High Risk','color'] = 'y'\n",
    "df_rating.loc[df_rating['Rating'] == 'Highest Risk', 'color'] = 'm'"
   ]
  },
  {
   "cell_type": "code",
   "execution_count": 292,
   "metadata": {},
   "outputs": [
    {
     "data": {
      "text/plain": [
       "<matplotlib.axes._subplots.AxesSubplot at 0x1dda25c2bc8>"
      ]
     },
     "execution_count": 292,
     "metadata": {},
     "output_type": "execute_result"
    },
    {
     "data": {
      "image/png": "[encoded data removed]",
      "text/plain": [
       "<Figure size 864x576 with 4 Axes>"
      ]
     },
     "metadata": {
      "needs_background": "light"
     },
     "output_type": "display_data"
    }
   ],
   "source": [
    "figure, axes = plt.subplots(nrows=2, ncols=2, figsize=(12,8))\n",
    "\n",
    "sns.boxplot(x=df_rating.Rating, y=df_rating.currentRatio,palette=\"Set3\", ax=axes[0, 0])\n",
    "sns.boxplot(x=df_rating.Rating, y=df_rating.returnOnEquity,palette=\"Set3\", ax=axes[0, 1])\n",
    "sns.boxplot(x=df_rating.Rating, y=df_rating.freeCashFlowPerShare,palette=\"Set3\", ax=axes[1, 0])\n",
    "sns.boxplot(x=df_rating.Rating, y=df_rating.payablesTurnover,palette=\"Set3\", ax=axes[1, 1])\n",
    "\n"
   ]
  },
  {
   "cell_type": "markdown",
   "metadata": {},
   "source": [
    "# PCA"
   ]
  },
  {
   "cell_type": "code",
   "execution_count": 294,
   "metadata": {},
   "outputs": [],
   "source": [
    "from sklearn.preprocessing import StandardScaler"
   ]
  },
  {
   "cell_type": "code",
   "execution_count": 301,
   "metadata": {},
   "outputs": [],
   "source": [
    "features = df_rating.columns[6:31]\n",
    "\n",
    "# Separating out the features\n",
    "x = df_rating.loc[:, features].values\n",
    "# Separating out the target\n",
    "y = df_rating.loc[:,['Rating']].values\n",
    "# Standardizing the features"
   ]
  },
  {
   "cell_type": "code",
   "execution_count": 302,
   "metadata": {},
   "outputs": [],
   "source": [
    "from sklearn.decomposition import PCA\n",
    "pca = PCA(n_components=5)\n",
    "principalComponents = pca.fit_transform(x)\n",
    "principalDf = pd.DataFrame(data = principalComponents, columns = ['pca1', 'pca2','pca3','pca4','pca5'])"
   ]
  },
  {
   "cell_type": "code",
   "execution_count": 303,
   "metadata": {},
   "outputs": [],
   "source": [
    "finalDf = pd.concat([principalDf, df_rating[['Rating']]], axis = 1)"
   ]
  },
  {
   "cell_type": "code",
   "execution_count": 304,
   "metadata": {},
   "outputs": [
    {
     "data": {
      "image/png": "[encoded data removed]",
      "text/plain": [
       "<Figure size 576x576 with 1 Axes>"
      ]
     },
     "metadata": {
      "needs_background": "light"
     },
     "output_type": "display_data"
    }
   ],
   "source": [
    "fig = plt.figure(figsize = (8,8))\n",
    "ax = fig.add_subplot(1,1,1) \n",
    "ax.set_xlabel('Principal Component 1', fontsize = 15)\n",
    "ax.set_ylabel('Principal Component 2', fontsize = 15)\n",
    "ax.set_title('2 component PCA', fontsize = 20)\n",
    "targets = list(set(df_rating.Rating))\n",
    "colors = ['r', 'g', 'b','y', 'm']\n",
    "for target, color in zip(targets,colors):\n",
    "    indicesToKeep = finalDf['Rating'] == target\n",
    "    ax.scatter(finalDf.loc[indicesToKeep, 'pca1'], \n",
    "               finalDf.loc[indicesToKeep, 'pca2'], \n",
    "               c = color, \n",
    "               s = 50)\n",
    "\n",
    "ax.legend(targets)\n",
    "ax.grid()"
   ]
  },
  {
   "cell_type": "code",
   "execution_count": 305,
   "metadata": {},
   "outputs": [
    {
     "data": {
      "text/plain": [
       "0.9792219026696817"
      ]
     },
     "execution_count": 305,
     "metadata": {},
     "output_type": "execute_result"
    }
   ],
   "source": [
    "sum(pca.explained_variance_ratio_)"
   ]
  },
  {
   "cell_type": "code",
   "execution_count": null,
   "metadata": {},
   "outputs": [],
   "source": []
  },
  {
   "cell_type": "code",
   "execution_count": null,
   "metadata": {},
   "outputs": [],
   "source": []
  },
  {
   "cell_type": "code",
   "execution_count": null,
   "metadata": {},
   "outputs": [],
   "source": []
  },
  {
   "cell_type": "markdown",
   "metadata": {},
   "source": [
    "# XGBOOST"
   ]
  },
  {
   "cell_type": "code",
   "execution_count": 383,
   "metadata": {},
   "outputs": [],
   "source": [
    "# Separate majority and minority classes\n",
    "df_A = df_rating[df_rating.Rating == 'Low Risk']\n",
    "df_BBB = df_rating[df_rating.Rating == 'Medium Risk']\n",
    "df_B = df_rating[df_rating.Rating == 'High Risk']\n",
    "df_C = df_rating[df_rating.Rating == 'Highest Risk']\n",
    "\n",
    "df_upsampled = pd.concat([df_A, df_BBB, df_B, df_C])"
   ]
  },
  {
   "cell_type": "code",
   "execution_count": 384,
   "metadata": {},
   "outputs": [],
   "source": [
    "X, y = df_upsampled.iloc[:,6:31], df_upsampled.iloc[:,0]\n",
    "X_train, X_test, y_train, y_test = train_test_split(X, y, test_size=0.2, random_state=42)"
   ]
  },
  {
   "cell_type": "code",
   "execution_count": 385,
   "metadata": {},
   "outputs": [],
   "source": [
    "# Upsample minority class\n",
    "df_A = resample(df_A, replace=True, n_samples=792, random_state=123) \n",
    "df_B = resample(df_B, replace=True, n_samples=792, random_state=123) \n",
    "df_C = resample(df_C, replace=True, n_samples=792, random_state=123) \n",
    "\n",
    "# Combine majority class with upsampled minority class\n",
    "df_upsampled = pd.concat([df_A, df_BBB, df_B, df_C])\n"
   ]
  },
  {
   "cell_type": "code",
   "execution_count": 386,
   "metadata": {},
   "outputs": [],
   "source": [
    "X, y = df_upsampled.iloc[:,6:31], df_upsampled.iloc[:,0]"
   ]
  },
  {
   "cell_type": "code",
   "execution_count": 387,
   "metadata": {},
   "outputs": [],
   "source": [
    "X_train, _, y_train, _ = train_test_split(X, y, test_size=0.2, random_state=42)"
   ]
  },
  {
   "cell_type": "code",
   "execution_count": 388,
   "metadata": {},
   "outputs": [
    {
     "data": {
      "text/plain": [
       "0.8987654320987655"
      ]
     },
     "execution_count": 388,
     "metadata": {},
     "output_type": "execute_result"
    }
   ],
   "source": [
    "clf = GradientBoostingClassifier(random_state=0)\n",
    "clf.fit(X_train, y_train)\n",
    "y_pred = clf.predict(X_test)\n",
    "clf.score(X_test, y_test)"
   ]
  },
  {
   "cell_type": "code",
   "execution_count": 389,
   "metadata": {},
   "outputs": [
    {
     "data": {
      "text/plain": [
       "array([[140,   0,   0,  23],\n",
       "       [  0,  15,   0,   0],\n",
       "       [  0,   0,  96,   7],\n",
       "       [  4,   0,   7, 113]], dtype=int64)"
      ]
     },
     "execution_count": 389,
     "metadata": {},
     "output_type": "execute_result"
    }
   ],
   "source": [
    "confusion_matrix(y_test, y_pred)"
   ]
  },
  {
   "cell_type": "markdown",
   "metadata": {},
   "source": [
    "# Support Vector Machine"
   ]
  },
  {
   "cell_type": "code",
   "execution_count": 390,
   "metadata": {
    "scrolled": true
   },
   "outputs": [],
   "source": [
    "clf = svm.SVC(kernel='rbf', gamma= 2, C = 5)\n",
    "clf = clf.fit(X_train, y_train)"
   ]
  },
  {
   "cell_type": "code",
   "execution_count": 391,
   "metadata": {},
   "outputs": [
    {
     "name": "stdout",
     "output_type": "stream",
     "text": [
      "Accuracy: 0.7506172839506173\n"
     ]
    }
   ],
   "source": [
    "y_pred = clf.predict(X_test)\n",
    "print(\"Accuracy:\",metrics.accuracy_score(y_test, y_pred))"
   ]
  },
  {
   "cell_type": "markdown",
   "metadata": {},
   "source": [
    "# NN"
   ]
  },
  {
   "cell_type": "code",
   "execution_count": 392,
   "metadata": {},
   "outputs": [
    {
     "name": "stdout",
     "output_type": "stream",
     "text": [
      "Accuracy: 0.4024691358024691\n"
     ]
    }
   ],
   "source": [
    "clf = MLPClassifier(hidden_layer_sizes=(5,5,5), activation='logistic', solver='adam', max_iter=1500).fit(X_train, y_train)\n",
    "clf = clf.fit(X_train, y_train)\n",
    "y_pred = clf.predict(X_test)\n",
    "print(\"Accuracy:\",metrics.accuracy_score(y_test, y_pred))"
   ]
  },
  {
   "cell_type": "markdown",
   "metadata": {},
   "source": [
    "# Naive Bayes"
   ]
  },
  {
   "cell_type": "code",
   "execution_count": 393,
   "metadata": {},
   "outputs": [
    {
     "name": "stdout",
     "output_type": "stream",
     "text": [
      "Accuracy: 0.6666666666666666\n"
     ]
    }
   ],
   "source": [
    "from sklearn.naive_bayes import GaussianNB\n",
    "# X_train, X_test, y_train, y_test = train_test_split(X, y, test_size=0.2, random_state=0)\n",
    "gnb = GaussianNB()\n",
    "y_pred = gnb.fit(X_train, y_train).predict(X_test)\n",
    "print(\"Accuracy:\",metrics.accuracy_score(y_test, y_pred))"
   ]
  },
  {
   "cell_type": "markdown",
   "metadata": {},
   "source": [
    "# KNN"
   ]
  },
  {
   "cell_type": "code",
   "execution_count": 394,
   "metadata": {},
   "outputs": [],
   "source": [
    "from sklearn.neighbors import KNeighborsClassifier\n",
    "neigh = KNeighborsClassifier(n_neighbors=15)\n",
    "neigh.fit(X_train,y_train)\n",
    "y_pred = neigh.predict(X_test)"
   ]
  },
  {
   "cell_type": "code",
   "execution_count": 395,
   "metadata": {},
   "outputs": [
    {
     "name": "stdout",
     "output_type": "stream",
     "text": [
      "Accuracy: 0.5802469135802469\n"
     ]
    }
   ],
   "source": [
    "#Import scikit-learn metrics module for accuracy calculation\n",
    "from sklearn import metrics\n",
    "# Model Accuracy, how often is the classifier correct?\n",
    "print(\"Accuracy:\",metrics.accuracy_score(y_test, y_pred))"
   ]
  },
  {
   "cell_type": "markdown",
   "metadata": {},
   "source": [
    "# Logistic Regression"
   ]
  },
  {
   "cell_type": "code",
   "execution_count": 396,
   "metadata": {},
   "outputs": [],
   "source": [
    "from sklearn.linear_model import LogisticRegression\n",
    "# X_train, y_test = load_iris(return_X_y=True)\n",
    "clf = LogisticRegression(random_state=0 , multi_class='multinomial', solver='newton-cg')\n",
    "model = clf.fit(X_train, y_train)"
   ]
  },
  {
   "cell_type": "code",
   "execution_count": 397,
   "metadata": {},
   "outputs": [],
   "source": [
    "y_pred= model.predict(X_test)"
   ]
  },
  {
   "cell_type": "code",
   "execution_count": 398,
   "metadata": {},
   "outputs": [
    {
     "name": "stdout",
     "output_type": "stream",
     "text": [
      "Accuracy: 0.5777777777777777\n"
     ]
    }
   ],
   "source": [
    "#Import scikit-learn metrics module for accuracy calculation\n",
    "from sklearn import metrics\n",
    "# Model Accuracy, how often is the classifier correct?\n",
    "print(\"Accuracy:\",metrics.accuracy_score(y_test, y_pred))"
   ]
  },
  {
   "cell_type": "markdown",
   "metadata": {},
   "source": [
    "# Random Forest"
   ]
  },
  {
   "cell_type": "code",
   "execution_count": 399,
   "metadata": {},
   "outputs": [],
   "source": [
    "#Create a Gaussian Classifier\n",
    "clf=RandomForestClassifier(n_estimators=100)\n",
    "\n",
    "#Train the model using the training sets y_pred=clf.predict(X_test)\n",
    "clf.fit(X_train,y_train)\n",
    "\n",
    "y_pred=clf.predict(X_test)"
   ]
  },
  {
   "cell_type": "code",
   "execution_count": 400,
   "metadata": {
    "scrolled": true
   },
   "outputs": [
    {
     "name": "stdout",
     "output_type": "stream",
     "text": [
      "Accuracy: 0.9358024691358025\n"
     ]
    }
   ],
   "source": [
    "#Import scikit-learn metrics module for accuracy calculation\n",
    "from sklearn import metrics\n",
    "# Model Accuracy, how often is the classifier correct?\n",
    "print(\"Accuracy:\",metrics.accuracy_score(y_test, y_pred))"
   ]
  },
  {
   "cell_type": "markdown",
   "metadata": {},
   "source": [
    "### LDA"
   ]
  },
  {
   "cell_type": "code",
   "execution_count": 401,
   "metadata": {},
   "outputs": [
    {
     "data": {
      "text/plain": [
       "LinearDiscriminantAnalysis(n_components=None, priors=None, shrinkage=None,\n",
       "                           solver='svd', store_covariance=False, tol=0.0001)"
      ]
     },
     "execution_count": 401,
     "metadata": {},
     "output_type": "execute_result"
    }
   ],
   "source": [
    "\n",
    "clf = LinearDiscriminantAnalysis()\n",
    "clf.fit(X_train,y_train)"
   ]
  },
  {
   "cell_type": "code",
   "execution_count": 402,
   "metadata": {},
   "outputs": [],
   "source": [
    "y_pred=clf.predict(X_test)"
   ]
  },
  {
   "cell_type": "code",
   "execution_count": 403,
   "metadata": {
    "scrolled": true
   },
   "outputs": [
    {
     "name": "stdout",
     "output_type": "stream",
     "text": [
      "Accuracy: 0.5777777777777777\n"
     ]
    }
   ],
   "source": [
    "#Import scikit-learn metrics module for accuracy calculation\n",
    "from sklearn import metrics\n",
    "# Model Accuracy, how often is the classifier correct?\n",
    "print(\"Accuracy:\",metrics.accuracy_score(y_test, y_pred))"
   ]
  },
  {
   "cell_type": "markdown",
   "metadata": {},
   "source": [
    "# QDA"
   ]
  },
  {
   "cell_type": "code",
   "execution_count": 404,
   "metadata": {},
   "outputs": [],
   "source": [
    "clf = QuadraticDiscriminantAnalysis()\n",
    "clf.fit(X_train,y_train)\n",
    "y_pred=clf.predict(X_test)"
   ]
  },
  {
   "cell_type": "code",
   "execution_count": 405,
   "metadata": {},
   "outputs": [
    {
     "name": "stdout",
     "output_type": "stream",
     "text": [
      "Accuracy: 0.7851851851851852\n"
     ]
    }
   ],
   "source": [
    "#Import scikit-learn metrics module for accuracy calculation\n",
    "# Model Accuracy, how often is the classifier correct?\n",
    "print(\"Accuracy:\",metrics.accuracy_score(y_test, y_pred))"
   ]
  }
 ],
 "metadata": {
  "kernelspec": {
   "display_name": "Python 3",
   "language": "python",
   "name": "python3"
  },
  "language_info": {
   "codemirror_mode": {
    "name": "ipython",
    "version": 3
   },
   "file_extension": ".py",
   "mimetype": "text/x-python",
   "name": "python",
   "nbconvert_exporter": "python",
   "pygments_lexer": "ipython3",
   "version": "3.7.4"
  }
 },
 "nbformat": 4,
 "nbformat_minor": 2
}
