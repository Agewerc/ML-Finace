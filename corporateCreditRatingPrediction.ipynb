{
 "cells": [
  {
   "cell_type": "markdown",
   "metadata": {},
   "source": [
    "# Corporate Credit Rating Forecasting \n",
    "\n",
    "\n",
    "Libraries used:\n",
    "- ...\n",
    "- ...\n",
    "- ...\n",
    "\n",
    "\n",
    "## Introduction\n",
    "\n",
    "This notebook contains the results of the data analysis performed on a set of corporate credit ratings given by ratings agencies to a set of companies. The aim of the data analysis is to build a machine learning model from the rating data that can be used to predict the rating a company will receive.\n",
    "\n",
    "The first section section of the notebook shows the exploratory data analysis (EDA) performed to explore and understand the data. It looks at each attribute (variable) in the data to understand the nature and distribution of the attribute values. It also examines the correlation between the variables through visual analysis. A summary at the end highlights the key findings of the EDA.\n",
    "\n",
    "The second section shows the development of the linear regression model. It details the process used to build the model and shows the model at key points in the development process. The final model is then presented along with an analysis and interpretation of the model. This section concludes with the results of using the model to predict house prices for the data in the development dataset.\n",
    "\n",
    "The final section provides the details of the model to enable it to be rebuilt. In addition to the model itself, it includes the functions used to transform the data and run the model.\n",
    "\n",
    "Two datasets were provided for the assignment - training.csv and dev.csv. The exploratory data analysis and the model building were done using the training.csv dataset; the dev.csv dataset was only used to test the generated model\n",
    "\n",
    "## The Dataset\n",
    "\n",
    "There are xxxx features for every company. They can be divided in: <br>\n",
    "- Liquidity Measurement Ratios: currentRatio, quickRatio, cashRatio, daysOfSalesOutstanding, daysOfInventoryOutstanding, operatingCycle, daysOfPayablesOutstanding, cashConversionCycle\n",
    "- Profitability Indicator Ratios: grossProfitMargin, operatingProfitMargin, pretaxProfitMargin, netProfitMargin, effectiveTaxRate, returnOnAssets, returnOnEquity, returnOnCapitalEmployed, netIncomePerEBT, ebtPerEbit, ebitPerRevenue\n",
    "- Debt Ratios: debtRatio, debtEquityRatio, longTermDebtToCapitalization, totalDebtToCapitalization, interestCoverage, cashFlowToDebtRatio, companyEquityMultiplier\n",
    "- Operating Performance Ratios: receivablesTurnover, payablesTurnover, inventoryTurnover, fixedAssetTurnover, assetTurnover\n",
    "- Cash Flow Indicator Ratios: operatingCashFlowPerShare, freeCashFlowPerShare, cashPerShare, payoutRatio, operatingCashFlowSalesRatio, freeCashFlowOperatingCashFlowRatio, cashFlowCoverageRatios, shortTermCoverageRatios, capitalExpenditureCoverageRatio, dividendPaidAndCapexCoverageRatio, dividendPayoutRatio, \n",
    "- Investment Valuation Ratios: priceBookValueRatio, priceToBookRatio, priceToSalesRatio, priceEarningsRatio, priceToFreeCashFlowsRatio, priceToOperatingCashFlowsRatio, priceCashFlowRatio, priceEarningsToGrowthRatio, priceSalesRatio, dividendYield, enterpriseValueMultiple, priceFairValue\n"
   ]
  },
  {
   "cell_type": "markdown",
   "metadata": {},
   "source": [
    "Load the Libraries used in the notebook"
   ]
  },
  {
   "cell_type": "code",
   "execution_count": 83,
   "metadata": {},
   "outputs": [],
   "source": [
    "import pandas as pd\n",
    "import matplotlib.pyplot as plt\n",
    "import re\n",
    "import numpy as np\n",
    "import seaborn as sns\n",
    "from random import sample \n"
   ]
  },
  {
   "cell_type": "markdown",
   "metadata": {},
   "source": [
    "## Exploratory Data Analysis\n",
    "\n",
    "### Import Dataset"
   ]
  },
  {
   "cell_type": "code",
   "execution_count": 31,
   "metadata": {},
   "outputs": [],
   "source": [
    "df_rating = pd.read_csv('data/rating_dataframe.csv')"
   ]
  },
  {
   "cell_type": "markdown",
   "metadata": {},
   "source": [
    "### Descriptive Data "
   ]
  },
  {
   "cell_type": "code",
   "execution_count": 32,
   "metadata": {},
   "outputs": [
    {
     "name": "stdout",
     "output_type": "stream",
     "text": [
      "The credit rating dataset has 2029 records, each with 32 attributes\n"
     ]
    }
   ],
   "source": [
    "# Display the dimensions\n",
    "print(\"The credit rating dataset has\", df_rating.shape[0], \"records, each with\", df_rating.shape[1],\n",
    "    \"attributes\")"
   ]
  },
  {
   "cell_type": "markdown",
   "metadata": {},
   "source": [
    "Investigate class of columns.  "
   ]
  },
  {
   "cell_type": "code",
   "execution_count": 33,
   "metadata": {},
   "outputs": [
    {
     "name": "stdout",
     "output_type": "stream",
     "text": [
      "<class 'pandas.core.frame.DataFrame'>\n",
      "RangeIndex: 2029 entries, 0 to 2028\n",
      "Data columns (total 32 columns):\n",
      "Rating                                2029 non-null object\n",
      "Name                                  2029 non-null object\n",
      "Symbol                                2029 non-null object\n",
      "Sector                                2029 non-null object\n",
      "Rating Agency Name                    2029 non-null object\n",
      "Date                                  2029 non-null object\n",
      "currentRatio                          2029 non-null float64\n",
      "quickRatio                            2029 non-null float64\n",
      "cashRatio                             2029 non-null float64\n",
      "daysOfSalesOutstanding                2029 non-null float64\n",
      "netProfitMargin                       2029 non-null float64\n",
      "pretaxProfitMargin                    2029 non-null float64\n",
      "grossProfitMargin                     2029 non-null float64\n",
      "operatingProfitMargin                 2029 non-null float64\n",
      "returnOnAssets                        2029 non-null float64\n",
      "returnOnCapitalEmployed               2029 non-null float64\n",
      "returnOnEquity                        2029 non-null float64\n",
      "assetTurnover                         2029 non-null float64\n",
      "fixedAssetTurnover                    2029 non-null float64\n",
      "debtEquityRatio                       2029 non-null float64\n",
      "debtRatio                             2029 non-null float64\n",
      "effectiveTaxRate                      2029 non-null float64\n",
      "freeCashFlowOperatingCashFlowRatio    2029 non-null float64\n",
      "freeCashFlowPerShare                  2029 non-null float64\n",
      "cashPerShare                          2029 non-null float64\n",
      "companyEquityMultiplier               2029 non-null float64\n",
      "ebitPerRevenue                        2029 non-null float64\n",
      "enterpriseValueMultiple               2029 non-null float64\n",
      "operatingCashFlowPerShare             2029 non-null float64\n",
      "operatingCashFlowSalesRatio           2029 non-null float64\n",
      "payablesTurnover                      2029 non-null float64\n",
      "payoutRatio                           2029 non-null float64\n",
      "dtypes: float64(26), object(6)\n",
      "memory usage: 507.4+ KB\n"
     ]
    }
   ],
   "source": [
    "# Display the structure\n",
    "df_rating.info()"
   ]
  },
  {
   "cell_type": "markdown",
   "metadata": {},
   "source": [
    "We have 26 columns of numerical data and 6 descriptive columns. A first look at the data:"
   ]
  },
  {
   "cell_type": "code",
   "execution_count": 34,
   "metadata": {
    "scrolled": true
   },
   "outputs": [
    {
     "data": {
      "text/html": [
       "<div>\n",
       "<style scoped>\n",
       "    .dataframe tbody tr th:only-of-type {\n",
       "        vertical-align: middle;\n",
       "    }\n",
       "\n",
       "    .dataframe tbody tr th {\n",
       "        vertical-align: top;\n",
       "    }\n",
       "\n",
       "    .dataframe thead th {\n",
       "        text-align: right;\n",
       "    }\n",
       "</style>\n",
       "<table border=\"1\" class=\"dataframe\">\n",
       "  <thead>\n",
       "    <tr style=\"text-align: right;\">\n",
       "      <th></th>\n",
       "      <th>Rating</th>\n",
       "      <th>Name</th>\n",
       "      <th>Symbol</th>\n",
       "      <th>Sector</th>\n",
       "      <th>Rating Agency Name</th>\n",
       "      <th>Date</th>\n",
       "      <th>currentRatio</th>\n",
       "      <th>quickRatio</th>\n",
       "      <th>cashRatio</th>\n",
       "      <th>daysOfSalesOutstanding</th>\n",
       "      <th>...</th>\n",
       "      <th>freeCashFlowOperatingCashFlowRatio</th>\n",
       "      <th>freeCashFlowPerShare</th>\n",
       "      <th>cashPerShare</th>\n",
       "      <th>companyEquityMultiplier</th>\n",
       "      <th>ebitPerRevenue</th>\n",
       "      <th>enterpriseValueMultiple</th>\n",
       "      <th>operatingCashFlowPerShare</th>\n",
       "      <th>operatingCashFlowSalesRatio</th>\n",
       "      <th>payablesTurnover</th>\n",
       "      <th>payoutRatio</th>\n",
       "    </tr>\n",
       "  </thead>\n",
       "  <tbody>\n",
       "    <tr>\n",
       "      <td>0</td>\n",
       "      <td>A</td>\n",
       "      <td>whirlpool</td>\n",
       "      <td>WHR</td>\n",
       "      <td>Consumer Durables</td>\n",
       "      <td>Egan-Jones Ratings Company</td>\n",
       "      <td>11/27/2015</td>\n",
       "      <td>0.945894</td>\n",
       "      <td>0.426395</td>\n",
       "      <td>0.099690</td>\n",
       "      <td>44.203245</td>\n",
       "      <td>...</td>\n",
       "      <td>0.437551</td>\n",
       "      <td>6.810673</td>\n",
       "      <td>9.809403</td>\n",
       "      <td>4.008012</td>\n",
       "      <td>0.049351</td>\n",
       "      <td>7.057088</td>\n",
       "      <td>15.565438</td>\n",
       "      <td>0.058638</td>\n",
       "      <td>3.906655</td>\n",
       "      <td>0.343550</td>\n",
       "    </tr>\n",
       "    <tr>\n",
       "      <td>1</td>\n",
       "      <td>BBB</td>\n",
       "      <td>whirlpool</td>\n",
       "      <td>WHR</td>\n",
       "      <td>Consumer Durables</td>\n",
       "      <td>Egan-Jones Ratings Company</td>\n",
       "      <td>2/13/2014</td>\n",
       "      <td>1.033559</td>\n",
       "      <td>0.498234</td>\n",
       "      <td>0.203120</td>\n",
       "      <td>38.991156</td>\n",
       "      <td>...</td>\n",
       "      <td>0.541997</td>\n",
       "      <td>8.625473</td>\n",
       "      <td>17.402270</td>\n",
       "      <td>3.156783</td>\n",
       "      <td>0.048857</td>\n",
       "      <td>6.460618</td>\n",
       "      <td>15.914250</td>\n",
       "      <td>0.067239</td>\n",
       "      <td>4.002846</td>\n",
       "      <td>0.226119</td>\n",
       "    </tr>\n",
       "    <tr>\n",
       "      <td>2</td>\n",
       "      <td>BBB</td>\n",
       "      <td>whirlpool</td>\n",
       "      <td>WHR</td>\n",
       "      <td>Consumer Durables</td>\n",
       "      <td>Fitch Ratings</td>\n",
       "      <td>3/6/2015</td>\n",
       "      <td>0.963703</td>\n",
       "      <td>0.451505</td>\n",
       "      <td>0.122099</td>\n",
       "      <td>50.841385</td>\n",
       "      <td>...</td>\n",
       "      <td>0.513185</td>\n",
       "      <td>9.693487</td>\n",
       "      <td>13.103448</td>\n",
       "      <td>4.094575</td>\n",
       "      <td>0.044334</td>\n",
       "      <td>10.491970</td>\n",
       "      <td>18.888889</td>\n",
       "      <td>0.074426</td>\n",
       "      <td>3.483510</td>\n",
       "      <td>0.344615</td>\n",
       "    </tr>\n",
       "    <tr>\n",
       "      <td>3</td>\n",
       "      <td>BBB</td>\n",
       "      <td>whirlpool</td>\n",
       "      <td>WHR</td>\n",
       "      <td>Consumer Durables</td>\n",
       "      <td>Fitch Ratings</td>\n",
       "      <td>6/15/2012</td>\n",
       "      <td>1.019851</td>\n",
       "      <td>0.510402</td>\n",
       "      <td>0.176116</td>\n",
       "      <td>41.161738</td>\n",
       "      <td>...</td>\n",
       "      <td>-0.147170</td>\n",
       "      <td>-1.015625</td>\n",
       "      <td>14.440104</td>\n",
       "      <td>3.630950</td>\n",
       "      <td>-0.012858</td>\n",
       "      <td>4.080741</td>\n",
       "      <td>6.901042</td>\n",
       "      <td>0.028394</td>\n",
       "      <td>4.581150</td>\n",
       "      <td>0.379487</td>\n",
       "    </tr>\n",
       "    <tr>\n",
       "      <td>4</td>\n",
       "      <td>BBB</td>\n",
       "      <td>whirlpool</td>\n",
       "      <td>WHR</td>\n",
       "      <td>Consumer Durables</td>\n",
       "      <td>Standard &amp; Poor's Ratings Services</td>\n",
       "      <td>10/24/2016</td>\n",
       "      <td>0.957844</td>\n",
       "      <td>0.495432</td>\n",
       "      <td>0.141608</td>\n",
       "      <td>47.761126</td>\n",
       "      <td>...</td>\n",
       "      <td>0.451372</td>\n",
       "      <td>7.135348</td>\n",
       "      <td>14.257556</td>\n",
       "      <td>4.012780</td>\n",
       "      <td>0.053770</td>\n",
       "      <td>8.293505</td>\n",
       "      <td>15.808147</td>\n",
       "      <td>0.058065</td>\n",
       "      <td>3.857790</td>\n",
       "      <td>0.331081</td>\n",
       "    </tr>\n",
       "  </tbody>\n",
       "</table>\n",
       "<p>5 rows × 32 columns</p>\n",
       "</div>"
      ],
      "text/plain": [
       "  Rating       Name Symbol             Sector  \\\n",
       "0      A  whirlpool    WHR  Consumer Durables   \n",
       "1    BBB  whirlpool    WHR  Consumer Durables   \n",
       "2    BBB  whirlpool    WHR  Consumer Durables   \n",
       "3    BBB  whirlpool    WHR  Consumer Durables   \n",
       "4    BBB  whirlpool    WHR  Consumer Durables   \n",
       "\n",
       "                   Rating Agency Name        Date  currentRatio  quickRatio  \\\n",
       "0          Egan-Jones Ratings Company  11/27/2015      0.945894    0.426395   \n",
       "1          Egan-Jones Ratings Company   2/13/2014      1.033559    0.498234   \n",
       "2                       Fitch Ratings    3/6/2015      0.963703    0.451505   \n",
       "3                       Fitch Ratings   6/15/2012      1.019851    0.510402   \n",
       "4  Standard & Poor's Ratings Services  10/24/2016      0.957844    0.495432   \n",
       "\n",
       "   cashRatio  daysOfSalesOutstanding  ...  freeCashFlowOperatingCashFlowRatio  \\\n",
       "0   0.099690               44.203245  ...                            0.437551   \n",
       "1   0.203120               38.991156  ...                            0.541997   \n",
       "2   0.122099               50.841385  ...                            0.513185   \n",
       "3   0.176116               41.161738  ...                           -0.147170   \n",
       "4   0.141608               47.761126  ...                            0.451372   \n",
       "\n",
       "   freeCashFlowPerShare  cashPerShare  companyEquityMultiplier  \\\n",
       "0              6.810673      9.809403                 4.008012   \n",
       "1              8.625473     17.402270                 3.156783   \n",
       "2              9.693487     13.103448                 4.094575   \n",
       "3             -1.015625     14.440104                 3.630950   \n",
       "4              7.135348     14.257556                 4.012780   \n",
       "\n",
       "   ebitPerRevenue  enterpriseValueMultiple  operatingCashFlowPerShare  \\\n",
       "0        0.049351                 7.057088                  15.565438   \n",
       "1        0.048857                 6.460618                  15.914250   \n",
       "2        0.044334                10.491970                  18.888889   \n",
       "3       -0.012858                 4.080741                   6.901042   \n",
       "4        0.053770                 8.293505                  15.808147   \n",
       "\n",
       "   operatingCashFlowSalesRatio  payablesTurnover  payoutRatio  \n",
       "0                     0.058638          3.906655     0.343550  \n",
       "1                     0.067239          4.002846     0.226119  \n",
       "2                     0.074426          3.483510     0.344615  \n",
       "3                     0.028394          4.581150     0.379487  \n",
       "4                     0.058065          3.857790     0.331081  \n",
       "\n",
       "[5 rows x 32 columns]"
      ]
     },
     "execution_count": 34,
     "metadata": {},
     "output_type": "execute_result"
    }
   ],
   "source": [
    "df_rating.head()"
   ]
  },
  {
   "cell_type": "markdown",
   "metadata": {},
   "source": [
    "Grouping labels"
   ]
  },
  {
   "cell_type": "markdown",
   "metadata": {},
   "source": [
    "#### Analyse Labels\n",
    "We will group labels to check their pattern."
   ]
  },
  {
   "cell_type": "code",
   "execution_count": 35,
   "metadata": {},
   "outputs": [
    {
     "data": {
      "text/plain": [
       "BBB    671\n",
       "BB     490\n",
       "A      398\n",
       "B      302\n",
       "AA      89\n",
       "CCC     64\n",
       "AAA      7\n",
       "CC       5\n",
       "C        2\n",
       "D        1\n",
       "Name: Rating, dtype: int64"
      ]
     },
     "execution_count": 35,
     "metadata": {},
     "output_type": "execute_result"
    }
   ],
   "source": [
    "df_rating.Rating.value_counts()"
   ]
  },
  {
   "cell_type": "markdown",
   "metadata": {},
   "source": [
    "We observe that the dataset is very unbalanced.\n",
    "We will have to adress this issue in the Machine Learning steps. \n",
    "\n",
    "However now we will use the following table extracted from [investopedia](https://www.investopedia.com/terms/c/corporate-credit-rating.asp) to transform our labels. We will classify according to the grading risk. \n",
    "\n",
    "| Bond Rating |                   |          |            |              |\n",
    "|-------------|-------------------|----------|------------|--------------|\n",
    "| Moody's     | Standard & Poor's | Fitch    | Grade      | Risk         |\n",
    "| Aaa         | AAA               | AAA      | Investment | Lowest Risk  |\n",
    "| Aa          | AA                | AA       | Investment | Low Risk     |\n",
    "| A           | A                 | A        | Investment | Low Risk     |\n",
    "| Baa         | BBB               | BBB      | Investment | Medium Risk  |\n",
    "| Ba, B       | BB, B             | BB, B    | Junk       | High Risk    |\n",
    "| Caa/Ca      | CCC/CC/C          | CCC/CC/C | Junk       | Highest Risk |\n",
    "| C           | D                 | D        | Junk       | In Default   |"
   ]
  },
  {
   "cell_type": "code",
   "execution_count": 36,
   "metadata": {},
   "outputs": [],
   "source": [
    "rating_dict = {'AAA':'Lowest Risk', \n",
    "               'AA':'Low Risk',\n",
    "               'A':'Low Risk',\n",
    "               'BBB':'Medium Risk', \n",
    "               'BB':'High Risk',\n",
    "               'B':'High Risk',\n",
    "               'CCC':'Highest Risk', \n",
    "               'CC':'Highest Risk',\n",
    "               'C':'Highest Risk',\n",
    "               'D':'In Default'}\n",
    "\n",
    "df_rating.Rating = df_rating.Rating.map(rating_dict)"
   ]
  },
  {
   "cell_type": "code",
   "execution_count": 61,
   "metadata": {},
   "outputs": [
    {
     "data": {
      "image/png": "[encoded data removed]",
      "text/plain": [
       "<Figure size 576x288 with 1 Axes>"
      ]
     },
     "metadata": {
      "needs_background": "light"
     },
     "output_type": "display_data"
    }
   ],
   "source": [
    "ax = df_rating['Rating'].value_counts().plot(kind='bar',\n",
    "                                             figsize=(8,4),\n",
    "                                             title=\"Count of Ratings by Type\",\n",
    "                                             grid=True)"
   ]
  },
  {
   "cell_type": "markdown",
   "metadata": {},
   "source": [
    "Unfortunately given the lack of \"Lowest Risk\" and \"In Default\" companies we will have to eliminate then from the table."
   ]
  },
  {
   "cell_type": "code",
   "execution_count": 62,
   "metadata": {},
   "outputs": [],
   "source": [
    "df_rating = df_rating[df_rating['Rating']!='Lowest Risk']\n",
    "df_rating = df_rating[df_rating['Rating']!='In Default']"
   ]
  },
  {
   "cell_type": "markdown",
   "metadata": {},
   "source": [
    "### Descriptive Statistics"
   ]
  },
  {
   "cell_type": "code",
   "execution_count": 64,
   "metadata": {
    "scrolled": true
   },
   "outputs": [
    {
     "data": {
      "text/html": [
       "<div>\n",
       "<style scoped>\n",
       "    .dataframe tbody tr th:only-of-type {\n",
       "        vertical-align: middle;\n",
       "    }\n",
       "\n",
       "    .dataframe tbody tr th {\n",
       "        vertical-align: top;\n",
       "    }\n",
       "\n",
       "    .dataframe thead th {\n",
       "        text-align: right;\n",
       "    }\n",
       "</style>\n",
       "<table border=\"1\" class=\"dataframe\">\n",
       "  <thead>\n",
       "    <tr style=\"text-align: right;\">\n",
       "      <th></th>\n",
       "      <th>currentRatio</th>\n",
       "      <th>quickRatio</th>\n",
       "      <th>cashRatio</th>\n",
       "      <th>daysOfSalesOutstanding</th>\n",
       "      <th>netProfitMargin</th>\n",
       "      <th>pretaxProfitMargin</th>\n",
       "      <th>grossProfitMargin</th>\n",
       "      <th>operatingProfitMargin</th>\n",
       "      <th>returnOnAssets</th>\n",
       "      <th>returnOnCapitalEmployed</th>\n",
       "      <th>...</th>\n",
       "      <th>freeCashFlowOperatingCashFlowRatio</th>\n",
       "      <th>freeCashFlowPerShare</th>\n",
       "      <th>cashPerShare</th>\n",
       "      <th>companyEquityMultiplier</th>\n",
       "      <th>ebitPerRevenue</th>\n",
       "      <th>enterpriseValueMultiple</th>\n",
       "      <th>operatingCashFlowPerShare</th>\n",
       "      <th>operatingCashFlowSalesRatio</th>\n",
       "      <th>payablesTurnover</th>\n",
       "      <th>payoutRatio</th>\n",
       "    </tr>\n",
       "  </thead>\n",
       "  <tbody>\n",
       "    <tr>\n",
       "      <td>count</td>\n",
       "      <td>2021.000000</td>\n",
       "      <td>2021.000000</td>\n",
       "      <td>2021.000000</td>\n",
       "      <td>2021.000000</td>\n",
       "      <td>2021.000000</td>\n",
       "      <td>2021.000000</td>\n",
       "      <td>2021.000000</td>\n",
       "      <td>2021.000000</td>\n",
       "      <td>2021.000000</td>\n",
       "      <td>2021.000000</td>\n",
       "      <td>...</td>\n",
       "      <td>2021.000000</td>\n",
       "      <td>2.021000e+03</td>\n",
       "      <td>2.021000e+03</td>\n",
       "      <td>2021.000000</td>\n",
       "      <td>2021.000000</td>\n",
       "      <td>2021.000000</td>\n",
       "      <td>2.021000e+03</td>\n",
       "      <td>2021.000000</td>\n",
       "      <td>2021.000000</td>\n",
       "      <td>2021.000000</td>\n",
       "    </tr>\n",
       "    <tr>\n",
       "      <td>mean</td>\n",
       "      <td>3.535411</td>\n",
       "      <td>2.657150</td>\n",
       "      <td>0.669048</td>\n",
       "      <td>334.855415</td>\n",
       "      <td>0.278725</td>\n",
       "      <td>0.432721</td>\n",
       "      <td>0.496900</td>\n",
       "      <td>0.588793</td>\n",
       "      <td>-37.666843</td>\n",
       "      <td>-74.267283</td>\n",
       "      <td>...</td>\n",
       "      <td>0.408272</td>\n",
       "      <td>5.114871e+03</td>\n",
       "      <td>4.244248e+03</td>\n",
       "      <td>3.335166</td>\n",
       "      <td>0.438715</td>\n",
       "      <td>48.426558</td>\n",
       "      <td>6.540891e+03</td>\n",
       "      <td>1.452142</td>\n",
       "      <td>38.138233</td>\n",
       "      <td>-0.087402</td>\n",
       "    </tr>\n",
       "    <tr>\n",
       "      <td>std</td>\n",
       "      <td>44.139386</td>\n",
       "      <td>33.009920</td>\n",
       "      <td>3.590902</td>\n",
       "      <td>4456.606352</td>\n",
       "      <td>6.076128</td>\n",
       "      <td>9.002733</td>\n",
       "      <td>0.525996</td>\n",
       "      <td>11.246798</td>\n",
       "      <td>1168.476782</td>\n",
       "      <td>2354.920503</td>\n",
       "      <td>...</td>\n",
       "      <td>3.803929</td>\n",
       "      <td>1.472059e+05</td>\n",
       "      <td>1.226418e+05</td>\n",
       "      <td>87.702375</td>\n",
       "      <td>9.002047</td>\n",
       "      <td>530.161001</td>\n",
       "      <td>1.778797e+05</td>\n",
       "      <td>19.521704</td>\n",
       "      <td>760.421855</td>\n",
       "      <td>40.523595</td>\n",
       "    </tr>\n",
       "    <tr>\n",
       "      <td>min</td>\n",
       "      <td>-0.932005</td>\n",
       "      <td>-1.893266</td>\n",
       "      <td>-0.192736</td>\n",
       "      <td>-811.845623</td>\n",
       "      <td>-101.845815</td>\n",
       "      <td>-124.343612</td>\n",
       "      <td>-14.800817</td>\n",
       "      <td>-124.343612</td>\n",
       "      <td>-40213.178290</td>\n",
       "      <td>-87162.162160</td>\n",
       "      <td>...</td>\n",
       "      <td>-120.916010</td>\n",
       "      <td>-4.912742e+03</td>\n",
       "      <td>-1.915035e+01</td>\n",
       "      <td>-2555.419643</td>\n",
       "      <td>-124.343612</td>\n",
       "      <td>-3749.921337</td>\n",
       "      <td>-1.195049e+04</td>\n",
       "      <td>-4.461837</td>\n",
       "      <td>-76.662850</td>\n",
       "      <td>-1735.047170</td>\n",
       "    </tr>\n",
       "    <tr>\n",
       "      <td>25%</td>\n",
       "      <td>1.071930</td>\n",
       "      <td>0.602298</td>\n",
       "      <td>0.131433</td>\n",
       "      <td>22.806507</td>\n",
       "      <td>0.020894</td>\n",
       "      <td>0.025649</td>\n",
       "      <td>0.232565</td>\n",
       "      <td>0.044546</td>\n",
       "      <td>0.018757</td>\n",
       "      <td>0.028112</td>\n",
       "      <td>...</td>\n",
       "      <td>0.269616</td>\n",
       "      <td>4.094118e-01</td>\n",
       "      <td>1.562116e+00</td>\n",
       "      <td>2.050249</td>\n",
       "      <td>0.028057</td>\n",
       "      <td>6.235759</td>\n",
       "      <td>2.348851e+00</td>\n",
       "      <td>0.073664</td>\n",
       "      <td>2.202394</td>\n",
       "      <td>0.000000</td>\n",
       "    </tr>\n",
       "    <tr>\n",
       "      <td>50%</td>\n",
       "      <td>1.492804</td>\n",
       "      <td>0.979094</td>\n",
       "      <td>0.297859</td>\n",
       "      <td>42.281804</td>\n",
       "      <td>0.064323</td>\n",
       "      <td>0.084965</td>\n",
       "      <td>0.414217</td>\n",
       "      <td>0.107640</td>\n",
       "      <td>0.045417</td>\n",
       "      <td>0.074639</td>\n",
       "      <td>...</td>\n",
       "      <td>0.644265</td>\n",
       "      <td>2.123062e+00</td>\n",
       "      <td>3.680425e+00</td>\n",
       "      <td>2.657275</td>\n",
       "      <td>0.087424</td>\n",
       "      <td>9.269746</td>\n",
       "      <td>4.361649e+00</td>\n",
       "      <td>0.132758</td>\n",
       "      <td>5.775840</td>\n",
       "      <td>0.212225</td>\n",
       "    </tr>\n",
       "    <tr>\n",
       "      <td>75%</td>\n",
       "      <td>2.160710</td>\n",
       "      <td>1.450457</td>\n",
       "      <td>0.625355</td>\n",
       "      <td>59.165369</td>\n",
       "      <td>0.113871</td>\n",
       "      <td>0.144763</td>\n",
       "      <td>0.849693</td>\n",
       "      <td>0.175334</td>\n",
       "      <td>0.077159</td>\n",
       "      <td>0.135036</td>\n",
       "      <td>...</td>\n",
       "      <td>0.836949</td>\n",
       "      <td>4.230253e+00</td>\n",
       "      <td>8.027524e+00</td>\n",
       "      <td>3.665438</td>\n",
       "      <td>0.149355</td>\n",
       "      <td>12.898855</td>\n",
       "      <td>7.322553e+00</td>\n",
       "      <td>0.239359</td>\n",
       "      <td>9.500424</td>\n",
       "      <td>0.465530</td>\n",
       "    </tr>\n",
       "    <tr>\n",
       "      <td>max</td>\n",
       "      <td>1725.505005</td>\n",
       "      <td>1139.541703</td>\n",
       "      <td>125.917417</td>\n",
       "      <td>115961.637400</td>\n",
       "      <td>198.517873</td>\n",
       "      <td>309.694856</td>\n",
       "      <td>2.702533</td>\n",
       "      <td>410.182214</td>\n",
       "      <td>0.487826</td>\n",
       "      <td>2.439504</td>\n",
       "      <td>...</td>\n",
       "      <td>34.594086</td>\n",
       "      <td>5.753380e+06</td>\n",
       "      <td>4.786803e+06</td>\n",
       "      <td>2562.871795</td>\n",
       "      <td>309.694856</td>\n",
       "      <td>11153.607090</td>\n",
       "      <td>6.439270e+06</td>\n",
       "      <td>688.526591</td>\n",
       "      <td>20314.880400</td>\n",
       "      <td>412.136640</td>\n",
       "    </tr>\n",
       "  </tbody>\n",
       "</table>\n",
       "<p>8 rows × 26 columns</p>\n",
       "</div>"
      ],
      "text/plain": [
       "       currentRatio   quickRatio    cashRatio  daysOfSalesOutstanding  \\\n",
       "count   2021.000000  2021.000000  2021.000000             2021.000000   \n",
       "mean       3.535411     2.657150     0.669048              334.855415   \n",
       "std       44.139386    33.009920     3.590902             4456.606352   \n",
       "min       -0.932005    -1.893266    -0.192736             -811.845623   \n",
       "25%        1.071930     0.602298     0.131433               22.806507   \n",
       "50%        1.492804     0.979094     0.297859               42.281804   \n",
       "75%        2.160710     1.450457     0.625355               59.165369   \n",
       "max     1725.505005  1139.541703   125.917417           115961.637400   \n",
       "\n",
       "       netProfitMargin  pretaxProfitMargin  grossProfitMargin  \\\n",
       "count      2021.000000         2021.000000        2021.000000   \n",
       "mean          0.278725            0.432721           0.496900   \n",
       "std           6.076128            9.002733           0.525996   \n",
       "min        -101.845815         -124.343612         -14.800817   \n",
       "25%           0.020894            0.025649           0.232565   \n",
       "50%           0.064323            0.084965           0.414217   \n",
       "75%           0.113871            0.144763           0.849693   \n",
       "max         198.517873          309.694856           2.702533   \n",
       "\n",
       "       operatingProfitMargin  returnOnAssets  returnOnCapitalEmployed  ...  \\\n",
       "count            2021.000000     2021.000000              2021.000000  ...   \n",
       "mean                0.588793      -37.666843               -74.267283  ...   \n",
       "std                11.246798     1168.476782              2354.920503  ...   \n",
       "min              -124.343612   -40213.178290            -87162.162160  ...   \n",
       "25%                 0.044546        0.018757                 0.028112  ...   \n",
       "50%                 0.107640        0.045417                 0.074639  ...   \n",
       "75%                 0.175334        0.077159                 0.135036  ...   \n",
       "max               410.182214        0.487826                 2.439504  ...   \n",
       "\n",
       "       freeCashFlowOperatingCashFlowRatio  freeCashFlowPerShare  cashPerShare  \\\n",
       "count                         2021.000000          2.021000e+03  2.021000e+03   \n",
       "mean                             0.408272          5.114871e+03  4.244248e+03   \n",
       "std                              3.803929          1.472059e+05  1.226418e+05   \n",
       "min                           -120.916010         -4.912742e+03 -1.915035e+01   \n",
       "25%                              0.269616          4.094118e-01  1.562116e+00   \n",
       "50%                              0.644265          2.123062e+00  3.680425e+00   \n",
       "75%                              0.836949          4.230253e+00  8.027524e+00   \n",
       "max                             34.594086          5.753380e+06  4.786803e+06   \n",
       "\n",
       "       companyEquityMultiplier  ebitPerRevenue  enterpriseValueMultiple  \\\n",
       "count              2021.000000     2021.000000              2021.000000   \n",
       "mean                  3.335166        0.438715                48.426558   \n",
       "std                  87.702375        9.002047               530.161001   \n",
       "min               -2555.419643     -124.343612             -3749.921337   \n",
       "25%                   2.050249        0.028057                 6.235759   \n",
       "50%                   2.657275        0.087424                 9.269746   \n",
       "75%                   3.665438        0.149355                12.898855   \n",
       "max                2562.871795      309.694856             11153.607090   \n",
       "\n",
       "       operatingCashFlowPerShare  operatingCashFlowSalesRatio  \\\n",
       "count               2.021000e+03                  2021.000000   \n",
       "mean                6.540891e+03                     1.452142   \n",
       "std                 1.778797e+05                    19.521704   \n",
       "min                -1.195049e+04                    -4.461837   \n",
       "25%                 2.348851e+00                     0.073664   \n",
       "50%                 4.361649e+00                     0.132758   \n",
       "75%                 7.322553e+00                     0.239359   \n",
       "max                 6.439270e+06                   688.526591   \n",
       "\n",
       "       payablesTurnover  payoutRatio  \n",
       "count       2021.000000  2021.000000  \n",
       "mean          38.138233    -0.087402  \n",
       "std          760.421855    40.523595  \n",
       "min          -76.662850 -1735.047170  \n",
       "25%            2.202394     0.000000  \n",
       "50%            5.775840     0.212225  \n",
       "75%            9.500424     0.465530  \n",
       "max        20314.880400   412.136640  \n",
       "\n",
       "[8 rows x 26 columns]"
      ]
     },
     "execution_count": 64,
     "metadata": {},
     "output_type": "execute_result"
    }
   ],
   "source": [
    "# Statistical summary \n",
    "df_rating.describe()"
   ]
  },
  {
   "cell_type": "markdown",
   "metadata": {},
   "source": [
    "We observe a lot of skewness in the data with this first exploration. There is very little variation within the interquartile but the max and the min are very distant from the interquartile. The dataset is polluted with outliers. \n",
    "We will demonstrate with histograms and boxplots of four chosen variables."
   ]
  },
  {
   "cell_type": "code",
   "execution_count": 75,
   "metadata": {},
   "outputs": [
    {
     "data": {
      "image/png": "[encoded data removed]",
      "text/plain": [
       "<Figure size 648x360 with 8 Axes>"
      ]
     },
     "metadata": {
      "needs_background": "light"
     },
     "output_type": "display_data"
    }
   ],
   "source": [
    "figure, axes = plt.subplots(nrows=2, ncols=4, figsize=(9,5))\n",
    "axes[0, 0].hist(df_rating.currentRatio)\n",
    "axes[0, 1].hist(df_rating.returnOnEquity)\n",
    "axes[1, 0].hist(df_rating.freeCashFlowPerShare)\n",
    "axes[1, 1].hist(df_rating.payablesTurnover)\n",
    "\n",
    "axes[0, 2].boxplot(df_rating.currentRatio)\n",
    "axes[1, 2].boxplot(df_rating.returnOnEquity)\n",
    "axes[0, 3].boxplot(df_rating.freeCashFlowPerShare)\n",
    "axes[1, 3].boxplot(df_rating.payablesTurnover)\n",
    "\n",
    "figure.tight_layout()"
   ]
  },
  {
   "cell_type": "markdown",
   "metadata": {},
   "source": [
    "We will use the function `.skew` from pandas in all columns. It should return between 0 and 1 if a column is normally distributed. "
   ]
  },
  {
   "cell_type": "code",
   "execution_count": 76,
   "metadata": {},
   "outputs": [
    {
     "data": {
      "text/plain": [
       "currentRatio                          34.271115\n",
       "quickRatio                            30.864610\n",
       "cashRatio                             27.046952\n",
       "daysOfSalesOutstanding                20.359098\n",
       "netProfitMargin                       17.585073\n",
       "pretaxProfitMargin                    22.052558\n",
       "grossProfitMargin                    -14.198688\n",
       "operatingProfitMargin                 26.441502\n",
       "returnOnAssets                       -32.049111\n",
       "returnOnCapitalEmployed              -33.252701\n",
       "returnOnEquity                        31.639845\n",
       "assetTurnover                         25.968848\n",
       "fixedAssetTurnover                    26.068762\n",
       "debtEquityRatio                        0.268074\n",
       "debtRatio                              1.284256\n",
       "effectiveTaxRate                      32.265705\n",
       "freeCashFlowOperatingCashFlowRatio   -22.868222\n",
       "freeCashFlowPerShare                  33.610677\n",
       "cashPerShare                          33.958646\n",
       "companyEquityMultiplier                0.268175\n",
       "ebitPerRevenue                        22.055668\n",
       "enterpriseValueMultiple               13.920117\n",
       "operatingCashFlowPerShare             30.292914\n",
       "operatingCashFlowSalesRatio           25.400129\n",
       "payablesTurnover                      25.868293\n",
       "payoutRatio                          -38.149814\n",
       "dtype: float64"
      ]
     },
     "execution_count": 76,
     "metadata": {},
     "output_type": "execute_result"
    }
   ],
   "source": [
    "df_rating.skew(axis=0)"
   ]
  },
  {
   "cell_type": "markdown",
   "metadata": {},
   "source": [
    "As we can see almost all columns are extremely skewed. We will perform now transformations in the dataset to handle the skewness. An apprpriate method is usually to apply log or delete outliers, but we will follow a different approach. First we will perform an investigation of the data within the classes. "
   ]
  },
  {
   "cell_type": "code",
   "execution_count": 82,
   "metadata": {
    "scrolled": true
   },
   "outputs": [
    {
     "data": {
      "text/html": [
       "<div>\n",
       "<style scoped>\n",
       "    .dataframe tbody tr th:only-of-type {\n",
       "        vertical-align: middle;\n",
       "    }\n",
       "\n",
       "    .dataframe tbody tr th {\n",
       "        vertical-align: top;\n",
       "    }\n",
       "\n",
       "    .dataframe thead th {\n",
       "        text-align: right;\n",
       "    }\n",
       "</style>\n",
       "<table border=\"1\" class=\"dataframe\">\n",
       "  <thead>\n",
       "    <tr style=\"text-align: right;\">\n",
       "      <th></th>\n",
       "      <th>currentRatio</th>\n",
       "      <th>quickRatio</th>\n",
       "      <th>cashRatio</th>\n",
       "      <th>daysOfSalesOutstanding</th>\n",
       "      <th>netProfitMargin</th>\n",
       "      <th>pretaxProfitMargin</th>\n",
       "      <th>grossProfitMargin</th>\n",
       "      <th>operatingProfitMargin</th>\n",
       "      <th>returnOnAssets</th>\n",
       "      <th>returnOnCapitalEmployed</th>\n",
       "      <th>...</th>\n",
       "      <th>freeCashFlowOperatingCashFlowRatio</th>\n",
       "      <th>freeCashFlowPerShare</th>\n",
       "      <th>cashPerShare</th>\n",
       "      <th>companyEquityMultiplier</th>\n",
       "      <th>ebitPerRevenue</th>\n",
       "      <th>enterpriseValueMultiple</th>\n",
       "      <th>operatingCashFlowPerShare</th>\n",
       "      <th>operatingCashFlowSalesRatio</th>\n",
       "      <th>payablesTurnover</th>\n",
       "      <th>payoutRatio</th>\n",
       "    </tr>\n",
       "    <tr>\n",
       "      <th>Rating</th>\n",
       "      <th></th>\n",
       "      <th></th>\n",
       "      <th></th>\n",
       "      <th></th>\n",
       "      <th></th>\n",
       "      <th></th>\n",
       "      <th></th>\n",
       "      <th></th>\n",
       "      <th></th>\n",
       "      <th></th>\n",
       "      <th></th>\n",
       "      <th></th>\n",
       "      <th></th>\n",
       "      <th></th>\n",
       "      <th></th>\n",
       "      <th></th>\n",
       "      <th></th>\n",
       "      <th></th>\n",
       "      <th></th>\n",
       "      <th></th>\n",
       "      <th></th>\n",
       "    </tr>\n",
       "  </thead>\n",
       "  <tbody>\n",
       "    <tr>\n",
       "      <td>High Risk</td>\n",
       "      <td>1.658488</td>\n",
       "      <td>1.105294</td>\n",
       "      <td>0.336215</td>\n",
       "      <td>43.894020</td>\n",
       "      <td>0.035028</td>\n",
       "      <td>0.043417</td>\n",
       "      <td>0.374811</td>\n",
       "      <td>0.073341</td>\n",
       "      <td>0.027916</td>\n",
       "      <td>0.043071</td>\n",
       "      <td>...</td>\n",
       "      <td>0.636441</td>\n",
       "      <td>1.333805</td>\n",
       "      <td>3.293783</td>\n",
       "      <td>2.758037</td>\n",
       "      <td>0.044425</td>\n",
       "      <td>8.920671</td>\n",
       "      <td>2.797530</td>\n",
       "      <td>0.107241</td>\n",
       "      <td>6.260503</td>\n",
       "      <td>0.000000</td>\n",
       "    </tr>\n",
       "    <tr>\n",
       "      <td>Highest Risk</td>\n",
       "      <td>1.587039</td>\n",
       "      <td>1.026375</td>\n",
       "      <td>0.375458</td>\n",
       "      <td>40.173557</td>\n",
       "      <td>-0.043047</td>\n",
       "      <td>-0.047269</td>\n",
       "      <td>0.827221</td>\n",
       "      <td>0.012483</td>\n",
       "      <td>-0.019987</td>\n",
       "      <td>-0.016542</td>\n",
       "      <td>...</td>\n",
       "      <td>0.771947</td>\n",
       "      <td>0.007281</td>\n",
       "      <td>3.849680</td>\n",
       "      <td>3.354741</td>\n",
       "      <td>-0.040075</td>\n",
       "      <td>8.739748</td>\n",
       "      <td>1.315617</td>\n",
       "      <td>0.048700</td>\n",
       "      <td>1.865682</td>\n",
       "      <td>0.000000</td>\n",
       "    </tr>\n",
       "    <tr>\n",
       "      <td>Low Risk</td>\n",
       "      <td>1.354468</td>\n",
       "      <td>0.872729</td>\n",
       "      <td>0.265012</td>\n",
       "      <td>39.902746</td>\n",
       "      <td>0.094578</td>\n",
       "      <td>0.127175</td>\n",
       "      <td>0.502950</td>\n",
       "      <td>0.142032</td>\n",
       "      <td>0.071791</td>\n",
       "      <td>0.135035</td>\n",
       "      <td>...</td>\n",
       "      <td>0.692668</td>\n",
       "      <td>3.263620</td>\n",
       "      <td>4.311189</td>\n",
       "      <td>2.500230</td>\n",
       "      <td>0.130094</td>\n",
       "      <td>9.816527</td>\n",
       "      <td>5.930780</td>\n",
       "      <td>0.152270</td>\n",
       "      <td>5.205684</td>\n",
       "      <td>0.349872</td>\n",
       "    </tr>\n",
       "    <tr>\n",
       "      <td>Medium Risk</td>\n",
       "      <td>1.433680</td>\n",
       "      <td>0.929725</td>\n",
       "      <td>0.277880</td>\n",
       "      <td>42.373491</td>\n",
       "      <td>0.073023</td>\n",
       "      <td>0.092640</td>\n",
       "      <td>0.384978</td>\n",
       "      <td>0.119031</td>\n",
       "      <td>0.048949</td>\n",
       "      <td>0.081951</td>\n",
       "      <td>...</td>\n",
       "      <td>0.604912</td>\n",
       "      <td>2.417054</td>\n",
       "      <td>3.654395</td>\n",
       "      <td>2.675544</td>\n",
       "      <td>0.095435</td>\n",
       "      <td>9.202408</td>\n",
       "      <td>5.072782</td>\n",
       "      <td>0.145493</td>\n",
       "      <td>5.762747</td>\n",
       "      <td>0.288312</td>\n",
       "    </tr>\n",
       "  </tbody>\n",
       "</table>\n",
       "<p>4 rows × 26 columns</p>\n",
       "</div>"
      ],
      "text/plain": [
       "              currentRatio  quickRatio  cashRatio  daysOfSalesOutstanding  \\\n",
       "Rating                                                                      \n",
       "High Risk         1.658488    1.105294   0.336215               43.894020   \n",
       "Highest Risk      1.587039    1.026375   0.375458               40.173557   \n",
       "Low Risk          1.354468    0.872729   0.265012               39.902746   \n",
       "Medium Risk       1.433680    0.929725   0.277880               42.373491   \n",
       "\n",
       "              netProfitMargin  pretaxProfitMargin  grossProfitMargin  \\\n",
       "Rating                                                                 \n",
       "High Risk            0.035028            0.043417           0.374811   \n",
       "Highest Risk        -0.043047           -0.047269           0.827221   \n",
       "Low Risk             0.094578            0.127175           0.502950   \n",
       "Medium Risk          0.073023            0.092640           0.384978   \n",
       "\n",
       "              operatingProfitMargin  returnOnAssets  returnOnCapitalEmployed  \\\n",
       "Rating                                                                         \n",
       "High Risk                  0.073341        0.027916                 0.043071   \n",
       "Highest Risk               0.012483       -0.019987                -0.016542   \n",
       "Low Risk                   0.142032        0.071791                 0.135035   \n",
       "Medium Risk                0.119031        0.048949                 0.081951   \n",
       "\n",
       "              ...  freeCashFlowOperatingCashFlowRatio  freeCashFlowPerShare  \\\n",
       "Rating        ...                                                             \n",
       "High Risk     ...                            0.636441              1.333805   \n",
       "Highest Risk  ...                            0.771947              0.007281   \n",
       "Low Risk      ...                            0.692668              3.263620   \n",
       "Medium Risk   ...                            0.604912              2.417054   \n",
       "\n",
       "              cashPerShare  companyEquityMultiplier  ebitPerRevenue  \\\n",
       "Rating                                                                \n",
       "High Risk         3.293783                 2.758037        0.044425   \n",
       "Highest Risk      3.849680                 3.354741       -0.040075   \n",
       "Low Risk          4.311189                 2.500230        0.130094   \n",
       "Medium Risk       3.654395                 2.675544        0.095435   \n",
       "\n",
       "              enterpriseValueMultiple  operatingCashFlowPerShare  \\\n",
       "Rating                                                             \n",
       "High Risk                    8.920671                   2.797530   \n",
       "Highest Risk                 8.739748                   1.315617   \n",
       "Low Risk                     9.816527                   5.930780   \n",
       "Medium Risk                  9.202408                   5.072782   \n",
       "\n",
       "              operatingCashFlowSalesRatio  payablesTurnover  payoutRatio  \n",
       "Rating                                                                    \n",
       "High Risk                        0.107241          6.260503     0.000000  \n",
       "Highest Risk                     0.048700          1.865682     0.000000  \n",
       "Low Risk                         0.152270          5.205684     0.349872  \n",
       "Medium Risk                      0.145493          5.762747     0.288312  \n",
       "\n",
       "[4 rows x 26 columns]"
      ]
     },
     "execution_count": 82,
     "metadata": {},
     "output_type": "execute_result"
    }
   ],
   "source": [
    "df_rating.groupby('Rating').median()"
   ]
  },
  {
   "cell_type": "markdown",
   "metadata": {},
   "source": [
    "From the table we can see there is a difference in the means of each of the financial indicators with respect to the classes. Therefore, it might be worth to consider the distribution of each indicator whithin each class separetedly.\n",
    "\n",
    "### Outlier Handling\n",
    "\n",
    "We will do the following approach:\n",
    "\n",
    "1. Analyse each of the variables according to each class.\n",
    "2. Detect outliers.\n",
    "3. Replace the outliers a random variable from the same class from the same variable."
   ]
  },
  {
   "cell_type": "code",
   "execution_count": 529,
   "metadata": {},
   "outputs": [],
   "source": [
    "\n",
    "\n",
    "\n",
    "\n",
    "\n",
    "    df_out = df_input[0:0].copy()\n",
    "    \n",
    "    for c in ratings:\n",
    "    \n",
    "        df_in = df_input.loc[df_input.Rating  ==  c].copy()\n",
    "        q1 = df_in[col_name].quantile(0.25)\n",
    "        q3 = df_in[col_name].quantile(0.75)\n",
    "        q5 = df_in[col_name].quantile(0.5)\n",
    "        iqr = q3-q1 #Interquartile range\n",
    "        fence_low  = q3-1.5*iqr\n",
    "        fence_high = q1+1.5*iqr\n",
    "    \n",
    "        df_in.loc[(df_in[col_name] < fence_low),col_name] = sample(list(df_in.loc[(df_in[col_name] > fence_low) & \n",
    "                                                                                  (df_in[col_name] < q5),\n",
    "                                                                                  col_name]),\n",
    "                                                                   len(df_in.loc[(df_in[col_name] < fence_low),col_name]))\n",
    "    \n",
    "    \n",
    "        df_in.loc[(df_in[col_name] > fence_high),col_name] = sample(list(df_in.loc[(df_in[col_name] > q5) & \n",
    "                                                                                  (df_in[col_name] < fence_high),\n",
    "                                                                                  col_name]),\n",
    "                                                                    len(df_in.loc[(df_in[col_name] > fence_high),col_name]))\n",
    "    \n",
    "        frames = [df_out, df_in]\n",
    "        df_out = pd.concat(frames) \n",
    "\n",
    "    return df_out"
   ]
  },
  {
   "cell_type": "code",
   "execution_count": 530,
   "metadata": {},
   "outputs": [
    {
     "ename": "ValueError",
     "evalue": "Sample larger than population or is negative",
     "output_type": "error",
     "traceback": [
      "\u001b[1;31m---------------------------------------------------------------------------\u001b[0m",
      "\u001b[1;31mValueError\u001b[0m                                Traceback (most recent call last)",
      "\u001b[1;32m<ipython-input-530-26daeba63f99>\u001b[0m in \u001b[0;36m<module>\u001b[1;34m\u001b[0m\n\u001b[0;32m      1\u001b[0m \u001b[1;32mfor\u001b[0m \u001b[0mc\u001b[0m \u001b[1;32min\u001b[0m \u001b[0mdf_rating\u001b[0m\u001b[1;33m.\u001b[0m\u001b[0mcolumns\u001b[0m\u001b[1;33m[\u001b[0m\u001b[1;36m6\u001b[0m\u001b[1;33m:\u001b[0m\u001b[1;36m31\u001b[0m\u001b[1;33m]\u001b[0m\u001b[1;33m:\u001b[0m\u001b[1;33m\u001b[0m\u001b[1;33m\u001b[0m\u001b[0m\n\u001b[1;32m----> 2\u001b[1;33m     \u001b[0mdf_rating\u001b[0m \u001b[1;33m=\u001b[0m \u001b[0mremove_outlier\u001b[0m\u001b[1;33m(\u001b[0m\u001b[0mdf_rating\u001b[0m\u001b[1;33m,\u001b[0m \u001b[0mc\u001b[0m\u001b[1;33m)\u001b[0m\u001b[1;33m\u001b[0m\u001b[1;33m\u001b[0m\u001b[0m\n\u001b[0m",
      "\u001b[1;32m<ipython-input-529-fbf8505c09af>\u001b[0m in \u001b[0;36mremove_outlier\u001b[1;34m(df_input, col_name)\u001b[0m\n\u001b[0;32m     24\u001b[0m                                                                                   \u001b[1;33m(\u001b[0m\u001b[0mdf_in\u001b[0m\u001b[1;33m[\u001b[0m\u001b[0mcol_name\u001b[0m\u001b[1;33m]\u001b[0m \u001b[1;33m<\u001b[0m \u001b[0mq5\u001b[0m\u001b[1;33m)\u001b[0m\u001b[1;33m,\u001b[0m\u001b[1;33m\u001b[0m\u001b[1;33m\u001b[0m\u001b[0m\n\u001b[0;32m     25\u001b[0m                                                                                   col_name]),\n\u001b[1;32m---> 26\u001b[1;33m                                                                    len(df_in.loc[(df_in[col_name] < fence_low),col_name]))\n\u001b[0m\u001b[0;32m     27\u001b[0m \u001b[1;33m\u001b[0m\u001b[0m\n\u001b[0;32m     28\u001b[0m \u001b[1;33m\u001b[0m\u001b[0m\n",
      "\u001b[1;32m~\\Anaconda3\\lib\\random.py\u001b[0m in \u001b[0;36msample\u001b[1;34m(self, population, k)\u001b[0m\n\u001b[0;32m    319\u001b[0m         \u001b[0mn\u001b[0m \u001b[1;33m=\u001b[0m \u001b[0mlen\u001b[0m\u001b[1;33m(\u001b[0m\u001b[0mpopulation\u001b[0m\u001b[1;33m)\u001b[0m\u001b[1;33m\u001b[0m\u001b[1;33m\u001b[0m\u001b[0m\n\u001b[0;32m    320\u001b[0m         \u001b[1;32mif\u001b[0m \u001b[1;32mnot\u001b[0m \u001b[1;36m0\u001b[0m \u001b[1;33m<=\u001b[0m \u001b[0mk\u001b[0m \u001b[1;33m<=\u001b[0m \u001b[0mn\u001b[0m\u001b[1;33m:\u001b[0m\u001b[1;33m\u001b[0m\u001b[1;33m\u001b[0m\u001b[0m\n\u001b[1;32m--> 321\u001b[1;33m             \u001b[1;32mraise\u001b[0m \u001b[0mValueError\u001b[0m\u001b[1;33m(\u001b[0m\u001b[1;34m\"Sample larger than population or is negative\"\u001b[0m\u001b[1;33m)\u001b[0m\u001b[1;33m\u001b[0m\u001b[1;33m\u001b[0m\u001b[0m\n\u001b[0m\u001b[0;32m    322\u001b[0m         \u001b[0mresult\u001b[0m \u001b[1;33m=\u001b[0m \u001b[1;33m[\u001b[0m\u001b[1;32mNone\u001b[0m\u001b[1;33m]\u001b[0m \u001b[1;33m*\u001b[0m \u001b[0mk\u001b[0m\u001b[1;33m\u001b[0m\u001b[1;33m\u001b[0m\u001b[0m\n\u001b[0;32m    323\u001b[0m         \u001b[0msetsize\u001b[0m \u001b[1;33m=\u001b[0m \u001b[1;36m21\u001b[0m        \u001b[1;31m# size of a small set minus size of an empty list\u001b[0m\u001b[1;33m\u001b[0m\u001b[1;33m\u001b[0m\u001b[0m\n",
      "\u001b[1;31mValueError\u001b[0m: Sample larger than population or is negative"
     ]
    }
   ],
   "source": [
    "for c in df_rating.columns[6:31]:\n",
    "    df_rating = remove_outlier(df_rating, c)"
   ]
  },
  {
   "cell_type": "code",
   "execution_count": null,
   "metadata": {},
   "outputs": [],
   "source": [
    "figure, axes = plt.subplots(nrows=2, ncols=4, figsize=(9,5))\n",
    "axes[0, 0].hist(df_rating.currentRatiolog)\n",
    "axes[0, 1].hist(df_rating.returnOnEquitylog)\n",
    "axes[1, 0].hist(df_rating.freeCashFlowPerSharelog)\n",
    "axes[1, 1].hist(df_rating.payablesTurnoverlog)\n",
    "\n",
    "axes[0, 2].boxplot(df_rating.currentRatiolog)\n",
    "axes[1, 2].boxplot(df_rating.returnOnEquitylog)\n",
    "axes[0, 3].boxplot(df_rating.freeCashFlowPerSharelog)\n",
    "axes[1, 3].boxplot(df_rating.payablesTurnoverlog)\n",
    "\n",
    "figure.tight_layout()"
   ]
  },
  {
   "cell_type": "markdown",
   "metadata": {},
   "source": [
    "# Analyse Relations"
   ]
  },
  {
   "cell_type": "code",
   "execution_count": 569,
   "metadata": {},
   "outputs": [],
   "source": [
    "df_rating.colors = 'a'\n",
    "df_rating.loc[df_rating['Rating'] == 'A', 'color'] = 'r'\n",
    "df_rating.loc[df_rating['Rating'] == 'B', 'color'] = 'g'\n",
    "df_rating.loc[df_rating['Rating'] == 'BB', 'color'] = 'b'\n",
    "df_rating.loc[df_rating['Rating'] == 'BBB','color'] = 'y'\n",
    "df_rating.loc[df_rating['Rating'] == 'C', 'color'] = 'm'\n"
   ]
  },
  {
   "cell_type": "code",
   "execution_count": 570,
   "metadata": {},
   "outputs": [
    {
     "ename": "ValueError",
     "evalue": "'c' argument must be a mpl color, a sequence of mpl colors or a sequence of numbers, not 0         r\n1         y\n2         y\n3         y\n4         y\n       ... \n2024      y\n2025      b\n2026      g\n2027      g\n2028    NaN\nName: color, Length: 2029, dtype: object.",
     "output_type": "error",
     "traceback": [
      "\u001b[1;31m---------------------------------------------------------------------------\u001b[0m",
      "\u001b[1;31mValueError\u001b[0m                                Traceback (most recent call last)",
      "\u001b[1;32m~\\Anaconda3\\lib\\site-packages\\matplotlib\\axes\\_axes.py\u001b[0m in \u001b[0;36m_parse_scatter_color_args\u001b[1;34m(c, edgecolors, kwargs, xshape, yshape, get_next_color_func)\u001b[0m\n\u001b[0;32m   4284\u001b[0m             \u001b[1;32mtry\u001b[0m\u001b[1;33m:\u001b[0m  \u001b[1;31m# Then is 'c' acceptable as PathCollection facecolors?\u001b[0m\u001b[1;33m\u001b[0m\u001b[1;33m\u001b[0m\u001b[0m\n\u001b[1;32m-> 4285\u001b[1;33m                 \u001b[0mcolors\u001b[0m \u001b[1;33m=\u001b[0m \u001b[0mmcolors\u001b[0m\u001b[1;33m.\u001b[0m\u001b[0mto_rgba_array\u001b[0m\u001b[1;33m(\u001b[0m\u001b[0mc\u001b[0m\u001b[1;33m)\u001b[0m\u001b[1;33m\u001b[0m\u001b[1;33m\u001b[0m\u001b[0m\n\u001b[0m\u001b[0;32m   4286\u001b[0m                 \u001b[0mn_elem\u001b[0m \u001b[1;33m=\u001b[0m \u001b[0mcolors\u001b[0m\u001b[1;33m.\u001b[0m\u001b[0mshape\u001b[0m\u001b[1;33m[\u001b[0m\u001b[1;36m0\u001b[0m\u001b[1;33m]\u001b[0m\u001b[1;33m\u001b[0m\u001b[1;33m\u001b[0m\u001b[0m\n",
      "\u001b[1;32m~\\Anaconda3\\lib\\site-packages\\matplotlib\\colors.py\u001b[0m in \u001b[0;36mto_rgba_array\u001b[1;34m(c, alpha)\u001b[0m\n\u001b[0;32m    293\u001b[0m     \u001b[1;32mfor\u001b[0m \u001b[0mi\u001b[0m\u001b[1;33m,\u001b[0m \u001b[0mcc\u001b[0m \u001b[1;32min\u001b[0m \u001b[0menumerate\u001b[0m\u001b[1;33m(\u001b[0m\u001b[0mc\u001b[0m\u001b[1;33m)\u001b[0m\u001b[1;33m:\u001b[0m\u001b[1;33m\u001b[0m\u001b[1;33m\u001b[0m\u001b[0m\n\u001b[1;32m--> 294\u001b[1;33m         \u001b[0mresult\u001b[0m\u001b[1;33m[\u001b[0m\u001b[0mi\u001b[0m\u001b[1;33m]\u001b[0m \u001b[1;33m=\u001b[0m \u001b[0mto_rgba\u001b[0m\u001b[1;33m(\u001b[0m\u001b[0mcc\u001b[0m\u001b[1;33m,\u001b[0m \u001b[0malpha\u001b[0m\u001b[1;33m)\u001b[0m\u001b[1;33m\u001b[0m\u001b[1;33m\u001b[0m\u001b[0m\n\u001b[0m\u001b[0;32m    295\u001b[0m     \u001b[1;32mreturn\u001b[0m \u001b[0mresult\u001b[0m\u001b[1;33m\u001b[0m\u001b[1;33m\u001b[0m\u001b[0m\n",
      "\u001b[1;32m~\\Anaconda3\\lib\\site-packages\\matplotlib\\colors.py\u001b[0m in \u001b[0;36mto_rgba\u001b[1;34m(c, alpha)\u001b[0m\n\u001b[0;32m    176\u001b[0m     \u001b[1;32mif\u001b[0m \u001b[0mrgba\u001b[0m \u001b[1;32mis\u001b[0m \u001b[1;32mNone\u001b[0m\u001b[1;33m:\u001b[0m  \u001b[1;31m# Suppress exception chaining of cache lookup failure.\u001b[0m\u001b[1;33m\u001b[0m\u001b[1;33m\u001b[0m\u001b[0m\n\u001b[1;32m--> 177\u001b[1;33m         \u001b[0mrgba\u001b[0m \u001b[1;33m=\u001b[0m \u001b[0m_to_rgba_no_colorcycle\u001b[0m\u001b[1;33m(\u001b[0m\u001b[0mc\u001b[0m\u001b[1;33m,\u001b[0m \u001b[0malpha\u001b[0m\u001b[1;33m)\u001b[0m\u001b[1;33m\u001b[0m\u001b[1;33m\u001b[0m\u001b[0m\n\u001b[0m\u001b[0;32m    178\u001b[0m         \u001b[1;32mtry\u001b[0m\u001b[1;33m:\u001b[0m\u001b[1;33m\u001b[0m\u001b[1;33m\u001b[0m\u001b[0m\n",
      "\u001b[1;32m~\\Anaconda3\\lib\\site-packages\\matplotlib\\colors.py\u001b[0m in \u001b[0;36m_to_rgba_no_colorcycle\u001b[1;34m(c, alpha)\u001b[0m\n\u001b[0;32m    239\u001b[0m         \u001b[1;31m# Test dimensionality to reject single floats.\u001b[0m\u001b[1;33m\u001b[0m\u001b[1;33m\u001b[0m\u001b[1;33m\u001b[0m\u001b[0m\n\u001b[1;32m--> 240\u001b[1;33m         \u001b[1;32mraise\u001b[0m \u001b[0mValueError\u001b[0m\u001b[1;33m(\u001b[0m\u001b[1;34m\"Invalid RGBA argument: {!r}\"\u001b[0m\u001b[1;33m.\u001b[0m\u001b[0mformat\u001b[0m\u001b[1;33m(\u001b[0m\u001b[0morig_c\u001b[0m\u001b[1;33m)\u001b[0m\u001b[1;33m)\u001b[0m\u001b[1;33m\u001b[0m\u001b[1;33m\u001b[0m\u001b[0m\n\u001b[0m\u001b[0;32m    241\u001b[0m     \u001b[1;31m# Return a tuple to prevent the cached value from being modified.\u001b[0m\u001b[1;33m\u001b[0m\u001b[1;33m\u001b[0m\u001b[1;33m\u001b[0m\u001b[0m\n",
      "\u001b[1;31mValueError\u001b[0m: Invalid RGBA argument: nan",
      "\nDuring handling of the above exception, another exception occurred:\n",
      "\u001b[1;31mValueError\u001b[0m                                Traceback (most recent call last)",
      "\u001b[1;32m<ipython-input-570-8fa721e7cbc1>\u001b[0m in \u001b[0;36m<module>\u001b[1;34m\u001b[0m\n\u001b[1;32m----> 1\u001b[1;33m \u001b[0mplt\u001b[0m\u001b[1;33m.\u001b[0m\u001b[0mscatter\u001b[0m\u001b[1;33m(\u001b[0m\u001b[0mdf_rating\u001b[0m\u001b[1;33m.\u001b[0m\u001b[0mreturnOnAssets\u001b[0m\u001b[1;33m,\u001b[0m \u001b[0mdf_rating\u001b[0m\u001b[1;33m.\u001b[0m\u001b[0mreturnOnCapitalEmployed\u001b[0m\u001b[1;33m,\u001b[0m \u001b[0mc\u001b[0m \u001b[1;33m=\u001b[0m \u001b[0mdf_rating\u001b[0m\u001b[1;33m.\u001b[0m\u001b[0mcolor\u001b[0m\u001b[1;33m,\u001b[0m \u001b[0malpha\u001b[0m\u001b[1;33m=\u001b[0m\u001b[1;36m0.5\u001b[0m\u001b[1;33m)\u001b[0m\u001b[1;33m\u001b[0m\u001b[1;33m\u001b[0m\u001b[0m\n\u001b[0m\u001b[0;32m      2\u001b[0m \u001b[0mplt\u001b[0m\u001b[1;33m.\u001b[0m\u001b[0mshow\u001b[0m\u001b[1;33m(\u001b[0m\u001b[1;33m)\u001b[0m\u001b[1;33m\u001b[0m\u001b[1;33m\u001b[0m\u001b[0m\n",
      "\u001b[1;32m~\\Anaconda3\\lib\\site-packages\\matplotlib\\pyplot.py\u001b[0m in \u001b[0;36mscatter\u001b[1;34m(x, y, s, c, marker, cmap, norm, vmin, vmax, alpha, linewidths, verts, edgecolors, plotnonfinite, data, **kwargs)\u001b[0m\n\u001b[0;32m   2845\u001b[0m         \u001b[0mverts\u001b[0m\u001b[1;33m=\u001b[0m\u001b[0mverts\u001b[0m\u001b[1;33m,\u001b[0m \u001b[0medgecolors\u001b[0m\u001b[1;33m=\u001b[0m\u001b[0medgecolors\u001b[0m\u001b[1;33m,\u001b[0m\u001b[1;33m\u001b[0m\u001b[1;33m\u001b[0m\u001b[0m\n\u001b[0;32m   2846\u001b[0m         plotnonfinite=plotnonfinite, **({\"data\": data} if data is not\n\u001b[1;32m-> 2847\u001b[1;33m         None else {}), **kwargs)\n\u001b[0m\u001b[0;32m   2848\u001b[0m     \u001b[0msci\u001b[0m\u001b[1;33m(\u001b[0m\u001b[0m__ret\u001b[0m\u001b[1;33m)\u001b[0m\u001b[1;33m\u001b[0m\u001b[1;33m\u001b[0m\u001b[0m\n\u001b[0;32m   2849\u001b[0m     \u001b[1;32mreturn\u001b[0m \u001b[0m__ret\u001b[0m\u001b[1;33m\u001b[0m\u001b[1;33m\u001b[0m\u001b[0m\n",
      "\u001b[1;32m~\\Anaconda3\\lib\\site-packages\\matplotlib\\__init__.py\u001b[0m in \u001b[0;36minner\u001b[1;34m(ax, data, *args, **kwargs)\u001b[0m\n\u001b[0;32m   1599\u001b[0m     \u001b[1;32mdef\u001b[0m \u001b[0minner\u001b[0m\u001b[1;33m(\u001b[0m\u001b[0max\u001b[0m\u001b[1;33m,\u001b[0m \u001b[1;33m*\u001b[0m\u001b[0margs\u001b[0m\u001b[1;33m,\u001b[0m \u001b[0mdata\u001b[0m\u001b[1;33m=\u001b[0m\u001b[1;32mNone\u001b[0m\u001b[1;33m,\u001b[0m \u001b[1;33m**\u001b[0m\u001b[0mkwargs\u001b[0m\u001b[1;33m)\u001b[0m\u001b[1;33m:\u001b[0m\u001b[1;33m\u001b[0m\u001b[1;33m\u001b[0m\u001b[0m\n\u001b[0;32m   1600\u001b[0m         \u001b[1;32mif\u001b[0m \u001b[0mdata\u001b[0m \u001b[1;32mis\u001b[0m \u001b[1;32mNone\u001b[0m\u001b[1;33m:\u001b[0m\u001b[1;33m\u001b[0m\u001b[1;33m\u001b[0m\u001b[0m\n\u001b[1;32m-> 1601\u001b[1;33m             \u001b[1;32mreturn\u001b[0m \u001b[0mfunc\u001b[0m\u001b[1;33m(\u001b[0m\u001b[0max\u001b[0m\u001b[1;33m,\u001b[0m \u001b[1;33m*\u001b[0m\u001b[0mmap\u001b[0m\u001b[1;33m(\u001b[0m\u001b[0msanitize_sequence\u001b[0m\u001b[1;33m,\u001b[0m \u001b[0margs\u001b[0m\u001b[1;33m)\u001b[0m\u001b[1;33m,\u001b[0m \u001b[1;33m**\u001b[0m\u001b[0mkwargs\u001b[0m\u001b[1;33m)\u001b[0m\u001b[1;33m\u001b[0m\u001b[1;33m\u001b[0m\u001b[0m\n\u001b[0m\u001b[0;32m   1602\u001b[0m \u001b[1;33m\u001b[0m\u001b[0m\n\u001b[0;32m   1603\u001b[0m         \u001b[0mbound\u001b[0m \u001b[1;33m=\u001b[0m \u001b[0mnew_sig\u001b[0m\u001b[1;33m.\u001b[0m\u001b[0mbind\u001b[0m\u001b[1;33m(\u001b[0m\u001b[0max\u001b[0m\u001b[1;33m,\u001b[0m \u001b[1;33m*\u001b[0m\u001b[0margs\u001b[0m\u001b[1;33m,\u001b[0m \u001b[1;33m**\u001b[0m\u001b[0mkwargs\u001b[0m\u001b[1;33m)\u001b[0m\u001b[1;33m\u001b[0m\u001b[1;33m\u001b[0m\u001b[0m\n",
      "\u001b[1;32m~\\Anaconda3\\lib\\site-packages\\matplotlib\\axes\\_axes.py\u001b[0m in \u001b[0;36mscatter\u001b[1;34m(self, x, y, s, c, marker, cmap, norm, vmin, vmax, alpha, linewidths, verts, edgecolors, plotnonfinite, **kwargs)\u001b[0m\n\u001b[0;32m   4452\u001b[0m             self._parse_scatter_color_args(\n\u001b[0;32m   4453\u001b[0m                 \u001b[0mc\u001b[0m\u001b[1;33m,\u001b[0m \u001b[0medgecolors\u001b[0m\u001b[1;33m,\u001b[0m \u001b[0mkwargs\u001b[0m\u001b[1;33m,\u001b[0m \u001b[0mxshape\u001b[0m\u001b[1;33m,\u001b[0m \u001b[0myshape\u001b[0m\u001b[1;33m,\u001b[0m\u001b[1;33m\u001b[0m\u001b[1;33m\u001b[0m\u001b[0m\n\u001b[1;32m-> 4454\u001b[1;33m                 get_next_color_func=self._get_patches_for_fill.get_next_color)\n\u001b[0m\u001b[0;32m   4455\u001b[0m \u001b[1;33m\u001b[0m\u001b[0m\n\u001b[0;32m   4456\u001b[0m         \u001b[1;32mif\u001b[0m \u001b[0mplotnonfinite\u001b[0m \u001b[1;32mand\u001b[0m \u001b[0mcolors\u001b[0m \u001b[1;32mis\u001b[0m \u001b[1;32mNone\u001b[0m\u001b[1;33m:\u001b[0m\u001b[1;33m\u001b[0m\u001b[1;33m\u001b[0m\u001b[0m\n",
      "\u001b[1;32m~\\Anaconda3\\lib\\site-packages\\matplotlib\\axes\\_axes.py\u001b[0m in \u001b[0;36m_parse_scatter_color_args\u001b[1;34m(c, edgecolors, kwargs, xshape, yshape, get_next_color_func)\u001b[0m\n\u001b[0;32m   4304\u001b[0m                         \u001b[1;34m\"'c' argument must be a mpl color, a sequence of mpl \"\u001b[0m\u001b[1;33m\u001b[0m\u001b[1;33m\u001b[0m\u001b[0m\n\u001b[0;32m   4305\u001b[0m                         \u001b[1;34m\"colors or a sequence of numbers, not {}.\"\u001b[0m\u001b[1;33m\u001b[0m\u001b[1;33m\u001b[0m\u001b[0m\n\u001b[1;32m-> 4306\u001b[1;33m                             \u001b[1;33m.\u001b[0m\u001b[0mformat\u001b[0m\u001b[1;33m(\u001b[0m\u001b[0mc\u001b[0m\u001b[1;33m)\u001b[0m  \u001b[1;31m# note: could be long depending on c\u001b[0m\u001b[1;33m\u001b[0m\u001b[1;33m\u001b[0m\u001b[0m\n\u001b[0m\u001b[0;32m   4307\u001b[0m                     )\n\u001b[0;32m   4308\u001b[0m         \u001b[1;32melse\u001b[0m\u001b[1;33m:\u001b[0m\u001b[1;33m\u001b[0m\u001b[1;33m\u001b[0m\u001b[0m\n",
      "\u001b[1;31mValueError\u001b[0m: 'c' argument must be a mpl color, a sequence of mpl colors or a sequence of numbers, not 0         r\n1         y\n2         y\n3         y\n4         y\n       ... \n2024      y\n2025      b\n2026      g\n2027      g\n2028    NaN\nName: color, Length: 2029, dtype: object."
     ]
    },
    {
     "data": {
      "image/png": "[encoded data removed]",
      "text/plain": [
       "<Figure size 432x288 with 1 Axes>"
      ]
     },
     "metadata": {
      "needs_background": "light"
     },
     "output_type": "display_data"
    }
   ],
   "source": [
    "plt.scatter(df_rating.returnOnAssets, df_rating.returnOnCapitalEmployed, c = df_rating.color, alpha=0.5)\n",
    "plt.show()"
   ]
  },
  {
   "cell_type": "code",
   "execution_count": 571,
   "metadata": {},
   "outputs": [
    {
     "data": {
      "text/html": [
       "<div>\n",
       "<style scoped>\n",
       "    .dataframe tbody tr th:only-of-type {\n",
       "        vertical-align: middle;\n",
       "    }\n",
       "\n",
       "    .dataframe tbody tr th {\n",
       "        vertical-align: top;\n",
       "    }\n",
       "\n",
       "    .dataframe thead th {\n",
       "        text-align: right;\n",
       "    }\n",
       "</style>\n",
       "<table border=\"1\" class=\"dataframe\">\n",
       "  <thead>\n",
       "    <tr style=\"text-align: right;\">\n",
       "      <th></th>\n",
       "      <th>currentRatio</th>\n",
       "      <th>quickRatio</th>\n",
       "      <th>cashRatio</th>\n",
       "      <th>daysOfSalesOutstanding</th>\n",
       "      <th>netProfitMargin</th>\n",
       "      <th>pretaxProfitMargin</th>\n",
       "      <th>grossProfitMargin</th>\n",
       "      <th>operatingProfitMargin</th>\n",
       "      <th>returnOnAssets</th>\n",
       "      <th>returnOnCapitalEmployed</th>\n",
       "      <th>...</th>\n",
       "      <th>freeCashFlowOperatingCashFlowRatio</th>\n",
       "      <th>freeCashFlowPerShare</th>\n",
       "      <th>cashPerShare</th>\n",
       "      <th>companyEquityMultiplier</th>\n",
       "      <th>ebitPerRevenue</th>\n",
       "      <th>enterpriseValueMultiple</th>\n",
       "      <th>operatingCashFlowPerShare</th>\n",
       "      <th>operatingCashFlowSalesRatio</th>\n",
       "      <th>payablesTurnover</th>\n",
       "      <th>payoutRatio</th>\n",
       "    </tr>\n",
       "    <tr>\n",
       "      <th>Rating</th>\n",
       "      <th></th>\n",
       "      <th></th>\n",
       "      <th></th>\n",
       "      <th></th>\n",
       "      <th></th>\n",
       "      <th></th>\n",
       "      <th></th>\n",
       "      <th></th>\n",
       "      <th></th>\n",
       "      <th></th>\n",
       "      <th></th>\n",
       "      <th></th>\n",
       "      <th></th>\n",
       "      <th></th>\n",
       "      <th></th>\n",
       "      <th></th>\n",
       "      <th></th>\n",
       "      <th></th>\n",
       "      <th></th>\n",
       "      <th></th>\n",
       "      <th></th>\n",
       "    </tr>\n",
       "  </thead>\n",
       "  <tbody>\n",
       "    <tr>\n",
       "      <td>A</td>\n",
       "      <td>1.538695</td>\n",
       "      <td>1.327016</td>\n",
       "      <td>0.385079</td>\n",
       "      <td>171.168722</td>\n",
       "      <td>0.590435</td>\n",
       "      <td>0.863640</td>\n",
       "      <td>0.556080</td>\n",
       "      <td>1.040302</td>\n",
       "      <td>0.071436</td>\n",
       "      <td>0.136976</td>\n",
       "      <td>...</td>\n",
       "      <td>0.573076</td>\n",
       "      <td>26.161248</td>\n",
       "      <td>48.874806</td>\n",
       "      <td>3.780445</td>\n",
       "      <td>0.866412</td>\n",
       "      <td>10.939248</td>\n",
       "      <td>103.318712</td>\n",
       "      <td>1.495428</td>\n",
       "      <td>6.774101</td>\n",
       "      <td>0.286710</td>\n",
       "    </tr>\n",
       "    <tr>\n",
       "      <td>AA</td>\n",
       "      <td>1.723888</td>\n",
       "      <td>1.227023</td>\n",
       "      <td>0.390321</td>\n",
       "      <td>40.635753</td>\n",
       "      <td>0.124043</td>\n",
       "      <td>0.165942</td>\n",
       "      <td>0.627899</td>\n",
       "      <td>0.173166</td>\n",
       "      <td>0.092874</td>\n",
       "      <td>0.172885</td>\n",
       "      <td>...</td>\n",
       "      <td>0.902069</td>\n",
       "      <td>83.025380</td>\n",
       "      <td>184.041180</td>\n",
       "      <td>2.222550</td>\n",
       "      <td>0.166796</td>\n",
       "      <td>10.532753</td>\n",
       "      <td>462.707627</td>\n",
       "      <td>0.189398</td>\n",
       "      <td>670.839163</td>\n",
       "      <td>0.446723</td>\n",
       "    </tr>\n",
       "    <tr>\n",
       "      <td>AAA</td>\n",
       "      <td>2.274625</td>\n",
       "      <td>2.063972</td>\n",
       "      <td>0.274089</td>\n",
       "      <td>67.678733</td>\n",
       "      <td>0.212323</td>\n",
       "      <td>0.117229</td>\n",
       "      <td>0.734484</td>\n",
       "      <td>0.274609</td>\n",
       "      <td>0.109992</td>\n",
       "      <td>0.071989</td>\n",
       "      <td>...</td>\n",
       "      <td>0.776531</td>\n",
       "      <td>3.961642</td>\n",
       "      <td>9.923552</td>\n",
       "      <td>2.082451</td>\n",
       "      <td>0.117229</td>\n",
       "      <td>12.204365</td>\n",
       "      <td>5.682929</td>\n",
       "      <td>0.346676</td>\n",
       "      <td>3.784628</td>\n",
       "      <td>0.487933</td>\n",
       "    </tr>\n",
       "    <tr>\n",
       "      <td>B</td>\n",
       "      <td>5.431595</td>\n",
       "      <td>1.830320</td>\n",
       "      <td>0.634058</td>\n",
       "      <td>67.385079</td>\n",
       "      <td>0.141831</td>\n",
       "      <td>0.211195</td>\n",
       "      <td>0.499278</td>\n",
       "      <td>0.248749</td>\n",
       "      <td>-118.765198</td>\n",
       "      <td>-208.882685</td>\n",
       "      <td>...</td>\n",
       "      <td>0.027576</td>\n",
       "      <td>52.968464</td>\n",
       "      <td>90.703789</td>\n",
       "      <td>-6.805406</td>\n",
       "      <td>0.218886</td>\n",
       "      <td>148.564115</td>\n",
       "      <td>-13.168759</td>\n",
       "      <td>0.639844</td>\n",
       "      <td>8.048441</td>\n",
       "      <td>0.317992</td>\n",
       "    </tr>\n",
       "    <tr>\n",
       "      <td>BB</td>\n",
       "      <td>2.579726</td>\n",
       "      <td>6.165528</td>\n",
       "      <td>0.937828</td>\n",
       "      <td>950.263229</td>\n",
       "      <td>-0.281538</td>\n",
       "      <td>-0.334636</td>\n",
       "      <td>0.446694</td>\n",
       "      <td>-0.225784</td>\n",
       "      <td>-0.226759</td>\n",
       "      <td>0.051039</td>\n",
       "      <td>...</td>\n",
       "      <td>0.367777</td>\n",
       "      <td>9234.334962</td>\n",
       "      <td>7497.555030</td>\n",
       "      <td>1.489030</td>\n",
       "      <td>-0.329640</td>\n",
       "      <td>73.942903</td>\n",
       "      <td>13585.272504</td>\n",
       "      <td>1.679154</td>\n",
       "      <td>12.551026</td>\n",
       "      <td>1.850422</td>\n",
       "    </tr>\n",
       "    <tr>\n",
       "      <td>BBB</td>\n",
       "      <td>1.753954</td>\n",
       "      <td>1.242471</td>\n",
       "      <td>0.419345</td>\n",
       "      <td>171.933980</td>\n",
       "      <td>0.641484</td>\n",
       "      <td>0.953623</td>\n",
       "      <td>0.460779</td>\n",
       "      <td>1.207154</td>\n",
       "      <td>0.051597</td>\n",
       "      <td>0.091791</td>\n",
       "      <td>...</td>\n",
       "      <td>0.499515</td>\n",
       "      <td>8604.119826</td>\n",
       "      <td>7193.585692</td>\n",
       "      <td>5.176333</td>\n",
       "      <td>0.961297</td>\n",
       "      <td>11.801629</td>\n",
       "      <td>9662.001115</td>\n",
       "      <td>1.942878</td>\n",
       "      <td>7.631958</td>\n",
       "      <td>0.591676</td>\n",
       "    </tr>\n",
       "    <tr>\n",
       "      <td>C</td>\n",
       "      <td>1.286105</td>\n",
       "      <td>0.635879</td>\n",
       "      <td>0.578643</td>\n",
       "      <td>3.644017</td>\n",
       "      <td>0.449925</td>\n",
       "      <td>0.722794</td>\n",
       "      <td>0.515868</td>\n",
       "      <td>0.099135</td>\n",
       "      <td>0.067283</td>\n",
       "      <td>0.395384</td>\n",
       "      <td>...</td>\n",
       "      <td>-1.524296</td>\n",
       "      <td>-0.933089</td>\n",
       "      <td>5.808174</td>\n",
       "      <td>5.638925</td>\n",
       "      <td>0.722794</td>\n",
       "      <td>8.085984</td>\n",
       "      <td>0.537463</td>\n",
       "      <td>0.022305</td>\n",
       "      <td>9.472004</td>\n",
       "      <td>-0.034032</td>\n",
       "    </tr>\n",
       "    <tr>\n",
       "      <td>CC</td>\n",
       "      <td>1.110003</td>\n",
       "      <td>0.672340</td>\n",
       "      <td>0.379967</td>\n",
       "      <td>15.830629</td>\n",
       "      <td>-0.549850</td>\n",
       "      <td>-0.610106</td>\n",
       "      <td>0.769635</td>\n",
       "      <td>-0.570298</td>\n",
       "      <td>-8042.909871</td>\n",
       "      <td>-17432.871752</td>\n",
       "      <td>...</td>\n",
       "      <td>0.298548</td>\n",
       "      <td>1212.370650</td>\n",
       "      <td>10.393418</td>\n",
       "      <td>-1.859115</td>\n",
       "      <td>-0.610106</td>\n",
       "      <td>4.093561</td>\n",
       "      <td>-269.074276</td>\n",
       "      <td>0.029997</td>\n",
       "      <td>2.022818</td>\n",
       "      <td>-0.003721</td>\n",
       "    </tr>\n",
       "    <tr>\n",
       "      <td>CCC</td>\n",
       "      <td>35.778208</td>\n",
       "      <td>5.008539</td>\n",
       "      <td>3.573252</td>\n",
       "      <td>55.744425</td>\n",
       "      <td>-0.253064</td>\n",
       "      <td>-0.344592</td>\n",
       "      <td>0.676688</td>\n",
       "      <td>-0.177128</td>\n",
       "      <td>-0.052983</td>\n",
       "      <td>-0.070988</td>\n",
       "      <td>...</td>\n",
       "      <td>-0.084502</td>\n",
       "      <td>-13.928158</td>\n",
       "      <td>213.115198</td>\n",
       "      <td>45.128958</td>\n",
       "      <td>-0.328738</td>\n",
       "      <td>55.076877</td>\n",
       "      <td>33.971570</td>\n",
       "      <td>0.044647</td>\n",
       "      <td>14.779026</td>\n",
       "      <td>-27.034016</td>\n",
       "    </tr>\n",
       "    <tr>\n",
       "      <td>D</td>\n",
       "      <td>0.585399</td>\n",
       "      <td>0.389807</td>\n",
       "      <td>0.016529</td>\n",
       "      <td>54.738203</td>\n",
       "      <td>0.180349</td>\n",
       "      <td>0.129929</td>\n",
       "      <td>1.000000</td>\n",
       "      <td>-0.197802</td>\n",
       "      <td>0.043909</td>\n",
       "      <td>0.035714</td>\n",
       "      <td>...</td>\n",
       "      <td>0.423077</td>\n",
       "      <td>1.361386</td>\n",
       "      <td>1.262376</td>\n",
       "      <td>-11.407540</td>\n",
       "      <td>0.129929</td>\n",
       "      <td>20.818231</td>\n",
       "      <td>3.217822</td>\n",
       "      <td>0.084034</td>\n",
       "      <td>3.652968</td>\n",
       "      <td>0.000000</td>\n",
       "    </tr>\n",
       "  </tbody>\n",
       "</table>\n",
       "<p>10 rows × 26 columns</p>\n",
       "</div>"
      ],
      "text/plain": [
       "        currentRatio  quickRatio  cashRatio  daysOfSalesOutstanding  \\\n",
       "Rating                                                                \n",
       "A           1.538695    1.327016   0.385079              171.168722   \n",
       "AA          1.723888    1.227023   0.390321               40.635753   \n",
       "AAA         2.274625    2.063972   0.274089               67.678733   \n",
       "B           5.431595    1.830320   0.634058               67.385079   \n",
       "BB          2.579726    6.165528   0.937828              950.263229   \n",
       "BBB         1.753954    1.242471   0.419345              171.933980   \n",
       "C           1.286105    0.635879   0.578643                3.644017   \n",
       "CC          1.110003    0.672340   0.379967               15.830629   \n",
       "CCC        35.778208    5.008539   3.573252               55.744425   \n",
       "D           0.585399    0.389807   0.016529               54.738203   \n",
       "\n",
       "        netProfitMargin  pretaxProfitMargin  grossProfitMargin  \\\n",
       "Rating                                                           \n",
       "A              0.590435            0.863640           0.556080   \n",
       "AA             0.124043            0.165942           0.627899   \n",
       "AAA            0.212323            0.117229           0.734484   \n",
       "B              0.141831            0.211195           0.499278   \n",
       "BB            -0.281538           -0.334636           0.446694   \n",
       "BBB            0.641484            0.953623           0.460779   \n",
       "C              0.449925            0.722794           0.515868   \n",
       "CC            -0.549850           -0.610106           0.769635   \n",
       "CCC           -0.253064           -0.344592           0.676688   \n",
       "D              0.180349            0.129929           1.000000   \n",
       "\n",
       "        operatingProfitMargin  returnOnAssets  returnOnCapitalEmployed  ...  \\\n",
       "Rating                                                                  ...   \n",
       "A                    1.040302        0.071436                 0.136976  ...   \n",
       "AA                   0.173166        0.092874                 0.172885  ...   \n",
       "AAA                  0.274609        0.109992                 0.071989  ...   \n",
       "B                    0.248749     -118.765198              -208.882685  ...   \n",
       "BB                  -0.225784       -0.226759                 0.051039  ...   \n",
       "BBB                  1.207154        0.051597                 0.091791  ...   \n",
       "C                    0.099135        0.067283                 0.395384  ...   \n",
       "CC                  -0.570298    -8042.909871            -17432.871752  ...   \n",
       "CCC                 -0.177128       -0.052983                -0.070988  ...   \n",
       "D                   -0.197802        0.043909                 0.035714  ...   \n",
       "\n",
       "        freeCashFlowOperatingCashFlowRatio  freeCashFlowPerShare  \\\n",
       "Rating                                                             \n",
       "A                                 0.573076             26.161248   \n",
       "AA                                0.902069             83.025380   \n",
       "AAA                               0.776531              3.961642   \n",
       "B                                 0.027576             52.968464   \n",
       "BB                                0.367777           9234.334962   \n",
       "BBB                               0.499515           8604.119826   \n",
       "C                                -1.524296             -0.933089   \n",
       "CC                                0.298548           1212.370650   \n",
       "CCC                              -0.084502            -13.928158   \n",
       "D                                 0.423077              1.361386   \n",
       "\n",
       "        cashPerShare  companyEquityMultiplier  ebitPerRevenue  \\\n",
       "Rating                                                          \n",
       "A          48.874806                 3.780445        0.866412   \n",
       "AA        184.041180                 2.222550        0.166796   \n",
       "AAA         9.923552                 2.082451        0.117229   \n",
       "B          90.703789                -6.805406        0.218886   \n",
       "BB       7497.555030                 1.489030       -0.329640   \n",
       "BBB      7193.585692                 5.176333        0.961297   \n",
       "C           5.808174                 5.638925        0.722794   \n",
       "CC         10.393418                -1.859115       -0.610106   \n",
       "CCC       213.115198                45.128958       -0.328738   \n",
       "D           1.262376               -11.407540        0.129929   \n",
       "\n",
       "        enterpriseValueMultiple  operatingCashFlowPerShare  \\\n",
       "Rating                                                       \n",
       "A                     10.939248                 103.318712   \n",
       "AA                    10.532753                 462.707627   \n",
       "AAA                   12.204365                   5.682929   \n",
       "B                    148.564115                 -13.168759   \n",
       "BB                    73.942903               13585.272504   \n",
       "BBB                   11.801629                9662.001115   \n",
       "C                      8.085984                   0.537463   \n",
       "CC                     4.093561                -269.074276   \n",
       "CCC                   55.076877                  33.971570   \n",
       "D                     20.818231                   3.217822   \n",
       "\n",
       "        operatingCashFlowSalesRatio  payablesTurnover  payoutRatio  \n",
       "Rating                                                              \n",
       "A                          1.495428          6.774101     0.286710  \n",
       "AA                         0.189398        670.839163     0.446723  \n",
       "AAA                        0.346676          3.784628     0.487933  \n",
       "B                          0.639844          8.048441     0.317992  \n",
       "BB                         1.679154         12.551026     1.850422  \n",
       "BBB                        1.942878          7.631958     0.591676  \n",
       "C                          0.022305          9.472004    -0.034032  \n",
       "CC                         0.029997          2.022818    -0.003721  \n",
       "CCC                        0.044647         14.779026   -27.034016  \n",
       "D                          0.084034          3.652968     0.000000  \n",
       "\n",
       "[10 rows x 26 columns]"
      ]
     },
     "execution_count": 571,
     "metadata": {},
     "output_type": "execute_result"
    }
   ],
   "source": [
    "df_rating.groupby('Rating').mean()"
   ]
  },
  {
   "cell_type": "code",
   "execution_count": 299,
   "metadata": {},
   "outputs": [
    {
     "data": {
      "image/png": "[encoded data removed]",
      "text/plain": [
       "<Figure size 432x288 with 1 Axes>"
      ]
     },
     "metadata": {
      "needs_background": "light"
     },
     "output_type": "display_data"
    }
   ],
   "source": [
    "import seaborn as sns\n",
    "\n",
    "# ax = sns.boxplot(x=df_rating.Rating, y=df_rating.currentRatio,palette=\"Set3\")\n",
    "# ax = sns.boxplot(x=df_rating.Rating, y=df_rating.quickRatio,palette=\"Set3\")\n",
    "# ax = sns.boxplot(x=df_rating.Rating, y=df_rating.daysOfSalesOutstanding,palette=\"Set3\")\n",
    "ax = sns.boxplot(x=df_rating.Rating, y=df_rating.returnOnAssets,palette=\"Set3\")"
   ]
  },
  {
   "cell_type": "code",
   "execution_count": null,
   "metadata": {},
   "outputs": [],
   "source": []
  },
  {
   "cell_type": "code",
   "execution_count": null,
   "metadata": {},
   "outputs": [],
   "source": []
  },
  {
   "cell_type": "markdown",
   "metadata": {},
   "source": [
    "# Boxplot"
   ]
  },
  {
   "cell_type": "code",
   "execution_count": 300,
   "metadata": {},
   "outputs": [],
   "source": [
    "df_plot = df_rating.copy()\n",
    "df_plot = df_plot.iloc[:,0:32]\n",
    "df_plot.drop(df_plot.columns[1:6], axis = 1, inplace = True)"
   ]
  },
  {
   "cell_type": "code",
   "execution_count": 301,
   "metadata": {
    "scrolled": false
   },
   "outputs": [
    {
     "data": {
      "image/png": "[encoded data removed]",
      "text/plain": [
       "<Figure size 1080x1800 with 30 Axes>"
      ]
     },
     "metadata": {
      "needs_background": "light"
     },
     "output_type": "display_data"
    }
   ],
   "source": [
    "boxplot = df_plot.boxplot(by='Rating', figsize=(15,25))"
   ]
  },
  {
   "cell_type": "code",
   "execution_count": null,
   "metadata": {},
   "outputs": [],
   "source": []
  },
  {
   "cell_type": "code",
   "execution_count": null,
   "metadata": {},
   "outputs": [],
   "source": []
  },
  {
   "cell_type": "code",
   "execution_count": null,
   "metadata": {},
   "outputs": [],
   "source": []
  },
  {
   "cell_type": "code",
   "execution_count": null,
   "metadata": {},
   "outputs": [],
   "source": []
  },
  {
   "cell_type": "markdown",
   "metadata": {},
   "source": [
    "# PCA"
   ]
  },
  {
   "cell_type": "code",
   "execution_count": 302,
   "metadata": {},
   "outputs": [
    {
     "data": {
      "text/plain": [
       "'currentRatiolog'"
      ]
     },
     "execution_count": 302,
     "metadata": {},
     "output_type": "execute_result"
    }
   ],
   "source": [
    "df_rating.columns[32]"
   ]
  },
  {
   "cell_type": "code",
   "execution_count": 303,
   "metadata": {},
   "outputs": [],
   "source": [
    "from sklearn.preprocessing import StandardScaler"
   ]
  },
  {
   "cell_type": "code",
   "execution_count": 304,
   "metadata": {},
   "outputs": [],
   "source": [
    "features = df_rating.columns[6:32]\n",
    "\n",
    "# Separating out the features\n",
    "x = df_rating.loc[:, features].values\n",
    "# Separating out the target\n",
    "y = df_rating.loc[:,['Rating']].values\n",
    "# Standardizing the features\n",
    "# x = StandardScaler().fit_transform(x)"
   ]
  },
  {
   "cell_type": "code",
   "execution_count": 305,
   "metadata": {},
   "outputs": [],
   "source": [
    "from sklearn.decomposition import PCA\n",
    "pca = PCA(n_components=5)\n",
    "principalComponents = pca.fit_transform(x)\n",
    "principalDf = pd.DataFrame(data = principalComponents, columns = ['pca1', 'pca2','pca3','pca4','pca5'])"
   ]
  },
  {
   "cell_type": "code",
   "execution_count": 306,
   "metadata": {},
   "outputs": [],
   "source": [
    "finalDf = pd.concat([principalDf, df_rating[['Rating']]], axis = 1)"
   ]
  },
  {
   "cell_type": "code",
   "execution_count": 307,
   "metadata": {},
   "outputs": [
    {
     "data": {
      "image/png": "[encoded data removed]",
      "text/plain": [
       "<Figure size 576x576 with 1 Axes>"
      ]
     },
     "metadata": {
      "needs_background": "light"
     },
     "output_type": "display_data"
    }
   ],
   "source": [
    "fig = plt.figure(figsize = (8,8))\n",
    "ax = fig.add_subplot(1,1,1) \n",
    "ax.set_xlabel('Principal Component 1', fontsize = 15)\n",
    "ax.set_ylabel('Principal Component 2', fontsize = 15)\n",
    "ax.set_title('2 component PCA', fontsize = 20)\n",
    "targets = list(set(df_rating.Rating))\n",
    "colors = ['r', 'g', 'b','y', 'm']\n",
    "for target, color in zip(targets,colors):\n",
    "    indicesToKeep = finalDf['Rating'] == target\n",
    "    ax.scatter(finalDf.loc[indicesToKeep, 'pca1'], \n",
    "               finalDf.loc[indicesToKeep, 'pca2'], \n",
    "               c = color, \n",
    "               s = 50)\n",
    "\n",
    "ax.legend(targets)\n",
    "ax.grid()"
   ]
  },
  {
   "cell_type": "code",
   "execution_count": 308,
   "metadata": {},
   "outputs": [
    {
     "data": {
      "text/plain": [
       "0.9915312978518638"
      ]
     },
     "execution_count": 308,
     "metadata": {},
     "output_type": "execute_result"
    }
   ],
   "source": [
    "sum(pca.explained_variance_ratio_)"
   ]
  },
  {
   "cell_type": "code",
   "execution_count": 309,
   "metadata": {},
   "outputs": [],
   "source": [
    "# Load libraries\n",
    "from sklearn.linear_model import LogisticRegression\n",
    "from sklearn import datasets\n",
    "from sklearn.preprocessing import StandardScaler"
   ]
  },
  {
   "cell_type": "code",
   "execution_count": 311,
   "metadata": {},
   "outputs": [],
   "source": [
    "X_train, X_test, y_train, y_test = train_test_split(X, y, test_size=0.2, random_state=42)"
   ]
  },
  {
   "cell_type": "code",
   "execution_count": null,
   "metadata": {},
   "outputs": [],
   "source": []
  },
  {
   "cell_type": "code",
   "execution_count": null,
   "metadata": {},
   "outputs": [],
   "source": []
  },
  {
   "cell_type": "code",
   "execution_count": null,
   "metadata": {},
   "outputs": [],
   "source": []
  },
  {
   "cell_type": "code",
   "execution_count": null,
   "metadata": {},
   "outputs": [],
   "source": []
  },
  {
   "cell_type": "code",
   "execution_count": null,
   "metadata": {},
   "outputs": [],
   "source": []
  },
  {
   "cell_type": "code",
   "execution_count": null,
   "metadata": {},
   "outputs": [],
   "source": []
  },
  {
   "cell_type": "code",
   "execution_count": null,
   "metadata": {},
   "outputs": [],
   "source": []
  },
  {
   "cell_type": "markdown",
   "metadata": {},
   "source": [
    "# XGBOOST"
   ]
  },
  {
   "cell_type": "code",
   "execution_count": 687,
   "metadata": {},
   "outputs": [
    {
     "data": {
      "text/plain": [
       "671"
      ]
     },
     "execution_count": 687,
     "metadata": {},
     "output_type": "execute_result"
    }
   ],
   "source": [
    "# Separate majority and minority classes\n",
    "df_A = df_rating[df_rating.Rating == 'AA']\n",
    "df_AA = df_rating[df_rating.Rating == 'AA']\n",
    "df_B = df_rating[df_rating.Rating == 'B']\n",
    "df_BB = df_rating[df_rating.Rating == 'BB']\n",
    "df_BBB = df_rating[df_rating.Rating == 'BBB']\n",
    "df_CCC = df_rating[df_rating.Rating == 'CCC']\n",
    "df_upsampled = pd.concat([df_A, df_AA, df_AAA, df_B, df_BB, df_BBB, df_CCC])\n",
    "\n",
    "len(df_BBB)"
   ]
  },
  {
   "cell_type": "code",
   "execution_count": 688,
   "metadata": {},
   "outputs": [],
   "source": [
    "X, y = df_upsampled.iloc[:,6:32], df_upsampled.iloc[:,0]\n",
    "X_train, X_test, y_train, y_test = train_test_split(X, y, test_size=0.2, random_state=42)"
   ]
  },
  {
   "cell_type": "code",
   "execution_count": 689,
   "metadata": {},
   "outputs": [],
   "source": [
    "from sklearn.utils import resample\n",
    "\n",
    "# Upsample minority class\n",
    "df_A = resample(df_A, replace=True, n_samples=671, random_state=123) \n",
    "df_AA = resample(df_AA, replace=True, n_samples=671, random_state=123) \n",
    "df_AAA = resample(df_AAA, replace=True, n_samples=671, random_state=123) \n",
    "df_B = resample(df_B, replace=True, n_samples=671, random_state=123) \n",
    "df_BB = resample(df_BB, replace=True, n_samples=671, random_state=123) \n",
    "df_C = resample(df_C, replace=True, n_samples=671, random_state=123) \n",
    "df_CC = resample(df_CC, replace=True, n_samples=671, random_state=123) \n",
    "df_CCC = resample(df_CCC, replace=True, n_samples=671, random_state=123) \n",
    "\n",
    "# Combine majority class with upsampled minority class\n",
    "df_upsampled = pd.concat([df_A, df_AA, df_AAA, df_B, df_BB, df_BBB, df_CCC])\n"
   ]
  },
  {
   "cell_type": "code",
   "execution_count": 690,
   "metadata": {},
   "outputs": [],
   "source": [
    "from sklearn.datasets import make_classification\n",
    "from sklearn.ensemble import GradientBoostingClassifier\n",
    "from sklearn.model_selection import train_test_split"
   ]
  },
  {
   "cell_type": "code",
   "execution_count": 691,
   "metadata": {},
   "outputs": [],
   "source": [
    "import numpy as np\n",
    "from sklearn.model_selection import train_test_split\n",
    "from sklearn.model_selection import StratifiedShuffleSplit\n",
    "\n",
    "X, y = df_upsampled.iloc[:,6:32], df_upsampled.iloc[:,0]"
   ]
  },
  {
   "cell_type": "code",
   "execution_count": 692,
   "metadata": {},
   "outputs": [],
   "source": [
    "X_train, _, y_train, _ = train_test_split(X, y, test_size=0.2, random_state=42)"
   ]
  },
  {
   "cell_type": "code",
   "execution_count": 693,
   "metadata": {},
   "outputs": [
    {
     "data": {
      "text/plain": [
       "0.8659217877094972"
      ]
     },
     "execution_count": 693,
     "metadata": {},
     "output_type": "execute_result"
    }
   ],
   "source": [
    "clf = GradientBoostingClassifier(random_state=0)\n",
    "clf.fit(X_train, y_train)\n",
    "y_pred = clf.predict(X_test)\n",
    "clf.score(X_test, y_test)"
   ]
  },
  {
   "cell_type": "code",
   "execution_count": 694,
   "metadata": {},
   "outputs": [
    {
     "data": {
      "text/plain": [
       "array([[ 61,   2,   0,   0,   2,  10,   0],\n",
       "       [  0,  29,   0,   0,   0,   0,   0],\n",
       "       [  0,   0, 129,   0,   0,   0,   0],\n",
       "       [  0,   0,   0,  54,   4,   3,   0],\n",
       "       [  3,   3,   0,  10,  68,   9,   0],\n",
       "       [ 11,   0,   0,   5,   9, 112,   1],\n",
       "       [  0,   0,   0,   0,   0,   0,  12]], dtype=int64)"
      ]
     },
     "execution_count": 694,
     "metadata": {},
     "output_type": "execute_result"
    }
   ],
   "source": [
    "from sklearn.metrics import confusion_matrix\n",
    "confusion_matrix(y_test, y_pred)"
   ]
  },
  {
   "cell_type": "markdown",
   "metadata": {},
   "source": [
    "# Support Vector Machine"
   ]
  },
  {
   "cell_type": "code",
   "execution_count": 695,
   "metadata": {
    "scrolled": true
   },
   "outputs": [],
   "source": [
    "from sklearn import svm\n",
    "clf = svm.SVC(kernel='rbf', gamma= 2, C = 5)\n",
    "clf = clf.fit(X_train, y_train)"
   ]
  },
  {
   "cell_type": "code",
   "execution_count": 696,
   "metadata": {},
   "outputs": [
    {
     "name": "stdout",
     "output_type": "stream",
     "text": [
      "Accuracy: 0.8994413407821229\n"
     ]
    }
   ],
   "source": [
    "y_pred = clf.predict(X_test)\n",
    "print(\"Accuracy:\",metrics.accuracy_score(y_test, y_pred))"
   ]
  },
  {
   "cell_type": "markdown",
   "metadata": {},
   "source": [
    "# NN"
   ]
  },
  {
   "cell_type": "code",
   "execution_count": 697,
   "metadata": {},
   "outputs": [
    {
     "name": "stdout",
     "output_type": "stream",
     "text": [
      "Accuracy: 0.4208566108007449\n"
     ]
    }
   ],
   "source": [
    "from sklearn.neural_network import MLPClassifier\n",
    "clf = MLPClassifier(hidden_layer_sizes=(5,5,5), activation='logistic', solver='adam', max_iter=500).fit(X_train, y_train)\n",
    "clf = clf.fit(X_train, y_train)\n",
    "y_pred = clf.predict(X_test)\n",
    "print(\"Accuracy:\",metrics.accuracy_score(y_test, y_pred))"
   ]
  },
  {
   "cell_type": "markdown",
   "metadata": {},
   "source": [
    "# Naive Bayes"
   ]
  },
  {
   "cell_type": "code",
   "execution_count": 698,
   "metadata": {},
   "outputs": [
    {
     "name": "stdout",
     "output_type": "stream",
     "text": [
      "Accuracy: 0.25139664804469275\n"
     ]
    }
   ],
   "source": [
    "from sklearn.naive_bayes import GaussianNB\n",
    "# X_train, X_test, y_train, y_test = train_test_split(X, y, test_size=0.2, random_state=0)\n",
    "gnb = GaussianNB()\n",
    "y_pred = gnb.fit(X_train, y_train).predict(X_test)\n",
    "print(\"Accuracy:\",metrics.accuracy_score(y_test, y_pred))"
   ]
  },
  {
   "cell_type": "markdown",
   "metadata": {},
   "source": [
    "# KNN"
   ]
  },
  {
   "cell_type": "code",
   "execution_count": 699,
   "metadata": {},
   "outputs": [],
   "source": [
    "from sklearn.neighbors import KNeighborsClassifier\n",
    "neigh = KNeighborsClassifier(n_neighbors=15)\n",
    "neigh.fit(X_train,y_train)\n",
    "y_pred = neigh.predict(X_test)"
   ]
  },
  {
   "cell_type": "code",
   "execution_count": 700,
   "metadata": {},
   "outputs": [
    {
     "name": "stdout",
     "output_type": "stream",
     "text": [
      "Accuracy: 0.5493482309124768\n"
     ]
    }
   ],
   "source": [
    "#Import scikit-learn metrics module for accuracy calculation\n",
    "from sklearn import metrics\n",
    "# Model Accuracy, how often is the classifier correct?\n",
    "print(\"Accuracy:\",metrics.accuracy_score(y_test, y_pred))"
   ]
  },
  {
   "cell_type": "markdown",
   "metadata": {},
   "source": [
    "# Logistic Regression"
   ]
  },
  {
   "cell_type": "code",
   "execution_count": 701,
   "metadata": {},
   "outputs": [
    {
     "name": "stderr",
     "output_type": "stream",
     "text": [
      "C:\\Users\\hp\\Anaconda3\\lib\\site-packages\\sklearn\\utils\\optimize.py:203: ConvergenceWarning: newton-cg failed to converge. Increase the number of iterations.\n",
      "  \"number of iterations.\", ConvergenceWarning)\n"
     ]
    }
   ],
   "source": [
    "from sklearn.linear_model import LogisticRegression\n",
    "# X_train, y_test = load_iris(return_X_y=True)\n",
    "clf = LogisticRegression(random_state=0 , multi_class='multinomial', solver='newton-cg')\n",
    "model = clf.fit(X_train, y_train)"
   ]
  },
  {
   "cell_type": "code",
   "execution_count": 702,
   "metadata": {},
   "outputs": [],
   "source": [
    "y_pred= model.predict(X_test)"
   ]
  },
  {
   "cell_type": "code",
   "execution_count": 703,
   "metadata": {},
   "outputs": [
    {
     "name": "stdout",
     "output_type": "stream",
     "text": [
      "Accuracy: 0.4338919925512104\n"
     ]
    }
   ],
   "source": [
    "#Import scikit-learn metrics module for accuracy calculation\n",
    "from sklearn import metrics\n",
    "# Model Accuracy, how often is the classifier correct?\n",
    "print(\"Accuracy:\",metrics.accuracy_score(y_test, y_pred))"
   ]
  },
  {
   "cell_type": "markdown",
   "metadata": {},
   "source": [
    "# Random Forest"
   ]
  },
  {
   "cell_type": "code",
   "execution_count": 704,
   "metadata": {},
   "outputs": [],
   "source": [
    "#Import Random Forest Model\n",
    "from sklearn.ensemble import RandomForestClassifier\n",
    "\n",
    "#Create a Gaussian Classifier\n",
    "clf=RandomForestClassifier(n_estimators=100)\n",
    "\n",
    "#Train the model using the training sets y_pred=clf.predict(X_test)\n",
    "clf.fit(X_train,y_train)\n",
    "\n",
    "y_pred=clf.predict(X_test)"
   ]
  },
  {
   "cell_type": "code",
   "execution_count": 705,
   "metadata": {
    "scrolled": true
   },
   "outputs": [
    {
     "name": "stdout",
     "output_type": "stream",
     "text": [
      "Accuracy: 0.9329608938547486\n"
     ]
    }
   ],
   "source": [
    "#Import scikit-learn metrics module for accuracy calculation\n",
    "from sklearn import metrics\n",
    "# Model Accuracy, how often is the classifier correct?\n",
    "print(\"Accuracy:\",metrics.accuracy_score(y_test, y_pred))"
   ]
  },
  {
   "cell_type": "markdown",
   "metadata": {},
   "source": [
    "### LDA"
   ]
  },
  {
   "cell_type": "code",
   "execution_count": 706,
   "metadata": {},
   "outputs": [
    {
     "data": {
      "text/plain": [
       "LinearDiscriminantAnalysis(n_components=None, priors=None, shrinkage=None,\n",
       "                           solver='svd', store_covariance=False, tol=0.0001)"
      ]
     },
     "execution_count": 706,
     "metadata": {},
     "output_type": "execute_result"
    }
   ],
   "source": [
    "import numpy as np\n",
    "from sklearn.discriminant_analysis import LinearDiscriminantAnalysis\n",
    "clf = LinearDiscriminantAnalysis()\n",
    "clf.fit(X_train,y_train)"
   ]
  },
  {
   "cell_type": "code",
   "execution_count": 707,
   "metadata": {},
   "outputs": [],
   "source": [
    "y_pred=clf.predict(X_test)"
   ]
  },
  {
   "cell_type": "code",
   "execution_count": 708,
   "metadata": {
    "scrolled": true
   },
   "outputs": [
    {
     "name": "stdout",
     "output_type": "stream",
     "text": [
      "Accuracy: 0.4376163873370577\n"
     ]
    }
   ],
   "source": [
    "#Import scikit-learn metrics module for accuracy calculation\n",
    "from sklearn import metrics\n",
    "# Model Accuracy, how often is the classifier correct?\n",
    "print(\"Accuracy:\",metrics.accuracy_score(y_test, y_pred))"
   ]
  },
  {
   "cell_type": "markdown",
   "metadata": {},
   "source": [
    "# QDA"
   ]
  },
  {
   "cell_type": "code",
   "execution_count": 709,
   "metadata": {},
   "outputs": [
    {
     "name": "stderr",
     "output_type": "stream",
     "text": [
      "C:\\Users\\hp\\Anaconda3\\lib\\site-packages\\sklearn\\discriminant_analysis.py:693: UserWarning: Variables are collinear\n",
      "  warnings.warn(\"Variables are collinear\")\n"
     ]
    }
   ],
   "source": [
    "from sklearn.discriminant_analysis import QuadraticDiscriminantAnalysis\n",
    "clf = QuadraticDiscriminantAnalysis()\n",
    "clf.fit(X_train,y_train)\n",
    "y_pred=clf.predict(X_test)"
   ]
  },
  {
   "cell_type": "code",
   "execution_count": 710,
   "metadata": {},
   "outputs": [
    {
     "name": "stdout",
     "output_type": "stream",
     "text": [
      "Accuracy: 0.3929236499068901\n"
     ]
    }
   ],
   "source": [
    "#Import scikit-learn metrics module for accuracy calculation\n",
    "from sklearn import metrics\n",
    "# Model Accuracy, how often is the classifier correct?\n",
    "print(\"Accuracy:\",metrics.accuracy_score(y_test, y_pred))"
   ]
  },
  {
   "cell_type": "code",
   "execution_count": null,
   "metadata": {},
   "outputs": [],
   "source": []
  }
 ],
 "metadata": {
  "kernelspec": {
   "display_name": "Python 3",
   "language": "python",
   "name": "python3"
  },
  "language_info": {
   "codemirror_mode": {
    "name": "ipython",
    "version": 3
   },
   "file_extension": ".py",
   "mimetype": "text/x-python",
   "name": "python",
   "nbconvert_exporter": "python",
   "pygments_lexer": "ipython3",
   "version": "3.7.4"
  }
 },
 "nbformat": 4,
 "nbformat_minor": 2
}
