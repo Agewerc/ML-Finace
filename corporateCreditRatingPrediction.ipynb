{
 "cells": [
  {
   "cell_type": "markdown",
   "metadata": {},
   "source": [
    "# Corporate Credit Rating Forecasting \n",
    "\n",
    "\n",
    "Libraries used:\n",
    "- car\n",
    "- ggplot2\n",
    "- grid\n",
    "- gridExtra\n",
    "- RColorBrewer\n",
    "- reshape2\n",
    "- scales\n",
    "- stats\n",
    "\n",
    "## Introduction\n",
    "\n",
    "This notebook contains the results of the data analysis performed on a set of house sales data from a residential real estate market. The aim of the data analysis is to build a linear regression model from the real estate transaction data that can be used to predict the sales price of a house.\n",
    "\n",
    "The first section section of the notebook shows the exploratory data analysis (EDA) performed to explore and understand the data. It looks at each attribute (variable) in the data to understand the nature and distribution of the attribute values. It also examines the correlation between the variables through visual analysis. A summary at the end highlights the key findings of the EDA.\n",
    "\n",
    "The second section shows the development of the linear regression model. It details the process used to build the model and shows the model at key points in the development process. The final model is then presented along with an analysis and interpretation of the model. This section concludes with the results of using the model to predict house prices for the data in the development dataset.\n",
    "\n",
    "The final section provides the details of the model to enable it to be rebuilt. In addition to the model itself, it includes the functions used to transform the data and run the model.\n",
    "\n",
    "Two datasets were provided for the assignment - training.csv and dev.csv. The exploratory data analysis and the model building were done using the training.csv dataset; the dev.csv dataset was only used to test the generated model"
   ]
  },
  {
   "cell_type": "code",
   "execution_count": null,
   "metadata": {},
   "outputs": [],
   "source": []
  },
  {
   "cell_type": "code",
   "execution_count": null,
   "metadata": {},
   "outputs": [],
   "source": []
  },
  {
   "cell_type": "code",
   "execution_count": null,
   "metadata": {},
   "outputs": [],
   "source": []
  },
  {
   "cell_type": "code",
   "execution_count": null,
   "metadata": {},
   "outputs": [],
   "source": []
  },
  {
   "cell_type": "code",
   "execution_count": null,
   "metadata": {},
   "outputs": [],
   "source": []
  },
  {
   "cell_type": "code",
   "execution_count": null,
   "metadata": {},
   "outputs": [],
   "source": []
  },
  {
   "cell_type": "code",
   "execution_count": null,
   "metadata": {},
   "outputs": [],
   "source": []
  },
  {
   "cell_type": "code",
   "execution_count": null,
   "metadata": {},
   "outputs": [],
   "source": []
  },
  {
   "cell_type": "markdown",
   "metadata": {},
   "source": [
    "#### Import Libraries"
   ]
  },
  {
   "cell_type": "code",
   "execution_count": 621,
   "metadata": {},
   "outputs": [],
   "source": [
    "import pandas as pd\n",
    "import matplotlib.pyplot as plt\n",
    "import re\n",
    "import numpy as np"
   ]
  },
  {
   "cell_type": "markdown",
   "metadata": {},
   "source": [
    "## Data Exploration"
   ]
  },
  {
   "cell_type": "code",
   "execution_count": 622,
   "metadata": {},
   "outputs": [],
   "source": [
    "df_rating = pd.read_csv('data/rating_dataframe.csv')"
   ]
  },
  {
   "cell_type": "code",
   "execution_count": 623,
   "metadata": {
    "scrolled": true
   },
   "outputs": [
    {
     "data": {
      "text/plain": [
       "<matplotlib.axes._subplots.AxesSubplot at 0x1b590c2b1c8>"
      ]
     },
     "execution_count": 623,
     "metadata": {},
     "output_type": "execute_result"
    },
    {
     "data": {
      "image/png": "[encoded data removed]",
      "text/plain": [
       "<Figure size 432x288 with 1 Axes>"
      ]
     },
     "metadata": {
      "needs_background": "light"
     },
     "output_type": "display_data"
    }
   ],
   "source": [
    "df_rating_summary = df_rating.groupby('Rating').count().reset_index()\n",
    "df_rating_summary.plot.bar(x='Rating', y = 'Name')"
   ]
  },
  {
   "cell_type": "markdown",
   "metadata": {},
   "source": [
    "It is better to join all the A's together. "
   ]
  },
  {
   "cell_type": "code",
   "execution_count": 285,
   "metadata": {},
   "outputs": [],
   "source": [
    "df_rating.loc[df_rating['Rating'] == 'AA','Rating'] = 'A' \n",
    "df_rating.loc[df_rating['Rating'] == 'AAA','Rating'] = 'A' \n",
    "df_rating.loc[df_rating['Rating'] == 'CC','Rating'] = 'C' \n",
    "df_rating.loc[df_rating['Rating'] == 'CCC','Rating'] = 'C' \n",
    "df_rating.loc[df_rating['Rating'] == 'D','Rating'] = 'C'"
   ]
  },
  {
   "cell_type": "markdown",
   "metadata": {},
   "source": [
    "### EDA"
   ]
  },
  {
   "cell_type": "code",
   "execution_count": 522,
   "metadata": {
    "scrolled": true
   },
   "outputs": [
    {
     "data": {
      "text/html": [
       "<div>\n",
       "<style scoped>\n",
       "    .dataframe tbody tr th:only-of-type {\n",
       "        vertical-align: middle;\n",
       "    }\n",
       "\n",
       "    .dataframe tbody tr th {\n",
       "        vertical-align: top;\n",
       "    }\n",
       "\n",
       "    .dataframe thead th {\n",
       "        text-align: right;\n",
       "    }\n",
       "</style>\n",
       "<table border=\"1\" class=\"dataframe\">\n",
       "  <thead>\n",
       "    <tr style=\"text-align: right;\">\n",
       "      <th></th>\n",
       "      <th>currentRatio</th>\n",
       "      <th>quickRatio</th>\n",
       "      <th>cashRatio</th>\n",
       "      <th>daysOfSalesOutstanding</th>\n",
       "      <th>netProfitMargin</th>\n",
       "      <th>pretaxProfitMargin</th>\n",
       "      <th>grossProfitMargin</th>\n",
       "      <th>operatingProfitMargin</th>\n",
       "      <th>returnOnAssets</th>\n",
       "      <th>returnOnCapitalEmployed</th>\n",
       "      <th>...</th>\n",
       "      <th>freeCashFlowOperatingCashFlowRatio</th>\n",
       "      <th>freeCashFlowPerShare</th>\n",
       "      <th>cashPerShare</th>\n",
       "      <th>companyEquityMultiplier</th>\n",
       "      <th>ebitPerRevenue</th>\n",
       "      <th>enterpriseValueMultiple</th>\n",
       "      <th>operatingCashFlowPerShare</th>\n",
       "      <th>operatingCashFlowSalesRatio</th>\n",
       "      <th>payablesTurnover</th>\n",
       "      <th>payoutRatio</th>\n",
       "    </tr>\n",
       "  </thead>\n",
       "  <tbody>\n",
       "    <tr>\n",
       "      <td>count</td>\n",
       "      <td>2029.000000</td>\n",
       "      <td>2029.000000</td>\n",
       "      <td>2029.000000</td>\n",
       "      <td>2029.000000</td>\n",
       "      <td>2029.000000</td>\n",
       "      <td>2029.000000</td>\n",
       "      <td>2029.000000</td>\n",
       "      <td>2029.000000</td>\n",
       "      <td>2029.000000</td>\n",
       "      <td>2029.000000</td>\n",
       "      <td>...</td>\n",
       "      <td>2029.000000</td>\n",
       "      <td>2.029000e+03</td>\n",
       "      <td>2.029000e+03</td>\n",
       "      <td>2029.000000</td>\n",
       "      <td>2029.000000</td>\n",
       "      <td>2029.000000</td>\n",
       "      <td>2.029000e+03</td>\n",
       "      <td>2029.000000</td>\n",
       "      <td>2029.000000</td>\n",
       "      <td>2029.000000</td>\n",
       "    </tr>\n",
       "    <tr>\n",
       "      <td>mean</td>\n",
       "      <td>3.529607</td>\n",
       "      <td>2.653986</td>\n",
       "      <td>0.667364</td>\n",
       "      <td>333.795606</td>\n",
       "      <td>0.278447</td>\n",
       "      <td>0.431483</td>\n",
       "      <td>0.497968</td>\n",
       "      <td>0.587322</td>\n",
       "      <td>-37.517928</td>\n",
       "      <td>-73.974193</td>\n",
       "      <td>...</td>\n",
       "      <td>0.409550</td>\n",
       "      <td>5.094719e+03</td>\n",
       "      <td>4.227549e+03</td>\n",
       "      <td>3.323579</td>\n",
       "      <td>0.437454</td>\n",
       "      <td>48.287985</td>\n",
       "      <td>6.515123e+03</td>\n",
       "      <td>1.447653</td>\n",
       "      <td>38.002718</td>\n",
       "      <td>-0.085374</td>\n",
       "    </tr>\n",
       "    <tr>\n",
       "      <td>std</td>\n",
       "      <td>44.052361</td>\n",
       "      <td>32.944817</td>\n",
       "      <td>3.583943</td>\n",
       "      <td>4447.839583</td>\n",
       "      <td>6.064134</td>\n",
       "      <td>8.984982</td>\n",
       "      <td>0.525307</td>\n",
       "      <td>11.224622</td>\n",
       "      <td>1166.172220</td>\n",
       "      <td>2350.275719</td>\n",
       "      <td>...</td>\n",
       "      <td>3.796488</td>\n",
       "      <td>1.469156e+05</td>\n",
       "      <td>1.224000e+05</td>\n",
       "      <td>87.529866</td>\n",
       "      <td>8.984299</td>\n",
       "      <td>529.118961</td>\n",
       "      <td>1.775290e+05</td>\n",
       "      <td>19.483294</td>\n",
       "      <td>758.923588</td>\n",
       "      <td>40.443603</td>\n",
       "    </tr>\n",
       "    <tr>\n",
       "      <td>min</td>\n",
       "      <td>-0.932005</td>\n",
       "      <td>-1.893266</td>\n",
       "      <td>-0.192736</td>\n",
       "      <td>-811.845623</td>\n",
       "      <td>-101.845815</td>\n",
       "      <td>-124.343612</td>\n",
       "      <td>-14.800817</td>\n",
       "      <td>-124.343612</td>\n",
       "      <td>-40213.178290</td>\n",
       "      <td>-87162.162160</td>\n",
       "      <td>...</td>\n",
       "      <td>-120.916010</td>\n",
       "      <td>-4.912742e+03</td>\n",
       "      <td>-1.915035e+01</td>\n",
       "      <td>-2555.419643</td>\n",
       "      <td>-124.343612</td>\n",
       "      <td>-3749.921337</td>\n",
       "      <td>-1.195049e+04</td>\n",
       "      <td>-4.461837</td>\n",
       "      <td>-76.662850</td>\n",
       "      <td>-1735.047170</td>\n",
       "    </tr>\n",
       "    <tr>\n",
       "      <td>25%</td>\n",
       "      <td>1.071930</td>\n",
       "      <td>0.602825</td>\n",
       "      <td>0.130630</td>\n",
       "      <td>22.905093</td>\n",
       "      <td>0.021006</td>\n",
       "      <td>0.025649</td>\n",
       "      <td>0.233127</td>\n",
       "      <td>0.044610</td>\n",
       "      <td>0.019176</td>\n",
       "      <td>0.028112</td>\n",
       "      <td>...</td>\n",
       "      <td>0.271478</td>\n",
       "      <td>4.119924e-01</td>\n",
       "      <td>1.566038e+00</td>\n",
       "      <td>2.046822</td>\n",
       "      <td>0.028057</td>\n",
       "      <td>6.238066</td>\n",
       "      <td>2.356735e+00</td>\n",
       "      <td>0.073886</td>\n",
       "      <td>2.205912</td>\n",
       "      <td>0.000000</td>\n",
       "    </tr>\n",
       "    <tr>\n",
       "      <td>50%</td>\n",
       "      <td>1.493338</td>\n",
       "      <td>0.985679</td>\n",
       "      <td>0.297493</td>\n",
       "      <td>42.374120</td>\n",
       "      <td>0.064753</td>\n",
       "      <td>0.084965</td>\n",
       "      <td>0.414774</td>\n",
       "      <td>0.107895</td>\n",
       "      <td>0.045608</td>\n",
       "      <td>0.074421</td>\n",
       "      <td>...</td>\n",
       "      <td>0.644529</td>\n",
       "      <td>2.131742e+00</td>\n",
       "      <td>3.686513e+00</td>\n",
       "      <td>2.652456</td>\n",
       "      <td>0.087322</td>\n",
       "      <td>9.274398</td>\n",
       "      <td>4.352584e+00</td>\n",
       "      <td>0.133050</td>\n",
       "      <td>5.759722</td>\n",
       "      <td>0.212845</td>\n",
       "    </tr>\n",
       "    <tr>\n",
       "      <td>75%</td>\n",
       "      <td>2.166891</td>\n",
       "      <td>1.453820</td>\n",
       "      <td>0.624906</td>\n",
       "      <td>59.323563</td>\n",
       "      <td>0.114807</td>\n",
       "      <td>0.144763</td>\n",
       "      <td>0.849693</td>\n",
       "      <td>0.176181</td>\n",
       "      <td>0.077468</td>\n",
       "      <td>0.135036</td>\n",
       "      <td>...</td>\n",
       "      <td>0.836949</td>\n",
       "      <td>4.230253e+00</td>\n",
       "      <td>8.086152e+00</td>\n",
       "      <td>3.658331</td>\n",
       "      <td>0.149355</td>\n",
       "      <td>12.911759</td>\n",
       "      <td>7.319759e+00</td>\n",
       "      <td>0.240894</td>\n",
       "      <td>9.480892</td>\n",
       "      <td>0.465593</td>\n",
       "    </tr>\n",
       "    <tr>\n",
       "      <td>max</td>\n",
       "      <td>1725.505005</td>\n",
       "      <td>1139.541703</td>\n",
       "      <td>125.917417</td>\n",
       "      <td>115961.637400</td>\n",
       "      <td>198.517873</td>\n",
       "      <td>309.694856</td>\n",
       "      <td>2.702533</td>\n",
       "      <td>410.182214</td>\n",
       "      <td>0.487826</td>\n",
       "      <td>2.439504</td>\n",
       "      <td>...</td>\n",
       "      <td>34.594086</td>\n",
       "      <td>5.753380e+06</td>\n",
       "      <td>4.786803e+06</td>\n",
       "      <td>2562.871795</td>\n",
       "      <td>309.694856</td>\n",
       "      <td>11153.607090</td>\n",
       "      <td>6.439270e+06</td>\n",
       "      <td>688.526591</td>\n",
       "      <td>20314.880400</td>\n",
       "      <td>412.136640</td>\n",
       "    </tr>\n",
       "  </tbody>\n",
       "</table>\n",
       "<p>8 rows × 26 columns</p>\n",
       "</div>"
      ],
      "text/plain": [
       "       currentRatio   quickRatio    cashRatio  daysOfSalesOutstanding  \\\n",
       "count   2029.000000  2029.000000  2029.000000             2029.000000   \n",
       "mean       3.529607     2.653986     0.667364              333.795606   \n",
       "std       44.052361    32.944817     3.583943             4447.839583   \n",
       "min       -0.932005    -1.893266    -0.192736             -811.845623   \n",
       "25%        1.071930     0.602825     0.130630               22.905093   \n",
       "50%        1.493338     0.985679     0.297493               42.374120   \n",
       "75%        2.166891     1.453820     0.624906               59.323563   \n",
       "max     1725.505005  1139.541703   125.917417           115961.637400   \n",
       "\n",
       "       netProfitMargin  pretaxProfitMargin  grossProfitMargin  \\\n",
       "count      2029.000000         2029.000000        2029.000000   \n",
       "mean          0.278447            0.431483           0.497968   \n",
       "std           6.064134            8.984982           0.525307   \n",
       "min        -101.845815         -124.343612         -14.800817   \n",
       "25%           0.021006            0.025649           0.233127   \n",
       "50%           0.064753            0.084965           0.414774   \n",
       "75%           0.114807            0.144763           0.849693   \n",
       "max         198.517873          309.694856           2.702533   \n",
       "\n",
       "       operatingProfitMargin  returnOnAssets  returnOnCapitalEmployed  ...  \\\n",
       "count            2029.000000     2029.000000              2029.000000  ...   \n",
       "mean                0.587322      -37.517928               -73.974193  ...   \n",
       "std                11.224622     1166.172220              2350.275719  ...   \n",
       "min              -124.343612   -40213.178290            -87162.162160  ...   \n",
       "25%                 0.044610        0.019176                 0.028112  ...   \n",
       "50%                 0.107895        0.045608                 0.074421  ...   \n",
       "75%                 0.176181        0.077468                 0.135036  ...   \n",
       "max               410.182214        0.487826                 2.439504  ...   \n",
       "\n",
       "       freeCashFlowOperatingCashFlowRatio  freeCashFlowPerShare  cashPerShare  \\\n",
       "count                         2029.000000          2.029000e+03  2.029000e+03   \n",
       "mean                             0.409550          5.094719e+03  4.227549e+03   \n",
       "std                              3.796488          1.469156e+05  1.224000e+05   \n",
       "min                           -120.916010         -4.912742e+03 -1.915035e+01   \n",
       "25%                              0.271478          4.119924e-01  1.566038e+00   \n",
       "50%                              0.644529          2.131742e+00  3.686513e+00   \n",
       "75%                              0.836949          4.230253e+00  8.086152e+00   \n",
       "max                             34.594086          5.753380e+06  4.786803e+06   \n",
       "\n",
       "       companyEquityMultiplier  ebitPerRevenue  enterpriseValueMultiple  \\\n",
       "count              2029.000000     2029.000000              2029.000000   \n",
       "mean                  3.323579        0.437454                48.287985   \n",
       "std                  87.529866        8.984299               529.118961   \n",
       "min               -2555.419643     -124.343612             -3749.921337   \n",
       "25%                   2.046822        0.028057                 6.238066   \n",
       "50%                   2.652456        0.087322                 9.274398   \n",
       "75%                   3.658331        0.149355                12.911759   \n",
       "max                2562.871795      309.694856             11153.607090   \n",
       "\n",
       "       operatingCashFlowPerShare  operatingCashFlowSalesRatio  \\\n",
       "count               2.029000e+03                  2029.000000   \n",
       "mean                6.515123e+03                     1.447653   \n",
       "std                 1.775290e+05                    19.483294   \n",
       "min                -1.195049e+04                    -4.461837   \n",
       "25%                 2.356735e+00                     0.073886   \n",
       "50%                 4.352584e+00                     0.133050   \n",
       "75%                 7.319759e+00                     0.240894   \n",
       "max                 6.439270e+06                   688.526591   \n",
       "\n",
       "       payablesTurnover  payoutRatio  \n",
       "count       2029.000000  2029.000000  \n",
       "mean          38.002718    -0.085374  \n",
       "std          758.923588    40.443603  \n",
       "min          -76.662850 -1735.047170  \n",
       "25%            2.205912     0.000000  \n",
       "50%            5.759722     0.212845  \n",
       "75%            9.480892     0.465593  \n",
       "max        20314.880400   412.136640  \n",
       "\n",
       "[8 rows x 26 columns]"
      ]
     },
     "execution_count": 522,
     "metadata": {},
     "output_type": "execute_result"
    }
   ],
   "source": [
    "df_rating.describe()"
   ]
  },
  {
   "cell_type": "code",
   "execution_count": 523,
   "metadata": {},
   "outputs": [
    {
     "data": {
      "text/plain": [
       "currentRatio                          34.338889\n",
       "quickRatio                            30.925641\n",
       "cashRatio                             27.098772\n",
       "daysOfSalesOutstanding                20.399567\n",
       "netProfitMargin                       17.619910\n",
       "pretaxProfitMargin                    22.096334\n",
       "grossProfitMargin                    -14.203446\n",
       "operatingProfitMargin                 26.493892\n",
       "returnOnAssets                       -32.112571\n",
       "returnOnCapitalEmployed              -33.318531\n",
       "returnOnEquity                        31.702500\n",
       "assetTurnover                         26.020347\n",
       "fixedAssetTurnover                    26.120457\n",
       "debtEquityRatio                        0.268993\n",
       "debtRatio                              1.285251\n",
       "effectiveTaxRate                      32.308742\n",
       "freeCashFlowOperatingCashFlowRatio   -22.913129\n",
       "freeCashFlowPerShare                  33.677207\n",
       "cashPerShare                          34.025861\n",
       "companyEquityMultiplier                0.269093\n",
       "ebitPerRevenue                        22.099452\n",
       "enterpriseValueMultiple               13.948016\n",
       "operatingCashFlowPerShare             30.352915\n",
       "operatingCashFlowSalesRatio           25.450452\n",
       "payablesTurnover                      25.919588\n",
       "payoutRatio                          -38.225242\n",
       "dtype: float64"
      ]
     },
     "execution_count": 523,
     "metadata": {},
     "output_type": "execute_result"
    }
   ],
   "source": [
    "skewValue = df_rating.skew(axis=0)\n",
    "skewValue"
   ]
  },
  {
   "cell_type": "code",
   "execution_count": 524,
   "metadata": {},
   "outputs": [
    {
     "data": {
      "image/png": "[encoded data removed]",
      "text/plain": [
       "<Figure size 648x360 with 8 Axes>"
      ]
     },
     "metadata": {
      "needs_background": "light"
     },
     "output_type": "display_data"
    }
   ],
   "source": [
    "figure, axes = plt.subplots(nrows=2, ncols=4, figsize=(9,5))\n",
    "axes[0, 0].hist(df_rating.currentRatio)\n",
    "axes[0, 1].hist(df_rating.returnOnEquity)\n",
    "axes[1, 0].hist(df_rating.freeCashFlowPerShare)\n",
    "axes[1, 1].hist(df_rating.payablesTurnover)\n",
    "\n",
    "axes[0, 2].boxplot(df_rating.currentRatio)\n",
    "axes[1, 2].boxplot(df_rating.returnOnEquity)\n",
    "axes[0, 3].boxplot(df_rating.freeCashFlowPerShare)\n",
    "axes[1, 3].boxplot(df_rating.payablesTurnover)\n",
    "\n",
    "figure.tight_layout()"
   ]
  },
  {
   "cell_type": "markdown",
   "metadata": {},
   "source": [
    "#### Log conversion"
   ]
  },
  {
   "cell_type": "code",
   "execution_count": 525,
   "metadata": {},
   "outputs": [],
   "source": [
    "from sklearn import preprocessing"
   ]
  },
  {
   "cell_type": "code",
   "execution_count": 526,
   "metadata": {},
   "outputs": [],
   "source": [
    "columns = df_rating.columns[6:]"
   ]
  },
  {
   "cell_type": "code",
   "execution_count": 527,
   "metadata": {},
   "outputs": [],
   "source": [
    "min_max_scaler = preprocessing.MinMaxScaler()\n",
    "\n",
    "for c in columns:\n",
    "    \n",
    "    float_array = df_rating[[c]].copy().values.astype(float)\n",
    "    min_max_scaler = preprocessing.MinMaxScaler()\n",
    "    scaled_array = min_max_scaler.fit_transform(float_array) + 0.1\n",
    "    df_rating[c + 'log'] = scaled_array\n",
    "    df_rating[c + 'log'] = df_rating[c + 'log'].apply(np.log)"
   ]
  },
  {
   "cell_type": "code",
   "execution_count": 528,
   "metadata": {},
   "outputs": [
    {
     "data": {
      "image/png": "[encoded data removed]",
      "text/plain": [
       "<Figure size 648x360 with 8 Axes>"
      ]
     },
     "metadata": {
      "needs_background": "light"
     },
     "output_type": "display_data"
    }
   ],
   "source": [
    "figure, axes = plt.subplots(nrows=2, ncols=4, figsize=(9,5))\n",
    "axes[0, 0].hist(df_rating.currentRatiolog)\n",
    "axes[0, 1].hist(df_rating.returnOnEquitylog)\n",
    "axes[1, 0].hist(df_rating.freeCashFlowPerSharelog)\n",
    "axes[1, 1].hist(df_rating.payablesTurnoverlog)\n",
    "\n",
    "axes[0, 2].boxplot(df_rating.currentRatiolog)\n",
    "axes[1, 2].boxplot(df_rating.returnOnEquitylog)\n",
    "axes[0, 3].boxplot(df_rating.freeCashFlowPerSharelog)\n",
    "axes[1, 3].boxplot(df_rating.payablesTurnoverlog)\n",
    "\n",
    "figure.tight_layout()"
   ]
  },
  {
   "cell_type": "markdown",
   "metadata": {},
   "source": [
    "# Remove Outlieres"
   ]
  },
  {
   "cell_type": "code",
   "execution_count": 529,
   "metadata": {},
   "outputs": [],
   "source": [
    "#------------------------------------------------------------------------------\n",
    "# accept a dataframe, remove outliers, return cleaned data in a new dataframe\n",
    "# see http://www.itl.nist.gov/div898/handbook/prc/section1/prc16.htm\n",
    "#------------------------------------------------------------------------------\n",
    "from random import sample \n",
    "\n",
    "ratings = ['A', 'B', 'BB', 'BBB', 'C']\n",
    "\n",
    "def remove_outlier(df_input, col_name):\n",
    "\n",
    "    df_out = df_input[0:0].copy()\n",
    "    \n",
    "    for c in ratings:\n",
    "    \n",
    "        df_in = df_input.loc[df_input.Rating  ==  c].copy()\n",
    "        q1 = df_in[col_name].quantile(0.25)\n",
    "        q3 = df_in[col_name].quantile(0.75)\n",
    "        q5 = df_in[col_name].quantile(0.5)\n",
    "        iqr = q3-q1 #Interquartile range\n",
    "        fence_low  = q3-1.5*iqr\n",
    "        fence_high = q1+1.5*iqr\n",
    "    \n",
    "        df_in.loc[(df_in[col_name] < fence_low),col_name] = sample(list(df_in.loc[(df_in[col_name] > fence_low) & \n",
    "                                                                                  (df_in[col_name] < q5),\n",
    "                                                                                  col_name]),\n",
    "                                                                   len(df_in.loc[(df_in[col_name] < fence_low),col_name]))\n",
    "    \n",
    "    \n",
    "        df_in.loc[(df_in[col_name] > fence_high),col_name] = sample(list(df_in.loc[(df_in[col_name] > q5) & \n",
    "                                                                                  (df_in[col_name] < fence_high),\n",
    "                                                                                  col_name]),\n",
    "                                                                    len(df_in.loc[(df_in[col_name] > fence_high),col_name]))\n",
    "    \n",
    "        frames = [df_out, df_in]\n",
    "        df_out = pd.concat(frames) \n",
    "\n",
    "    return df_out"
   ]
  },
  {
   "cell_type": "code",
   "execution_count": 530,
   "metadata": {},
   "outputs": [
    {
     "ename": "ValueError",
     "evalue": "Sample larger than population or is negative",
     "output_type": "error",
     "traceback": [
      "\u001b[1;31m---------------------------------------------------------------------------\u001b[0m",
      "\u001b[1;31mValueError\u001b[0m                                Traceback (most recent call last)",
      "\u001b[1;32m<ipython-input-530-26daeba63f99>\u001b[0m in \u001b[0;36m<module>\u001b[1;34m\u001b[0m\n\u001b[0;32m      1\u001b[0m \u001b[1;32mfor\u001b[0m \u001b[0mc\u001b[0m \u001b[1;32min\u001b[0m \u001b[0mdf_rating\u001b[0m\u001b[1;33m.\u001b[0m\u001b[0mcolumns\u001b[0m\u001b[1;33m[\u001b[0m\u001b[1;36m6\u001b[0m\u001b[1;33m:\u001b[0m\u001b[1;36m31\u001b[0m\u001b[1;33m]\u001b[0m\u001b[1;33m:\u001b[0m\u001b[1;33m\u001b[0m\u001b[1;33m\u001b[0m\u001b[0m\n\u001b[1;32m----> 2\u001b[1;33m     \u001b[0mdf_rating\u001b[0m \u001b[1;33m=\u001b[0m \u001b[0mremove_outlier\u001b[0m\u001b[1;33m(\u001b[0m\u001b[0mdf_rating\u001b[0m\u001b[1;33m,\u001b[0m \u001b[0mc\u001b[0m\u001b[1;33m)\u001b[0m\u001b[1;33m\u001b[0m\u001b[1;33m\u001b[0m\u001b[0m\n\u001b[0m",
      "\u001b[1;32m<ipython-input-529-fbf8505c09af>\u001b[0m in \u001b[0;36mremove_outlier\u001b[1;34m(df_input, col_name)\u001b[0m\n\u001b[0;32m     24\u001b[0m                                                                                   \u001b[1;33m(\u001b[0m\u001b[0mdf_in\u001b[0m\u001b[1;33m[\u001b[0m\u001b[0mcol_name\u001b[0m\u001b[1;33m]\u001b[0m \u001b[1;33m<\u001b[0m \u001b[0mq5\u001b[0m\u001b[1;33m)\u001b[0m\u001b[1;33m,\u001b[0m\u001b[1;33m\u001b[0m\u001b[1;33m\u001b[0m\u001b[0m\n\u001b[0;32m     25\u001b[0m                                                                                   col_name]),\n\u001b[1;32m---> 26\u001b[1;33m                                                                    len(df_in.loc[(df_in[col_name] < fence_low),col_name]))\n\u001b[0m\u001b[0;32m     27\u001b[0m \u001b[1;33m\u001b[0m\u001b[0m\n\u001b[0;32m     28\u001b[0m \u001b[1;33m\u001b[0m\u001b[0m\n",
      "\u001b[1;32m~\\Anaconda3\\lib\\random.py\u001b[0m in \u001b[0;36msample\u001b[1;34m(self, population, k)\u001b[0m\n\u001b[0;32m    319\u001b[0m         \u001b[0mn\u001b[0m \u001b[1;33m=\u001b[0m \u001b[0mlen\u001b[0m\u001b[1;33m(\u001b[0m\u001b[0mpopulation\u001b[0m\u001b[1;33m)\u001b[0m\u001b[1;33m\u001b[0m\u001b[1;33m\u001b[0m\u001b[0m\n\u001b[0;32m    320\u001b[0m         \u001b[1;32mif\u001b[0m \u001b[1;32mnot\u001b[0m \u001b[1;36m0\u001b[0m \u001b[1;33m<=\u001b[0m \u001b[0mk\u001b[0m \u001b[1;33m<=\u001b[0m \u001b[0mn\u001b[0m\u001b[1;33m:\u001b[0m\u001b[1;33m\u001b[0m\u001b[1;33m\u001b[0m\u001b[0m\n\u001b[1;32m--> 321\u001b[1;33m             \u001b[1;32mraise\u001b[0m \u001b[0mValueError\u001b[0m\u001b[1;33m(\u001b[0m\u001b[1;34m\"Sample larger than population or is negative\"\u001b[0m\u001b[1;33m)\u001b[0m\u001b[1;33m\u001b[0m\u001b[1;33m\u001b[0m\u001b[0m\n\u001b[0m\u001b[0;32m    322\u001b[0m         \u001b[0mresult\u001b[0m \u001b[1;33m=\u001b[0m \u001b[1;33m[\u001b[0m\u001b[1;32mNone\u001b[0m\u001b[1;33m]\u001b[0m \u001b[1;33m*\u001b[0m \u001b[0mk\u001b[0m\u001b[1;33m\u001b[0m\u001b[1;33m\u001b[0m\u001b[0m\n\u001b[0;32m    323\u001b[0m         \u001b[0msetsize\u001b[0m \u001b[1;33m=\u001b[0m \u001b[1;36m21\u001b[0m        \u001b[1;31m# size of a small set minus size of an empty list\u001b[0m\u001b[1;33m\u001b[0m\u001b[1;33m\u001b[0m\u001b[0m\n",
      "\u001b[1;31mValueError\u001b[0m: Sample larger than population or is negative"
     ]
    }
   ],
   "source": [
    "for c in df_rating.columns[6:31]:\n",
    "    df_rating = remove_outlier(df_rating, c)"
   ]
  },
  {
   "cell_type": "code",
   "execution_count": null,
   "metadata": {},
   "outputs": [],
   "source": [
    "figure, axes = plt.subplots(nrows=2, ncols=4, figsize=(9,5))\n",
    "axes[0, 0].hist(df_rating.currentRatiolog)\n",
    "axes[0, 1].hist(df_rating.returnOnEquitylog)\n",
    "axes[1, 0].hist(df_rating.freeCashFlowPerSharelog)\n",
    "axes[1, 1].hist(df_rating.payablesTurnoverlog)\n",
    "\n",
    "axes[0, 2].boxplot(df_rating.currentRatiolog)\n",
    "axes[1, 2].boxplot(df_rating.returnOnEquitylog)\n",
    "axes[0, 3].boxplot(df_rating.freeCashFlowPerSharelog)\n",
    "axes[1, 3].boxplot(df_rating.payablesTurnoverlog)\n",
    "\n",
    "figure.tight_layout()"
   ]
  },
  {
   "cell_type": "markdown",
   "metadata": {},
   "source": [
    "# Analyse Relations"
   ]
  },
  {
   "cell_type": "code",
   "execution_count": 569,
   "metadata": {},
   "outputs": [],
   "source": [
    "df_rating.colors = 'a'\n",
    "df_rating.loc[df_rating['Rating'] == 'A', 'color'] = 'r'\n",
    "df_rating.loc[df_rating['Rating'] == 'B', 'color'] = 'g'\n",
    "df_rating.loc[df_rating['Rating'] == 'BB', 'color'] = 'b'\n",
    "df_rating.loc[df_rating['Rating'] == 'BBB','color'] = 'y'\n",
    "df_rating.loc[df_rating['Rating'] == 'C', 'color'] = 'm'\n"
   ]
  },
  {
   "cell_type": "code",
   "execution_count": 570,
   "metadata": {},
   "outputs": [
    {
     "ename": "ValueError",
     "evalue": "'c' argument must be a mpl color, a sequence of mpl colors or a sequence of numbers, not 0         r\n1         y\n2         y\n3         y\n4         y\n       ... \n2024      y\n2025      b\n2026      g\n2027      g\n2028    NaN\nName: color, Length: 2029, dtype: object.",
     "output_type": "error",
     "traceback": [
      "\u001b[1;31m---------------------------------------------------------------------------\u001b[0m",
      "\u001b[1;31mValueError\u001b[0m                                Traceback (most recent call last)",
      "\u001b[1;32m~\\Anaconda3\\lib\\site-packages\\matplotlib\\axes\\_axes.py\u001b[0m in \u001b[0;36m_parse_scatter_color_args\u001b[1;34m(c, edgecolors, kwargs, xshape, yshape, get_next_color_func)\u001b[0m\n\u001b[0;32m   4284\u001b[0m             \u001b[1;32mtry\u001b[0m\u001b[1;33m:\u001b[0m  \u001b[1;31m# Then is 'c' acceptable as PathCollection facecolors?\u001b[0m\u001b[1;33m\u001b[0m\u001b[1;33m\u001b[0m\u001b[0m\n\u001b[1;32m-> 4285\u001b[1;33m                 \u001b[0mcolors\u001b[0m \u001b[1;33m=\u001b[0m \u001b[0mmcolors\u001b[0m\u001b[1;33m.\u001b[0m\u001b[0mto_rgba_array\u001b[0m\u001b[1;33m(\u001b[0m\u001b[0mc\u001b[0m\u001b[1;33m)\u001b[0m\u001b[1;33m\u001b[0m\u001b[1;33m\u001b[0m\u001b[0m\n\u001b[0m\u001b[0;32m   4286\u001b[0m                 \u001b[0mn_elem\u001b[0m \u001b[1;33m=\u001b[0m \u001b[0mcolors\u001b[0m\u001b[1;33m.\u001b[0m\u001b[0mshape\u001b[0m\u001b[1;33m[\u001b[0m\u001b[1;36m0\u001b[0m\u001b[1;33m]\u001b[0m\u001b[1;33m\u001b[0m\u001b[1;33m\u001b[0m\u001b[0m\n",
      "\u001b[1;32m~\\Anaconda3\\lib\\site-packages\\matplotlib\\colors.py\u001b[0m in \u001b[0;36mto_rgba_array\u001b[1;34m(c, alpha)\u001b[0m\n\u001b[0;32m    293\u001b[0m     \u001b[1;32mfor\u001b[0m \u001b[0mi\u001b[0m\u001b[1;33m,\u001b[0m \u001b[0mcc\u001b[0m \u001b[1;32min\u001b[0m \u001b[0menumerate\u001b[0m\u001b[1;33m(\u001b[0m\u001b[0mc\u001b[0m\u001b[1;33m)\u001b[0m\u001b[1;33m:\u001b[0m\u001b[1;33m\u001b[0m\u001b[1;33m\u001b[0m\u001b[0m\n\u001b[1;32m--> 294\u001b[1;33m         \u001b[0mresult\u001b[0m\u001b[1;33m[\u001b[0m\u001b[0mi\u001b[0m\u001b[1;33m]\u001b[0m \u001b[1;33m=\u001b[0m \u001b[0mto_rgba\u001b[0m\u001b[1;33m(\u001b[0m\u001b[0mcc\u001b[0m\u001b[1;33m,\u001b[0m \u001b[0malpha\u001b[0m\u001b[1;33m)\u001b[0m\u001b[1;33m\u001b[0m\u001b[1;33m\u001b[0m\u001b[0m\n\u001b[0m\u001b[0;32m    295\u001b[0m     \u001b[1;32mreturn\u001b[0m \u001b[0mresult\u001b[0m\u001b[1;33m\u001b[0m\u001b[1;33m\u001b[0m\u001b[0m\n",
      "\u001b[1;32m~\\Anaconda3\\lib\\site-packages\\matplotlib\\colors.py\u001b[0m in \u001b[0;36mto_rgba\u001b[1;34m(c, alpha)\u001b[0m\n\u001b[0;32m    176\u001b[0m     \u001b[1;32mif\u001b[0m \u001b[0mrgba\u001b[0m \u001b[1;32mis\u001b[0m \u001b[1;32mNone\u001b[0m\u001b[1;33m:\u001b[0m  \u001b[1;31m# Suppress exception chaining of cache lookup failure.\u001b[0m\u001b[1;33m\u001b[0m\u001b[1;33m\u001b[0m\u001b[0m\n\u001b[1;32m--> 177\u001b[1;33m         \u001b[0mrgba\u001b[0m \u001b[1;33m=\u001b[0m \u001b[0m_to_rgba_no_colorcycle\u001b[0m\u001b[1;33m(\u001b[0m\u001b[0mc\u001b[0m\u001b[1;33m,\u001b[0m \u001b[0malpha\u001b[0m\u001b[1;33m)\u001b[0m\u001b[1;33m\u001b[0m\u001b[1;33m\u001b[0m\u001b[0m\n\u001b[0m\u001b[0;32m    178\u001b[0m         \u001b[1;32mtry\u001b[0m\u001b[1;33m:\u001b[0m\u001b[1;33m\u001b[0m\u001b[1;33m\u001b[0m\u001b[0m\n",
      "\u001b[1;32m~\\Anaconda3\\lib\\site-packages\\matplotlib\\colors.py\u001b[0m in \u001b[0;36m_to_rgba_no_colorcycle\u001b[1;34m(c, alpha)\u001b[0m\n\u001b[0;32m    239\u001b[0m         \u001b[1;31m# Test dimensionality to reject single floats.\u001b[0m\u001b[1;33m\u001b[0m\u001b[1;33m\u001b[0m\u001b[1;33m\u001b[0m\u001b[0m\n\u001b[1;32m--> 240\u001b[1;33m         \u001b[1;32mraise\u001b[0m \u001b[0mValueError\u001b[0m\u001b[1;33m(\u001b[0m\u001b[1;34m\"Invalid RGBA argument: {!r}\"\u001b[0m\u001b[1;33m.\u001b[0m\u001b[0mformat\u001b[0m\u001b[1;33m(\u001b[0m\u001b[0morig_c\u001b[0m\u001b[1;33m)\u001b[0m\u001b[1;33m)\u001b[0m\u001b[1;33m\u001b[0m\u001b[1;33m\u001b[0m\u001b[0m\n\u001b[0m\u001b[0;32m    241\u001b[0m     \u001b[1;31m# Return a tuple to prevent the cached value from being modified.\u001b[0m\u001b[1;33m\u001b[0m\u001b[1;33m\u001b[0m\u001b[1;33m\u001b[0m\u001b[0m\n",
      "\u001b[1;31mValueError\u001b[0m: Invalid RGBA argument: nan",
      "\nDuring handling of the above exception, another exception occurred:\n",
      "\u001b[1;31mValueError\u001b[0m                                Traceback (most recent call last)",
      "\u001b[1;32m<ipython-input-570-8fa721e7cbc1>\u001b[0m in \u001b[0;36m<module>\u001b[1;34m\u001b[0m\n\u001b[1;32m----> 1\u001b[1;33m \u001b[0mplt\u001b[0m\u001b[1;33m.\u001b[0m\u001b[0mscatter\u001b[0m\u001b[1;33m(\u001b[0m\u001b[0mdf_rating\u001b[0m\u001b[1;33m.\u001b[0m\u001b[0mreturnOnAssets\u001b[0m\u001b[1;33m,\u001b[0m \u001b[0mdf_rating\u001b[0m\u001b[1;33m.\u001b[0m\u001b[0mreturnOnCapitalEmployed\u001b[0m\u001b[1;33m,\u001b[0m \u001b[0mc\u001b[0m \u001b[1;33m=\u001b[0m \u001b[0mdf_rating\u001b[0m\u001b[1;33m.\u001b[0m\u001b[0mcolor\u001b[0m\u001b[1;33m,\u001b[0m \u001b[0malpha\u001b[0m\u001b[1;33m=\u001b[0m\u001b[1;36m0.5\u001b[0m\u001b[1;33m)\u001b[0m\u001b[1;33m\u001b[0m\u001b[1;33m\u001b[0m\u001b[0m\n\u001b[0m\u001b[0;32m      2\u001b[0m \u001b[0mplt\u001b[0m\u001b[1;33m.\u001b[0m\u001b[0mshow\u001b[0m\u001b[1;33m(\u001b[0m\u001b[1;33m)\u001b[0m\u001b[1;33m\u001b[0m\u001b[1;33m\u001b[0m\u001b[0m\n",
      "\u001b[1;32m~\\Anaconda3\\lib\\site-packages\\matplotlib\\pyplot.py\u001b[0m in \u001b[0;36mscatter\u001b[1;34m(x, y, s, c, marker, cmap, norm, vmin, vmax, alpha, linewidths, verts, edgecolors, plotnonfinite, data, **kwargs)\u001b[0m\n\u001b[0;32m   2845\u001b[0m         \u001b[0mverts\u001b[0m\u001b[1;33m=\u001b[0m\u001b[0mverts\u001b[0m\u001b[1;33m,\u001b[0m \u001b[0medgecolors\u001b[0m\u001b[1;33m=\u001b[0m\u001b[0medgecolors\u001b[0m\u001b[1;33m,\u001b[0m\u001b[1;33m\u001b[0m\u001b[1;33m\u001b[0m\u001b[0m\n\u001b[0;32m   2846\u001b[0m         plotnonfinite=plotnonfinite, **({\"data\": data} if data is not\n\u001b[1;32m-> 2847\u001b[1;33m         None else {}), **kwargs)\n\u001b[0m\u001b[0;32m   2848\u001b[0m     \u001b[0msci\u001b[0m\u001b[1;33m(\u001b[0m\u001b[0m__ret\u001b[0m\u001b[1;33m)\u001b[0m\u001b[1;33m\u001b[0m\u001b[1;33m\u001b[0m\u001b[0m\n\u001b[0;32m   2849\u001b[0m     \u001b[1;32mreturn\u001b[0m \u001b[0m__ret\u001b[0m\u001b[1;33m\u001b[0m\u001b[1;33m\u001b[0m\u001b[0m\n",
      "\u001b[1;32m~\\Anaconda3\\lib\\site-packages\\matplotlib\\__init__.py\u001b[0m in \u001b[0;36minner\u001b[1;34m(ax, data, *args, **kwargs)\u001b[0m\n\u001b[0;32m   1599\u001b[0m     \u001b[1;32mdef\u001b[0m \u001b[0minner\u001b[0m\u001b[1;33m(\u001b[0m\u001b[0max\u001b[0m\u001b[1;33m,\u001b[0m \u001b[1;33m*\u001b[0m\u001b[0margs\u001b[0m\u001b[1;33m,\u001b[0m \u001b[0mdata\u001b[0m\u001b[1;33m=\u001b[0m\u001b[1;32mNone\u001b[0m\u001b[1;33m,\u001b[0m \u001b[1;33m**\u001b[0m\u001b[0mkwargs\u001b[0m\u001b[1;33m)\u001b[0m\u001b[1;33m:\u001b[0m\u001b[1;33m\u001b[0m\u001b[1;33m\u001b[0m\u001b[0m\n\u001b[0;32m   1600\u001b[0m         \u001b[1;32mif\u001b[0m \u001b[0mdata\u001b[0m \u001b[1;32mis\u001b[0m \u001b[1;32mNone\u001b[0m\u001b[1;33m:\u001b[0m\u001b[1;33m\u001b[0m\u001b[1;33m\u001b[0m\u001b[0m\n\u001b[1;32m-> 1601\u001b[1;33m             \u001b[1;32mreturn\u001b[0m \u001b[0mfunc\u001b[0m\u001b[1;33m(\u001b[0m\u001b[0max\u001b[0m\u001b[1;33m,\u001b[0m \u001b[1;33m*\u001b[0m\u001b[0mmap\u001b[0m\u001b[1;33m(\u001b[0m\u001b[0msanitize_sequence\u001b[0m\u001b[1;33m,\u001b[0m \u001b[0margs\u001b[0m\u001b[1;33m)\u001b[0m\u001b[1;33m,\u001b[0m \u001b[1;33m**\u001b[0m\u001b[0mkwargs\u001b[0m\u001b[1;33m)\u001b[0m\u001b[1;33m\u001b[0m\u001b[1;33m\u001b[0m\u001b[0m\n\u001b[0m\u001b[0;32m   1602\u001b[0m \u001b[1;33m\u001b[0m\u001b[0m\n\u001b[0;32m   1603\u001b[0m         \u001b[0mbound\u001b[0m \u001b[1;33m=\u001b[0m \u001b[0mnew_sig\u001b[0m\u001b[1;33m.\u001b[0m\u001b[0mbind\u001b[0m\u001b[1;33m(\u001b[0m\u001b[0max\u001b[0m\u001b[1;33m,\u001b[0m \u001b[1;33m*\u001b[0m\u001b[0margs\u001b[0m\u001b[1;33m,\u001b[0m \u001b[1;33m**\u001b[0m\u001b[0mkwargs\u001b[0m\u001b[1;33m)\u001b[0m\u001b[1;33m\u001b[0m\u001b[1;33m\u001b[0m\u001b[0m\n",
      "\u001b[1;32m~\\Anaconda3\\lib\\site-packages\\matplotlib\\axes\\_axes.py\u001b[0m in \u001b[0;36mscatter\u001b[1;34m(self, x, y, s, c, marker, cmap, norm, vmin, vmax, alpha, linewidths, verts, edgecolors, plotnonfinite, **kwargs)\u001b[0m\n\u001b[0;32m   4452\u001b[0m             self._parse_scatter_color_args(\n\u001b[0;32m   4453\u001b[0m                 \u001b[0mc\u001b[0m\u001b[1;33m,\u001b[0m \u001b[0medgecolors\u001b[0m\u001b[1;33m,\u001b[0m \u001b[0mkwargs\u001b[0m\u001b[1;33m,\u001b[0m \u001b[0mxshape\u001b[0m\u001b[1;33m,\u001b[0m \u001b[0myshape\u001b[0m\u001b[1;33m,\u001b[0m\u001b[1;33m\u001b[0m\u001b[1;33m\u001b[0m\u001b[0m\n\u001b[1;32m-> 4454\u001b[1;33m                 get_next_color_func=self._get_patches_for_fill.get_next_color)\n\u001b[0m\u001b[0;32m   4455\u001b[0m \u001b[1;33m\u001b[0m\u001b[0m\n\u001b[0;32m   4456\u001b[0m         \u001b[1;32mif\u001b[0m \u001b[0mplotnonfinite\u001b[0m \u001b[1;32mand\u001b[0m \u001b[0mcolors\u001b[0m \u001b[1;32mis\u001b[0m \u001b[1;32mNone\u001b[0m\u001b[1;33m:\u001b[0m\u001b[1;33m\u001b[0m\u001b[1;33m\u001b[0m\u001b[0m\n",
      "\u001b[1;32m~\\Anaconda3\\lib\\site-packages\\matplotlib\\axes\\_axes.py\u001b[0m in \u001b[0;36m_parse_scatter_color_args\u001b[1;34m(c, edgecolors, kwargs, xshape, yshape, get_next_color_func)\u001b[0m\n\u001b[0;32m   4304\u001b[0m                         \u001b[1;34m\"'c' argument must be a mpl color, a sequence of mpl \"\u001b[0m\u001b[1;33m\u001b[0m\u001b[1;33m\u001b[0m\u001b[0m\n\u001b[0;32m   4305\u001b[0m                         \u001b[1;34m\"colors or a sequence of numbers, not {}.\"\u001b[0m\u001b[1;33m\u001b[0m\u001b[1;33m\u001b[0m\u001b[0m\n\u001b[1;32m-> 4306\u001b[1;33m                             \u001b[1;33m.\u001b[0m\u001b[0mformat\u001b[0m\u001b[1;33m(\u001b[0m\u001b[0mc\u001b[0m\u001b[1;33m)\u001b[0m  \u001b[1;31m# note: could be long depending on c\u001b[0m\u001b[1;33m\u001b[0m\u001b[1;33m\u001b[0m\u001b[0m\n\u001b[0m\u001b[0;32m   4307\u001b[0m                     )\n\u001b[0;32m   4308\u001b[0m         \u001b[1;32melse\u001b[0m\u001b[1;33m:\u001b[0m\u001b[1;33m\u001b[0m\u001b[1;33m\u001b[0m\u001b[0m\n",
      "\u001b[1;31mValueError\u001b[0m: 'c' argument must be a mpl color, a sequence of mpl colors or a sequence of numbers, not 0         r\n1         y\n2         y\n3         y\n4         y\n       ... \n2024      y\n2025      b\n2026      g\n2027      g\n2028    NaN\nName: color, Length: 2029, dtype: object."
     ]
    },
    {
     "data": {
      "image/png": "[encoded data removed]",
      "text/plain": [
       "<Figure size 432x288 with 1 Axes>"
      ]
     },
     "metadata": {
      "needs_background": "light"
     },
     "output_type": "display_data"
    }
   ],
   "source": [
    "plt.scatter(df_rating.returnOnAssets, df_rating.returnOnCapitalEmployed, c = df_rating.color, alpha=0.5)\n",
    "plt.show()"
   ]
  },
  {
   "cell_type": "code",
   "execution_count": 571,
   "metadata": {},
   "outputs": [
    {
     "data": {
      "text/html": [
       "<div>\n",
       "<style scoped>\n",
       "    .dataframe tbody tr th:only-of-type {\n",
       "        vertical-align: middle;\n",
       "    }\n",
       "\n",
       "    .dataframe tbody tr th {\n",
       "        vertical-align: top;\n",
       "    }\n",
       "\n",
       "    .dataframe thead th {\n",
       "        text-align: right;\n",
       "    }\n",
       "</style>\n",
       "<table border=\"1\" class=\"dataframe\">\n",
       "  <thead>\n",
       "    <tr style=\"text-align: right;\">\n",
       "      <th></th>\n",
       "      <th>currentRatio</th>\n",
       "      <th>quickRatio</th>\n",
       "      <th>cashRatio</th>\n",
       "      <th>daysOfSalesOutstanding</th>\n",
       "      <th>netProfitMargin</th>\n",
       "      <th>pretaxProfitMargin</th>\n",
       "      <th>grossProfitMargin</th>\n",
       "      <th>operatingProfitMargin</th>\n",
       "      <th>returnOnAssets</th>\n",
       "      <th>returnOnCapitalEmployed</th>\n",
       "      <th>...</th>\n",
       "      <th>freeCashFlowOperatingCashFlowRatio</th>\n",
       "      <th>freeCashFlowPerShare</th>\n",
       "      <th>cashPerShare</th>\n",
       "      <th>companyEquityMultiplier</th>\n",
       "      <th>ebitPerRevenue</th>\n",
       "      <th>enterpriseValueMultiple</th>\n",
       "      <th>operatingCashFlowPerShare</th>\n",
       "      <th>operatingCashFlowSalesRatio</th>\n",
       "      <th>payablesTurnover</th>\n",
       "      <th>payoutRatio</th>\n",
       "    </tr>\n",
       "    <tr>\n",
       "      <th>Rating</th>\n",
       "      <th></th>\n",
       "      <th></th>\n",
       "      <th></th>\n",
       "      <th></th>\n",
       "      <th></th>\n",
       "      <th></th>\n",
       "      <th></th>\n",
       "      <th></th>\n",
       "      <th></th>\n",
       "      <th></th>\n",
       "      <th></th>\n",
       "      <th></th>\n",
       "      <th></th>\n",
       "      <th></th>\n",
       "      <th></th>\n",
       "      <th></th>\n",
       "      <th></th>\n",
       "      <th></th>\n",
       "      <th></th>\n",
       "      <th></th>\n",
       "      <th></th>\n",
       "    </tr>\n",
       "  </thead>\n",
       "  <tbody>\n",
       "    <tr>\n",
       "      <td>A</td>\n",
       "      <td>1.538695</td>\n",
       "      <td>1.327016</td>\n",
       "      <td>0.385079</td>\n",
       "      <td>171.168722</td>\n",
       "      <td>0.590435</td>\n",
       "      <td>0.863640</td>\n",
       "      <td>0.556080</td>\n",
       "      <td>1.040302</td>\n",
       "      <td>0.071436</td>\n",
       "      <td>0.136976</td>\n",
       "      <td>...</td>\n",
       "      <td>0.573076</td>\n",
       "      <td>26.161248</td>\n",
       "      <td>48.874806</td>\n",
       "      <td>3.780445</td>\n",
       "      <td>0.866412</td>\n",
       "      <td>10.939248</td>\n",
       "      <td>103.318712</td>\n",
       "      <td>1.495428</td>\n",
       "      <td>6.774101</td>\n",
       "      <td>0.286710</td>\n",
       "    </tr>\n",
       "    <tr>\n",
       "      <td>AA</td>\n",
       "      <td>1.723888</td>\n",
       "      <td>1.227023</td>\n",
       "      <td>0.390321</td>\n",
       "      <td>40.635753</td>\n",
       "      <td>0.124043</td>\n",
       "      <td>0.165942</td>\n",
       "      <td>0.627899</td>\n",
       "      <td>0.173166</td>\n",
       "      <td>0.092874</td>\n",
       "      <td>0.172885</td>\n",
       "      <td>...</td>\n",
       "      <td>0.902069</td>\n",
       "      <td>83.025380</td>\n",
       "      <td>184.041180</td>\n",
       "      <td>2.222550</td>\n",
       "      <td>0.166796</td>\n",
       "      <td>10.532753</td>\n",
       "      <td>462.707627</td>\n",
       "      <td>0.189398</td>\n",
       "      <td>670.839163</td>\n",
       "      <td>0.446723</td>\n",
       "    </tr>\n",
       "    <tr>\n",
       "      <td>AAA</td>\n",
       "      <td>2.274625</td>\n",
       "      <td>2.063972</td>\n",
       "      <td>0.274089</td>\n",
       "      <td>67.678733</td>\n",
       "      <td>0.212323</td>\n",
       "      <td>0.117229</td>\n",
       "      <td>0.734484</td>\n",
       "      <td>0.274609</td>\n",
       "      <td>0.109992</td>\n",
       "      <td>0.071989</td>\n",
       "      <td>...</td>\n",
       "      <td>0.776531</td>\n",
       "      <td>3.961642</td>\n",
       "      <td>9.923552</td>\n",
       "      <td>2.082451</td>\n",
       "      <td>0.117229</td>\n",
       "      <td>12.204365</td>\n",
       "      <td>5.682929</td>\n",
       "      <td>0.346676</td>\n",
       "      <td>3.784628</td>\n",
       "      <td>0.487933</td>\n",
       "    </tr>\n",
       "    <tr>\n",
       "      <td>B</td>\n",
       "      <td>5.431595</td>\n",
       "      <td>1.830320</td>\n",
       "      <td>0.634058</td>\n",
       "      <td>67.385079</td>\n",
       "      <td>0.141831</td>\n",
       "      <td>0.211195</td>\n",
       "      <td>0.499278</td>\n",
       "      <td>0.248749</td>\n",
       "      <td>-118.765198</td>\n",
       "      <td>-208.882685</td>\n",
       "      <td>...</td>\n",
       "      <td>0.027576</td>\n",
       "      <td>52.968464</td>\n",
       "      <td>90.703789</td>\n",
       "      <td>-6.805406</td>\n",
       "      <td>0.218886</td>\n",
       "      <td>148.564115</td>\n",
       "      <td>-13.168759</td>\n",
       "      <td>0.639844</td>\n",
       "      <td>8.048441</td>\n",
       "      <td>0.317992</td>\n",
       "    </tr>\n",
       "    <tr>\n",
       "      <td>BB</td>\n",
       "      <td>2.579726</td>\n",
       "      <td>6.165528</td>\n",
       "      <td>0.937828</td>\n",
       "      <td>950.263229</td>\n",
       "      <td>-0.281538</td>\n",
       "      <td>-0.334636</td>\n",
       "      <td>0.446694</td>\n",
       "      <td>-0.225784</td>\n",
       "      <td>-0.226759</td>\n",
       "      <td>0.051039</td>\n",
       "      <td>...</td>\n",
       "      <td>0.367777</td>\n",
       "      <td>9234.334962</td>\n",
       "      <td>7497.555030</td>\n",
       "      <td>1.489030</td>\n",
       "      <td>-0.329640</td>\n",
       "      <td>73.942903</td>\n",
       "      <td>13585.272504</td>\n",
       "      <td>1.679154</td>\n",
       "      <td>12.551026</td>\n",
       "      <td>1.850422</td>\n",
       "    </tr>\n",
       "    <tr>\n",
       "      <td>BBB</td>\n",
       "      <td>1.753954</td>\n",
       "      <td>1.242471</td>\n",
       "      <td>0.419345</td>\n",
       "      <td>171.933980</td>\n",
       "      <td>0.641484</td>\n",
       "      <td>0.953623</td>\n",
       "      <td>0.460779</td>\n",
       "      <td>1.207154</td>\n",
       "      <td>0.051597</td>\n",
       "      <td>0.091791</td>\n",
       "      <td>...</td>\n",
       "      <td>0.499515</td>\n",
       "      <td>8604.119826</td>\n",
       "      <td>7193.585692</td>\n",
       "      <td>5.176333</td>\n",
       "      <td>0.961297</td>\n",
       "      <td>11.801629</td>\n",
       "      <td>9662.001115</td>\n",
       "      <td>1.942878</td>\n",
       "      <td>7.631958</td>\n",
       "      <td>0.591676</td>\n",
       "    </tr>\n",
       "    <tr>\n",
       "      <td>C</td>\n",
       "      <td>1.286105</td>\n",
       "      <td>0.635879</td>\n",
       "      <td>0.578643</td>\n",
       "      <td>3.644017</td>\n",
       "      <td>0.449925</td>\n",
       "      <td>0.722794</td>\n",
       "      <td>0.515868</td>\n",
       "      <td>0.099135</td>\n",
       "      <td>0.067283</td>\n",
       "      <td>0.395384</td>\n",
       "      <td>...</td>\n",
       "      <td>-1.524296</td>\n",
       "      <td>-0.933089</td>\n",
       "      <td>5.808174</td>\n",
       "      <td>5.638925</td>\n",
       "      <td>0.722794</td>\n",
       "      <td>8.085984</td>\n",
       "      <td>0.537463</td>\n",
       "      <td>0.022305</td>\n",
       "      <td>9.472004</td>\n",
       "      <td>-0.034032</td>\n",
       "    </tr>\n",
       "    <tr>\n",
       "      <td>CC</td>\n",
       "      <td>1.110003</td>\n",
       "      <td>0.672340</td>\n",
       "      <td>0.379967</td>\n",
       "      <td>15.830629</td>\n",
       "      <td>-0.549850</td>\n",
       "      <td>-0.610106</td>\n",
       "      <td>0.769635</td>\n",
       "      <td>-0.570298</td>\n",
       "      <td>-8042.909871</td>\n",
       "      <td>-17432.871752</td>\n",
       "      <td>...</td>\n",
       "      <td>0.298548</td>\n",
       "      <td>1212.370650</td>\n",
       "      <td>10.393418</td>\n",
       "      <td>-1.859115</td>\n",
       "      <td>-0.610106</td>\n",
       "      <td>4.093561</td>\n",
       "      <td>-269.074276</td>\n",
       "      <td>0.029997</td>\n",
       "      <td>2.022818</td>\n",
       "      <td>-0.003721</td>\n",
       "    </tr>\n",
       "    <tr>\n",
       "      <td>CCC</td>\n",
       "      <td>35.778208</td>\n",
       "      <td>5.008539</td>\n",
       "      <td>3.573252</td>\n",
       "      <td>55.744425</td>\n",
       "      <td>-0.253064</td>\n",
       "      <td>-0.344592</td>\n",
       "      <td>0.676688</td>\n",
       "      <td>-0.177128</td>\n",
       "      <td>-0.052983</td>\n",
       "      <td>-0.070988</td>\n",
       "      <td>...</td>\n",
       "      <td>-0.084502</td>\n",
       "      <td>-13.928158</td>\n",
       "      <td>213.115198</td>\n",
       "      <td>45.128958</td>\n",
       "      <td>-0.328738</td>\n",
       "      <td>55.076877</td>\n",
       "      <td>33.971570</td>\n",
       "      <td>0.044647</td>\n",
       "      <td>14.779026</td>\n",
       "      <td>-27.034016</td>\n",
       "    </tr>\n",
       "    <tr>\n",
       "      <td>D</td>\n",
       "      <td>0.585399</td>\n",
       "      <td>0.389807</td>\n",
       "      <td>0.016529</td>\n",
       "      <td>54.738203</td>\n",
       "      <td>0.180349</td>\n",
       "      <td>0.129929</td>\n",
       "      <td>1.000000</td>\n",
       "      <td>-0.197802</td>\n",
       "      <td>0.043909</td>\n",
       "      <td>0.035714</td>\n",
       "      <td>...</td>\n",
       "      <td>0.423077</td>\n",
       "      <td>1.361386</td>\n",
       "      <td>1.262376</td>\n",
       "      <td>-11.407540</td>\n",
       "      <td>0.129929</td>\n",
       "      <td>20.818231</td>\n",
       "      <td>3.217822</td>\n",
       "      <td>0.084034</td>\n",
       "      <td>3.652968</td>\n",
       "      <td>0.000000</td>\n",
       "    </tr>\n",
       "  </tbody>\n",
       "</table>\n",
       "<p>10 rows × 26 columns</p>\n",
       "</div>"
      ],
      "text/plain": [
       "        currentRatio  quickRatio  cashRatio  daysOfSalesOutstanding  \\\n",
       "Rating                                                                \n",
       "A           1.538695    1.327016   0.385079              171.168722   \n",
       "AA          1.723888    1.227023   0.390321               40.635753   \n",
       "AAA         2.274625    2.063972   0.274089               67.678733   \n",
       "B           5.431595    1.830320   0.634058               67.385079   \n",
       "BB          2.579726    6.165528   0.937828              950.263229   \n",
       "BBB         1.753954    1.242471   0.419345              171.933980   \n",
       "C           1.286105    0.635879   0.578643                3.644017   \n",
       "CC          1.110003    0.672340   0.379967               15.830629   \n",
       "CCC        35.778208    5.008539   3.573252               55.744425   \n",
       "D           0.585399    0.389807   0.016529               54.738203   \n",
       "\n",
       "        netProfitMargin  pretaxProfitMargin  grossProfitMargin  \\\n",
       "Rating                                                           \n",
       "A              0.590435            0.863640           0.556080   \n",
       "AA             0.124043            0.165942           0.627899   \n",
       "AAA            0.212323            0.117229           0.734484   \n",
       "B              0.141831            0.211195           0.499278   \n",
       "BB            -0.281538           -0.334636           0.446694   \n",
       "BBB            0.641484            0.953623           0.460779   \n",
       "C              0.449925            0.722794           0.515868   \n",
       "CC            -0.549850           -0.610106           0.769635   \n",
       "CCC           -0.253064           -0.344592           0.676688   \n",
       "D              0.180349            0.129929           1.000000   \n",
       "\n",
       "        operatingProfitMargin  returnOnAssets  returnOnCapitalEmployed  ...  \\\n",
       "Rating                                                                  ...   \n",
       "A                    1.040302        0.071436                 0.136976  ...   \n",
       "AA                   0.173166        0.092874                 0.172885  ...   \n",
       "AAA                  0.274609        0.109992                 0.071989  ...   \n",
       "B                    0.248749     -118.765198              -208.882685  ...   \n",
       "BB                  -0.225784       -0.226759                 0.051039  ...   \n",
       "BBB                  1.207154        0.051597                 0.091791  ...   \n",
       "C                    0.099135        0.067283                 0.395384  ...   \n",
       "CC                  -0.570298    -8042.909871            -17432.871752  ...   \n",
       "CCC                 -0.177128       -0.052983                -0.070988  ...   \n",
       "D                   -0.197802        0.043909                 0.035714  ...   \n",
       "\n",
       "        freeCashFlowOperatingCashFlowRatio  freeCashFlowPerShare  \\\n",
       "Rating                                                             \n",
       "A                                 0.573076             26.161248   \n",
       "AA                                0.902069             83.025380   \n",
       "AAA                               0.776531              3.961642   \n",
       "B                                 0.027576             52.968464   \n",
       "BB                                0.367777           9234.334962   \n",
       "BBB                               0.499515           8604.119826   \n",
       "C                                -1.524296             -0.933089   \n",
       "CC                                0.298548           1212.370650   \n",
       "CCC                              -0.084502            -13.928158   \n",
       "D                                 0.423077              1.361386   \n",
       "\n",
       "        cashPerShare  companyEquityMultiplier  ebitPerRevenue  \\\n",
       "Rating                                                          \n",
       "A          48.874806                 3.780445        0.866412   \n",
       "AA        184.041180                 2.222550        0.166796   \n",
       "AAA         9.923552                 2.082451        0.117229   \n",
       "B          90.703789                -6.805406        0.218886   \n",
       "BB       7497.555030                 1.489030       -0.329640   \n",
       "BBB      7193.585692                 5.176333        0.961297   \n",
       "C           5.808174                 5.638925        0.722794   \n",
       "CC         10.393418                -1.859115       -0.610106   \n",
       "CCC       213.115198                45.128958       -0.328738   \n",
       "D           1.262376               -11.407540        0.129929   \n",
       "\n",
       "        enterpriseValueMultiple  operatingCashFlowPerShare  \\\n",
       "Rating                                                       \n",
       "A                     10.939248                 103.318712   \n",
       "AA                    10.532753                 462.707627   \n",
       "AAA                   12.204365                   5.682929   \n",
       "B                    148.564115                 -13.168759   \n",
       "BB                    73.942903               13585.272504   \n",
       "BBB                   11.801629                9662.001115   \n",
       "C                      8.085984                   0.537463   \n",
       "CC                     4.093561                -269.074276   \n",
       "CCC                   55.076877                  33.971570   \n",
       "D                     20.818231                   3.217822   \n",
       "\n",
       "        operatingCashFlowSalesRatio  payablesTurnover  payoutRatio  \n",
       "Rating                                                              \n",
       "A                          1.495428          6.774101     0.286710  \n",
       "AA                         0.189398        670.839163     0.446723  \n",
       "AAA                        0.346676          3.784628     0.487933  \n",
       "B                          0.639844          8.048441     0.317992  \n",
       "BB                         1.679154         12.551026     1.850422  \n",
       "BBB                        1.942878          7.631958     0.591676  \n",
       "C                          0.022305          9.472004    -0.034032  \n",
       "CC                         0.029997          2.022818    -0.003721  \n",
       "CCC                        0.044647         14.779026   -27.034016  \n",
       "D                          0.084034          3.652968     0.000000  \n",
       "\n",
       "[10 rows x 26 columns]"
      ]
     },
     "execution_count": 571,
     "metadata": {},
     "output_type": "execute_result"
    }
   ],
   "source": [
    "df_rating.groupby('Rating').mean()"
   ]
  },
  {
   "cell_type": "code",
   "execution_count": 299,
   "metadata": {},
   "outputs": [
    {
     "data": {
      "image/png": "[encoded data removed]",
      "text/plain": [
       "<Figure size 432x288 with 1 Axes>"
      ]
     },
     "metadata": {
      "needs_background": "light"
     },
     "output_type": "display_data"
    }
   ],
   "source": [
    "import seaborn as sns\n",
    "\n",
    "# ax = sns.boxplot(x=df_rating.Rating, y=df_rating.currentRatio,palette=\"Set3\")\n",
    "# ax = sns.boxplot(x=df_rating.Rating, y=df_rating.quickRatio,palette=\"Set3\")\n",
    "# ax = sns.boxplot(x=df_rating.Rating, y=df_rating.daysOfSalesOutstanding,palette=\"Set3\")\n",
    "ax = sns.boxplot(x=df_rating.Rating, y=df_rating.returnOnAssets,palette=\"Set3\")"
   ]
  },
  {
   "cell_type": "code",
   "execution_count": null,
   "metadata": {},
   "outputs": [],
   "source": []
  },
  {
   "cell_type": "code",
   "execution_count": null,
   "metadata": {},
   "outputs": [],
   "source": []
  },
  {
   "cell_type": "markdown",
   "metadata": {},
   "source": [
    "# Boxplot"
   ]
  },
  {
   "cell_type": "code",
   "execution_count": 300,
   "metadata": {},
   "outputs": [],
   "source": [
    "df_plot = df_rating.copy()\n",
    "df_plot = df_plot.iloc[:,0:32]\n",
    "df_plot.drop(df_plot.columns[1:6], axis = 1, inplace = True)"
   ]
  },
  {
   "cell_type": "code",
   "execution_count": 301,
   "metadata": {
    "scrolled": false
   },
   "outputs": [
    {
     "data": {
      "image/png": "[encoded data removed]",
      "text/plain": [
       "<Figure size 1080x1800 with 30 Axes>"
      ]
     },
     "metadata": {
      "needs_background": "light"
     },
     "output_type": "display_data"
    }
   ],
   "source": [
    "boxplot = df_plot.boxplot(by='Rating', figsize=(15,25))"
   ]
  },
  {
   "cell_type": "code",
   "execution_count": null,
   "metadata": {},
   "outputs": [],
   "source": []
  },
  {
   "cell_type": "code",
   "execution_count": null,
   "metadata": {},
   "outputs": [],
   "source": []
  },
  {
   "cell_type": "code",
   "execution_count": null,
   "metadata": {},
   "outputs": [],
   "source": []
  },
  {
   "cell_type": "code",
   "execution_count": null,
   "metadata": {},
   "outputs": [],
   "source": []
  },
  {
   "cell_type": "markdown",
   "metadata": {},
   "source": [
    "# PCA"
   ]
  },
  {
   "cell_type": "code",
   "execution_count": 302,
   "metadata": {},
   "outputs": [
    {
     "data": {
      "text/plain": [
       "'currentRatiolog'"
      ]
     },
     "execution_count": 302,
     "metadata": {},
     "output_type": "execute_result"
    }
   ],
   "source": [
    "df_rating.columns[32]"
   ]
  },
  {
   "cell_type": "code",
   "execution_count": 303,
   "metadata": {},
   "outputs": [],
   "source": [
    "from sklearn.preprocessing import StandardScaler"
   ]
  },
  {
   "cell_type": "code",
   "execution_count": 304,
   "metadata": {},
   "outputs": [],
   "source": [
    "features = df_rating.columns[6:32]\n",
    "\n",
    "# Separating out the features\n",
    "x = df_rating.loc[:, features].values\n",
    "# Separating out the target\n",
    "y = df_rating.loc[:,['Rating']].values\n",
    "# Standardizing the features\n",
    "# x = StandardScaler().fit_transform(x)"
   ]
  },
  {
   "cell_type": "code",
   "execution_count": 305,
   "metadata": {},
   "outputs": [],
   "source": [
    "from sklearn.decomposition import PCA\n",
    "pca = PCA(n_components=5)\n",
    "principalComponents = pca.fit_transform(x)\n",
    "principalDf = pd.DataFrame(data = principalComponents, columns = ['pca1', 'pca2','pca3','pca4','pca5'])"
   ]
  },
  {
   "cell_type": "code",
   "execution_count": 306,
   "metadata": {},
   "outputs": [],
   "source": [
    "finalDf = pd.concat([principalDf, df_rating[['Rating']]], axis = 1)"
   ]
  },
  {
   "cell_type": "code",
   "execution_count": 307,
   "metadata": {},
   "outputs": [
    {
     "data": {
      "image/png": "[encoded data removed]",
      "text/plain": [
       "<Figure size 576x576 with 1 Axes>"
      ]
     },
     "metadata": {
      "needs_background": "light"
     },
     "output_type": "display_data"
    }
   ],
   "source": [
    "fig = plt.figure(figsize = (8,8))\n",
    "ax = fig.add_subplot(1,1,1) \n",
    "ax.set_xlabel('Principal Component 1', fontsize = 15)\n",
    "ax.set_ylabel('Principal Component 2', fontsize = 15)\n",
    "ax.set_title('2 component PCA', fontsize = 20)\n",
    "targets = list(set(df_rating.Rating))\n",
    "colors = ['r', 'g', 'b','y', 'm']\n",
    "for target, color in zip(targets,colors):\n",
    "    indicesToKeep = finalDf['Rating'] == target\n",
    "    ax.scatter(finalDf.loc[indicesToKeep, 'pca1'], \n",
    "               finalDf.loc[indicesToKeep, 'pca2'], \n",
    "               c = color, \n",
    "               s = 50)\n",
    "\n",
    "ax.legend(targets)\n",
    "ax.grid()"
   ]
  },
  {
   "cell_type": "code",
   "execution_count": 308,
   "metadata": {},
   "outputs": [
    {
     "data": {
      "text/plain": [
       "0.9915312978518638"
      ]
     },
     "execution_count": 308,
     "metadata": {},
     "output_type": "execute_result"
    }
   ],
   "source": [
    "sum(pca.explained_variance_ratio_)"
   ]
  },
  {
   "cell_type": "code",
   "execution_count": 309,
   "metadata": {},
   "outputs": [],
   "source": [
    "# Load libraries\n",
    "from sklearn.linear_model import LogisticRegression\n",
    "from sklearn import datasets\n",
    "from sklearn.preprocessing import StandardScaler"
   ]
  },
  {
   "cell_type": "code",
   "execution_count": 311,
   "metadata": {},
   "outputs": [],
   "source": [
    "X_train, X_test, y_train, y_test = train_test_split(X, y, test_size=0.2, random_state=42)"
   ]
  },
  {
   "cell_type": "code",
   "execution_count": null,
   "metadata": {},
   "outputs": [],
   "source": []
  },
  {
   "cell_type": "code",
   "execution_count": null,
   "metadata": {},
   "outputs": [],
   "source": []
  },
  {
   "cell_type": "code",
   "execution_count": null,
   "metadata": {},
   "outputs": [],
   "source": []
  },
  {
   "cell_type": "code",
   "execution_count": null,
   "metadata": {},
   "outputs": [],
   "source": []
  },
  {
   "cell_type": "code",
   "execution_count": null,
   "metadata": {},
   "outputs": [],
   "source": []
  },
  {
   "cell_type": "code",
   "execution_count": null,
   "metadata": {},
   "outputs": [],
   "source": []
  },
  {
   "cell_type": "code",
   "execution_count": null,
   "metadata": {},
   "outputs": [],
   "source": []
  },
  {
   "cell_type": "markdown",
   "metadata": {},
   "source": [
    "# XGBOOST"
   ]
  },
  {
   "cell_type": "code",
   "execution_count": 687,
   "metadata": {},
   "outputs": [
    {
     "data": {
      "text/plain": [
       "671"
      ]
     },
     "execution_count": 687,
     "metadata": {},
     "output_type": "execute_result"
    }
   ],
   "source": [
    "# Separate majority and minority classes\n",
    "df_A = df_rating[df_rating.Rating == 'AA']\n",
    "df_AA = df_rating[df_rating.Rating == 'AA']\n",
    "df_B = df_rating[df_rating.Rating == 'B']\n",
    "df_BB = df_rating[df_rating.Rating == 'BB']\n",
    "df_BBB = df_rating[df_rating.Rating == 'BBB']\n",
    "df_CCC = df_rating[df_rating.Rating == 'CCC']\n",
    "df_upsampled = pd.concat([df_A, df_AA, df_AAA, df_B, df_BB, df_BBB, df_CCC])\n",
    "\n",
    "len(df_BBB)"
   ]
  },
  {
   "cell_type": "code",
   "execution_count": 688,
   "metadata": {},
   "outputs": [],
   "source": [
    "X, y = df_upsampled.iloc[:,6:32], df_upsampled.iloc[:,0]\n",
    "X_train, X_test, y_train, y_test = train_test_split(X, y, test_size=0.2, random_state=42)"
   ]
  },
  {
   "cell_type": "code",
   "execution_count": 689,
   "metadata": {},
   "outputs": [],
   "source": [
    "from sklearn.utils import resample\n",
    "\n",
    "# Upsample minority class\n",
    "df_A = resample(df_A, replace=True, n_samples=671, random_state=123) \n",
    "df_AA = resample(df_AA, replace=True, n_samples=671, random_state=123) \n",
    "df_AAA = resample(df_AAA, replace=True, n_samples=671, random_state=123) \n",
    "df_B = resample(df_B, replace=True, n_samples=671, random_state=123) \n",
    "df_BB = resample(df_BB, replace=True, n_samples=671, random_state=123) \n",
    "df_C = resample(df_C, replace=True, n_samples=671, random_state=123) \n",
    "df_CC = resample(df_CC, replace=True, n_samples=671, random_state=123) \n",
    "df_CCC = resample(df_CCC, replace=True, n_samples=671, random_state=123) \n",
    "\n",
    "# Combine majority class with upsampled minority class\n",
    "df_upsampled = pd.concat([df_A, df_AA, df_AAA, df_B, df_BB, df_BBB, df_CCC])\n"
   ]
  },
  {
   "cell_type": "code",
   "execution_count": 690,
   "metadata": {},
   "outputs": [],
   "source": [
    "from sklearn.datasets import make_classification\n",
    "from sklearn.ensemble import GradientBoostingClassifier\n",
    "from sklearn.model_selection import train_test_split"
   ]
  },
  {
   "cell_type": "code",
   "execution_count": 691,
   "metadata": {},
   "outputs": [],
   "source": [
    "import numpy as np\n",
    "from sklearn.model_selection import train_test_split\n",
    "from sklearn.model_selection import StratifiedShuffleSplit\n",
    "\n",
    "X, y = df_upsampled.iloc[:,6:32], df_upsampled.iloc[:,0]"
   ]
  },
  {
   "cell_type": "code",
   "execution_count": 692,
   "metadata": {},
   "outputs": [],
   "source": [
    "X_train, _, y_train, _ = train_test_split(X, y, test_size=0.2, random_state=42)"
   ]
  },
  {
   "cell_type": "code",
   "execution_count": 693,
   "metadata": {},
   "outputs": [
    {
     "data": {
      "text/plain": [
       "0.8659217877094972"
      ]
     },
     "execution_count": 693,
     "metadata": {},
     "output_type": "execute_result"
    }
   ],
   "source": [
    "clf = GradientBoostingClassifier(random_state=0)\n",
    "clf.fit(X_train, y_train)\n",
    "y_pred = clf.predict(X_test)\n",
    "clf.score(X_test, y_test)"
   ]
  },
  {
   "cell_type": "code",
   "execution_count": 694,
   "metadata": {},
   "outputs": [
    {
     "data": {
      "text/plain": [
       "array([[ 61,   2,   0,   0,   2,  10,   0],\n",
       "       [  0,  29,   0,   0,   0,   0,   0],\n",
       "       [  0,   0, 129,   0,   0,   0,   0],\n",
       "       [  0,   0,   0,  54,   4,   3,   0],\n",
       "       [  3,   3,   0,  10,  68,   9,   0],\n",
       "       [ 11,   0,   0,   5,   9, 112,   1],\n",
       "       [  0,   0,   0,   0,   0,   0,  12]], dtype=int64)"
      ]
     },
     "execution_count": 694,
     "metadata": {},
     "output_type": "execute_result"
    }
   ],
   "source": [
    "from sklearn.metrics import confusion_matrix\n",
    "confusion_matrix(y_test, y_pred)"
   ]
  },
  {
   "cell_type": "markdown",
   "metadata": {},
   "source": [
    "# Support Vector Machine"
   ]
  },
  {
   "cell_type": "code",
   "execution_count": 695,
   "metadata": {
    "scrolled": true
   },
   "outputs": [],
   "source": [
    "from sklearn import svm\n",
    "clf = svm.SVC(kernel='rbf', gamma= 2, C = 5)\n",
    "clf = clf.fit(X_train, y_train)"
   ]
  },
  {
   "cell_type": "code",
   "execution_count": 696,
   "metadata": {},
   "outputs": [
    {
     "name": "stdout",
     "output_type": "stream",
     "text": [
      "Accuracy: 0.8994413407821229\n"
     ]
    }
   ],
   "source": [
    "y_pred = clf.predict(X_test)\n",
    "print(\"Accuracy:\",metrics.accuracy_score(y_test, y_pred))"
   ]
  },
  {
   "cell_type": "markdown",
   "metadata": {},
   "source": [
    "# NN"
   ]
  },
  {
   "cell_type": "code",
   "execution_count": 697,
   "metadata": {},
   "outputs": [
    {
     "name": "stdout",
     "output_type": "stream",
     "text": [
      "Accuracy: 0.4208566108007449\n"
     ]
    }
   ],
   "source": [
    "from sklearn.neural_network import MLPClassifier\n",
    "clf = MLPClassifier(hidden_layer_sizes=(5,5,5), activation='logistic', solver='adam', max_iter=500).fit(X_train, y_train)\n",
    "clf = clf.fit(X_train, y_train)\n",
    "y_pred = clf.predict(X_test)\n",
    "print(\"Accuracy:\",metrics.accuracy_score(y_test, y_pred))"
   ]
  },
  {
   "cell_type": "markdown",
   "metadata": {},
   "source": [
    "# Naive Bayes"
   ]
  },
  {
   "cell_type": "code",
   "execution_count": 698,
   "metadata": {},
   "outputs": [
    {
     "name": "stdout",
     "output_type": "stream",
     "text": [
      "Accuracy: 0.25139664804469275\n"
     ]
    }
   ],
   "source": [
    "from sklearn.naive_bayes import GaussianNB\n",
    "# X_train, X_test, y_train, y_test = train_test_split(X, y, test_size=0.2, random_state=0)\n",
    "gnb = GaussianNB()\n",
    "y_pred = gnb.fit(X_train, y_train).predict(X_test)\n",
    "print(\"Accuracy:\",metrics.accuracy_score(y_test, y_pred))"
   ]
  },
  {
   "cell_type": "markdown",
   "metadata": {},
   "source": [
    "# KNN"
   ]
  },
  {
   "cell_type": "code",
   "execution_count": 699,
   "metadata": {},
   "outputs": [],
   "source": [
    "from sklearn.neighbors import KNeighborsClassifier\n",
    "neigh = KNeighborsClassifier(n_neighbors=15)\n",
    "neigh.fit(X_train,y_train)\n",
    "y_pred = neigh.predict(X_test)"
   ]
  },
  {
   "cell_type": "code",
   "execution_count": 700,
   "metadata": {},
   "outputs": [
    {
     "name": "stdout",
     "output_type": "stream",
     "text": [
      "Accuracy: 0.5493482309124768\n"
     ]
    }
   ],
   "source": [
    "#Import scikit-learn metrics module for accuracy calculation\n",
    "from sklearn import metrics\n",
    "# Model Accuracy, how often is the classifier correct?\n",
    "print(\"Accuracy:\",metrics.accuracy_score(y_test, y_pred))"
   ]
  },
  {
   "cell_type": "markdown",
   "metadata": {},
   "source": [
    "# Logistic Regression"
   ]
  },
  {
   "cell_type": "code",
   "execution_count": 701,
   "metadata": {},
   "outputs": [
    {
     "name": "stderr",
     "output_type": "stream",
     "text": [
      "C:\\Users\\hp\\Anaconda3\\lib\\site-packages\\sklearn\\utils\\optimize.py:203: ConvergenceWarning: newton-cg failed to converge. Increase the number of iterations.\n",
      "  \"number of iterations.\", ConvergenceWarning)\n"
     ]
    }
   ],
   "source": [
    "from sklearn.linear_model import LogisticRegression\n",
    "# X_train, y_test = load_iris(return_X_y=True)\n",
    "clf = LogisticRegression(random_state=0 , multi_class='multinomial', solver='newton-cg')\n",
    "model = clf.fit(X_train, y_train)"
   ]
  },
  {
   "cell_type": "code",
   "execution_count": 702,
   "metadata": {},
   "outputs": [],
   "source": [
    "y_pred= model.predict(X_test)"
   ]
  },
  {
   "cell_type": "code",
   "execution_count": 703,
   "metadata": {},
   "outputs": [
    {
     "name": "stdout",
     "output_type": "stream",
     "text": [
      "Accuracy: 0.4338919925512104\n"
     ]
    }
   ],
   "source": [
    "#Import scikit-learn metrics module for accuracy calculation\n",
    "from sklearn import metrics\n",
    "# Model Accuracy, how often is the classifier correct?\n",
    "print(\"Accuracy:\",metrics.accuracy_score(y_test, y_pred))"
   ]
  },
  {
   "cell_type": "markdown",
   "metadata": {},
   "source": [
    "# Random Forest"
   ]
  },
  {
   "cell_type": "code",
   "execution_count": 704,
   "metadata": {},
   "outputs": [],
   "source": [
    "#Import Random Forest Model\n",
    "from sklearn.ensemble import RandomForestClassifier\n",
    "\n",
    "#Create a Gaussian Classifier\n",
    "clf=RandomForestClassifier(n_estimators=100)\n",
    "\n",
    "#Train the model using the training sets y_pred=clf.predict(X_test)\n",
    "clf.fit(X_train,y_train)\n",
    "\n",
    "y_pred=clf.predict(X_test)"
   ]
  },
  {
   "cell_type": "code",
   "execution_count": 705,
   "metadata": {
    "scrolled": true
   },
   "outputs": [
    {
     "name": "stdout",
     "output_type": "stream",
     "text": [
      "Accuracy: 0.9329608938547486\n"
     ]
    }
   ],
   "source": [
    "#Import scikit-learn metrics module for accuracy calculation\n",
    "from sklearn import metrics\n",
    "# Model Accuracy, how often is the classifier correct?\n",
    "print(\"Accuracy:\",metrics.accuracy_score(y_test, y_pred))"
   ]
  },
  {
   "cell_type": "markdown",
   "metadata": {},
   "source": [
    "### LDA"
   ]
  },
  {
   "cell_type": "code",
   "execution_count": 706,
   "metadata": {},
   "outputs": [
    {
     "data": {
      "text/plain": [
       "LinearDiscriminantAnalysis(n_components=None, priors=None, shrinkage=None,\n",
       "                           solver='svd', store_covariance=False, tol=0.0001)"
      ]
     },
     "execution_count": 706,
     "metadata": {},
     "output_type": "execute_result"
    }
   ],
   "source": [
    "import numpy as np\n",
    "from sklearn.discriminant_analysis import LinearDiscriminantAnalysis\n",
    "clf = LinearDiscriminantAnalysis()\n",
    "clf.fit(X_train,y_train)"
   ]
  },
  {
   "cell_type": "code",
   "execution_count": 707,
   "metadata": {},
   "outputs": [],
   "source": [
    "y_pred=clf.predict(X_test)"
   ]
  },
  {
   "cell_type": "code",
   "execution_count": 708,
   "metadata": {
    "scrolled": true
   },
   "outputs": [
    {
     "name": "stdout",
     "output_type": "stream",
     "text": [
      "Accuracy: 0.4376163873370577\n"
     ]
    }
   ],
   "source": [
    "#Import scikit-learn metrics module for accuracy calculation\n",
    "from sklearn import metrics\n",
    "# Model Accuracy, how often is the classifier correct?\n",
    "print(\"Accuracy:\",metrics.accuracy_score(y_test, y_pred))"
   ]
  },
  {
   "cell_type": "markdown",
   "metadata": {},
   "source": [
    "# QDA"
   ]
  },
  {
   "cell_type": "code",
   "execution_count": 709,
   "metadata": {},
   "outputs": [
    {
     "name": "stderr",
     "output_type": "stream",
     "text": [
      "C:\\Users\\hp\\Anaconda3\\lib\\site-packages\\sklearn\\discriminant_analysis.py:693: UserWarning: Variables are collinear\n",
      "  warnings.warn(\"Variables are collinear\")\n"
     ]
    }
   ],
   "source": [
    "from sklearn.discriminant_analysis import QuadraticDiscriminantAnalysis\n",
    "clf = QuadraticDiscriminantAnalysis()\n",
    "clf.fit(X_train,y_train)\n",
    "y_pred=clf.predict(X_test)"
   ]
  },
  {
   "cell_type": "code",
   "execution_count": 710,
   "metadata": {},
   "outputs": [
    {
     "name": "stdout",
     "output_type": "stream",
     "text": [
      "Accuracy: 0.3929236499068901\n"
     ]
    }
   ],
   "source": [
    "#Import scikit-learn metrics module for accuracy calculation\n",
    "from sklearn import metrics\n",
    "# Model Accuracy, how often is the classifier correct?\n",
    "print(\"Accuracy:\",metrics.accuracy_score(y_test, y_pred))"
   ]
  },
  {
   "cell_type": "code",
   "execution_count": null,
   "metadata": {},
   "outputs": [],
   "source": []
  }
 ],
 "metadata": {
  "kernelspec": {
   "display_name": "Python 3",
   "language": "python",
   "name": "python3"
  },
  "language_info": {
   "codemirror_mode": {
    "name": "ipython",
    "version": 3
   },
   "file_extension": ".py",
   "mimetype": "text/x-python",
   "name": "python",
   "nbconvert_exporter": "python",
   "pygments_lexer": "ipython3",
   "version": "3.7.4"
  }
 },
 "nbformat": 4,
 "nbformat_minor": 2
}
