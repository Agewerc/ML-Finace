{
 "cells": [
  {
   "cell_type": "markdown",
   "metadata": {},
   "source": [
    "# Corporate Credit Rating Prediction\n",
    "\n",
    "Is it possible to predict the credit rating of a company with its financial Ratios?\n",
    "\n",
    "\n",
    "\n",
    "## The Dataset\n",
    "\n",
    "- **Liquidity Measurement Ratios**: currentRatio, quickRatio, cashRatio, daysOfSalesOutstanding, daysOfInventoryOutstanding, operatingCycle, daysOfPayablesOutstanding, cashConversionCycle\n",
    "\n",
    "- **Profitability Indicator Ratios**: grossProfitMargin, operatingProfitMargin, pretaxProfitMargin, netProfitMargin, effectiveTaxRate, returnOnAssets, returnOnEquity, returnOnCapitalEmployed, netIncomePerEBT, ebtPerEbit, ebitPerRevenue\n",
    "\n",
    "- **Debt Ratios**: debtRatio, debtEquityRatio, longTermDebtToCapitalization, totalDebtToCapitalization, interestCoverage, cashFlowToDebtRatio, companyEquityMultiplier\n",
    "\n",
    "- **Operating Performance Ratios**: receivablesTurnover, payablesTurnover, inventoryTurnover, fixedAssetTurnover, assetTurnover Cash Flow Indicator Ratios: operatingCashFlowPerShare, freeCashFlowPerShare, cashPerShare, payoutRatio, operatingCashFlowSalesRatio, freeCashFlowOperatingCashFlowRatio, cashFlowCoverageRatios, shortTermCoverageRatios, capitalExpenditureCoverageRatio, dividendPaidAndCapexCoverageRatio, dividendPayoutRatio\n"
   ]
  },
  {
   "cell_type": "markdown",
   "metadata": {},
   "source": [
    "#### Import Libraries"
   ]
  },
  {
   "cell_type": "code",
   "execution_count": 648,
   "metadata": {},
   "outputs": [],
   "source": [
    "import pandas as pd\n",
    "import matplotlib.pyplot as plt\n",
    "import re\n",
    "import numpy as np"
   ]
  },
  {
   "cell_type": "markdown",
   "metadata": {},
   "source": [
    "## Data Exploration"
   ]
  },
  {
   "cell_type": "code",
   "execution_count": 649,
   "metadata": {},
   "outputs": [],
   "source": [
    "df_rating = pd.read_csv('data/rating_dataframe.csv')"
   ]
  },
  {
   "cell_type": "code",
   "execution_count": 650,
   "metadata": {},
   "outputs": [
    {
     "data": {
      "text/plain": [
       "<matplotlib.axes._subplots.AxesSubplot at 0x1d87c13ea08>"
      ]
     },
     "execution_count": 650,
     "metadata": {},
     "output_type": "execute_result"
    },
    {
     "data": {
      "image/png": "[encoded data removed]",
      "text/plain": [
       "<Figure size 432x288 with 1 Axes>"
      ]
     },
     "metadata": {
      "needs_background": "light"
     },
     "output_type": "display_data"
    }
   ],
   "source": [
    "df_rating_summary = df_rating.groupby('Rating').count().reset_index()\n",
    "df_rating_summary.plot.bar(x='Rating', y = 'Name')"
   ]
  },
  {
   "cell_type": "markdown",
   "metadata": {},
   "source": [
    "It is better to join all the A's together. "
   ]
  },
  {
   "cell_type": "code",
   "execution_count": 653,
   "metadata": {},
   "outputs": [],
   "source": [
    "df_rating.loc[df_rating['Rating'] == 'AA','Rating'] = 'A' \n",
    "df_rating.loc[df_rating['Rating'] == 'AAA','Rating'] = 'A' \n",
    "df_rating.loc[df_rating['Rating'] == 'CC','Rating'] = 'C' \n",
    "df_rating.loc[df_rating['Rating'] == 'CCC','Rating'] = 'C' \n",
    "df_rating.loc[df_rating['Rating'] == 'D','Rating'] = 'C'"
   ]
  },
  {
   "cell_type": "markdown",
   "metadata": {},
   "source": [
    "### EDA"
   ]
  },
  {
   "cell_type": "code",
   "execution_count": 484,
   "metadata": {
    "scrolled": true
   },
   "outputs": [
    {
     "data": {
      "text/html": [
       "<div>\n",
       "<style scoped>\n",
       "    .dataframe tbody tr th:only-of-type {\n",
       "        vertical-align: middle;\n",
       "    }\n",
       "\n",
       "    .dataframe tbody tr th {\n",
       "        vertical-align: top;\n",
       "    }\n",
       "\n",
       "    .dataframe thead th {\n",
       "        text-align: right;\n",
       "    }\n",
       "</style>\n",
       "<table border=\"1\" class=\"dataframe\">\n",
       "  <thead>\n",
       "    <tr style=\"text-align: right;\">\n",
       "      <th></th>\n",
       "      <th>currentRatio</th>\n",
       "      <th>quickRatio</th>\n",
       "      <th>cashRatio</th>\n",
       "      <th>daysOfSalesOutstanding</th>\n",
       "      <th>netProfitMargin</th>\n",
       "      <th>pretaxProfitMargin</th>\n",
       "      <th>grossProfitMargin</th>\n",
       "      <th>operatingProfitMargin</th>\n",
       "      <th>returnOnAssets</th>\n",
       "      <th>returnOnCapitalEmployed</th>\n",
       "      <th>...</th>\n",
       "      <th>freeCashFlowOperatingCashFlowRatio</th>\n",
       "      <th>freeCashFlowPerShare</th>\n",
       "      <th>cashPerShare</th>\n",
       "      <th>companyEquityMultiplier</th>\n",
       "      <th>ebitPerRevenue</th>\n",
       "      <th>enterpriseValueMultiple</th>\n",
       "      <th>operatingCashFlowPerShare</th>\n",
       "      <th>operatingCashFlowSalesRatio</th>\n",
       "      <th>payablesTurnover</th>\n",
       "      <th>payoutRatio</th>\n",
       "    </tr>\n",
       "  </thead>\n",
       "  <tbody>\n",
       "    <tr>\n",
       "      <td>count</td>\n",
       "      <td>2029.000000</td>\n",
       "      <td>2029.000000</td>\n",
       "      <td>2029.000000</td>\n",
       "      <td>2029.000000</td>\n",
       "      <td>2029.000000</td>\n",
       "      <td>2029.000000</td>\n",
       "      <td>2029.000000</td>\n",
       "      <td>2029.000000</td>\n",
       "      <td>2029.000000</td>\n",
       "      <td>2029.000000</td>\n",
       "      <td>...</td>\n",
       "      <td>2029.000000</td>\n",
       "      <td>2.029000e+03</td>\n",
       "      <td>2.029000e+03</td>\n",
       "      <td>2029.000000</td>\n",
       "      <td>2029.000000</td>\n",
       "      <td>2029.000000</td>\n",
       "      <td>2.029000e+03</td>\n",
       "      <td>2029.000000</td>\n",
       "      <td>2029.000000</td>\n",
       "      <td>2029.000000</td>\n",
       "    </tr>\n",
       "    <tr>\n",
       "      <td>mean</td>\n",
       "      <td>3.529607</td>\n",
       "      <td>2.653986</td>\n",
       "      <td>0.667364</td>\n",
       "      <td>333.795606</td>\n",
       "      <td>0.278447</td>\n",
       "      <td>0.431483</td>\n",
       "      <td>0.497968</td>\n",
       "      <td>0.587322</td>\n",
       "      <td>-37.517928</td>\n",
       "      <td>-73.974193</td>\n",
       "      <td>...</td>\n",
       "      <td>0.409550</td>\n",
       "      <td>5.094719e+03</td>\n",
       "      <td>4.227549e+03</td>\n",
       "      <td>3.323579</td>\n",
       "      <td>0.437454</td>\n",
       "      <td>48.287985</td>\n",
       "      <td>6.515123e+03</td>\n",
       "      <td>1.447653</td>\n",
       "      <td>38.002718</td>\n",
       "      <td>-0.085374</td>\n",
       "    </tr>\n",
       "    <tr>\n",
       "      <td>std</td>\n",
       "      <td>44.052361</td>\n",
       "      <td>32.944817</td>\n",
       "      <td>3.583943</td>\n",
       "      <td>4447.839583</td>\n",
       "      <td>6.064134</td>\n",
       "      <td>8.984982</td>\n",
       "      <td>0.525307</td>\n",
       "      <td>11.224622</td>\n",
       "      <td>1166.172220</td>\n",
       "      <td>2350.275719</td>\n",
       "      <td>...</td>\n",
       "      <td>3.796488</td>\n",
       "      <td>1.469156e+05</td>\n",
       "      <td>1.224000e+05</td>\n",
       "      <td>87.529866</td>\n",
       "      <td>8.984299</td>\n",
       "      <td>529.118961</td>\n",
       "      <td>1.775290e+05</td>\n",
       "      <td>19.483294</td>\n",
       "      <td>758.923588</td>\n",
       "      <td>40.443603</td>\n",
       "    </tr>\n",
       "    <tr>\n",
       "      <td>min</td>\n",
       "      <td>-0.932005</td>\n",
       "      <td>-1.893266</td>\n",
       "      <td>-0.192736</td>\n",
       "      <td>-811.845623</td>\n",
       "      <td>-101.845815</td>\n",
       "      <td>-124.343612</td>\n",
       "      <td>-14.800817</td>\n",
       "      <td>-124.343612</td>\n",
       "      <td>-40213.178290</td>\n",
       "      <td>-87162.162160</td>\n",
       "      <td>...</td>\n",
       "      <td>-120.916010</td>\n",
       "      <td>-4.912742e+03</td>\n",
       "      <td>-1.915035e+01</td>\n",
       "      <td>-2555.419643</td>\n",
       "      <td>-124.343612</td>\n",
       "      <td>-3749.921337</td>\n",
       "      <td>-1.195049e+04</td>\n",
       "      <td>-4.461837</td>\n",
       "      <td>-76.662850</td>\n",
       "      <td>-1735.047170</td>\n",
       "    </tr>\n",
       "    <tr>\n",
       "      <td>25%</td>\n",
       "      <td>1.071930</td>\n",
       "      <td>0.602825</td>\n",
       "      <td>0.130630</td>\n",
       "      <td>22.905093</td>\n",
       "      <td>0.021006</td>\n",
       "      <td>0.025649</td>\n",
       "      <td>0.233127</td>\n",
       "      <td>0.044610</td>\n",
       "      <td>0.019176</td>\n",
       "      <td>0.028112</td>\n",
       "      <td>...</td>\n",
       "      <td>0.271478</td>\n",
       "      <td>4.119924e-01</td>\n",
       "      <td>1.566038e+00</td>\n",
       "      <td>2.046822</td>\n",
       "      <td>0.028057</td>\n",
       "      <td>6.238066</td>\n",
       "      <td>2.356735e+00</td>\n",
       "      <td>0.073886</td>\n",
       "      <td>2.205912</td>\n",
       "      <td>0.000000</td>\n",
       "    </tr>\n",
       "    <tr>\n",
       "      <td>50%</td>\n",
       "      <td>1.493338</td>\n",
       "      <td>0.985679</td>\n",
       "      <td>0.297493</td>\n",
       "      <td>42.374120</td>\n",
       "      <td>0.064753</td>\n",
       "      <td>0.084965</td>\n",
       "      <td>0.414774</td>\n",
       "      <td>0.107895</td>\n",
       "      <td>0.045608</td>\n",
       "      <td>0.074421</td>\n",
       "      <td>...</td>\n",
       "      <td>0.644529</td>\n",
       "      <td>2.131742e+00</td>\n",
       "      <td>3.686513e+00</td>\n",
       "      <td>2.652456</td>\n",
       "      <td>0.087322</td>\n",
       "      <td>9.274398</td>\n",
       "      <td>4.352584e+00</td>\n",
       "      <td>0.133050</td>\n",
       "      <td>5.759722</td>\n",
       "      <td>0.212845</td>\n",
       "    </tr>\n",
       "    <tr>\n",
       "      <td>75%</td>\n",
       "      <td>2.166891</td>\n",
       "      <td>1.453820</td>\n",
       "      <td>0.624906</td>\n",
       "      <td>59.323563</td>\n",
       "      <td>0.114807</td>\n",
       "      <td>0.144763</td>\n",
       "      <td>0.849693</td>\n",
       "      <td>0.176181</td>\n",
       "      <td>0.077468</td>\n",
       "      <td>0.135036</td>\n",
       "      <td>...</td>\n",
       "      <td>0.836949</td>\n",
       "      <td>4.230253e+00</td>\n",
       "      <td>8.086152e+00</td>\n",
       "      <td>3.658331</td>\n",
       "      <td>0.149355</td>\n",
       "      <td>12.911759</td>\n",
       "      <td>7.319759e+00</td>\n",
       "      <td>0.240894</td>\n",
       "      <td>9.480892</td>\n",
       "      <td>0.465593</td>\n",
       "    </tr>\n",
       "    <tr>\n",
       "      <td>max</td>\n",
       "      <td>1725.505005</td>\n",
       "      <td>1139.541703</td>\n",
       "      <td>125.917417</td>\n",
       "      <td>115961.637400</td>\n",
       "      <td>198.517873</td>\n",
       "      <td>309.694856</td>\n",
       "      <td>2.702533</td>\n",
       "      <td>410.182214</td>\n",
       "      <td>0.487826</td>\n",
       "      <td>2.439504</td>\n",
       "      <td>...</td>\n",
       "      <td>34.594086</td>\n",
       "      <td>5.753380e+06</td>\n",
       "      <td>4.786803e+06</td>\n",
       "      <td>2562.871795</td>\n",
       "      <td>309.694856</td>\n",
       "      <td>11153.607090</td>\n",
       "      <td>6.439270e+06</td>\n",
       "      <td>688.526591</td>\n",
       "      <td>20314.880400</td>\n",
       "      <td>412.136640</td>\n",
       "    </tr>\n",
       "  </tbody>\n",
       "</table>\n",
       "<p>8 rows × 26 columns</p>\n",
       "</div>"
      ],
      "text/plain": [
       "       currentRatio   quickRatio    cashRatio  daysOfSalesOutstanding  \\\n",
       "count   2029.000000  2029.000000  2029.000000             2029.000000   \n",
       "mean       3.529607     2.653986     0.667364              333.795606   \n",
       "std       44.052361    32.944817     3.583943             4447.839583   \n",
       "min       -0.932005    -1.893266    -0.192736             -811.845623   \n",
       "25%        1.071930     0.602825     0.130630               22.905093   \n",
       "50%        1.493338     0.985679     0.297493               42.374120   \n",
       "75%        2.166891     1.453820     0.624906               59.323563   \n",
       "max     1725.505005  1139.541703   125.917417           115961.637400   \n",
       "\n",
       "       netProfitMargin  pretaxProfitMargin  grossProfitMargin  \\\n",
       "count      2029.000000         2029.000000        2029.000000   \n",
       "mean          0.278447            0.431483           0.497968   \n",
       "std           6.064134            8.984982           0.525307   \n",
       "min        -101.845815         -124.343612         -14.800817   \n",
       "25%           0.021006            0.025649           0.233127   \n",
       "50%           0.064753            0.084965           0.414774   \n",
       "75%           0.114807            0.144763           0.849693   \n",
       "max         198.517873          309.694856           2.702533   \n",
       "\n",
       "       operatingProfitMargin  returnOnAssets  returnOnCapitalEmployed  ...  \\\n",
       "count            2029.000000     2029.000000              2029.000000  ...   \n",
       "mean                0.587322      -37.517928               -73.974193  ...   \n",
       "std                11.224622     1166.172220              2350.275719  ...   \n",
       "min              -124.343612   -40213.178290            -87162.162160  ...   \n",
       "25%                 0.044610        0.019176                 0.028112  ...   \n",
       "50%                 0.107895        0.045608                 0.074421  ...   \n",
       "75%                 0.176181        0.077468                 0.135036  ...   \n",
       "max               410.182214        0.487826                 2.439504  ...   \n",
       "\n",
       "       freeCashFlowOperatingCashFlowRatio  freeCashFlowPerShare  cashPerShare  \\\n",
       "count                         2029.000000          2.029000e+03  2.029000e+03   \n",
       "mean                             0.409550          5.094719e+03  4.227549e+03   \n",
       "std                              3.796488          1.469156e+05  1.224000e+05   \n",
       "min                           -120.916010         -4.912742e+03 -1.915035e+01   \n",
       "25%                              0.271478          4.119924e-01  1.566038e+00   \n",
       "50%                              0.644529          2.131742e+00  3.686513e+00   \n",
       "75%                              0.836949          4.230253e+00  8.086152e+00   \n",
       "max                             34.594086          5.753380e+06  4.786803e+06   \n",
       "\n",
       "       companyEquityMultiplier  ebitPerRevenue  enterpriseValueMultiple  \\\n",
       "count              2029.000000     2029.000000              2029.000000   \n",
       "mean                  3.323579        0.437454                48.287985   \n",
       "std                  87.529866        8.984299               529.118961   \n",
       "min               -2555.419643     -124.343612             -3749.921337   \n",
       "25%                   2.046822        0.028057                 6.238066   \n",
       "50%                   2.652456        0.087322                 9.274398   \n",
       "75%                   3.658331        0.149355                12.911759   \n",
       "max                2562.871795      309.694856             11153.607090   \n",
       "\n",
       "       operatingCashFlowPerShare  operatingCashFlowSalesRatio  \\\n",
       "count               2.029000e+03                  2029.000000   \n",
       "mean                6.515123e+03                     1.447653   \n",
       "std                 1.775290e+05                    19.483294   \n",
       "min                -1.195049e+04                    -4.461837   \n",
       "25%                 2.356735e+00                     0.073886   \n",
       "50%                 4.352584e+00                     0.133050   \n",
       "75%                 7.319759e+00                     0.240894   \n",
       "max                 6.439270e+06                   688.526591   \n",
       "\n",
       "       payablesTurnover  payoutRatio  \n",
       "count       2029.000000  2029.000000  \n",
       "mean          38.002718    -0.085374  \n",
       "std          758.923588    40.443603  \n",
       "min          -76.662850 -1735.047170  \n",
       "25%            2.205912     0.000000  \n",
       "50%            5.759722     0.212845  \n",
       "75%            9.480892     0.465593  \n",
       "max        20314.880400   412.136640  \n",
       "\n",
       "[8 rows x 26 columns]"
      ]
     },
     "execution_count": 484,
     "metadata": {},
     "output_type": "execute_result"
    }
   ],
   "source": [
    "df_rating.describe()"
   ]
  },
  {
   "cell_type": "code",
   "execution_count": 485,
   "metadata": {},
   "outputs": [
    {
     "data": {
      "text/plain": [
       "currentRatio                          34.338889\n",
       "quickRatio                            30.925641\n",
       "cashRatio                             27.098772\n",
       "daysOfSalesOutstanding                20.399567\n",
       "netProfitMargin                       17.619910\n",
       "pretaxProfitMargin                    22.096334\n",
       "grossProfitMargin                    -14.203446\n",
       "operatingProfitMargin                 26.493892\n",
       "returnOnAssets                       -32.112571\n",
       "returnOnCapitalEmployed              -33.318531\n",
       "returnOnEquity                        31.702500\n",
       "assetTurnover                         26.020347\n",
       "fixedAssetTurnover                    26.120457\n",
       "debtEquityRatio                        0.268993\n",
       "debtRatio                              1.285251\n",
       "effectiveTaxRate                      32.308742\n",
       "freeCashFlowOperatingCashFlowRatio   -22.913129\n",
       "freeCashFlowPerShare                  33.677207\n",
       "cashPerShare                          34.025861\n",
       "companyEquityMultiplier                0.269093\n",
       "ebitPerRevenue                        22.099452\n",
       "enterpriseValueMultiple               13.948016\n",
       "operatingCashFlowPerShare             30.352915\n",
       "operatingCashFlowSalesRatio           25.450452\n",
       "payablesTurnover                      25.919588\n",
       "payoutRatio                          -38.225242\n",
       "dtype: float64"
      ]
     },
     "execution_count": 485,
     "metadata": {},
     "output_type": "execute_result"
    }
   ],
   "source": [
    "skewValue = df_rating.skew(axis=0)\n",
    "skewValue"
   ]
  },
  {
   "cell_type": "code",
   "execution_count": 486,
   "metadata": {},
   "outputs": [
    {
     "data": {
      "image/png": "[encoded data removed]",
      "text/plain": [
       "<Figure size 648x360 with 8 Axes>"
      ]
     },
     "metadata": {
      "needs_background": "light"
     },
     "output_type": "display_data"
    }
   ],
   "source": [
    "figure, axes = plt.subplots(nrows=2, ncols=4, figsize=(9,5))\n",
    "axes[0, 0].hist(df_rating.currentRatio)\n",
    "axes[0, 1].hist(df_rating.returnOnEquity)\n",
    "axes[1, 0].hist(df_rating.freeCashFlowPerShare)\n",
    "axes[1, 1].hist(df_rating.payablesTurnover)\n",
    "\n",
    "axes[0, 2].boxplot(df_rating.currentRatio)\n",
    "axes[1, 2].boxplot(df_rating.returnOnEquity)\n",
    "axes[0, 3].boxplot(df_rating.freeCashFlowPerShare)\n",
    "axes[1, 3].boxplot(df_rating.payablesTurnover)\n",
    "\n",
    "figure.tight_layout()"
   ]
  },
  {
   "cell_type": "markdown",
   "metadata": {},
   "source": [
    "#### Log conversion"
   ]
  },
  {
   "cell_type": "code",
   "execution_count": 487,
   "metadata": {},
   "outputs": [],
   "source": [
    "from sklearn import preprocessing"
   ]
  },
  {
   "cell_type": "code",
   "execution_count": 488,
   "metadata": {},
   "outputs": [],
   "source": [
    "columns = df_rating.columns[6:]"
   ]
  },
  {
   "cell_type": "code",
   "execution_count": 489,
   "metadata": {},
   "outputs": [],
   "source": [
    "min_max_scaler = preprocessing.MinMaxScaler()\n",
    "\n",
    "for c in columns:\n",
    "    \n",
    "    float_array = df_rating[[c]].copy().values.astype(float)\n",
    "    min_max_scaler = preprocessing.MinMaxScaler()\n",
    "    scaled_array = min_max_scaler.fit_transform(float_array) + 0.1\n",
    "    df_rating[c + 'log'] = scaled_array\n",
    "    df_rating[c + 'log'] = df_rating[c + 'log'].apply(np.log)"
   ]
  },
  {
   "cell_type": "code",
   "execution_count": 490,
   "metadata": {},
   "outputs": [
    {
     "data": {
      "image/png": "[encoded data removed]",
      "text/plain": [
       "<Figure size 648x360 with 8 Axes>"
      ]
     },
     "metadata": {
      "needs_background": "light"
     },
     "output_type": "display_data"
    }
   ],
   "source": [
    "figure, axes = plt.subplots(nrows=2, ncols=4, figsize=(9,5))\n",
    "axes[0, 0].hist(df_rating.currentRatiolog)\n",
    "axes[0, 1].hist(df_rating.returnOnEquitylog)\n",
    "axes[1, 0].hist(df_rating.freeCashFlowPerSharelog)\n",
    "axes[1, 1].hist(df_rating.payablesTurnoverlog)\n",
    "\n",
    "axes[0, 2].boxplot(df_rating.currentRatiolog)\n",
    "axes[1, 2].boxplot(df_rating.returnOnEquitylog)\n",
    "axes[0, 3].boxplot(df_rating.freeCashFlowPerSharelog)\n",
    "axes[1, 3].boxplot(df_rating.payablesTurnoverlog)\n",
    "\n",
    "figure.tight_layout()"
   ]
  },
  {
   "cell_type": "markdown",
   "metadata": {},
   "source": [
    "# Remove Outlieres - change replace by mean!!!!!"
   ]
  },
  {
   "cell_type": "code",
   "execution_count": 491,
   "metadata": {},
   "outputs": [],
   "source": [
    "#------------------------------------------------------------------------------\n",
    "# accept a dataframe, remove outliers, return cleaned data in a new dataframe\n",
    "# see http://www.itl.nist.gov/div898/handbook/prc/section1/prc16.htm\n",
    "#------------------------------------------------------------------------------\n",
    "from random import sample \n",
    "\n",
    "def remove_outlier(df_in, col_name):\n",
    "    q1 = df_in[col_name].quantile(0.25)\n",
    "    q3 = df_in[col_name].quantile(0.75)\n",
    "    q5 = df_in[col_name].quantile(0.5)\n",
    "    iqr = q3-q1 #Interquartile range\n",
    "    fence_low  = q3-1.5*iqr\n",
    "    fence_high = q1+1.5*iqr\n",
    "    \n",
    "    \n",
    "    df_in.loc[(df_in[col_name] < fence_low),col_name] = sample(list(df_in.loc[(df_in[col_name] > fence_low) & \n",
    "                                                                              (df_in[col_name] < q5),\n",
    "                                                                              col_name]),\n",
    "                                                               len(df_in.loc[(df_in[col_name] < fence_low),col_name]))\n",
    "    \n",
    "    \n",
    "    df_in.loc[(df_in[col_name] > fence_high),col_name] = sample(list(df_in.loc[(df_in[col_name] > q5) & \n",
    "                                                                              (df_in[col_name] < fence_high),\n",
    "                                                                              col_name]),\n",
    "                                                                len(df_in.loc[(df_in[col_name] > fence_high),col_name]))\n",
    "\n",
    "    \n",
    "    return df_in"
   ]
  },
  {
   "cell_type": "code",
   "execution_count": 492,
   "metadata": {},
   "outputs": [],
   "source": [
    "for c in df_rating.columns[6:58]:\n",
    "    df_rating = remove_outlier(df_rating, c)"
   ]
  },
  {
   "cell_type": "code",
   "execution_count": 493,
   "metadata": {},
   "outputs": [
    {
     "data": {
      "image/png": "[encoded data removed]",
      "text/plain": [
       "<Figure size 648x360 with 8 Axes>"
      ]
     },
     "metadata": {
      "needs_background": "light"
     },
     "output_type": "display_data"
    }
   ],
   "source": [
    "figure, axes = plt.subplots(nrows=2, ncols=4, figsize=(9,5))\n",
    "axes[0, 0].hist(df_rating.currentRatiolog)\n",
    "axes[0, 1].hist(df_rating.returnOnEquitylog)\n",
    "axes[1, 0].hist(df_rating.freeCashFlowPerSharelog)\n",
    "axes[1, 1].hist(df_rating.payablesTurnoverlog)\n",
    "\n",
    "axes[0, 2].boxplot(df_rating.currentRatiolog)\n",
    "axes[1, 2].boxplot(df_rating.returnOnEquitylog)\n",
    "axes[0, 3].boxplot(df_rating.freeCashFlowPerSharelog)\n",
    "axes[1, 3].boxplot(df_rating.payablesTurnoverlog)\n",
    "\n",
    "figure.tight_layout()"
   ]
  },
  {
   "cell_type": "markdown",
   "metadata": {},
   "source": [
    "# Analyse Relations"
   ]
  },
  {
   "cell_type": "code",
   "execution_count": 654,
   "metadata": {},
   "outputs": [],
   "source": [
    "df_rating.colors = 'a'\n",
    "df_rating.loc[df_rating['Rating'] == 'A', 'color'] = 'r'\n",
    "df_rating.loc[df_rating['Rating'] == 'B', 'color'] = 'g'\n",
    "df_rating.loc[df_rating['Rating'] == 'BB', 'color'] = 'b'\n",
    "df_rating.loc[df_rating['Rating'] == 'BBB','color'] = 'y'\n",
    "df_rating.loc[df_rating['Rating'] == 'C', 'color'] = 'm'"
   ]
  },
  {
   "cell_type": "code",
   "execution_count": 655,
   "metadata": {},
   "outputs": [
    {
     "data": {
      "image/png": "[encoded data removed]",
      "text/plain": [
       "<Figure size 432x288 with 1 Axes>"
      ]
     },
     "metadata": {
      "needs_background": "light"
     },
     "output_type": "display_data"
    }
   ],
   "source": [
    "plt.scatter(df_rating.debtRatio, df_rating.returnOnCapitalEmployed, c = df_rating.color, alpha=0.5)\n",
    "plt.show()"
   ]
  },
  {
   "cell_type": "code",
   "execution_count": null,
   "metadata": {},
   "outputs": [],
   "source": []
  },
  {
   "cell_type": "code",
   "execution_count": 656,
   "metadata": {},
   "outputs": [
    {
     "data": {
      "text/html": [
       "<div>\n",
       "<style scoped>\n",
       "    .dataframe tbody tr th:only-of-type {\n",
       "        vertical-align: middle;\n",
       "    }\n",
       "\n",
       "    .dataframe tbody tr th {\n",
       "        vertical-align: top;\n",
       "    }\n",
       "\n",
       "    .dataframe thead th {\n",
       "        text-align: right;\n",
       "    }\n",
       "</style>\n",
       "<table border=\"1\" class=\"dataframe\">\n",
       "  <thead>\n",
       "    <tr style=\"text-align: right;\">\n",
       "      <th></th>\n",
       "      <th>currentRatio</th>\n",
       "      <th>quickRatio</th>\n",
       "      <th>cashRatio</th>\n",
       "      <th>daysOfSalesOutstanding</th>\n",
       "      <th>netProfitMargin</th>\n",
       "      <th>pretaxProfitMargin</th>\n",
       "      <th>grossProfitMargin</th>\n",
       "      <th>operatingProfitMargin</th>\n",
       "      <th>returnOnAssets</th>\n",
       "      <th>returnOnCapitalEmployed</th>\n",
       "      <th>...</th>\n",
       "      <th>freeCashFlowOperatingCashFlowRatio</th>\n",
       "      <th>freeCashFlowPerShare</th>\n",
       "      <th>cashPerShare</th>\n",
       "      <th>companyEquityMultiplier</th>\n",
       "      <th>ebitPerRevenue</th>\n",
       "      <th>enterpriseValueMultiple</th>\n",
       "      <th>operatingCashFlowPerShare</th>\n",
       "      <th>operatingCashFlowSalesRatio</th>\n",
       "      <th>payablesTurnover</th>\n",
       "      <th>payoutRatio</th>\n",
       "    </tr>\n",
       "    <tr>\n",
       "      <th>Rating</th>\n",
       "      <th></th>\n",
       "      <th></th>\n",
       "      <th></th>\n",
       "      <th></th>\n",
       "      <th></th>\n",
       "      <th></th>\n",
       "      <th></th>\n",
       "      <th></th>\n",
       "      <th></th>\n",
       "      <th></th>\n",
       "      <th></th>\n",
       "      <th></th>\n",
       "      <th></th>\n",
       "      <th></th>\n",
       "      <th></th>\n",
       "      <th></th>\n",
       "      <th></th>\n",
       "      <th></th>\n",
       "      <th></th>\n",
       "      <th></th>\n",
       "      <th></th>\n",
       "    </tr>\n",
       "  </thead>\n",
       "  <tbody>\n",
       "    <tr>\n",
       "      <td>A</td>\n",
       "      <td>1.582488</td>\n",
       "      <td>1.319443</td>\n",
       "      <td>0.384451</td>\n",
       "      <td>146.185191</td>\n",
       "      <td>0.501051</td>\n",
       "      <td>0.727365</td>\n",
       "      <td>0.571547</td>\n",
       "      <td>0.873227</td>\n",
       "      <td>0.075845</td>\n",
       "      <td>0.142525</td>\n",
       "      <td>...</td>\n",
       "      <td>0.635231</td>\n",
       "      <td>36.091431</td>\n",
       "      <td>72.674702</td>\n",
       "      <td>3.475711</td>\n",
       "      <td>0.729752</td>\n",
       "      <td>10.883940</td>\n",
       "      <td>166.683415</td>\n",
       "      <td>1.243853</td>\n",
       "      <td>126.370992</td>\n",
       "      <td>0.318390</td>\n",
       "    </tr>\n",
       "    <tr>\n",
       "      <td>B</td>\n",
       "      <td>5.431595</td>\n",
       "      <td>1.830320</td>\n",
       "      <td>0.634058</td>\n",
       "      <td>67.385079</td>\n",
       "      <td>0.141831</td>\n",
       "      <td>0.211195</td>\n",
       "      <td>0.499278</td>\n",
       "      <td>0.248749</td>\n",
       "      <td>-118.765198</td>\n",
       "      <td>-208.882685</td>\n",
       "      <td>...</td>\n",
       "      <td>0.027576</td>\n",
       "      <td>52.968464</td>\n",
       "      <td>90.703789</td>\n",
       "      <td>-6.805406</td>\n",
       "      <td>0.218886</td>\n",
       "      <td>148.564115</td>\n",
       "      <td>-13.168759</td>\n",
       "      <td>0.639844</td>\n",
       "      <td>8.048441</td>\n",
       "      <td>0.317992</td>\n",
       "    </tr>\n",
       "    <tr>\n",
       "      <td>BB</td>\n",
       "      <td>2.579726</td>\n",
       "      <td>6.165528</td>\n",
       "      <td>0.937828</td>\n",
       "      <td>950.263229</td>\n",
       "      <td>-0.281538</td>\n",
       "      <td>-0.334636</td>\n",
       "      <td>0.446694</td>\n",
       "      <td>-0.225784</td>\n",
       "      <td>-0.226759</td>\n",
       "      <td>0.051039</td>\n",
       "      <td>...</td>\n",
       "      <td>0.367777</td>\n",
       "      <td>9234.334962</td>\n",
       "      <td>7497.555030</td>\n",
       "      <td>1.489030</td>\n",
       "      <td>-0.329640</td>\n",
       "      <td>73.942903</td>\n",
       "      <td>13585.272504</td>\n",
       "      <td>1.679154</td>\n",
       "      <td>12.551026</td>\n",
       "      <td>1.850422</td>\n",
       "    </tr>\n",
       "    <tr>\n",
       "      <td>BBB</td>\n",
       "      <td>1.753954</td>\n",
       "      <td>1.242471</td>\n",
       "      <td>0.419345</td>\n",
       "      <td>171.933980</td>\n",
       "      <td>0.641484</td>\n",
       "      <td>0.953623</td>\n",
       "      <td>0.460779</td>\n",
       "      <td>1.207154</td>\n",
       "      <td>0.051597</td>\n",
       "      <td>0.091791</td>\n",
       "      <td>...</td>\n",
       "      <td>0.499515</td>\n",
       "      <td>8604.119826</td>\n",
       "      <td>7193.585692</td>\n",
       "      <td>5.176333</td>\n",
       "      <td>0.961297</td>\n",
       "      <td>11.801629</td>\n",
       "      <td>9662.001115</td>\n",
       "      <td>1.942878</td>\n",
       "      <td>7.631958</td>\n",
       "      <td>0.591676</td>\n",
       "    </tr>\n",
       "    <tr>\n",
       "      <td>C</td>\n",
       "      <td>31.923791</td>\n",
       "      <td>4.521802</td>\n",
       "      <td>3.218913</td>\n",
       "      <td>51.511425</td>\n",
       "      <td>-0.248127</td>\n",
       "      <td>-0.326790</td>\n",
       "      <td>0.683166</td>\n",
       "      <td>-0.197045</td>\n",
       "      <td>-558.580025</td>\n",
       "      <td>-1210.667715</td>\n",
       "      <td>...</td>\n",
       "      <td>-0.090846</td>\n",
       "      <td>71.804810</td>\n",
       "      <td>190.336368</td>\n",
       "      <td>39.983723</td>\n",
       "      <td>-0.312698</td>\n",
       "      <td>49.755252</td>\n",
       "      <td>11.570859</td>\n",
       "      <td>0.043556</td>\n",
       "      <td>13.591232</td>\n",
       "      <td>-24.031440</td>\n",
       "    </tr>\n",
       "  </tbody>\n",
       "</table>\n",
       "<p>5 rows × 26 columns</p>\n",
       "</div>"
      ],
      "text/plain": [
       "        currentRatio  quickRatio  cashRatio  daysOfSalesOutstanding  \\\n",
       "Rating                                                                \n",
       "A           1.582488    1.319443   0.384451              146.185191   \n",
       "B           5.431595    1.830320   0.634058               67.385079   \n",
       "BB          2.579726    6.165528   0.937828              950.263229   \n",
       "BBB         1.753954    1.242471   0.419345              171.933980   \n",
       "C          31.923791    4.521802   3.218913               51.511425   \n",
       "\n",
       "        netProfitMargin  pretaxProfitMargin  grossProfitMargin  \\\n",
       "Rating                                                           \n",
       "A              0.501051            0.727365           0.571547   \n",
       "B              0.141831            0.211195           0.499278   \n",
       "BB            -0.281538           -0.334636           0.446694   \n",
       "BBB            0.641484            0.953623           0.460779   \n",
       "C             -0.248127           -0.326790           0.683166   \n",
       "\n",
       "        operatingProfitMargin  returnOnAssets  returnOnCapitalEmployed  ...  \\\n",
       "Rating                                                                  ...   \n",
       "A                    0.873227        0.075845                 0.142525  ...   \n",
       "B                    0.248749     -118.765198              -208.882685  ...   \n",
       "BB                  -0.225784       -0.226759                 0.051039  ...   \n",
       "BBB                  1.207154        0.051597                 0.091791  ...   \n",
       "C                   -0.197045     -558.580025             -1210.667715  ...   \n",
       "\n",
       "        freeCashFlowOperatingCashFlowRatio  freeCashFlowPerShare  \\\n",
       "Rating                                                             \n",
       "A                                 0.635231             36.091431   \n",
       "B                                 0.027576             52.968464   \n",
       "BB                                0.367777           9234.334962   \n",
       "BBB                               0.499515           8604.119826   \n",
       "C                                -0.090846             71.804810   \n",
       "\n",
       "        cashPerShare  companyEquityMultiplier  ebitPerRevenue  \\\n",
       "Rating                                                          \n",
       "A          72.674702                 3.475711        0.729752   \n",
       "B          90.703789                -6.805406        0.218886   \n",
       "BB       7497.555030                 1.489030       -0.329640   \n",
       "BBB      7193.585692                 5.176333        0.961297   \n",
       "C         190.336368                39.983723       -0.312698   \n",
       "\n",
       "        enterpriseValueMultiple  operatingCashFlowPerShare  \\\n",
       "Rating                                                       \n",
       "A                     10.883940                 166.683415   \n",
       "B                    148.564115                 -13.168759   \n",
       "BB                    73.942903               13585.272504   \n",
       "BBB                   11.801629                9662.001115   \n",
       "C                     49.755252                  11.570859   \n",
       "\n",
       "        operatingCashFlowSalesRatio  payablesTurnover  payoutRatio  \n",
       "Rating                                                              \n",
       "A                          1.243853        126.370992     0.318390  \n",
       "B                          0.639844          8.048441     0.317992  \n",
       "BB                         1.679154         12.551026     1.850422  \n",
       "BBB                        1.942878          7.631958     0.591676  \n",
       "C                          0.043556         13.591232   -24.031440  \n",
       "\n",
       "[5 rows x 26 columns]"
      ]
     },
     "execution_count": 656,
     "metadata": {},
     "output_type": "execute_result"
    }
   ],
   "source": [
    "df_rating.groupby('Rating').mean()"
   ]
  },
  {
   "cell_type": "code",
   "execution_count": 657,
   "metadata": {},
   "outputs": [
    {
     "data": {
      "image/png": "[encoded data removed]",
      "text/plain": [
       "<Figure size 432x288 with 1 Axes>"
      ]
     },
     "metadata": {
      "needs_background": "light"
     },
     "output_type": "display_data"
    }
   ],
   "source": [
    "import seaborn as sns\n",
    "\n",
    "# ax = sns.boxplot(x=df_rating.Rating, y=df_rating.currentRatio,palette=\"Set3\")\n",
    "# ax = sns.boxplot(x=df_rating.Rating, y=df_rating.quickRatio,palette=\"Set3\")\n",
    "# ax = sns.boxplot(x=df_rating.Rating, y=df_rating.daysOfSalesOutstanding,palette=\"Set3\")\n",
    "ax = sns.boxplot(x=df_rating.Rating, y=df_rating.netProfitMargin,palette=\"Set3\")"
   ]
  },
  {
   "cell_type": "code",
   "execution_count": 643,
   "metadata": {},
   "outputs": [
    {
     "data": {
      "text/html": [
       "<div>\n",
       "<style scoped>\n",
       "    .dataframe tbody tr th:only-of-type {\n",
       "        vertical-align: middle;\n",
       "    }\n",
       "\n",
       "    .dataframe tbody tr th {\n",
       "        vertical-align: top;\n",
       "    }\n",
       "\n",
       "    .dataframe thead th {\n",
       "        text-align: right;\n",
       "    }\n",
       "</style>\n",
       "<table border=\"1\" class=\"dataframe\">\n",
       "  <thead>\n",
       "    <tr style=\"text-align: right;\">\n",
       "      <th></th>\n",
       "      <th>Rating</th>\n",
       "      <th>Name</th>\n",
       "      <th>Symbol</th>\n",
       "      <th>Sector</th>\n",
       "      <th>Rating Agency Name</th>\n",
       "      <th>Date</th>\n",
       "      <th>currentRatio</th>\n",
       "      <th>quickRatio</th>\n",
       "      <th>cashRatio</th>\n",
       "      <th>daysOfSalesOutstanding</th>\n",
       "      <th>...</th>\n",
       "      <th>freeCashFlowPerSharelog</th>\n",
       "      <th>cashPerSharelog</th>\n",
       "      <th>companyEquityMultiplierlog</th>\n",
       "      <th>ebitPerRevenuelog</th>\n",
       "      <th>enterpriseValueMultiplelog</th>\n",
       "      <th>operatingCashFlowPerSharelog</th>\n",
       "      <th>operatingCashFlowSalesRatiolog</th>\n",
       "      <th>payablesTurnoverlog</th>\n",
       "      <th>payoutRatiolog</th>\n",
       "      <th>color</th>\n",
       "    </tr>\n",
       "  </thead>\n",
       "  <tbody>\n",
       "    <tr>\n",
       "      <td>0</td>\n",
       "      <td>A</td>\n",
       "      <td>whirlpool</td>\n",
       "      <td>WHR</td>\n",
       "      <td>Consumer Durables</td>\n",
       "      <td>Egan-Jones Ratings Company</td>\n",
       "      <td>11/27/2015</td>\n",
       "      <td>0.945894</td>\n",
       "      <td>0.426395</td>\n",
       "      <td>0.099690</td>\n",
       "      <td>44.203245</td>\n",
       "      <td>...</td>\n",
       "      <td>-2.294083</td>\n",
       "      <td>-2.302525</td>\n",
       "      <td>-0.510734</td>\n",
       "      <td>-0.950379</td>\n",
       "      <td>-1.043878</td>\n",
       "      <td>-2.284220</td>\n",
       "      <td>-2.239393</td>\n",
       "      <td>-2.263834</td>\n",
       "      <td>-0.096272</td>\n",
       "      <td>r</td>\n",
       "    </tr>\n",
       "    <tr>\n",
       "      <td>1</td>\n",
       "      <td>BBB</td>\n",
       "      <td>whirlpool</td>\n",
       "      <td>WHR</td>\n",
       "      <td>Consumer Durables</td>\n",
       "      <td>Egan-Jones Ratings Company</td>\n",
       "      <td>2/13/2014</td>\n",
       "      <td>1.033559</td>\n",
       "      <td>0.498234</td>\n",
       "      <td>0.203120</td>\n",
       "      <td>38.991156</td>\n",
       "      <td>...</td>\n",
       "      <td>-2.294083</td>\n",
       "      <td>-2.302535</td>\n",
       "      <td>-0.511011</td>\n",
       "      <td>-0.950382</td>\n",
       "      <td>-1.043992</td>\n",
       "      <td>-2.284221</td>\n",
       "      <td>-2.239276</td>\n",
       "      <td>-2.263789</td>\n",
       "      <td>-0.096332</td>\n",
       "      <td>y</td>\n",
       "    </tr>\n",
       "    <tr>\n",
       "      <td>2</td>\n",
       "      <td>BBB</td>\n",
       "      <td>whirlpool</td>\n",
       "      <td>WHR</td>\n",
       "      <td>Consumer Durables</td>\n",
       "      <td>Fitch Ratings</td>\n",
       "      <td>3/6/2015</td>\n",
       "      <td>0.963703</td>\n",
       "      <td>0.451505</td>\n",
       "      <td>0.122099</td>\n",
       "      <td>50.841385</td>\n",
       "      <td>...</td>\n",
       "      <td>-2.294083</td>\n",
       "      <td>-2.302535</td>\n",
       "      <td>-0.510706</td>\n",
       "      <td>-0.950409</td>\n",
       "      <td>-1.043224</td>\n",
       "      <td>-2.284222</td>\n",
       "      <td>-2.239179</td>\n",
       "      <td>-2.264034</td>\n",
       "      <td>-0.096271</td>\n",
       "      <td>y</td>\n",
       "    </tr>\n",
       "    <tr>\n",
       "      <td>3</td>\n",
       "      <td>BBB</td>\n",
       "      <td>whirlpool</td>\n",
       "      <td>WHR</td>\n",
       "      <td>Consumer Durables</td>\n",
       "      <td>Fitch Ratings</td>\n",
       "      <td>6/15/2012</td>\n",
       "      <td>1.019851</td>\n",
       "      <td>0.510402</td>\n",
       "      <td>0.176116</td>\n",
       "      <td>41.161738</td>\n",
       "      <td>...</td>\n",
       "      <td>-2.294091</td>\n",
       "      <td>-2.302535</td>\n",
       "      <td>-0.510857</td>\n",
       "      <td>-0.950750</td>\n",
       "      <td>-1.044446</td>\n",
       "      <td>-2.284220</td>\n",
       "      <td>-2.239803</td>\n",
       "      <td>-2.263516</td>\n",
       "      <td>-0.096253</td>\n",
       "      <td>y</td>\n",
       "    </tr>\n",
       "    <tr>\n",
       "      <td>4</td>\n",
       "      <td>BBB</td>\n",
       "      <td>whirlpool</td>\n",
       "      <td>WHR</td>\n",
       "      <td>Consumer Durables</td>\n",
       "      <td>Standard &amp; Poor's Ratings Services</td>\n",
       "      <td>10/24/2016</td>\n",
       "      <td>0.957844</td>\n",
       "      <td>0.495432</td>\n",
       "      <td>0.141608</td>\n",
       "      <td>47.761126</td>\n",
       "      <td>...</td>\n",
       "      <td>-2.294086</td>\n",
       "      <td>-2.302528</td>\n",
       "      <td>-0.510732</td>\n",
       "      <td>-0.950353</td>\n",
       "      <td>-1.043643</td>\n",
       "      <td>-2.284223</td>\n",
       "      <td>-2.239401</td>\n",
       "      <td>-2.263858</td>\n",
       "      <td>-0.096278</td>\n",
       "      <td>y</td>\n",
       "    </tr>\n",
       "    <tr>\n",
       "      <td>...</td>\n",
       "      <td>...</td>\n",
       "      <td>...</td>\n",
       "      <td>...</td>\n",
       "      <td>...</td>\n",
       "      <td>...</td>\n",
       "      <td>...</td>\n",
       "      <td>...</td>\n",
       "      <td>...</td>\n",
       "      <td>...</td>\n",
       "      <td>...</td>\n",
       "      <td>...</td>\n",
       "      <td>...</td>\n",
       "      <td>...</td>\n",
       "      <td>...</td>\n",
       "      <td>...</td>\n",
       "      <td>...</td>\n",
       "      <td>...</td>\n",
       "      <td>...</td>\n",
       "      <td>...</td>\n",
       "      <td>...</td>\n",
       "      <td>...</td>\n",
       "    </tr>\n",
       "    <tr>\n",
       "      <td>2024</td>\n",
       "      <td>BBB</td>\n",
       "      <td>nvr</td>\n",
       "      <td>NVR</td>\n",
       "      <td>Capital Goods</td>\n",
       "      <td>Moody's Investors Service</td>\n",
       "      <td>9/5/2012</td>\n",
       "      <td>2.017291</td>\n",
       "      <td>1.045717</td>\n",
       "      <td>0.814573</td>\n",
       "      <td>14.895617</td>\n",
       "      <td>...</td>\n",
       "      <td>-2.294082</td>\n",
       "      <td>-2.302523</td>\n",
       "      <td>-0.511466</td>\n",
       "      <td>-0.950159</td>\n",
       "      <td>-1.042201</td>\n",
       "      <td>-2.284221</td>\n",
       "      <td>-2.239063</td>\n",
       "      <td>-2.261887</td>\n",
       "      <td>-0.096448</td>\n",
       "      <td>y</td>\n",
       "    </tr>\n",
       "    <tr>\n",
       "      <td>2025</td>\n",
       "      <td>BB</td>\n",
       "      <td>kaiser aluminum</td>\n",
       "      <td>KALU</td>\n",
       "      <td>Capital Goods</td>\n",
       "      <td>Standard &amp; Poor's Ratings Services</td>\n",
       "      <td>4/28/2016</td>\n",
       "      <td>1.976984</td>\n",
       "      <td>1.294743</td>\n",
       "      <td>0.428234</td>\n",
       "      <td>30.602414</td>\n",
       "      <td>...</td>\n",
       "      <td>-2.294080</td>\n",
       "      <td>-2.302533</td>\n",
       "      <td>-0.511514</td>\n",
       "      <td>-0.950502</td>\n",
       "      <td>-1.044099</td>\n",
       "      <td>-2.284216</td>\n",
       "      <td>-2.238642</td>\n",
       "      <td>-2.262327</td>\n",
       "      <td>-0.096509</td>\n",
       "      <td>b</td>\n",
       "    </tr>\n",
       "    <tr>\n",
       "      <td>2026</td>\n",
       "      <td>B</td>\n",
       "      <td>cresudcif y a</td>\n",
       "      <td>CRESY</td>\n",
       "      <td>Finance</td>\n",
       "      <td>Fitch Ratings</td>\n",
       "      <td>11/30/2012</td>\n",
       "      <td>0.883875</td>\n",
       "      <td>0.842553</td>\n",
       "      <td>0.233830</td>\n",
       "      <td>45.559340</td>\n",
       "      <td>...</td>\n",
       "      <td>-2.294087</td>\n",
       "      <td>-2.302543</td>\n",
       "      <td>-0.510725</td>\n",
       "      <td>-0.949713</td>\n",
       "      <td>-1.043440</td>\n",
       "      <td>-2.284228</td>\n",
       "      <td>-2.236350</td>\n",
       "      <td>-2.264593</td>\n",
       "      <td>-0.096383</td>\n",
       "      <td>g</td>\n",
       "    </tr>\n",
       "    <tr>\n",
       "      <td>2027</td>\n",
       "      <td>B</td>\n",
       "      <td>cresudcif y a</td>\n",
       "      <td>CRESY</td>\n",
       "      <td>Finance</td>\n",
       "      <td>Fitch Ratings</td>\n",
       "      <td>6/15/2012</td>\n",
       "      <td>0.911713</td>\n",
       "      <td>0.748356</td>\n",
       "      <td>0.310640</td>\n",
       "      <td>50.324514</td>\n",
       "      <td>...</td>\n",
       "      <td>-2.294088</td>\n",
       "      <td>-2.302542</td>\n",
       "      <td>-0.510793</td>\n",
       "      <td>-0.949895</td>\n",
       "      <td>-1.043154</td>\n",
       "      <td>-2.284229</td>\n",
       "      <td>-2.237239</td>\n",
       "      <td>-2.264735</td>\n",
       "      <td>-0.096289</td>\n",
       "      <td>g</td>\n",
       "    </tr>\n",
       "    <tr>\n",
       "      <td>2028</td>\n",
       "      <td>C</td>\n",
       "      <td>cresudcif y a</td>\n",
       "      <td>CRESY</td>\n",
       "      <td>Finance</td>\n",
       "      <td>Fitch Ratings</td>\n",
       "      <td>8/1/2014</td>\n",
       "      <td>1.085007</td>\n",
       "      <td>1.026375</td>\n",
       "      <td>0.203490</td>\n",
       "      <td>64.880180</td>\n",
       "      <td>...</td>\n",
       "      <td>-2.294085</td>\n",
       "      <td>-2.302532</td>\n",
       "      <td>-0.510756</td>\n",
       "      <td>-0.950106</td>\n",
       "      <td>-1.043393</td>\n",
       "      <td>-2.284227</td>\n",
       "      <td>-2.236769</td>\n",
       "      <td>-2.264798</td>\n",
       "      <td>-0.096565</td>\n",
       "      <td>m</td>\n",
       "    </tr>\n",
       "  </tbody>\n",
       "</table>\n",
       "<p>2029 rows × 59 columns</p>\n",
       "</div>"
      ],
      "text/plain": [
       "     Rating             Name Symbol             Sector  \\\n",
       "0         A        whirlpool    WHR  Consumer Durables   \n",
       "1       BBB        whirlpool    WHR  Consumer Durables   \n",
       "2       BBB        whirlpool    WHR  Consumer Durables   \n",
       "3       BBB        whirlpool    WHR  Consumer Durables   \n",
       "4       BBB        whirlpool    WHR  Consumer Durables   \n",
       "...     ...              ...    ...                ...   \n",
       "2024    BBB              nvr    NVR      Capital Goods   \n",
       "2025     BB  kaiser aluminum   KALU      Capital Goods   \n",
       "2026      B    cresudcif y a  CRESY            Finance   \n",
       "2027      B    cresudcif y a  CRESY            Finance   \n",
       "2028      C    cresudcif y a  CRESY            Finance   \n",
       "\n",
       "                      Rating Agency Name        Date  currentRatio  \\\n",
       "0             Egan-Jones Ratings Company  11/27/2015      0.945894   \n",
       "1             Egan-Jones Ratings Company   2/13/2014      1.033559   \n",
       "2                          Fitch Ratings    3/6/2015      0.963703   \n",
       "3                          Fitch Ratings   6/15/2012      1.019851   \n",
       "4     Standard & Poor's Ratings Services  10/24/2016      0.957844   \n",
       "...                                  ...         ...           ...   \n",
       "2024           Moody's Investors Service    9/5/2012      2.017291   \n",
       "2025  Standard & Poor's Ratings Services   4/28/2016      1.976984   \n",
       "2026                       Fitch Ratings  11/30/2012      0.883875   \n",
       "2027                       Fitch Ratings   6/15/2012      0.911713   \n",
       "2028                       Fitch Ratings    8/1/2014      1.085007   \n",
       "\n",
       "      quickRatio  cashRatio  daysOfSalesOutstanding  ...  \\\n",
       "0       0.426395   0.099690               44.203245  ...   \n",
       "1       0.498234   0.203120               38.991156  ...   \n",
       "2       0.451505   0.122099               50.841385  ...   \n",
       "3       0.510402   0.176116               41.161738  ...   \n",
       "4       0.495432   0.141608               47.761126  ...   \n",
       "...          ...        ...                     ...  ...   \n",
       "2024    1.045717   0.814573               14.895617  ...   \n",
       "2025    1.294743   0.428234               30.602414  ...   \n",
       "2026    0.842553   0.233830               45.559340  ...   \n",
       "2027    0.748356   0.310640               50.324514  ...   \n",
       "2028    1.026375   0.203490               64.880180  ...   \n",
       "\n",
       "      freeCashFlowPerSharelog  cashPerSharelog  companyEquityMultiplierlog  \\\n",
       "0                   -2.294083        -2.302525                   -0.510734   \n",
       "1                   -2.294083        -2.302535                   -0.511011   \n",
       "2                   -2.294083        -2.302535                   -0.510706   \n",
       "3                   -2.294091        -2.302535                   -0.510857   \n",
       "4                   -2.294086        -2.302528                   -0.510732   \n",
       "...                       ...              ...                         ...   \n",
       "2024                -2.294082        -2.302523                   -0.511466   \n",
       "2025                -2.294080        -2.302533                   -0.511514   \n",
       "2026                -2.294087        -2.302543                   -0.510725   \n",
       "2027                -2.294088        -2.302542                   -0.510793   \n",
       "2028                -2.294085        -2.302532                   -0.510756   \n",
       "\n",
       "      ebitPerRevenuelog  enterpriseValueMultiplelog  \\\n",
       "0             -0.950379                   -1.043878   \n",
       "1             -0.950382                   -1.043992   \n",
       "2             -0.950409                   -1.043224   \n",
       "3             -0.950750                   -1.044446   \n",
       "4             -0.950353                   -1.043643   \n",
       "...                 ...                         ...   \n",
       "2024          -0.950159                   -1.042201   \n",
       "2025          -0.950502                   -1.044099   \n",
       "2026          -0.949713                   -1.043440   \n",
       "2027          -0.949895                   -1.043154   \n",
       "2028          -0.950106                   -1.043393   \n",
       "\n",
       "      operatingCashFlowPerSharelog  operatingCashFlowSalesRatiolog  \\\n",
       "0                        -2.284220                       -2.239393   \n",
       "1                        -2.284221                       -2.239276   \n",
       "2                        -2.284222                       -2.239179   \n",
       "3                        -2.284220                       -2.239803   \n",
       "4                        -2.284223                       -2.239401   \n",
       "...                            ...                             ...   \n",
       "2024                     -2.284221                       -2.239063   \n",
       "2025                     -2.284216                       -2.238642   \n",
       "2026                     -2.284228                       -2.236350   \n",
       "2027                     -2.284229                       -2.237239   \n",
       "2028                     -2.284227                       -2.236769   \n",
       "\n",
       "      payablesTurnoverlog  payoutRatiolog  color  \n",
       "0               -2.263834       -0.096272      r  \n",
       "1               -2.263789       -0.096332      y  \n",
       "2               -2.264034       -0.096271      y  \n",
       "3               -2.263516       -0.096253      y  \n",
       "4               -2.263858       -0.096278      y  \n",
       "...                   ...             ...    ...  \n",
       "2024            -2.261887       -0.096448      y  \n",
       "2025            -2.262327       -0.096509      b  \n",
       "2026            -2.264593       -0.096383      g  \n",
       "2027            -2.264735       -0.096289      g  \n",
       "2028            -2.264798       -0.096565      m  \n",
       "\n",
       "[2029 rows x 59 columns]"
      ]
     },
     "execution_count": 643,
     "metadata": {},
     "output_type": "execute_result"
    }
   ],
   "source": [
    "df_rating"
   ]
  },
  {
   "cell_type": "code",
   "execution_count": null,
   "metadata": {},
   "outputs": [],
   "source": []
  },
  {
   "cell_type": "code",
   "execution_count": null,
   "metadata": {},
   "outputs": [],
   "source": []
  },
  {
   "cell_type": "code",
   "execution_count": null,
   "metadata": {},
   "outputs": [],
   "source": []
  },
  {
   "cell_type": "markdown",
   "metadata": {},
   "source": [
    "# PCA"
   ]
  },
  {
   "cell_type": "code",
   "execution_count": 496,
   "metadata": {},
   "outputs": [
    {
     "data": {
      "text/plain": [
       "'currentRatiolog'"
      ]
     },
     "execution_count": 496,
     "metadata": {},
     "output_type": "execute_result"
    }
   ],
   "source": [
    "df_rating.columns[32]"
   ]
  },
  {
   "cell_type": "code",
   "execution_count": 497,
   "metadata": {},
   "outputs": [],
   "source": [
    "from sklearn.preprocessing import StandardScaler"
   ]
  },
  {
   "cell_type": "code",
   "execution_count": 498,
   "metadata": {},
   "outputs": [],
   "source": [
    "features = df_rating.columns[6:32]\n",
    "\n",
    "# Separating out the features\n",
    "x = df_rating.loc[:, features].values\n",
    "# Separating out the target\n",
    "y = df_rating.loc[:,['Rating']].values\n",
    "# Standardizing the features\n",
    "# x = StandardScaler().fit_transform(x)"
   ]
  },
  {
   "cell_type": "code",
   "execution_count": 499,
   "metadata": {},
   "outputs": [],
   "source": [
    "from sklearn.decomposition import PCA\n",
    "pca = PCA(n_components=5)\n",
    "principalComponents = pca.fit_transform(x)\n",
    "principalDf = pd.DataFrame(data = principalComponents, columns = ['pca1', 'pca2','pca3','pca4','pca5'])"
   ]
  },
  {
   "cell_type": "code",
   "execution_count": 500,
   "metadata": {},
   "outputs": [],
   "source": [
    "finalDf = pd.concat([principalDf, df_rating[['Rating']]], axis = 1)"
   ]
  },
  {
   "cell_type": "code",
   "execution_count": 501,
   "metadata": {},
   "outputs": [
    {
     "data": {
      "image/png": "[encoded data removed]",
      "text/plain": [
       "<Figure size 576x576 with 1 Axes>"
      ]
     },
     "metadata": {
      "needs_background": "light"
     },
     "output_type": "display_data"
    }
   ],
   "source": [
    "fig = plt.figure(figsize = (8,8))\n",
    "ax = fig.add_subplot(1,1,1) \n",
    "ax.set_xlabel('Principal Component 1', fontsize = 15)\n",
    "ax.set_ylabel('Principal Component 2', fontsize = 15)\n",
    "ax.set_title('2 component PCA', fontsize = 20)\n",
    "targets = list(set(df_rating.Rating))\n",
    "colors = ['r', 'g', 'b','y', 'm']\n",
    "for target, color in zip(targets,colors):\n",
    "    indicesToKeep = finalDf['Rating'] == target\n",
    "    ax.scatter(finalDf.loc[indicesToKeep, 'pca1'], \n",
    "               finalDf.loc[indicesToKeep, 'pca2'], \n",
    "               c = color, \n",
    "               s = 50)\n",
    "\n",
    "ax.legend(targets)\n",
    "ax.grid()"
   ]
  },
  {
   "cell_type": "code",
   "execution_count": 502,
   "metadata": {},
   "outputs": [
    {
     "data": {
      "text/plain": [
       "0.9768313669633458"
      ]
     },
     "execution_count": 502,
     "metadata": {},
     "output_type": "execute_result"
    }
   ],
   "source": [
    "sum(pca.explained_variance_ratio_)"
   ]
  },
  {
   "cell_type": "code",
   "execution_count": 503,
   "metadata": {},
   "outputs": [],
   "source": [
    "# Load libraries\n",
    "from sklearn.linear_model import LogisticRegression\n",
    "from sklearn import datasets\n",
    "from sklearn.preprocessing import StandardScaler"
   ]
  },
  {
   "cell_type": "markdown",
   "metadata": {},
   "source": [
    "#### Train and Test"
   ]
  },
  {
   "cell_type": "code",
   "execution_count": 629,
   "metadata": {},
   "outputs": [],
   "source": [
    "import numpy as np\n",
    "from sklearn.model_selection import train_test_split\n",
    "X, y = finalDf.iloc[:,:5], finalDf.iloc[:,5]"
   ]
  },
  {
   "cell_type": "code",
   "execution_count": 630,
   "metadata": {},
   "outputs": [],
   "source": [
    "X_train, X_test, y_train, y_test = train_test_split(X, y, test_size=0.2, random_state=42)"
   ]
  },
  {
   "cell_type": "markdown",
   "metadata": {},
   "source": [
    "# Logistic Regression"
   ]
  },
  {
   "cell_type": "code",
   "execution_count": 506,
   "metadata": {},
   "outputs": [],
   "source": [
    "from sklearn.linear_model import LogisticRegression\n",
    "# X_train, y_test = load_iris(return_X_y=True)\n",
    "clf = LogisticRegression(random_state=0 , multi_class='multinomial', solver='newton-cg')\n",
    "model = clf.fit(X_train, y_train)"
   ]
  },
  {
   "cell_type": "code",
   "execution_count": 507,
   "metadata": {},
   "outputs": [],
   "source": [
    "y_pred= model.predict(X_test)"
   ]
  },
  {
   "cell_type": "code",
   "execution_count": 508,
   "metadata": {},
   "outputs": [
    {
     "name": "stdout",
     "output_type": "stream",
     "text": [
      "Accuracy: 0.3694581280788177\n"
     ]
    }
   ],
   "source": [
    "#Import scikit-learn metrics module for accuracy calculation\n",
    "from sklearn import metrics\n",
    "# Model Accuracy, how often is the classifier correct?\n",
    "print(\"Accuracy:\",metrics.accuracy_score(y_test, y_pred))"
   ]
  },
  {
   "cell_type": "markdown",
   "metadata": {},
   "source": [
    "# Random Forest"
   ]
  },
  {
   "cell_type": "code",
   "execution_count": 584,
   "metadata": {},
   "outputs": [],
   "source": [
    "import numpy as np\n",
    "from sklearn.model_selection import train_test_split\n",
    "X, y = df_rating.iloc[:,32:58], df_rating.iloc[:,0]"
   ]
  },
  {
   "cell_type": "code",
   "execution_count": 585,
   "metadata": {},
   "outputs": [],
   "source": [
    "X_train, X_test, y_train, y_test = train_test_split(X, y, test_size=0.2, random_state=42)"
   ]
  },
  {
   "cell_type": "code",
   "execution_count": 586,
   "metadata": {},
   "outputs": [],
   "source": [
    "#Import Random Forest Model\n",
    "from sklearn.ensemble import RandomForestClassifier\n",
    "\n",
    "#Create a Gaussian Classifier\n",
    "clf=RandomForestClassifier(n_estimators=100)\n",
    "\n",
    "#Train the model using the training sets y_pred=clf.predict(X_test)\n",
    "clf.fit(X_train,y_train)\n",
    "\n",
    "y_pred=clf.predict(X_test)"
   ]
  },
  {
   "cell_type": "code",
   "execution_count": 587,
   "metadata": {
    "scrolled": true
   },
   "outputs": [
    {
     "name": "stdout",
     "output_type": "stream",
     "text": [
      "Accuracy: 0.5246305418719212\n"
     ]
    }
   ],
   "source": [
    "#Import scikit-learn metrics module for accuracy calculation\n",
    "from sklearn import metrics\n",
    "# Model Accuracy, how often is the classifier correct?\n",
    "print(\"Accuracy:\",metrics.accuracy_score(y_test, y_pred))"
   ]
  },
  {
   "cell_type": "markdown",
   "metadata": {},
   "source": [
    "### LDA"
   ]
  },
  {
   "cell_type": "code",
   "execution_count": 588,
   "metadata": {},
   "outputs": [
    {
     "data": {
      "text/plain": [
       "LinearDiscriminantAnalysis(n_components=None, priors=None, shrinkage=None,\n",
       "                           solver='svd', store_covariance=False, tol=0.0001)"
      ]
     },
     "execution_count": 588,
     "metadata": {},
     "output_type": "execute_result"
    }
   ],
   "source": [
    "import numpy as np\n",
    "from sklearn.discriminant_analysis import LinearDiscriminantAnalysis\n",
    "clf = LinearDiscriminantAnalysis()\n",
    "clf.fit(X_train, y_train)"
   ]
  },
  {
   "cell_type": "code",
   "execution_count": 589,
   "metadata": {},
   "outputs": [],
   "source": [
    "y_pred=clf.predict(X_test)"
   ]
  },
  {
   "cell_type": "code",
   "execution_count": 590,
   "metadata": {
    "scrolled": true
   },
   "outputs": [
    {
     "name": "stdout",
     "output_type": "stream",
     "text": [
      "Accuracy: 0.45566502463054187\n"
     ]
    }
   ],
   "source": [
    "#Import scikit-learn metrics module for accuracy calculation\n",
    "from sklearn import metrics\n",
    "# Model Accuracy, how often is the classifier correct?\n",
    "print(\"Accuracy:\",metrics.accuracy_score(y_test, y_pred))"
   ]
  },
  {
   "cell_type": "markdown",
   "metadata": {},
   "source": [
    "# QDA"
   ]
  },
  {
   "cell_type": "code",
   "execution_count": 591,
   "metadata": {},
   "outputs": [
    {
     "name": "stderr",
     "output_type": "stream",
     "text": [
      "C:\\Users\\hp\\Anaconda3\\lib\\site-packages\\sklearn\\discriminant_analysis.py:693: UserWarning: Variables are collinear\n",
      "  warnings.warn(\"Variables are collinear\")\n"
     ]
    }
   ],
   "source": [
    "from sklearn.discriminant_analysis import QuadraticDiscriminantAnalysis\n",
    "\n",
    "\n",
    "clf = QuadraticDiscriminantAnalysis()\n",
    "clf.fit(X, y)\n",
    "y_pred=clf.predict(X_test)"
   ]
  },
  {
   "cell_type": "code",
   "execution_count": 592,
   "metadata": {},
   "outputs": [
    {
     "name": "stdout",
     "output_type": "stream",
     "text": [
      "Accuracy: 0.6083743842364532\n"
     ]
    }
   ],
   "source": [
    "#Import scikit-learn metrics module for accuracy calculation\n",
    "from sklearn import metrics\n",
    "# Model Accuracy, how often is the classifier correct?\n",
    "print(\"Accuracy:\",metrics.accuracy_score(y_test, y_pred))"
   ]
  },
  {
   "cell_type": "markdown",
   "metadata": {},
   "source": [
    "# KNN"
   ]
  },
  {
   "cell_type": "code",
   "execution_count": 593,
   "metadata": {},
   "outputs": [],
   "source": [
    "from sklearn.neighbors import KNeighborsClassifier\n",
    "neigh = KNeighborsClassifier(n_neighbors=15)\n",
    "neigh.fit(X_train, y_train)\n",
    "y_pred = neigh.predict(X_test)"
   ]
  },
  {
   "cell_type": "code",
   "execution_count": 594,
   "metadata": {},
   "outputs": [
    {
     "name": "stdout",
     "output_type": "stream",
     "text": [
      "Accuracy: 0.312807881773399\n"
     ]
    }
   ],
   "source": [
    "#Import scikit-learn metrics module for accuracy calculation\n",
    "from sklearn import metrics\n",
    "# Model Accuracy, how often is the classifier correct?\n",
    "print(\"Accuracy:\",metrics.accuracy_score(y_test, y_pred))"
   ]
  },
  {
   "cell_type": "markdown",
   "metadata": {},
   "source": [
    "# New Test Regression"
   ]
  },
  {
   "cell_type": "markdown",
   "metadata": {},
   "source": [
    "#### Train and Test"
   ]
  },
  {
   "cell_type": "code",
   "execution_count": 544,
   "metadata": {},
   "outputs": [],
   "source": [
    "import numpy as np\n",
    "from sklearn.model_selection import train_test_split\n",
    "X, y = df_rating.iloc[:,32:49], df_rating.iloc[:,0]"
   ]
  },
  {
   "cell_type": "code",
   "execution_count": 545,
   "metadata": {},
   "outputs": [],
   "source": [
    "X_train, X_test, y_train, y_test = train_test_split(X, y, test_size=0.2, random_state=42)"
   ]
  },
  {
   "cell_type": "code",
   "execution_count": 546,
   "metadata": {},
   "outputs": [
    {
     "name": "stderr",
     "output_type": "stream",
     "text": [
      "C:\\Users\\hp\\Anaconda3\\lib\\site-packages\\sklearn\\discriminant_analysis.py:693: UserWarning: Variables are collinear\n",
      "  warnings.warn(\"Variables are collinear\")\n"
     ]
    }
   ],
   "source": [
    "from sklearn.discriminant_analysis import QuadraticDiscriminantAnalysis\n",
    "clf = QuadraticDiscriminantAnalysis()\n",
    "clf.fit(X, y)\n",
    "y_pred=clf.predict(X_test)"
   ]
  },
  {
   "cell_type": "code",
   "execution_count": 547,
   "metadata": {},
   "outputs": [
    {
     "name": "stdout",
     "output_type": "stream",
     "text": [
      "Accuracy: 0.5123152709359606\n"
     ]
    }
   ],
   "source": [
    "#Import scikit-learn metrics module for accuracy calculation\n",
    "from sklearn import metrics\n",
    "# Model Accuracy, how often is the classifier correct?\n",
    "print(\"Accuracy:\",metrics.accuracy_score(y_test, y_pred))"
   ]
  },
  {
   "cell_type": "code",
   "execution_count": 548,
   "metadata": {},
   "outputs": [],
   "source": [
    "from sklearn.neighbors import KNeighborsClassifier\n",
    "neigh = KNeighborsClassifier(n_neighbors=3)\n",
    "neigh.fit(X_train, y_train)\n",
    "y_pred = neigh.predict(X_test)"
   ]
  },
  {
   "cell_type": "code",
   "execution_count": 549,
   "metadata": {},
   "outputs": [
    {
     "name": "stdout",
     "output_type": "stream",
     "text": [
      "Accuracy: 0.29310344827586204\n"
     ]
    }
   ],
   "source": [
    "#Import scikit-learn metrics module for accuracy calculation\n",
    "from sklearn import metrics\n",
    "# Model Accuracy, how often is the classifier correct?\n",
    "print(\"Accuracy:\",metrics.accuracy_score(y_test, y_pred))"
   ]
  },
  {
   "cell_type": "markdown",
   "metadata": {},
   "source": [
    "# XGBOOST"
   ]
  },
  {
   "cell_type": "code",
   "execution_count": 634,
   "metadata": {},
   "outputs": [],
   "source": [
    "from sklearn.datasets import make_classification\n",
    "from sklearn.ensemble import GradientBoostingClassifier\n",
    "from sklearn.model_selection import train_test_split"
   ]
  },
  {
   "cell_type": "code",
   "execution_count": 635,
   "metadata": {},
   "outputs": [],
   "source": [
    "import numpy as np\n",
    "from sklearn.model_selection import train_test_split\n",
    "X, y = df_rating.iloc[:,6:32], df_rating.iloc[:,0]"
   ]
  },
  {
   "cell_type": "code",
   "execution_count": 636,
   "metadata": {},
   "outputs": [],
   "source": [
    "X_train, X_test, y_train, y_test = train_test_split(X, y, test_size=0.2, random_state=42)"
   ]
  },
  {
   "cell_type": "code",
   "execution_count": 637,
   "metadata": {},
   "outputs": [
    {
     "data": {
      "text/plain": [
       "0.45566502463054187"
      ]
     },
     "execution_count": 637,
     "metadata": {},
     "output_type": "execute_result"
    }
   ],
   "source": [
    "clf = GradientBoostingClassifier(random_state=0)\n",
    "clf.fit(X_train, y_train)\n",
    "y_pred = clf.predict(X_test)\n",
    "# print(\"Accuracy:\",metrics.accuracy_score(y_test, y_pred))\n",
    "clf.score(X_test, y_test)"
   ]
  },
  {
   "cell_type": "markdown",
   "metadata": {},
   "source": [
    "# Support Vector Machine"
   ]
  },
  {
   "cell_type": "code",
   "execution_count": 622,
   "metadata": {},
   "outputs": [],
   "source": [
    "X_train, X_test, y_train, y_test = train_test_split(X, y, test_size=0.2, random_state=42)"
   ]
  },
  {
   "cell_type": "code",
   "execution_count": 631,
   "metadata": {},
   "outputs": [
    {
     "data": {
      "text/plain": [
       "SVC(C=5, cache_size=200, class_weight=None, coef0=0.0,\n",
       "    decision_function_shape='ovr', degree=3, gamma=2, kernel='rbf', max_iter=-1,\n",
       "    probability=False, random_state=None, shrinking=True, tol=0.001,\n",
       "    verbose=False)"
      ]
     },
     "execution_count": 631,
     "metadata": {},
     "output_type": "execute_result"
    }
   ],
   "source": [
    "from sklearn import svm\n",
    "clf = svm.SVC(kernel='rbf', gamma= 2, C = 5)\n",
    "clf.fit(X_train, y_train)"
   ]
  },
  {
   "cell_type": "code",
   "execution_count": 632,
   "metadata": {},
   "outputs": [
    {
     "name": "stdout",
     "output_type": "stream",
     "text": [
      "Accuracy: 0.3399014778325123\n"
     ]
    }
   ],
   "source": [
    "y_pred = clf.predict(X_test)\n",
    "print(\"Accuracy:\",metrics.accuracy_score(y_test, y_pred))"
   ]
  }
 ],
 "metadata": {
  "kernelspec": {
   "display_name": "Python 3",
   "language": "python",
   "name": "python3"
  },
  "language_info": {
   "codemirror_mode": {
    "name": "ipython",
    "version": 3
   },
   "file_extension": ".py",
   "mimetype": "text/x-python",
   "name": "python",
   "nbconvert_exporter": "python",
   "pygments_lexer": "ipython3",
   "version": "3.7.4"
  }
 },
 "nbformat": 4,
 "nbformat_minor": 2
}
