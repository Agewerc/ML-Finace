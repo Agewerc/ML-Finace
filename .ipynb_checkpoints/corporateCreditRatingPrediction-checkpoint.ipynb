{
 "cells": [
  {
   "cell_type": "markdown",
   "metadata": {},
   "source": [
    "# Corporate Credit Rating Prediction\n",
    "\n",
    "Is it possible to predict the credit rating of a company with its financial Ratios?\n",
    "\n",
    "\n",
    "\n",
    "## The Dataset\n",
    "\n",
    "- **Liquidity Measurement Ratios**: currentRatio, quickRatio, cashRatio, daysOfSalesOutstanding, daysOfInventoryOutstanding, operatingCycle, daysOfPayablesOutstanding, cashConversionCycle\n",
    "\n",
    "- **Profitability Indicator Ratios**: grossProfitMargin, operatingProfitMargin, pretaxProfitMargin, netProfitMargin, effectiveTaxRate, returnOnAssets, returnOnEquity, returnOnCapitalEmployed, netIncomePerEBT, ebtPerEbit, ebitPerRevenue\n",
    "\n",
    "- **Debt Ratios**: debtRatio, debtEquityRatio, longTermDebtToCapitalization, totalDebtToCapitalization, interestCoverage, cashFlowToDebtRatio, companyEquityMultiplier\n",
    "\n",
    "- **Operating Performance Ratios**: receivablesTurnover, payablesTurnover, inventoryTurnover, fixedAssetTurnover, assetTurnover Cash Flow Indicator Ratios: operatingCashFlowPerShare, freeCashFlowPerShare, cashPerShare, payoutRatio, operatingCashFlowSalesRatio, freeCashFlowOperatingCashFlowRatio, cashFlowCoverageRatios, shortTermCoverageRatios, capitalExpenditureCoverageRatio, dividendPaidAndCapexCoverageRatio, dividendPayoutRatio, \n"
   ]
  },
  {
   "cell_type": "markdown",
   "metadata": {},
   "source": [
    "#### Import Libraries"
   ]
  },
  {
   "cell_type": "code",
   "execution_count": 110,
   "metadata": {},
   "outputs": [],
   "source": [
    "import pandas as pd\n",
    "import matplotlib.pyplot as plt\n",
    "import re\n",
    "import numpy as np"
   ]
  },
  {
   "cell_type": "markdown",
   "metadata": {},
   "source": [
    "## Data Exploration"
   ]
  },
  {
   "cell_type": "code",
   "execution_count": 111,
   "metadata": {},
   "outputs": [],
   "source": [
    "df_rating = pd.read_csv('data/rating_dataframe.csv')"
   ]
  },
  {
   "cell_type": "code",
   "execution_count": 112,
   "metadata": {},
   "outputs": [
    {
     "data": {
      "text/plain": [
       "<matplotlib.axes._subplots.AxesSubplot at 0x21e19bd1fc8>"
      ]
     },
     "execution_count": 112,
     "metadata": {},
     "output_type": "execute_result"
    },
    {
     "data": {
      "image/png": "[encoded data removed]",
      "text/plain": [
       "<Figure size 432x288 with 1 Axes>"
      ]
     },
     "metadata": {
      "needs_background": "light"
     },
     "output_type": "display_data"
    }
   ],
   "source": [
    "df_rating_summary = df_rating.groupby('Rating').count().reset_index()\n",
    "df_rating_summary.plot.bar(x='Rating', y='Name')"
   ]
  },
  {
   "cell_type": "markdown",
   "metadata": {},
   "source": [
    "It is better to join all the A's together. "
   ]
  },
  {
   "cell_type": "code",
   "execution_count": 113,
   "metadata": {},
   "outputs": [],
   "source": [
    "df_rating.loc[df_rating['Rating'] == 'AA','Rating'] = 'A' \n",
    "df_rating.loc[df_rating['Rating'] == 'AAA','Rating'] = 'A' \n",
    "df_rating.loc[df_rating['Rating'] == 'CC','Rating'] = 'C' \n",
    "df_rating.loc[df_rating['Rating'] == 'CCC','Rating'] = 'C' \n",
    "df_rating.loc[df_rating['Rating'] == 'D','Rating'] = 'C'"
   ]
  },
  {
   "cell_type": "markdown",
   "metadata": {},
   "source": [
    "### EDA"
   ]
  },
  {
   "cell_type": "code",
   "execution_count": 114,
   "metadata": {},
   "outputs": [
    {
     "data": {
      "text/html": [
       "<div>\n",
       "<style scoped>\n",
       "    .dataframe tbody tr th:only-of-type {\n",
       "        vertical-align: middle;\n",
       "    }\n",
       "\n",
       "    .dataframe tbody tr th {\n",
       "        vertical-align: top;\n",
       "    }\n",
       "\n",
       "    .dataframe thead th {\n",
       "        text-align: right;\n",
       "    }\n",
       "</style>\n",
       "<table border=\"1\" class=\"dataframe\">\n",
       "  <thead>\n",
       "    <tr style=\"text-align: right;\">\n",
       "      <th></th>\n",
       "      <th>currentRatio</th>\n",
       "      <th>quickRatio</th>\n",
       "      <th>cashRatio</th>\n",
       "      <th>daysOfSalesOutstanding</th>\n",
       "      <th>netProfitMargin</th>\n",
       "      <th>pretaxProfitMargin</th>\n",
       "      <th>grossProfitMargin</th>\n",
       "      <th>operatingProfitMargin</th>\n",
       "      <th>returnOnAssets</th>\n",
       "      <th>returnOnCapitalEmployed</th>\n",
       "      <th>...</th>\n",
       "      <th>freeCashFlowOperatingCashFlowRatio</th>\n",
       "      <th>freeCashFlowPerShare</th>\n",
       "      <th>cashPerShare</th>\n",
       "      <th>companyEquityMultiplier</th>\n",
       "      <th>ebitPerRevenue</th>\n",
       "      <th>enterpriseValueMultiple</th>\n",
       "      <th>operatingCashFlowPerShare</th>\n",
       "      <th>operatingCashFlowSalesRatio</th>\n",
       "      <th>payablesTurnover</th>\n",
       "      <th>payoutRatio</th>\n",
       "    </tr>\n",
       "  </thead>\n",
       "  <tbody>\n",
       "    <tr>\n",
       "      <td>count</td>\n",
       "      <td>2029.000000</td>\n",
       "      <td>2029.000000</td>\n",
       "      <td>2029.000000</td>\n",
       "      <td>2029.000000</td>\n",
       "      <td>2029.000000</td>\n",
       "      <td>2029.000000</td>\n",
       "      <td>2029.000000</td>\n",
       "      <td>2029.000000</td>\n",
       "      <td>2029.000000</td>\n",
       "      <td>2029.000000</td>\n",
       "      <td>...</td>\n",
       "      <td>2029.000000</td>\n",
       "      <td>2.029000e+03</td>\n",
       "      <td>2.029000e+03</td>\n",
       "      <td>2029.000000</td>\n",
       "      <td>2029.000000</td>\n",
       "      <td>2029.000000</td>\n",
       "      <td>2.029000e+03</td>\n",
       "      <td>2029.000000</td>\n",
       "      <td>2029.000000</td>\n",
       "      <td>2029.000000</td>\n",
       "    </tr>\n",
       "    <tr>\n",
       "      <td>mean</td>\n",
       "      <td>3.529607</td>\n",
       "      <td>2.653986</td>\n",
       "      <td>0.667364</td>\n",
       "      <td>333.795606</td>\n",
       "      <td>0.278447</td>\n",
       "      <td>0.431483</td>\n",
       "      <td>0.497968</td>\n",
       "      <td>0.587322</td>\n",
       "      <td>-37.517928</td>\n",
       "      <td>-73.974193</td>\n",
       "      <td>...</td>\n",
       "      <td>0.409550</td>\n",
       "      <td>5.094719e+03</td>\n",
       "      <td>4.227549e+03</td>\n",
       "      <td>3.323579</td>\n",
       "      <td>0.437454</td>\n",
       "      <td>48.287985</td>\n",
       "      <td>6.515123e+03</td>\n",
       "      <td>1.447653</td>\n",
       "      <td>38.002718</td>\n",
       "      <td>-0.085374</td>\n",
       "    </tr>\n",
       "    <tr>\n",
       "      <td>std</td>\n",
       "      <td>44.052361</td>\n",
       "      <td>32.944817</td>\n",
       "      <td>3.583943</td>\n",
       "      <td>4447.839583</td>\n",
       "      <td>6.064134</td>\n",
       "      <td>8.984982</td>\n",
       "      <td>0.525307</td>\n",
       "      <td>11.224622</td>\n",
       "      <td>1166.172220</td>\n",
       "      <td>2350.275719</td>\n",
       "      <td>...</td>\n",
       "      <td>3.796488</td>\n",
       "      <td>1.469156e+05</td>\n",
       "      <td>1.224000e+05</td>\n",
       "      <td>87.529866</td>\n",
       "      <td>8.984299</td>\n",
       "      <td>529.118961</td>\n",
       "      <td>1.775290e+05</td>\n",
       "      <td>19.483294</td>\n",
       "      <td>758.923588</td>\n",
       "      <td>40.443603</td>\n",
       "    </tr>\n",
       "    <tr>\n",
       "      <td>min</td>\n",
       "      <td>-0.932005</td>\n",
       "      <td>-1.893266</td>\n",
       "      <td>-0.192736</td>\n",
       "      <td>-811.845623</td>\n",
       "      <td>-101.845815</td>\n",
       "      <td>-124.343612</td>\n",
       "      <td>-14.800817</td>\n",
       "      <td>-124.343612</td>\n",
       "      <td>-40213.178290</td>\n",
       "      <td>-87162.162160</td>\n",
       "      <td>...</td>\n",
       "      <td>-120.916010</td>\n",
       "      <td>-4.912742e+03</td>\n",
       "      <td>-1.915035e+01</td>\n",
       "      <td>-2555.419643</td>\n",
       "      <td>-124.343612</td>\n",
       "      <td>-3749.921337</td>\n",
       "      <td>-1.195049e+04</td>\n",
       "      <td>-4.461837</td>\n",
       "      <td>-76.662850</td>\n",
       "      <td>-1735.047170</td>\n",
       "    </tr>\n",
       "    <tr>\n",
       "      <td>25%</td>\n",
       "      <td>1.071930</td>\n",
       "      <td>0.602825</td>\n",
       "      <td>0.130630</td>\n",
       "      <td>22.905093</td>\n",
       "      <td>0.021006</td>\n",
       "      <td>0.025649</td>\n",
       "      <td>0.233127</td>\n",
       "      <td>0.044610</td>\n",
       "      <td>0.019176</td>\n",
       "      <td>0.028112</td>\n",
       "      <td>...</td>\n",
       "      <td>0.271478</td>\n",
       "      <td>4.119924e-01</td>\n",
       "      <td>1.566038e+00</td>\n",
       "      <td>2.046822</td>\n",
       "      <td>0.028057</td>\n",
       "      <td>6.238066</td>\n",
       "      <td>2.356735e+00</td>\n",
       "      <td>0.073886</td>\n",
       "      <td>2.205912</td>\n",
       "      <td>0.000000</td>\n",
       "    </tr>\n",
       "    <tr>\n",
       "      <td>50%</td>\n",
       "      <td>1.493338</td>\n",
       "      <td>0.985679</td>\n",
       "      <td>0.297493</td>\n",
       "      <td>42.374120</td>\n",
       "      <td>0.064753</td>\n",
       "      <td>0.084965</td>\n",
       "      <td>0.414774</td>\n",
       "      <td>0.107895</td>\n",
       "      <td>0.045608</td>\n",
       "      <td>0.074421</td>\n",
       "      <td>...</td>\n",
       "      <td>0.644529</td>\n",
       "      <td>2.131742e+00</td>\n",
       "      <td>3.686513e+00</td>\n",
       "      <td>2.652456</td>\n",
       "      <td>0.087322</td>\n",
       "      <td>9.274398</td>\n",
       "      <td>4.352584e+00</td>\n",
       "      <td>0.133050</td>\n",
       "      <td>5.759722</td>\n",
       "      <td>0.212845</td>\n",
       "    </tr>\n",
       "    <tr>\n",
       "      <td>75%</td>\n",
       "      <td>2.166891</td>\n",
       "      <td>1.453820</td>\n",
       "      <td>0.624906</td>\n",
       "      <td>59.323563</td>\n",
       "      <td>0.114807</td>\n",
       "      <td>0.144763</td>\n",
       "      <td>0.849693</td>\n",
       "      <td>0.176181</td>\n",
       "      <td>0.077468</td>\n",
       "      <td>0.135036</td>\n",
       "      <td>...</td>\n",
       "      <td>0.836949</td>\n",
       "      <td>4.230253e+00</td>\n",
       "      <td>8.086152e+00</td>\n",
       "      <td>3.658331</td>\n",
       "      <td>0.149355</td>\n",
       "      <td>12.911759</td>\n",
       "      <td>7.319759e+00</td>\n",
       "      <td>0.240894</td>\n",
       "      <td>9.480892</td>\n",
       "      <td>0.465593</td>\n",
       "    </tr>\n",
       "    <tr>\n",
       "      <td>max</td>\n",
       "      <td>1725.505005</td>\n",
       "      <td>1139.541703</td>\n",
       "      <td>125.917417</td>\n",
       "      <td>115961.637400</td>\n",
       "      <td>198.517873</td>\n",
       "      <td>309.694856</td>\n",
       "      <td>2.702533</td>\n",
       "      <td>410.182214</td>\n",
       "      <td>0.487826</td>\n",
       "      <td>2.439504</td>\n",
       "      <td>...</td>\n",
       "      <td>34.594086</td>\n",
       "      <td>5.753380e+06</td>\n",
       "      <td>4.786803e+06</td>\n",
       "      <td>2562.871795</td>\n",
       "      <td>309.694856</td>\n",
       "      <td>11153.607090</td>\n",
       "      <td>6.439270e+06</td>\n",
       "      <td>688.526591</td>\n",
       "      <td>20314.880400</td>\n",
       "      <td>412.136640</td>\n",
       "    </tr>\n",
       "  </tbody>\n",
       "</table>\n",
       "<p>8 rows × 26 columns</p>\n",
       "</div>"
      ],
      "text/plain": [
       "       currentRatio   quickRatio    cashRatio  daysOfSalesOutstanding  \\\n",
       "count   2029.000000  2029.000000  2029.000000             2029.000000   \n",
       "mean       3.529607     2.653986     0.667364              333.795606   \n",
       "std       44.052361    32.944817     3.583943             4447.839583   \n",
       "min       -0.932005    -1.893266    -0.192736             -811.845623   \n",
       "25%        1.071930     0.602825     0.130630               22.905093   \n",
       "50%        1.493338     0.985679     0.297493               42.374120   \n",
       "75%        2.166891     1.453820     0.624906               59.323563   \n",
       "max     1725.505005  1139.541703   125.917417           115961.637400   \n",
       "\n",
       "       netProfitMargin  pretaxProfitMargin  grossProfitMargin  \\\n",
       "count      2029.000000         2029.000000        2029.000000   \n",
       "mean          0.278447            0.431483           0.497968   \n",
       "std           6.064134            8.984982           0.525307   \n",
       "min        -101.845815         -124.343612         -14.800817   \n",
       "25%           0.021006            0.025649           0.233127   \n",
       "50%           0.064753            0.084965           0.414774   \n",
       "75%           0.114807            0.144763           0.849693   \n",
       "max         198.517873          309.694856           2.702533   \n",
       "\n",
       "       operatingProfitMargin  returnOnAssets  returnOnCapitalEmployed  ...  \\\n",
       "count            2029.000000     2029.000000              2029.000000  ...   \n",
       "mean                0.587322      -37.517928               -73.974193  ...   \n",
       "std                11.224622     1166.172220              2350.275719  ...   \n",
       "min              -124.343612   -40213.178290            -87162.162160  ...   \n",
       "25%                 0.044610        0.019176                 0.028112  ...   \n",
       "50%                 0.107895        0.045608                 0.074421  ...   \n",
       "75%                 0.176181        0.077468                 0.135036  ...   \n",
       "max               410.182214        0.487826                 2.439504  ...   \n",
       "\n",
       "       freeCashFlowOperatingCashFlowRatio  freeCashFlowPerShare  cashPerShare  \\\n",
       "count                         2029.000000          2.029000e+03  2.029000e+03   \n",
       "mean                             0.409550          5.094719e+03  4.227549e+03   \n",
       "std                              3.796488          1.469156e+05  1.224000e+05   \n",
       "min                           -120.916010         -4.912742e+03 -1.915035e+01   \n",
       "25%                              0.271478          4.119924e-01  1.566038e+00   \n",
       "50%                              0.644529          2.131742e+00  3.686513e+00   \n",
       "75%                              0.836949          4.230253e+00  8.086152e+00   \n",
       "max                             34.594086          5.753380e+06  4.786803e+06   \n",
       "\n",
       "       companyEquityMultiplier  ebitPerRevenue  enterpriseValueMultiple  \\\n",
       "count              2029.000000     2029.000000              2029.000000   \n",
       "mean                  3.323579        0.437454                48.287985   \n",
       "std                  87.529866        8.984299               529.118961   \n",
       "min               -2555.419643     -124.343612             -3749.921337   \n",
       "25%                   2.046822        0.028057                 6.238066   \n",
       "50%                   2.652456        0.087322                 9.274398   \n",
       "75%                   3.658331        0.149355                12.911759   \n",
       "max                2562.871795      309.694856             11153.607090   \n",
       "\n",
       "       operatingCashFlowPerShare  operatingCashFlowSalesRatio  \\\n",
       "count               2.029000e+03                  2029.000000   \n",
       "mean                6.515123e+03                     1.447653   \n",
       "std                 1.775290e+05                    19.483294   \n",
       "min                -1.195049e+04                    -4.461837   \n",
       "25%                 2.356735e+00                     0.073886   \n",
       "50%                 4.352584e+00                     0.133050   \n",
       "75%                 7.319759e+00                     0.240894   \n",
       "max                 6.439270e+06                   688.526591   \n",
       "\n",
       "       payablesTurnover  payoutRatio  \n",
       "count       2029.000000  2029.000000  \n",
       "mean          38.002718    -0.085374  \n",
       "std          758.923588    40.443603  \n",
       "min          -76.662850 -1735.047170  \n",
       "25%            2.205912     0.000000  \n",
       "50%            5.759722     0.212845  \n",
       "75%            9.480892     0.465593  \n",
       "max        20314.880400   412.136640  \n",
       "\n",
       "[8 rows x 26 columns]"
      ]
     },
     "execution_count": 114,
     "metadata": {},
     "output_type": "execute_result"
    }
   ],
   "source": [
    "df_rating.describe()"
   ]
  },
  {
   "cell_type": "code",
   "execution_count": 115,
   "metadata": {},
   "outputs": [
    {
     "data": {
      "text/plain": [
       "currentRatio                          34.338889\n",
       "quickRatio                            30.925641\n",
       "cashRatio                             27.098772\n",
       "daysOfSalesOutstanding                20.399567\n",
       "netProfitMargin                       17.619910\n",
       "pretaxProfitMargin                    22.096334\n",
       "grossProfitMargin                    -14.203446\n",
       "operatingProfitMargin                 26.493892\n",
       "returnOnAssets                       -32.112571\n",
       "returnOnCapitalEmployed              -33.318531\n",
       "returnOnEquity                        31.702500\n",
       "assetTurnover                         26.020347\n",
       "fixedAssetTurnover                    26.120457\n",
       "debtEquityRatio                        0.268993\n",
       "debtRatio                              1.285251\n",
       "effectiveTaxRate                      32.308742\n",
       "freeCashFlowOperatingCashFlowRatio   -22.913129\n",
       "freeCashFlowPerShare                  33.677207\n",
       "cashPerShare                          34.025861\n",
       "companyEquityMultiplier                0.269093\n",
       "ebitPerRevenue                        22.099452\n",
       "enterpriseValueMultiple               13.948016\n",
       "operatingCashFlowPerShare             30.352915\n",
       "operatingCashFlowSalesRatio           25.450452\n",
       "payablesTurnover                      25.919588\n",
       "payoutRatio                          -38.225242\n",
       "dtype: float64"
      ]
     },
     "execution_count": 115,
     "metadata": {},
     "output_type": "execute_result"
    }
   ],
   "source": [
    "skewValue = df_rating.skew(axis=0)\n",
    "skewValue"
   ]
  },
  {
   "cell_type": "markdown",
   "metadata": {},
   "source": [
    "#### Log conversion"
   ]
  },
  {
   "cell_type": "code",
   "execution_count": 116,
   "metadata": {},
   "outputs": [],
   "source": [
    "from sklearn import preprocessing"
   ]
  },
  {
   "cell_type": "code",
   "execution_count": 117,
   "metadata": {},
   "outputs": [],
   "source": [
    "columns = df_rating.columns[6:]"
   ]
  },
  {
   "cell_type": "code",
   "execution_count": 118,
   "metadata": {},
   "outputs": [],
   "source": [
    "min_max_scaler = preprocessing.MinMaxScaler()\n",
    "\n",
    "for c in columns:\n",
    "    \n",
    "    float_array = df_rating[[c]].values.astype(float)\n",
    "    min_max_scaler = preprocessing.MinMaxScaler()\n",
    "    scaled_array = min_max_scaler.fit_transform(float_array)\n",
    "    df_rating[c] = scaled_array\n",
    "    df_rating[c + 'log'] = df_rating[c].apply(np.log)"
   ]
  },
  {
   "cell_type": "markdown",
   "metadata": {},
   "source": [
    "#### Plot Distributions "
   ]
  },
  {
   "cell_type": "code",
   "execution_count": 122,
   "metadata": {},
   "outputs": [],
   "source": [
    "df_rating.colors = 'a'\n",
    "df_rating.loc[df_rating['Rating'] == 'A', 'color'] = 'r'\n",
    "df_rating.loc[df_rating['Rating'] == 'B', 'color'] = 'g'\n",
    "df_rating.loc[df_rating['Rating'] == 'BB', 'color'] = 'b'\n",
    "df_rating.loc[df_rating['Rating'] == 'BBB','color'] = 'y'\n",
    "df_rating.loc[df_rating['Rating'] == 'C', 'color'] = 'm'"
   ]
  },
  {
   "cell_type": "code",
   "execution_count": 131,
   "metadata": {},
   "outputs": [
    {
     "data": {
      "text/plain": [
       "<matplotlib.collections.PathCollection at 0x21e264b8588>"
      ]
     },
     "execution_count": 131,
     "metadata": {},
     "output_type": "execute_result"
    },
    {
     "data": {
      "image/png": "[encoded data removed]",
      "text/plain": [
       "<Figure size 432x288 with 1 Axes>"
      ]
     },
     "metadata": {
      "needs_background": "light"
     },
     "output_type": "display_data"
    }
   ],
   "source": [
    "plt.scatter(df_rating.ebitPerRevenuelog, df_rating.returnOnEquitylog, c= df_rating.color)"
   ]
  },
  {
   "cell_type": "markdown",
   "metadata": {},
   "source": [
    "# PCA"
   ]
  },
  {
   "cell_type": "code",
   "execution_count": null,
   "metadata": {},
   "outputs": [],
   "source": []
  },
  {
   "cell_type": "code",
   "execution_count": null,
   "metadata": {},
   "outputs": [],
   "source": []
  },
  {
   "cell_type": "code",
   "execution_count": null,
   "metadata": {},
   "outputs": [],
   "source": []
  },
  {
   "cell_type": "code",
   "execution_count": null,
   "metadata": {},
   "outputs": [],
   "source": [
    "df_rating.columns"
   ]
  },
  {
   "cell_type": "code",
   "execution_count": null,
   "metadata": {},
   "outputs": [],
   "source": [
    "from sklearn.preprocessing import StandardScaler"
   ]
  },
  {
   "cell_type": "code",
   "execution_count": null,
   "metadata": {},
   "outputs": [],
   "source": [
    "features = df_rating.columns[6:]\n",
    "# Separating out the features\n",
    "x = df_rating.loc[:, features].values\n",
    "# Separating out the target\n",
    "y = df_rating.loc[:,['Rating']].values\n",
    "# Standardizing the features\n",
    "x = StandardScaler().fit_transform(x)"
   ]
  },
  {
   "cell_type": "code",
   "execution_count": null,
   "metadata": {},
   "outputs": [],
   "source": [
    "from sklearn.decomposition import PCA\n",
    "pca = PCA(n_components=5)\n",
    "principalComponents = pca.fit_transform(x)\n",
    "principalDf = pd.DataFrame(data = principalComponents, columns = ['pca1', 'pca2','pca3', 'pca4', 'pca5'])"
   ]
  },
  {
   "cell_type": "code",
   "execution_count": null,
   "metadata": {},
   "outputs": [],
   "source": [
    "finalDf = pd.concat([principalDf, df_rating[['Rating']]], axis = 1)"
   ]
  },
  {
   "cell_type": "code",
   "execution_count": null,
   "metadata": {},
   "outputs": [],
   "source": [
    "fig = plt.figure(figsize = (8,8))\n",
    "ax = fig.add_subplot(1,1,1) \n",
    "ax.set_xlabel('Principal Component 1', fontsize = 15)\n",
    "ax.set_ylabel('Principal Component 2', fontsize = 15)\n",
    "ax.set_title('2 component PCA', fontsize = 20)\n",
    "targets = list(set(df_rating.Rating))\n",
    "colors = ['r', 'g', 'b','y', 'm']\n",
    "for target, color in zip(targets,colors):\n",
    "    indicesToKeep = finalDf['Rating'] == target\n",
    "    ax.scatter(finalDf.loc[indicesToKeep, 'pca2'], \n",
    "               finalDf.loc[indicesToKeep, 'pca3'], \n",
    "               c = color, \n",
    "               s = 50)\n",
    "\n",
    "ax.legend(targets)\n",
    "ax.grid()"
   ]
  },
  {
   "cell_type": "code",
   "execution_count": null,
   "metadata": {},
   "outputs": [],
   "source": [
    "sum(pca.explained_variance_ratio_)"
   ]
  },
  {
   "cell_type": "code",
   "execution_count": null,
   "metadata": {},
   "outputs": [],
   "source": [
    "# Load libraries\n",
    "from sklearn.linear_model import LogisticRegression\n",
    "from sklearn import datasets\n",
    "from sklearn.preprocessing import StandardScaler"
   ]
  },
  {
   "cell_type": "markdown",
   "metadata": {},
   "source": [
    "#### Train and Test"
   ]
  },
  {
   "cell_type": "code",
   "execution_count": null,
   "metadata": {},
   "outputs": [],
   "source": [
    "import numpy as np\n",
    "from sklearn.model_selection import train_test_split\n",
    "X, y = np.arange(10).reshape((5, 2)), finalDf.iloc[:,5]"
   ]
  },
  {
   "cell_type": "code",
   "execution_count": null,
   "metadata": {},
   "outputs": [],
   "source": [
    "X = X.apply(np.log)"
   ]
  },
  {
   "cell_type": "code",
   "execution_count": null,
   "metadata": {},
   "outputs": [],
   "source": [
    "X_train, X_test, y_train, y_test = train_test_split(X, y, test_size=0.2, random_state=42)"
   ]
  },
  {
   "cell_type": "markdown",
   "metadata": {},
   "source": [
    "# Logistic Regression"
   ]
  },
  {
   "cell_type": "code",
   "execution_count": null,
   "metadata": {},
   "outputs": [],
   "source": [
    "# Standarize features\n",
    "scaler = StandardScaler()\n",
    "X_std = scaler.fit_transform(X_train)"
   ]
  },
  {
   "cell_type": "code",
   "execution_count": null,
   "metadata": {},
   "outputs": [],
   "source": [
    "clf = LogisticRegression(random_state=0, multi_class='multinomial', solver='newton-cg')"
   ]
  },
  {
   "cell_type": "code",
   "execution_count": null,
   "metadata": {},
   "outputs": [],
   "source": [
    "model = clf.fit(X_std, y_train)"
   ]
  },
  {
   "cell_type": "markdown",
   "metadata": {},
   "source": [
    "# Random Forest"
   ]
  },
  {
   "cell_type": "code",
   "execution_count": null,
   "metadata": {},
   "outputs": [],
   "source": [
    "import numpy as np\n",
    "from sklearn.model_selection import train_test_split\n",
    "X, y = df_rating.iloc[:,6:], df_rating.iloc[:,0]"
   ]
  },
  {
   "cell_type": "code",
   "execution_count": null,
   "metadata": {},
   "outputs": [],
   "source": [
    "X_train, X_test, y_train, y_test = train_test_split(X, y, test_size=0.2, random_state=42)"
   ]
  },
  {
   "cell_type": "code",
   "execution_count": null,
   "metadata": {},
   "outputs": [],
   "source": [
    "#Import Random Forest Model\n",
    "from sklearn.ensemble import RandomForestClassifier\n",
    "\n",
    "#Create a Gaussian Classifier\n",
    "clf=RandomForestClassifier(n_estimators=100)\n",
    "\n",
    "#Train the model using the training sets y_pred=clf.predict(X_test)\n",
    "clf.fit(X_train,y_train)\n",
    "\n",
    "y_pred=clf.predict(X_test)"
   ]
  },
  {
   "cell_type": "code",
   "execution_count": null,
   "metadata": {},
   "outputs": [],
   "source": [
    "#Import scikit-learn metrics module for accuracy calculation\n",
    "from sklearn import metrics\n",
    "# Model Accuracy, how often is the classifier correct?\n",
    "print(\"Accuracy:\",metrics.accuracy_score(y_test, y_pred))"
   ]
  },
  {
   "cell_type": "code",
   "execution_count": null,
   "metadata": {},
   "outputs": [],
   "source": []
  }
 ],
 "metadata": {
  "kernelspec": {
   "display_name": "Python 3",
   "language": "python",
   "name": "python3"
  },
  "language_info": {
   "codemirror_mode": {
    "name": "ipython",
    "version": 3
   },
   "file_extension": ".py",
   "mimetype": "text/x-python",
   "name": "python",
   "nbconvert_exporter": "python",
   "pygments_lexer": "ipython3",
   "version": "3.7.4"
  }
 },
 "nbformat": 4,
 "nbformat_minor": 2
}
