{
 "cells": [
  {
   "cell_type": "markdown",
   "metadata": {},
   "source": [
    "# Corporate Credit Rating Forecasting \n",
    "\n",
    "\n",
    "\n",
    "### Introduction\n",
    "\n",
    "This notebook contains the results of the data analysis performed on a set of corporate credit ratings given by ratings agencies to a set of companies. The aim of the data analysis is to build a machine learning model from the rating data that can be used to predict the rating a company will receive.\n",
    "\n",
    "The first section section of the notebook shows the exploratory data analysis (EDA) performed to explore and understand the data. It looks at each attribute (variable) in the data to understand the nature and distribution of the attribute values. It also examines the correlation between the variables through visual analysis. A summary at the end highlights the key findings of the EDA.\n",
    "\n",
    "The second section shows the development of a machine learning model. It details the process used to build the model and shows the model at key points in the development process. The final model is then presented along with an analysis and interpretation of the model. This section concludes with the results of using the model to predict house prices for the data in the development dataset.\n",
    "\n",
    "The final section provides the details of the model to enable it to be rebuilt. In addition to the model itself, it includes the functions used to transform the data and run the model.\n",
    "\n",
    "Two datasets were provided for the assignment - training.csv and dev.csv. The exploratory data analysis and the model building were done using the training.csv dataset; the dev.csv dataset was only used to test the generated model\n",
    "\n",
    "### The Dataset\n",
    "\n",
    "There are xxxx features for every company. They can be divided in: <br>\n",
    "- **Liquidity Measurement Ratios**: currentRatio, quickRatio, cashRatio, daysOfSalesOutstanding, daysOfInventoryOutstanding, operatingCycle, daysOfPayablesOutstanding, cashConversionCycle\n",
    "- **Profitability Indicator Ratios**: grossProfitMargin, operatingProfitMargin, pretaxProfitMargin, netProfitMargin, effectiveTaxRate, returnOnAssets, returnOnEquity, returnOnCapitalEmployed, netIncomePerEBT, ebtPerEbit, ebitPerRevenue\n",
    "- **Debt Ratios**: debtRatio, debtEquityRatio, longTermDebtToCapitalization, totalDebtToCapitalization, interestCoverage, cashFlowToDebtRatio, companyEquityMultiplier\n",
    "- **Operating Performance Ratios**: receivablesTurnover, payablesTurnover, inventoryTurnover, fixedAssetTurnover, assetTurnover\n",
    "- **Cash Flow Indicator Ratios**: operatingCashFlowPerShare, freeCashFlowPerShare, cashPerShare, payoutRatio, operatingCashFlowSalesRatio, freeCashFlowOperatingCashFlowRatio, cashFlowCoverageRatios, shortTermCoverageRatios, capitalExpenditureCoverageRatio, dividendPaidAndCapexCoverageRatio, dividendPayoutRatio, \n",
    "\n",
    "\n",
    "### Libraries used:\n",
    "- pandas\n",
    "- numpy\n",
    "- matplotlib\n",
    "- seaborn\n",
    "- random\n",
    "- sklearn"
   ]
  },
  {
   "cell_type": "markdown",
   "metadata": {},
   "source": [
    "Load the Libraries used in the notebook"
   ]
  },
  {
   "cell_type": "code",
   "execution_count": 2227,
   "metadata": {},
   "outputs": [],
   "source": [
    "import pandas as pd\n",
    "import numpy as np\n",
    "import matplotlib.pyplot as plt\n",
    "import seaborn as sns\n",
    "from random import choices \n",
    "from sklearn import svm\n",
    "from sklearn import metrics\n",
    "from sklearn.datasets import make_classification\n",
    "from sklearn.ensemble import GradientBoostingClassifier\n",
    "from sklearn.model_selection import train_test_split\n",
    "from sklearn.neural_network import MLPClassifier\n",
    "from sklearn.ensemble import RandomForestClassifier\n",
    "from sklearn.discriminant_analysis import LinearDiscriminantAnalysis\n",
    "from sklearn.discriminant_analysis import QuadraticDiscriminantAnalysis\n",
    "from sklearn.utils import resample\n",
    "from sklearn.model_selection import StratifiedShuffleSplit\n",
    "from sklearn.metrics import confusion_matrix\n",
    "from sklearn.preprocessing import StandardScaler\n",
    "from sklearn.decomposition import PCA\n",
    "from sklearn.naive_bayes import GaussianNB\n",
    "from sklearn.neighbors import KNeighborsClassifier\n",
    "from sklearn.linear_model import LogisticRegression\n",
    "from sklearn import metrics\n",
    "from sklearn.model_selection import GridSearchCV\n",
    "from sklearn.model_selection import StratifiedKFold\n",
    "from sklearn.preprocessing import LabelEncoder\n",
    "import math\n",
    "import xgboost as xgb"
   ]
  },
  {
   "cell_type": "markdown",
   "metadata": {},
   "source": [
    "#### Ignore Warnings"
   ]
  },
  {
   "cell_type": "code",
   "execution_count": 2103,
   "metadata": {},
   "outputs": [],
   "source": [
    "# import warnings filter\n",
    "from warnings import simplefilter\n",
    "# ignore all future warnings\n",
    "simplefilter(action='ignore', category=FutureWarning)"
   ]
  },
  {
   "cell_type": "markdown",
   "metadata": {},
   "source": [
    "## Exploratory Data Analysis\n",
    "\n",
    "### Import Dataset"
   ]
  },
  {
   "cell_type": "code",
   "execution_count": 2104,
   "metadata": {},
   "outputs": [],
   "source": [
    "df_rating = pd.read_csv('data/corporate_rating.csv')"
   ]
  },
  {
   "cell_type": "markdown",
   "metadata": {},
   "source": [
    "### Descriptive Data "
   ]
  },
  {
   "cell_type": "code",
   "execution_count": 2105,
   "metadata": {},
   "outputs": [
    {
     "name": "stdout",
     "output_type": "stream",
     "text": [
      "The credit rating dataset has 2029 records, each with 31 attributes\n"
     ]
    }
   ],
   "source": [
    "# Display the dimensions\n",
    "print(\"The credit rating dataset has\", df_rating.shape[0], \"records, each with\", df_rating.shape[1],\n",
    "    \"attributes\")"
   ]
  },
  {
   "cell_type": "markdown",
   "metadata": {},
   "source": [
    "Investigate class of columns.  "
   ]
  },
  {
   "cell_type": "code",
   "execution_count": 2106,
   "metadata": {},
   "outputs": [
    {
     "name": "stdout",
     "output_type": "stream",
     "text": [
      "<class 'pandas.core.frame.DataFrame'>\n",
      "RangeIndex: 2029 entries, 0 to 2028\n",
      "Data columns (total 31 columns):\n",
      "Rating                                2029 non-null object\n",
      "Name                                  2029 non-null object\n",
      "Symbol                                2029 non-null object\n",
      "Rating Agency Name                    2029 non-null object\n",
      "Date                                  2029 non-null object\n",
      "Sector                                2029 non-null object\n",
      "currentRatio                          2029 non-null float64\n",
      "quickRatio                            2029 non-null float64\n",
      "cashRatio                             2029 non-null float64\n",
      "daysOfSalesOutstanding                2029 non-null float64\n",
      "netProfitMargin                       2029 non-null float64\n",
      "pretaxProfitMargin                    2029 non-null float64\n",
      "grossProfitMargin                     2029 non-null float64\n",
      "operatingProfitMargin                 2029 non-null float64\n",
      "returnOnAssets                        2029 non-null float64\n",
      "returnOnCapitalEmployed               2029 non-null float64\n",
      "returnOnEquity                        2029 non-null float64\n",
      "assetTurnover                         2029 non-null float64\n",
      "fixedAssetTurnover                    2029 non-null float64\n",
      "debtEquityRatio                       2029 non-null float64\n",
      "debtRatio                             2029 non-null float64\n",
      "effectiveTaxRate                      2029 non-null float64\n",
      "freeCashFlowOperatingCashFlowRatio    2029 non-null float64\n",
      "freeCashFlowPerShare                  2029 non-null float64\n",
      "cashPerShare                          2029 non-null float64\n",
      "companyEquityMultiplier               2029 non-null float64\n",
      "ebitPerRevenue                        2029 non-null float64\n",
      "enterpriseValueMultiple               2029 non-null float64\n",
      "operatingCashFlowPerShare             2029 non-null float64\n",
      "operatingCashFlowSalesRatio           2029 non-null float64\n",
      "payablesTurnover                      2029 non-null float64\n",
      "dtypes: float64(25), object(6)\n",
      "memory usage: 491.5+ KB\n"
     ]
    }
   ],
   "source": [
    "# Display the structure\n",
    "df_rating.info()"
   ]
  },
  {
   "cell_type": "markdown",
   "metadata": {},
   "source": [
    "We have 26 columns of numerical data and 6 descriptive columns. A first look at the data:"
   ]
  },
  {
   "cell_type": "code",
   "execution_count": 2107,
   "metadata": {
    "scrolled": true
   },
   "outputs": [
    {
     "data": {
      "text/html": [
       "<div>\n",
       "<style scoped>\n",
       "    .dataframe tbody tr th:only-of-type {\n",
       "        vertical-align: middle;\n",
       "    }\n",
       "\n",
       "    .dataframe tbody tr th {\n",
       "        vertical-align: top;\n",
       "    }\n",
       "\n",
       "    .dataframe thead th {\n",
       "        text-align: right;\n",
       "    }\n",
       "</style>\n",
       "<table border=\"1\" class=\"dataframe\">\n",
       "  <thead>\n",
       "    <tr style=\"text-align: right;\">\n",
       "      <th></th>\n",
       "      <th>Rating</th>\n",
       "      <th>Name</th>\n",
       "      <th>Symbol</th>\n",
       "      <th>Rating Agency Name</th>\n",
       "      <th>Date</th>\n",
       "      <th>Sector</th>\n",
       "      <th>currentRatio</th>\n",
       "      <th>quickRatio</th>\n",
       "      <th>cashRatio</th>\n",
       "      <th>daysOfSalesOutstanding</th>\n",
       "      <th>...</th>\n",
       "      <th>effectiveTaxRate</th>\n",
       "      <th>freeCashFlowOperatingCashFlowRatio</th>\n",
       "      <th>freeCashFlowPerShare</th>\n",
       "      <th>cashPerShare</th>\n",
       "      <th>companyEquityMultiplier</th>\n",
       "      <th>ebitPerRevenue</th>\n",
       "      <th>enterpriseValueMultiple</th>\n",
       "      <th>operatingCashFlowPerShare</th>\n",
       "      <th>operatingCashFlowSalesRatio</th>\n",
       "      <th>payablesTurnover</th>\n",
       "    </tr>\n",
       "  </thead>\n",
       "  <tbody>\n",
       "    <tr>\n",
       "      <td>0</td>\n",
       "      <td>A</td>\n",
       "      <td>whirlpool</td>\n",
       "      <td>WHR</td>\n",
       "      <td>Egan-Jones Ratings Company</td>\n",
       "      <td>11/27/2015</td>\n",
       "      <td>Consumer Durables</td>\n",
       "      <td>0.945894</td>\n",
       "      <td>0.426395</td>\n",
       "      <td>0.099690</td>\n",
       "      <td>44.203245</td>\n",
       "      <td>...</td>\n",
       "      <td>0.202716</td>\n",
       "      <td>0.437551</td>\n",
       "      <td>6.810673</td>\n",
       "      <td>9.809403</td>\n",
       "      <td>4.008012</td>\n",
       "      <td>0.049351</td>\n",
       "      <td>7.057088</td>\n",
       "      <td>15.565438</td>\n",
       "      <td>0.058638</td>\n",
       "      <td>3.906655</td>\n",
       "    </tr>\n",
       "    <tr>\n",
       "      <td>1</td>\n",
       "      <td>BBB</td>\n",
       "      <td>whirlpool</td>\n",
       "      <td>WHR</td>\n",
       "      <td>Egan-Jones Ratings Company</td>\n",
       "      <td>2/13/2014</td>\n",
       "      <td>Consumer Durables</td>\n",
       "      <td>1.033559</td>\n",
       "      <td>0.498234</td>\n",
       "      <td>0.203120</td>\n",
       "      <td>38.991156</td>\n",
       "      <td>...</td>\n",
       "      <td>0.074155</td>\n",
       "      <td>0.541997</td>\n",
       "      <td>8.625473</td>\n",
       "      <td>17.402270</td>\n",
       "      <td>3.156783</td>\n",
       "      <td>0.048857</td>\n",
       "      <td>6.460618</td>\n",
       "      <td>15.914250</td>\n",
       "      <td>0.067239</td>\n",
       "      <td>4.002846</td>\n",
       "    </tr>\n",
       "    <tr>\n",
       "      <td>2</td>\n",
       "      <td>BBB</td>\n",
       "      <td>whirlpool</td>\n",
       "      <td>WHR</td>\n",
       "      <td>Fitch Ratings</td>\n",
       "      <td>3/6/2015</td>\n",
       "      <td>Consumer Durables</td>\n",
       "      <td>0.963703</td>\n",
       "      <td>0.451505</td>\n",
       "      <td>0.122099</td>\n",
       "      <td>50.841385</td>\n",
       "      <td>...</td>\n",
       "      <td>0.214529</td>\n",
       "      <td>0.513185</td>\n",
       "      <td>9.693487</td>\n",
       "      <td>13.103448</td>\n",
       "      <td>4.094575</td>\n",
       "      <td>0.044334</td>\n",
       "      <td>10.491970</td>\n",
       "      <td>18.888889</td>\n",
       "      <td>0.074426</td>\n",
       "      <td>3.483510</td>\n",
       "    </tr>\n",
       "    <tr>\n",
       "      <td>3</td>\n",
       "      <td>BBB</td>\n",
       "      <td>whirlpool</td>\n",
       "      <td>WHR</td>\n",
       "      <td>Fitch Ratings</td>\n",
       "      <td>6/15/2012</td>\n",
       "      <td>Consumer Durables</td>\n",
       "      <td>1.019851</td>\n",
       "      <td>0.510402</td>\n",
       "      <td>0.176116</td>\n",
       "      <td>41.161738</td>\n",
       "      <td>...</td>\n",
       "      <td>1.816667</td>\n",
       "      <td>-0.147170</td>\n",
       "      <td>-1.015625</td>\n",
       "      <td>14.440104</td>\n",
       "      <td>3.630950</td>\n",
       "      <td>-0.012858</td>\n",
       "      <td>4.080741</td>\n",
       "      <td>6.901042</td>\n",
       "      <td>0.028394</td>\n",
       "      <td>4.581150</td>\n",
       "    </tr>\n",
       "    <tr>\n",
       "      <td>4</td>\n",
       "      <td>BBB</td>\n",
       "      <td>whirlpool</td>\n",
       "      <td>WHR</td>\n",
       "      <td>Standard &amp; Poor's Ratings Services</td>\n",
       "      <td>10/24/2016</td>\n",
       "      <td>Consumer Durables</td>\n",
       "      <td>0.957844</td>\n",
       "      <td>0.495432</td>\n",
       "      <td>0.141608</td>\n",
       "      <td>47.761126</td>\n",
       "      <td>...</td>\n",
       "      <td>0.166966</td>\n",
       "      <td>0.451372</td>\n",
       "      <td>7.135348</td>\n",
       "      <td>14.257556</td>\n",
       "      <td>4.012780</td>\n",
       "      <td>0.053770</td>\n",
       "      <td>8.293505</td>\n",
       "      <td>15.808147</td>\n",
       "      <td>0.058065</td>\n",
       "      <td>3.857790</td>\n",
       "    </tr>\n",
       "  </tbody>\n",
       "</table>\n",
       "<p>5 rows × 31 columns</p>\n",
       "</div>"
      ],
      "text/plain": [
       "  Rating       Name Symbol                  Rating Agency Name        Date  \\\n",
       "0      A  whirlpool    WHR          Egan-Jones Ratings Company  11/27/2015   \n",
       "1    BBB  whirlpool    WHR          Egan-Jones Ratings Company   2/13/2014   \n",
       "2    BBB  whirlpool    WHR                       Fitch Ratings    3/6/2015   \n",
       "3    BBB  whirlpool    WHR                       Fitch Ratings   6/15/2012   \n",
       "4    BBB  whirlpool    WHR  Standard & Poor's Ratings Services  10/24/2016   \n",
       "\n",
       "              Sector  currentRatio  quickRatio  cashRatio  \\\n",
       "0  Consumer Durables      0.945894    0.426395   0.099690   \n",
       "1  Consumer Durables      1.033559    0.498234   0.203120   \n",
       "2  Consumer Durables      0.963703    0.451505   0.122099   \n",
       "3  Consumer Durables      1.019851    0.510402   0.176116   \n",
       "4  Consumer Durables      0.957844    0.495432   0.141608   \n",
       "\n",
       "   daysOfSalesOutstanding  ...  effectiveTaxRate  \\\n",
       "0               44.203245  ...          0.202716   \n",
       "1               38.991156  ...          0.074155   \n",
       "2               50.841385  ...          0.214529   \n",
       "3               41.161738  ...          1.816667   \n",
       "4               47.761126  ...          0.166966   \n",
       "\n",
       "   freeCashFlowOperatingCashFlowRatio  freeCashFlowPerShare  cashPerShare  \\\n",
       "0                            0.437551              6.810673      9.809403   \n",
       "1                            0.541997              8.625473     17.402270   \n",
       "2                            0.513185              9.693487     13.103448   \n",
       "3                           -0.147170             -1.015625     14.440104   \n",
       "4                            0.451372              7.135348     14.257556   \n",
       "\n",
       "   companyEquityMultiplier  ebitPerRevenue  enterpriseValueMultiple  \\\n",
       "0                 4.008012        0.049351                 7.057088   \n",
       "1                 3.156783        0.048857                 6.460618   \n",
       "2                 4.094575        0.044334                10.491970   \n",
       "3                 3.630950       -0.012858                 4.080741   \n",
       "4                 4.012780        0.053770                 8.293505   \n",
       "\n",
       "   operatingCashFlowPerShare  operatingCashFlowSalesRatio  payablesTurnover  \n",
       "0                  15.565438                     0.058638          3.906655  \n",
       "1                  15.914250                     0.067239          4.002846  \n",
       "2                  18.888889                     0.074426          3.483510  \n",
       "3                   6.901042                     0.028394          4.581150  \n",
       "4                  15.808147                     0.058065          3.857790  \n",
       "\n",
       "[5 rows x 31 columns]"
      ]
     },
     "execution_count": 2107,
     "metadata": {},
     "output_type": "execute_result"
    }
   ],
   "source": [
    "df_rating.head()"
   ]
  },
  {
   "cell_type": "markdown",
   "metadata": {},
   "source": [
    "Grouping labels"
   ]
  },
  {
   "cell_type": "markdown",
   "metadata": {},
   "source": [
    "#### Analyse Labels\n",
    "We will group labels to check their pattern."
   ]
  },
  {
   "cell_type": "code",
   "execution_count": 2108,
   "metadata": {},
   "outputs": [
    {
     "data": {
      "text/plain": [
       "BBB    671\n",
       "BB     490\n",
       "A      398\n",
       "B      302\n",
       "AA      89\n",
       "CCC     64\n",
       "AAA      7\n",
       "CC       5\n",
       "C        2\n",
       "D        1\n",
       "Name: Rating, dtype: int64"
      ]
     },
     "execution_count": 2108,
     "metadata": {},
     "output_type": "execute_result"
    }
   ],
   "source": [
    "df_rating.Rating.value_counts()"
   ]
  },
  {
   "cell_type": "markdown",
   "metadata": {},
   "source": [
    "We observe that the dataset is very unbalanced.\n",
    "We will have to adress this issue in the Machine Learning steps. \n",
    "\n",
    "However now we will use the following table extracted from [investopedia](https://www.investopedia.com/terms/c/corporate-credit-rating.asp) to transform our labels. We will classify according to the grading risk. \n",
    "\n",
    "| Bond Rating |                   |          |            |              |\n",
    "|-------------|-------------------|----------|------------|--------------|\n",
    "| Moody's     | Standard & Poor's | Fitch    | Grade      | Risk         |\n",
    "| Aaa         | AAA               | AAA      | Investment | Lowest Risk  |\n",
    "| Aa          | AA                | AA       | Investment | Low Risk     |\n",
    "| A           | A                 | A        | Investment | Low Risk     |\n",
    "| Baa         | BBB               | BBB      | Investment | Medium Risk  |\n",
    "| Ba, B       | BB, B             | BB, B    | Junk       | High Risk    |\n",
    "| Caa/Ca      | CCC/CC/C          | CCC/CC/C | Junk       | Highest Risk |\n",
    "| C           | D                 | D        | Junk       | In Default   |"
   ]
  },
  {
   "cell_type": "code",
   "execution_count": 2109,
   "metadata": {},
   "outputs": [],
   "source": [
    "rating_dict = {'AAA':'Lowest Risk', \n",
    "               'AA':'Low Risk',\n",
    "               'A':'Low Risk',\n",
    "               'BBB':'Medium Risk', \n",
    "               'BB':'High Risk',\n",
    "               'B':'High Risk',\n",
    "               'CCC':'Highest Risk', \n",
    "               'CC':'Highest Risk',\n",
    "               'C':'Highest Risk',\n",
    "               'D':'In Default'}\n",
    "\n",
    "df_rating.Rating = df_rating.Rating.map(rating_dict)"
   ]
  },
  {
   "cell_type": "code",
   "execution_count": 2110,
   "metadata": {},
   "outputs": [
    {
     "data": {
      "image/png": "[encoded data removed]",
      "text/plain": [
       "<Figure size 576x288 with 1 Axes>"
      ]
     },
     "metadata": {
      "needs_background": "light"
     },
     "output_type": "display_data"
    }
   ],
   "source": [
    "ax = df_rating['Rating'].value_counts().plot(kind='bar',\n",
    "                                             figsize=(8,4),\n",
    "                                             title=\"Count of Ratings by Type\",\n",
    "                                             grid=True)"
   ]
  },
  {
   "cell_type": "markdown",
   "metadata": {},
   "source": [
    "Unfortunately given the lack of \"Lowest Risk\" and \"In Default\" companies we will have to eliminate then from the table."
   ]
  },
  {
   "cell_type": "code",
   "execution_count": 2111,
   "metadata": {},
   "outputs": [],
   "source": [
    "df_rating = df_rating[df_rating['Rating']!='Lowest Risk']\n",
    "df_rating = df_rating[df_rating['Rating']!='In Default']\n",
    "df_rating.reset_index(inplace = True, drop=True)"
   ]
  },
  {
   "cell_type": "markdown",
   "metadata": {},
   "source": [
    "### Descriptive Statistics"
   ]
  },
  {
   "cell_type": "code",
   "execution_count": 2112,
   "metadata": {
    "scrolled": true
   },
   "outputs": [
    {
     "data": {
      "text/html": [
       "<div>\n",
       "<style scoped>\n",
       "    .dataframe tbody tr th:only-of-type {\n",
       "        vertical-align: middle;\n",
       "    }\n",
       "\n",
       "    .dataframe tbody tr th {\n",
       "        vertical-align: top;\n",
       "    }\n",
       "\n",
       "    .dataframe thead th {\n",
       "        text-align: right;\n",
       "    }\n",
       "</style>\n",
       "<table border=\"1\" class=\"dataframe\">\n",
       "  <thead>\n",
       "    <tr style=\"text-align: right;\">\n",
       "      <th></th>\n",
       "      <th>currentRatio</th>\n",
       "      <th>quickRatio</th>\n",
       "      <th>cashRatio</th>\n",
       "      <th>daysOfSalesOutstanding</th>\n",
       "      <th>netProfitMargin</th>\n",
       "      <th>pretaxProfitMargin</th>\n",
       "      <th>grossProfitMargin</th>\n",
       "      <th>operatingProfitMargin</th>\n",
       "      <th>returnOnAssets</th>\n",
       "      <th>returnOnCapitalEmployed</th>\n",
       "      <th>...</th>\n",
       "      <th>effectiveTaxRate</th>\n",
       "      <th>freeCashFlowOperatingCashFlowRatio</th>\n",
       "      <th>freeCashFlowPerShare</th>\n",
       "      <th>cashPerShare</th>\n",
       "      <th>companyEquityMultiplier</th>\n",
       "      <th>ebitPerRevenue</th>\n",
       "      <th>enterpriseValueMultiple</th>\n",
       "      <th>operatingCashFlowPerShare</th>\n",
       "      <th>operatingCashFlowSalesRatio</th>\n",
       "      <th>payablesTurnover</th>\n",
       "    </tr>\n",
       "  </thead>\n",
       "  <tbody>\n",
       "    <tr>\n",
       "      <td>count</td>\n",
       "      <td>2021.000000</td>\n",
       "      <td>2021.000000</td>\n",
       "      <td>2021.000000</td>\n",
       "      <td>2021.000000</td>\n",
       "      <td>2021.000000</td>\n",
       "      <td>2021.000000</td>\n",
       "      <td>2021.000000</td>\n",
       "      <td>2021.000000</td>\n",
       "      <td>2021.000000</td>\n",
       "      <td>2021.000000</td>\n",
       "      <td>...</td>\n",
       "      <td>2021.000000</td>\n",
       "      <td>2021.000000</td>\n",
       "      <td>2.021000e+03</td>\n",
       "      <td>2.021000e+03</td>\n",
       "      <td>2021.000000</td>\n",
       "      <td>2021.000000</td>\n",
       "      <td>2021.000000</td>\n",
       "      <td>2.021000e+03</td>\n",
       "      <td>2021.000000</td>\n",
       "      <td>2021.000000</td>\n",
       "    </tr>\n",
       "    <tr>\n",
       "      <td>mean</td>\n",
       "      <td>3.535411</td>\n",
       "      <td>2.657150</td>\n",
       "      <td>0.669048</td>\n",
       "      <td>334.855415</td>\n",
       "      <td>0.278725</td>\n",
       "      <td>0.432721</td>\n",
       "      <td>0.496900</td>\n",
       "      <td>0.588793</td>\n",
       "      <td>-37.666843</td>\n",
       "      <td>-74.267283</td>\n",
       "      <td>...</td>\n",
       "      <td>0.400755</td>\n",
       "      <td>0.408272</td>\n",
       "      <td>5.114871e+03</td>\n",
       "      <td>4.244248e+03</td>\n",
       "      <td>3.335166</td>\n",
       "      <td>0.438715</td>\n",
       "      <td>48.426558</td>\n",
       "      <td>6.540891e+03</td>\n",
       "      <td>1.452142</td>\n",
       "      <td>38.138233</td>\n",
       "    </tr>\n",
       "    <tr>\n",
       "      <td>std</td>\n",
       "      <td>44.139386</td>\n",
       "      <td>33.009920</td>\n",
       "      <td>3.590902</td>\n",
       "      <td>4456.606352</td>\n",
       "      <td>6.076128</td>\n",
       "      <td>9.002733</td>\n",
       "      <td>0.525996</td>\n",
       "      <td>11.246798</td>\n",
       "      <td>1168.476782</td>\n",
       "      <td>2354.920503</td>\n",
       "      <td>...</td>\n",
       "      <td>10.613711</td>\n",
       "      <td>3.803929</td>\n",
       "      <td>1.472059e+05</td>\n",
       "      <td>1.226418e+05</td>\n",
       "      <td>87.702375</td>\n",
       "      <td>9.002047</td>\n",
       "      <td>530.161001</td>\n",
       "      <td>1.778797e+05</td>\n",
       "      <td>19.521704</td>\n",
       "      <td>760.421855</td>\n",
       "    </tr>\n",
       "    <tr>\n",
       "      <td>min</td>\n",
       "      <td>-0.932005</td>\n",
       "      <td>-1.893266</td>\n",
       "      <td>-0.192736</td>\n",
       "      <td>-811.845623</td>\n",
       "      <td>-101.845815</td>\n",
       "      <td>-124.343612</td>\n",
       "      <td>-14.800817</td>\n",
       "      <td>-124.343612</td>\n",
       "      <td>-40213.178290</td>\n",
       "      <td>-87162.162160</td>\n",
       "      <td>...</td>\n",
       "      <td>-100.611016</td>\n",
       "      <td>-120.916010</td>\n",
       "      <td>-4.912742e+03</td>\n",
       "      <td>-1.915035e+01</td>\n",
       "      <td>-2555.419643</td>\n",
       "      <td>-124.343612</td>\n",
       "      <td>-3749.921337</td>\n",
       "      <td>-1.195049e+04</td>\n",
       "      <td>-4.461837</td>\n",
       "      <td>-76.662850</td>\n",
       "    </tr>\n",
       "    <tr>\n",
       "      <td>25%</td>\n",
       "      <td>1.071930</td>\n",
       "      <td>0.602298</td>\n",
       "      <td>0.131433</td>\n",
       "      <td>22.806507</td>\n",
       "      <td>0.020894</td>\n",
       "      <td>0.025649</td>\n",
       "      <td>0.232565</td>\n",
       "      <td>0.044546</td>\n",
       "      <td>0.018757</td>\n",
       "      <td>0.028112</td>\n",
       "      <td>...</td>\n",
       "      <td>0.147837</td>\n",
       "      <td>0.269616</td>\n",
       "      <td>4.094118e-01</td>\n",
       "      <td>1.562116e+00</td>\n",
       "      <td>2.050249</td>\n",
       "      <td>0.028057</td>\n",
       "      <td>6.235759</td>\n",
       "      <td>2.348851e+00</td>\n",
       "      <td>0.073664</td>\n",
       "      <td>2.202394</td>\n",
       "    </tr>\n",
       "    <tr>\n",
       "      <td>50%</td>\n",
       "      <td>1.492804</td>\n",
       "      <td>0.979094</td>\n",
       "      <td>0.297859</td>\n",
       "      <td>42.281804</td>\n",
       "      <td>0.064323</td>\n",
       "      <td>0.084965</td>\n",
       "      <td>0.414217</td>\n",
       "      <td>0.107640</td>\n",
       "      <td>0.045417</td>\n",
       "      <td>0.074639</td>\n",
       "      <td>...</td>\n",
       "      <td>0.300439</td>\n",
       "      <td>0.644265</td>\n",
       "      <td>2.123062e+00</td>\n",
       "      <td>3.680425e+00</td>\n",
       "      <td>2.657275</td>\n",
       "      <td>0.087424</td>\n",
       "      <td>9.269746</td>\n",
       "      <td>4.361649e+00</td>\n",
       "      <td>0.132758</td>\n",
       "      <td>5.775840</td>\n",
       "    </tr>\n",
       "    <tr>\n",
       "      <td>75%</td>\n",
       "      <td>2.160710</td>\n",
       "      <td>1.450457</td>\n",
       "      <td>0.625355</td>\n",
       "      <td>59.165369</td>\n",
       "      <td>0.113871</td>\n",
       "      <td>0.144763</td>\n",
       "      <td>0.849693</td>\n",
       "      <td>0.175334</td>\n",
       "      <td>0.077159</td>\n",
       "      <td>0.135036</td>\n",
       "      <td>...</td>\n",
       "      <td>0.370239</td>\n",
       "      <td>0.836949</td>\n",
       "      <td>4.230253e+00</td>\n",
       "      <td>8.027524e+00</td>\n",
       "      <td>3.665438</td>\n",
       "      <td>0.149355</td>\n",
       "      <td>12.898855</td>\n",
       "      <td>7.322553e+00</td>\n",
       "      <td>0.239359</td>\n",
       "      <td>9.500424</td>\n",
       "    </tr>\n",
       "    <tr>\n",
       "      <td>max</td>\n",
       "      <td>1725.505005</td>\n",
       "      <td>1139.541703</td>\n",
       "      <td>125.917417</td>\n",
       "      <td>115961.637400</td>\n",
       "      <td>198.517873</td>\n",
       "      <td>309.694856</td>\n",
       "      <td>2.702533</td>\n",
       "      <td>410.182214</td>\n",
       "      <td>0.487826</td>\n",
       "      <td>2.439504</td>\n",
       "      <td>...</td>\n",
       "      <td>429.926282</td>\n",
       "      <td>34.594086</td>\n",
       "      <td>5.753380e+06</td>\n",
       "      <td>4.786803e+06</td>\n",
       "      <td>2562.871795</td>\n",
       "      <td>309.694856</td>\n",
       "      <td>11153.607090</td>\n",
       "      <td>6.439270e+06</td>\n",
       "      <td>688.526591</td>\n",
       "      <td>20314.880400</td>\n",
       "    </tr>\n",
       "  </tbody>\n",
       "</table>\n",
       "<p>8 rows × 25 columns</p>\n",
       "</div>"
      ],
      "text/plain": [
       "       currentRatio   quickRatio    cashRatio  daysOfSalesOutstanding  \\\n",
       "count   2021.000000  2021.000000  2021.000000             2021.000000   \n",
       "mean       3.535411     2.657150     0.669048              334.855415   \n",
       "std       44.139386    33.009920     3.590902             4456.606352   \n",
       "min       -0.932005    -1.893266    -0.192736             -811.845623   \n",
       "25%        1.071930     0.602298     0.131433               22.806507   \n",
       "50%        1.492804     0.979094     0.297859               42.281804   \n",
       "75%        2.160710     1.450457     0.625355               59.165369   \n",
       "max     1725.505005  1139.541703   125.917417           115961.637400   \n",
       "\n",
       "       netProfitMargin  pretaxProfitMargin  grossProfitMargin  \\\n",
       "count      2021.000000         2021.000000        2021.000000   \n",
       "mean          0.278725            0.432721           0.496900   \n",
       "std           6.076128            9.002733           0.525996   \n",
       "min        -101.845815         -124.343612         -14.800817   \n",
       "25%           0.020894            0.025649           0.232565   \n",
       "50%           0.064323            0.084965           0.414217   \n",
       "75%           0.113871            0.144763           0.849693   \n",
       "max         198.517873          309.694856           2.702533   \n",
       "\n",
       "       operatingProfitMargin  returnOnAssets  returnOnCapitalEmployed  ...  \\\n",
       "count            2021.000000     2021.000000              2021.000000  ...   \n",
       "mean                0.588793      -37.666843               -74.267283  ...   \n",
       "std                11.246798     1168.476782              2354.920503  ...   \n",
       "min              -124.343612   -40213.178290            -87162.162160  ...   \n",
       "25%                 0.044546        0.018757                 0.028112  ...   \n",
       "50%                 0.107640        0.045417                 0.074639  ...   \n",
       "75%                 0.175334        0.077159                 0.135036  ...   \n",
       "max               410.182214        0.487826                 2.439504  ...   \n",
       "\n",
       "       effectiveTaxRate  freeCashFlowOperatingCashFlowRatio  \\\n",
       "count       2021.000000                         2021.000000   \n",
       "mean           0.400755                            0.408272   \n",
       "std           10.613711                            3.803929   \n",
       "min         -100.611016                         -120.916010   \n",
       "25%            0.147837                            0.269616   \n",
       "50%            0.300439                            0.644265   \n",
       "75%            0.370239                            0.836949   \n",
       "max          429.926282                           34.594086   \n",
       "\n",
       "       freeCashFlowPerShare  cashPerShare  companyEquityMultiplier  \\\n",
       "count          2.021000e+03  2.021000e+03              2021.000000   \n",
       "mean           5.114871e+03  4.244248e+03                 3.335166   \n",
       "std            1.472059e+05  1.226418e+05                87.702375   \n",
       "min           -4.912742e+03 -1.915035e+01             -2555.419643   \n",
       "25%            4.094118e-01  1.562116e+00                 2.050249   \n",
       "50%            2.123062e+00  3.680425e+00                 2.657275   \n",
       "75%            4.230253e+00  8.027524e+00                 3.665438   \n",
       "max            5.753380e+06  4.786803e+06              2562.871795   \n",
       "\n",
       "       ebitPerRevenue  enterpriseValueMultiple  operatingCashFlowPerShare  \\\n",
       "count     2021.000000              2021.000000               2.021000e+03   \n",
       "mean         0.438715                48.426558               6.540891e+03   \n",
       "std          9.002047               530.161001               1.778797e+05   \n",
       "min       -124.343612             -3749.921337              -1.195049e+04   \n",
       "25%          0.028057                 6.235759               2.348851e+00   \n",
       "50%          0.087424                 9.269746               4.361649e+00   \n",
       "75%          0.149355                12.898855               7.322553e+00   \n",
       "max        309.694856             11153.607090               6.439270e+06   \n",
       "\n",
       "       operatingCashFlowSalesRatio  payablesTurnover  \n",
       "count                  2021.000000       2021.000000  \n",
       "mean                      1.452142         38.138233  \n",
       "std                      19.521704        760.421855  \n",
       "min                      -4.461837        -76.662850  \n",
       "25%                       0.073664          2.202394  \n",
       "50%                       0.132758          5.775840  \n",
       "75%                       0.239359          9.500424  \n",
       "max                     688.526591      20314.880400  \n",
       "\n",
       "[8 rows x 25 columns]"
      ]
     },
     "execution_count": 2112,
     "metadata": {},
     "output_type": "execute_result"
    }
   ],
   "source": [
    "# Statistical summary \n",
    "df_rating.describe()"
   ]
  },
  {
   "cell_type": "markdown",
   "metadata": {},
   "source": [
    "We observe a lot of skewness in the data with this first exploration. There is very little variation within the interquartile but the max and the min are very distant from the interquartile. The dataset is polluted with outliers. \n",
    "We will demonstrate with histograms and boxplots of four chosen variables."
   ]
  },
  {
   "cell_type": "code",
   "execution_count": 2113,
   "metadata": {
    "scrolled": false
   },
   "outputs": [
    {
     "data": {
      "image/png": "[encoded data removed]",
      "text/plain": [
       "<Figure size 648x360 with 8 Axes>"
      ]
     },
     "metadata": {
      "needs_background": "light"
     },
     "output_type": "display_data"
    }
   ],
   "source": [
    "figure, axes = plt.subplots(nrows=2, ncols=4, figsize=(9,5))\n",
    "axes[0, 0].hist(df_rating.currentRatio)\n",
    "axes[0, 1].hist(df_rating.returnOnEquity)\n",
    "axes[1, 0].hist(df_rating.freeCashFlowPerShare)\n",
    "axes[1, 1].hist(df_rating.payablesTurnover)\n",
    "\n",
    "axes[0, 2].boxplot(df_rating.currentRatio)\n",
    "axes[1, 2].boxplot(df_rating.returnOnEquity)\n",
    "axes[0, 3].boxplot(df_rating.freeCashFlowPerShare)\n",
    "axes[1, 3].boxplot(df_rating.payablesTurnover)\n",
    "\n",
    "figure.tight_layout()"
   ]
  },
  {
   "cell_type": "markdown",
   "metadata": {},
   "source": [
    "We will use the function `.skew` from pandas in all columns. It should return between 0 and 1 if a column is normally distributed. "
   ]
  },
  {
   "cell_type": "code",
   "execution_count": 2114,
   "metadata": {},
   "outputs": [
    {
     "data": {
      "text/plain": [
       "currentRatio                          34.271115\n",
       "quickRatio                            30.864610\n",
       "cashRatio                             27.046952\n",
       "daysOfSalesOutstanding                20.359098\n",
       "netProfitMargin                       17.585073\n",
       "pretaxProfitMargin                    22.052558\n",
       "grossProfitMargin                    -14.198688\n",
       "operatingProfitMargin                 26.441502\n",
       "returnOnAssets                       -32.049111\n",
       "returnOnCapitalEmployed              -33.252701\n",
       "returnOnEquity                        31.639845\n",
       "assetTurnover                         25.968848\n",
       "fixedAssetTurnover                    26.068762\n",
       "debtEquityRatio                        0.268074\n",
       "debtRatio                              1.284256\n",
       "effectiveTaxRate                      32.265705\n",
       "freeCashFlowOperatingCashFlowRatio   -22.868222\n",
       "freeCashFlowPerShare                  33.610677\n",
       "cashPerShare                          33.958646\n",
       "companyEquityMultiplier                0.268175\n",
       "ebitPerRevenue                        22.055668\n",
       "enterpriseValueMultiple               13.920117\n",
       "operatingCashFlowPerShare             30.292914\n",
       "operatingCashFlowSalesRatio           25.400129\n",
       "payablesTurnover                      25.868293\n",
       "dtype: float64"
      ]
     },
     "execution_count": 2114,
     "metadata": {},
     "output_type": "execute_result"
    }
   ],
   "source": [
    "df_rating.skew(axis=0)"
   ]
  },
  {
   "cell_type": "markdown",
   "metadata": {},
   "source": [
    "As we can see almost all columns are extremely skewed. We will perform now transformations in the dataset to handle the skewness. An apprpriate method is usually to apply log or delete outliers, but we will follow a different approach. First we will perform an investigation of the data within the classes. "
   ]
  },
  {
   "cell_type": "code",
   "execution_count": 2115,
   "metadata": {
    "scrolled": true
   },
   "outputs": [
    {
     "data": {
      "text/html": [
       "<div>\n",
       "<style scoped>\n",
       "    .dataframe tbody tr th:only-of-type {\n",
       "        vertical-align: middle;\n",
       "    }\n",
       "\n",
       "    .dataframe tbody tr th {\n",
       "        vertical-align: top;\n",
       "    }\n",
       "\n",
       "    .dataframe thead th {\n",
       "        text-align: right;\n",
       "    }\n",
       "</style>\n",
       "<table border=\"1\" class=\"dataframe\">\n",
       "  <thead>\n",
       "    <tr style=\"text-align: right;\">\n",
       "      <th></th>\n",
       "      <th>currentRatio</th>\n",
       "      <th>quickRatio</th>\n",
       "      <th>cashRatio</th>\n",
       "      <th>daysOfSalesOutstanding</th>\n",
       "      <th>netProfitMargin</th>\n",
       "      <th>pretaxProfitMargin</th>\n",
       "      <th>grossProfitMargin</th>\n",
       "      <th>operatingProfitMargin</th>\n",
       "      <th>returnOnAssets</th>\n",
       "      <th>returnOnCapitalEmployed</th>\n",
       "      <th>...</th>\n",
       "      <th>effectiveTaxRate</th>\n",
       "      <th>freeCashFlowOperatingCashFlowRatio</th>\n",
       "      <th>freeCashFlowPerShare</th>\n",
       "      <th>cashPerShare</th>\n",
       "      <th>companyEquityMultiplier</th>\n",
       "      <th>ebitPerRevenue</th>\n",
       "      <th>enterpriseValueMultiple</th>\n",
       "      <th>operatingCashFlowPerShare</th>\n",
       "      <th>operatingCashFlowSalesRatio</th>\n",
       "      <th>payablesTurnover</th>\n",
       "    </tr>\n",
       "    <tr>\n",
       "      <th>Rating</th>\n",
       "      <th></th>\n",
       "      <th></th>\n",
       "      <th></th>\n",
       "      <th></th>\n",
       "      <th></th>\n",
       "      <th></th>\n",
       "      <th></th>\n",
       "      <th></th>\n",
       "      <th></th>\n",
       "      <th></th>\n",
       "      <th></th>\n",
       "      <th></th>\n",
       "      <th></th>\n",
       "      <th></th>\n",
       "      <th></th>\n",
       "      <th></th>\n",
       "      <th></th>\n",
       "      <th></th>\n",
       "      <th></th>\n",
       "      <th></th>\n",
       "      <th></th>\n",
       "    </tr>\n",
       "  </thead>\n",
       "  <tbody>\n",
       "    <tr>\n",
       "      <td>High Risk</td>\n",
       "      <td>1.658488</td>\n",
       "      <td>1.105294</td>\n",
       "      <td>0.336215</td>\n",
       "      <td>43.894020</td>\n",
       "      <td>0.035028</td>\n",
       "      <td>0.043417</td>\n",
       "      <td>0.374811</td>\n",
       "      <td>0.073341</td>\n",
       "      <td>0.027916</td>\n",
       "      <td>0.043071</td>\n",
       "      <td>...</td>\n",
       "      <td>0.282804</td>\n",
       "      <td>0.636441</td>\n",
       "      <td>1.333805</td>\n",
       "      <td>3.293783</td>\n",
       "      <td>2.758037</td>\n",
       "      <td>0.044425</td>\n",
       "      <td>8.920671</td>\n",
       "      <td>2.797530</td>\n",
       "      <td>0.107241</td>\n",
       "      <td>6.260503</td>\n",
       "    </tr>\n",
       "    <tr>\n",
       "      <td>Highest Risk</td>\n",
       "      <td>1.587039</td>\n",
       "      <td>1.026375</td>\n",
       "      <td>0.375458</td>\n",
       "      <td>40.173557</td>\n",
       "      <td>-0.043047</td>\n",
       "      <td>-0.047269</td>\n",
       "      <td>0.827221</td>\n",
       "      <td>0.012483</td>\n",
       "      <td>-0.019987</td>\n",
       "      <td>-0.016542</td>\n",
       "      <td>...</td>\n",
       "      <td>0.168791</td>\n",
       "      <td>0.771947</td>\n",
       "      <td>0.007281</td>\n",
       "      <td>3.849680</td>\n",
       "      <td>3.354741</td>\n",
       "      <td>-0.040075</td>\n",
       "      <td>8.739748</td>\n",
       "      <td>1.315617</td>\n",
       "      <td>0.048700</td>\n",
       "      <td>1.865682</td>\n",
       "    </tr>\n",
       "    <tr>\n",
       "      <td>Low Risk</td>\n",
       "      <td>1.354468</td>\n",
       "      <td>0.872729</td>\n",
       "      <td>0.265012</td>\n",
       "      <td>39.902746</td>\n",
       "      <td>0.094578</td>\n",
       "      <td>0.127175</td>\n",
       "      <td>0.502950</td>\n",
       "      <td>0.142032</td>\n",
       "      <td>0.071791</td>\n",
       "      <td>0.135035</td>\n",
       "      <td>...</td>\n",
       "      <td>0.303178</td>\n",
       "      <td>0.692668</td>\n",
       "      <td>3.263620</td>\n",
       "      <td>4.311189</td>\n",
       "      <td>2.500230</td>\n",
       "      <td>0.130094</td>\n",
       "      <td>9.816527</td>\n",
       "      <td>5.930780</td>\n",
       "      <td>0.152270</td>\n",
       "      <td>5.205684</td>\n",
       "    </tr>\n",
       "    <tr>\n",
       "      <td>Medium Risk</td>\n",
       "      <td>1.433680</td>\n",
       "      <td>0.929725</td>\n",
       "      <td>0.277880</td>\n",
       "      <td>42.373491</td>\n",
       "      <td>0.073023</td>\n",
       "      <td>0.092640</td>\n",
       "      <td>0.384978</td>\n",
       "      <td>0.119031</td>\n",
       "      <td>0.048949</td>\n",
       "      <td>0.081951</td>\n",
       "      <td>...</td>\n",
       "      <td>0.308170</td>\n",
       "      <td>0.604912</td>\n",
       "      <td>2.417054</td>\n",
       "      <td>3.654395</td>\n",
       "      <td>2.675544</td>\n",
       "      <td>0.095435</td>\n",
       "      <td>9.202408</td>\n",
       "      <td>5.072782</td>\n",
       "      <td>0.145493</td>\n",
       "      <td>5.762747</td>\n",
       "    </tr>\n",
       "  </tbody>\n",
       "</table>\n",
       "<p>4 rows × 25 columns</p>\n",
       "</div>"
      ],
      "text/plain": [
       "              currentRatio  quickRatio  cashRatio  daysOfSalesOutstanding  \\\n",
       "Rating                                                                      \n",
       "High Risk         1.658488    1.105294   0.336215               43.894020   \n",
       "Highest Risk      1.587039    1.026375   0.375458               40.173557   \n",
       "Low Risk          1.354468    0.872729   0.265012               39.902746   \n",
       "Medium Risk       1.433680    0.929725   0.277880               42.373491   \n",
       "\n",
       "              netProfitMargin  pretaxProfitMargin  grossProfitMargin  \\\n",
       "Rating                                                                 \n",
       "High Risk            0.035028            0.043417           0.374811   \n",
       "Highest Risk        -0.043047           -0.047269           0.827221   \n",
       "Low Risk             0.094578            0.127175           0.502950   \n",
       "Medium Risk          0.073023            0.092640           0.384978   \n",
       "\n",
       "              operatingProfitMargin  returnOnAssets  returnOnCapitalEmployed  \\\n",
       "Rating                                                                         \n",
       "High Risk                  0.073341        0.027916                 0.043071   \n",
       "Highest Risk               0.012483       -0.019987                -0.016542   \n",
       "Low Risk                   0.142032        0.071791                 0.135035   \n",
       "Medium Risk                0.119031        0.048949                 0.081951   \n",
       "\n",
       "              ...  effectiveTaxRate  freeCashFlowOperatingCashFlowRatio  \\\n",
       "Rating        ...                                                         \n",
       "High Risk     ...          0.282804                            0.636441   \n",
       "Highest Risk  ...          0.168791                            0.771947   \n",
       "Low Risk      ...          0.303178                            0.692668   \n",
       "Medium Risk   ...          0.308170                            0.604912   \n",
       "\n",
       "              freeCashFlowPerShare  cashPerShare  companyEquityMultiplier  \\\n",
       "Rating                                                                      \n",
       "High Risk                 1.333805      3.293783                 2.758037   \n",
       "Highest Risk              0.007281      3.849680                 3.354741   \n",
       "Low Risk                  3.263620      4.311189                 2.500230   \n",
       "Medium Risk               2.417054      3.654395                 2.675544   \n",
       "\n",
       "              ebitPerRevenue  enterpriseValueMultiple  \\\n",
       "Rating                                                  \n",
       "High Risk           0.044425                 8.920671   \n",
       "Highest Risk       -0.040075                 8.739748   \n",
       "Low Risk            0.130094                 9.816527   \n",
       "Medium Risk         0.095435                 9.202408   \n",
       "\n",
       "              operatingCashFlowPerShare  operatingCashFlowSalesRatio  \\\n",
       "Rating                                                                 \n",
       "High Risk                      2.797530                     0.107241   \n",
       "Highest Risk                   1.315617                     0.048700   \n",
       "Low Risk                       5.930780                     0.152270   \n",
       "Medium Risk                    5.072782                     0.145493   \n",
       "\n",
       "              payablesTurnover  \n",
       "Rating                          \n",
       "High Risk             6.260503  \n",
       "Highest Risk          1.865682  \n",
       "Low Risk              5.205684  \n",
       "Medium Risk           5.762747  \n",
       "\n",
       "[4 rows x 25 columns]"
      ]
     },
     "execution_count": 2115,
     "metadata": {},
     "output_type": "execute_result"
    }
   ],
   "source": [
    "df_rating.groupby('Rating').median()"
   ]
  },
  {
   "cell_type": "markdown",
   "metadata": {},
   "source": [
    "From the table we can see there is a difference in the means of each of the financial indicators with respect to the classes. Therefore, it might be worth to consider the distribution of each indicator whithin each class separetedly.\n",
    "\n",
    "### Outlier Exploration\n",
    "\n",
    "We will do the following approach:\n",
    "\n",
    "1. Analyse each of the variables according to each class.\n",
    "2. Detect outliers.\n",
    "3. Replace the outliers a random variable from the same class from the same variable."
   ]
  },
  {
   "cell_type": "code",
   "execution_count": 2116,
   "metadata": {
    "scrolled": true
   },
   "outputs": [
    {
     "name": "stdout",
     "output_type": "stream",
     "text": [
      "currentRatio : 18.01%\n",
      "quickRatio : 19.05%\n",
      "cashRatio : 14.84%\n",
      "daysOfSalesOutstanding : 23.55%\n",
      "netProfitMargin : 25.09%\n",
      "pretaxProfitMargin : 24.49%\n",
      "grossProfitMargin : 0.99%\n",
      "operatingProfitMargin : 22.12%\n",
      "returnOnAssets : 24.25%\n",
      "returnOnCapitalEmployed : 22.07%\n",
      "returnOnEquity : 28.70%\n",
      "assetTurnover : 15.83%\n",
      "fixedAssetTurnover : 13.46%\n",
      "debtEquityRatio : 22.07%\n",
      "debtRatio : 21.33%\n",
      "effectiveTaxRate : 28.06%\n",
      "freeCashFlowOperatingCashFlowRatio : 16.92%\n",
      "freeCashFlowPerShare : 23.55%\n",
      "cashPerShare : 17.12%\n",
      "companyEquityMultiplier : 22.02%\n",
      "ebitPerRevenue : 24.34%\n",
      "enterpriseValueMultiple : 23.70%\n",
      "operatingCashFlowPerShare : 17.66%\n",
      "operatingCashFlowSalesRatio : 16.87%\n",
      "payablesTurnover : 14.45%\n"
     ]
    }
   ],
   "source": [
    "Rating_set = set(df_rating.Rating)\n",
    "\n",
    "for c in df_rating.columns[6:31]:\n",
    "\n",
    "    q1 = df_rating[c].quantile(0.25)\n",
    "    q3 = df_rating[c].quantile(0.75)\n",
    "    iqr = q3 - q1 #Interquartile range\n",
    "    fence_low  = q3-1.5*iqr\n",
    "    fence_high = q1+1.5*iqr\n",
    "    lower_out = len(df_rating.loc[(df_rating[c] < fence_low)  ,c])\n",
    "    upper_out = len(df_rating.loc[(df_rating[c] > fence_high)  ,c])\n",
    "    outlier_count = upper_out+lower_out\n",
    "    prop_out = outlier_count/len(df_rating)\n",
    "    print(c, \": \"+\"{:.2%}\".format(prop_out))\n"
   ]
  },
  {
   "cell_type": "code",
   "execution_count": 2117,
   "metadata": {},
   "outputs": [],
   "source": [
    "# df_rating_outlier = df_rating.copy()\n",
    "\n",
    "# for c in df_rating_outlier.columns[6:31]:\n",
    "    \n",
    "#     q1 = df_rating_outlier[c].quantile(0.25)\n",
    "#     q3 = df_rating_outlier[c].quantile(0.75)\n",
    "#     iqr = q3 - q1 #Interquartile range\n",
    "#     fence_low  = q3-1.5*iqr\n",
    "#     fence_high = q1+1.5*iqr\n",
    "    \n",
    "#     for i in range(len(df_rating_outlier)):\n",
    "        \n",
    "#         if df_rating.loc[i,c] < fence_low or df_rating.loc[i,c] > fence_high:\n",
    "            \n",
    "#             df_rating_outlier.loc[i,c] = 1\n",
    "        \n",
    "#         else:\n",
    "#             df_rating_outlier.loc[i,c] = 0"
   ]
  },
  {
   "cell_type": "code",
   "execution_count": 2118,
   "metadata": {},
   "outputs": [],
   "source": [
    "# df_rating_outlier[\"total\"] = df_rating_outlier.sum(axis=1)"
   ]
  },
  {
   "cell_type": "code",
   "execution_count": 2119,
   "metadata": {},
   "outputs": [],
   "source": [
    "# df_rating_outlier.total.hist(bins = 20)"
   ]
  },
  {
   "cell_type": "code",
   "execution_count": 2120,
   "metadata": {},
   "outputs": [],
   "source": [
    "Rating_set = set(df_rating.Rating)\n",
    "\n",
    "for c in df_rating.columns[6:31]:\n",
    "\n",
    "    q05 = df_rating[c].quantile(0.05)\n",
    "    q95 = df_rating[c].quantile(0.95)\n",
    "    iqr = q95 - q05 #Interquartile range\n",
    "    fence_low  = q05-1.5*iqr\n",
    "    fence_high = q95+1.5*iqr\n",
    "    df_rating.loc[df_rating[c] > fence_high,c] = q95\n",
    "    df_rating.loc[df_rating[c] < fence_low,c] = q05\n",
    "    "
   ]
  },
  {
   "cell_type": "code",
   "execution_count": 2121,
   "metadata": {},
   "outputs": [],
   "source": [
    "from sklearn import preprocessing\n",
    "min_max_scaler = preprocessing.MinMaxScaler()\n",
    "\n",
    "for c in df_rating.columns[6:31]:\n",
    "\n",
    "    df_rating[[c]] = min_max_scaler.fit_transform(df_rating[[c]].to_numpy())*1000\n",
    "    df_rating[[c]] = df_rating[c].apply(lambda x: np.log10(x+0.01))\n"
   ]
  },
  {
   "cell_type": "markdown",
   "metadata": {},
   "source": [
    "### Now we go back to the boxplots"
   ]
  },
  {
   "cell_type": "code",
   "execution_count": 2122,
   "metadata": {
    "scrolled": true
   },
   "outputs": [
    {
     "data": {
      "image/png": "[encoded data removed]",
      "text/plain": [
       "<Figure size 648x360 with 8 Axes>"
      ]
     },
     "metadata": {
      "needs_background": "light"
     },
     "output_type": "display_data"
    }
   ],
   "source": [
    "figure, axes = plt.subplots(nrows=2, ncols=4, figsize=(9,5))\n",
    "axes[0, 0].hist(df_rating.currentRatio)\n",
    "axes[0, 1].hist(df_rating.returnOnEquity)\n",
    "axes[1, 0].hist(df_rating.freeCashFlowPerShare)\n",
    "axes[1, 1].hist(df_rating.payablesTurnover)\n",
    "\n",
    "axes[0, 2].boxplot(df_rating.currentRatio)\n",
    "axes[1, 2].boxplot(df_rating.returnOnEquity)\n",
    "axes[0, 3].boxplot(df_rating.freeCashFlowPerShare)\n",
    "axes[1, 3].boxplot(df_rating.payablesTurnover)\n",
    "\n",
    "figure.tight_layout()"
   ]
  },
  {
   "cell_type": "markdown",
   "metadata": {},
   "source": [
    "Great!"
   ]
  },
  {
   "cell_type": "markdown",
   "metadata": {},
   "source": [
    "# Analyse Relations"
   ]
  },
  {
   "cell_type": "code",
   "execution_count": 2123,
   "metadata": {},
   "outputs": [],
   "source": [
    "df_rating.colors = 'a'\n",
    "df_rating.loc[df_rating['Rating'] == 'Lowest Risk', 'color'] = 'r'\n",
    "df_rating.loc[df_rating['Rating'] == 'Low Risk', 'color'] = 'g'\n",
    "df_rating.loc[df_rating['Rating'] == 'Medium Risk', 'color'] = 'b'\n",
    "df_rating.loc[df_rating['Rating'] == 'High Risk','color'] = 'y'\n",
    "df_rating.loc[df_rating['Rating'] == 'Highest Risk', 'color'] = 'm'"
   ]
  },
  {
   "cell_type": "code",
   "execution_count": 2124,
   "metadata": {},
   "outputs": [
    {
     "data": {
      "text/plain": [
       "<matplotlib.axes._subplots.AxesSubplot at 0x2028271aa88>"
      ]
     },
     "execution_count": 2124,
     "metadata": {},
     "output_type": "execute_result"
    },
    {
     "data": {
      "image/png": "[encoded data removed]",
      "text/plain": [
       "<Figure size 1008x576 with 4 Axes>"
      ]
     },
     "metadata": {
      "needs_background": "light"
     },
     "output_type": "display_data"
    }
   ],
   "source": [
    "figure, axes = plt.subplots(nrows=2, ncols=2, figsize=(14,8))\n",
    "\n",
    "sns.boxplot(x=df_rating.Rating, y=df_rating.currentRatio,palette=\"Set3\", ax=axes[0, 0])\n",
    "sns.boxplot(x=df_rating.Rating, y=df_rating.returnOnEquity,palette=\"Set3\", ax=axes[0, 1])\n",
    "sns.boxplot(x=df_rating.Rating, y=df_rating.freeCashFlowPerShare,palette=\"Set3\", ax=axes[1, 0])\n",
    "sns.boxplot(x=df_rating.Rating, y=df_rating.payablesTurnover,palette=\"Set3\", ax=axes[1, 1])\n",
    "\n"
   ]
  },
  {
   "cell_type": "code",
   "execution_count": null,
   "metadata": {},
   "outputs": [],
   "source": []
  },
  {
   "cell_type": "code",
   "execution_count": null,
   "metadata": {},
   "outputs": [],
   "source": []
  },
  {
   "cell_type": "code",
   "execution_count": null,
   "metadata": {},
   "outputs": [],
   "source": []
  },
  {
   "cell_type": "code",
   "execution_count": null,
   "metadata": {},
   "outputs": [],
   "source": []
  },
  {
   "cell_type": "code",
   "execution_count": 2125,
   "metadata": {},
   "outputs": [
    {
     "data": {
      "text/html": [
       "<div>\n",
       "<style scoped>\n",
       "    .dataframe tbody tr th:only-of-type {\n",
       "        vertical-align: middle;\n",
       "    }\n",
       "\n",
       "    .dataframe tbody tr th {\n",
       "        vertical-align: top;\n",
       "    }\n",
       "\n",
       "    .dataframe thead th {\n",
       "        text-align: right;\n",
       "    }\n",
       "</style>\n",
       "<table border=\"1\" class=\"dataframe\">\n",
       "  <thead>\n",
       "    <tr style=\"text-align: right;\">\n",
       "      <th></th>\n",
       "      <th>Rating</th>\n",
       "      <th>Name</th>\n",
       "      <th>Symbol</th>\n",
       "      <th>Rating Agency Name</th>\n",
       "      <th>Date</th>\n",
       "      <th>Sector</th>\n",
       "      <th>currentRatio</th>\n",
       "      <th>quickRatio</th>\n",
       "      <th>cashRatio</th>\n",
       "      <th>daysOfSalesOutstanding</th>\n",
       "      <th>...</th>\n",
       "      <th>freeCashFlowOperatingCashFlowRatio</th>\n",
       "      <th>freeCashFlowPerShare</th>\n",
       "      <th>cashPerShare</th>\n",
       "      <th>companyEquityMultiplier</th>\n",
       "      <th>ebitPerRevenue</th>\n",
       "      <th>enterpriseValueMultiple</th>\n",
       "      <th>operatingCashFlowPerShare</th>\n",
       "      <th>operatingCashFlowSalesRatio</th>\n",
       "      <th>payablesTurnover</th>\n",
       "      <th>color</th>\n",
       "    </tr>\n",
       "  </thead>\n",
       "  <tbody>\n",
       "    <tr>\n",
       "      <td>0</td>\n",
       "      <td>Low Risk</td>\n",
       "      <td>whirlpool</td>\n",
       "      <td>WHR</td>\n",
       "      <td>Egan-Jones Ratings Company</td>\n",
       "      <td>11/27/2015</td>\n",
       "      <td>Consumer Durables</td>\n",
       "      <td>2.256354</td>\n",
       "      <td>2.350680</td>\n",
       "      <td>1.839533</td>\n",
       "      <td>2.666000</td>\n",
       "      <td>...</td>\n",
       "      <td>2.718973</td>\n",
       "      <td>2.716213</td>\n",
       "      <td>2.276358</td>\n",
       "      <td>2.680203</td>\n",
       "      <td>2.746573</td>\n",
       "      <td>2.626870</td>\n",
       "      <td>2.719851</td>\n",
       "      <td>2.588234</td>\n",
       "      <td>2.213464</td>\n",
       "      <td>g</td>\n",
       "    </tr>\n",
       "    <tr>\n",
       "      <td>1</td>\n",
       "      <td>Medium Risk</td>\n",
       "      <td>whirlpool</td>\n",
       "      <td>WHR</td>\n",
       "      <td>Egan-Jones Ratings Company</td>\n",
       "      <td>2/13/2014</td>\n",
       "      <td>Consumer Durables</td>\n",
       "      <td>2.276168</td>\n",
       "      <td>2.363925</td>\n",
       "      <td>1.971038</td>\n",
       "      <td>2.653401</td>\n",
       "      <td>...</td>\n",
       "      <td>2.733734</td>\n",
       "      <td>2.740427</td>\n",
       "      <td>2.377477</td>\n",
       "      <td>2.653796</td>\n",
       "      <td>2.746361</td>\n",
       "      <td>2.620762</td>\n",
       "      <td>2.724444</td>\n",
       "      <td>2.593082</td>\n",
       "      <td>2.217859</td>\n",
       "      <td>b</td>\n",
       "    </tr>\n",
       "    <tr>\n",
       "      <td>2</td>\n",
       "      <td>Medium Risk</td>\n",
       "      <td>whirlpool</td>\n",
       "      <td>WHR</td>\n",
       "      <td>Fitch Ratings</td>\n",
       "      <td>3/6/2015</td>\n",
       "      <td>Consumer Durables</td>\n",
       "      <td>2.260453</td>\n",
       "      <td>2.355356</td>\n",
       "      <td>1.871595</td>\n",
       "      <td>2.681535</td>\n",
       "      <td>...</td>\n",
       "      <td>2.729712</td>\n",
       "      <td>2.754071</td>\n",
       "      <td>2.323141</td>\n",
       "      <td>2.682801</td>\n",
       "      <td>2.744408</td>\n",
       "      <td>2.660465</td>\n",
       "      <td>2.761752</td>\n",
       "      <td>2.597092</td>\n",
       "      <td>2.193581</td>\n",
       "      <td>b</td>\n",
       "    </tr>\n",
       "    <tr>\n",
       "      <td>3</td>\n",
       "      <td>Medium Risk</td>\n",
       "      <td>whirlpool</td>\n",
       "      <td>WHR</td>\n",
       "      <td>Fitch Ratings</td>\n",
       "      <td>6/15/2012</td>\n",
       "      <td>Consumer Durables</td>\n",
       "      <td>2.273129</td>\n",
       "      <td>2.366129</td>\n",
       "      <td>1.940355</td>\n",
       "      <td>2.658693</td>\n",
       "      <td>...</td>\n",
       "      <td>2.625552</td>\n",
       "      <td>2.592848</td>\n",
       "      <td>2.340776</td>\n",
       "      <td>2.668703</td>\n",
       "      <td>2.718935</td>\n",
       "      <td>2.595498</td>\n",
       "      <td>2.586694</td>\n",
       "      <td>2.570743</td>\n",
       "      <td>2.243387</td>\n",
       "      <td>b</td>\n",
       "    </tr>\n",
       "    <tr>\n",
       "      <td>4</td>\n",
       "      <td>Medium Risk</td>\n",
       "      <td>whirlpool</td>\n",
       "      <td>WHR</td>\n",
       "      <td>Standard &amp; Poor's Ratings Services</td>\n",
       "      <td>10/24/2016</td>\n",
       "      <td>Consumer Durables</td>\n",
       "      <td>2.259109</td>\n",
       "      <td>2.363416</td>\n",
       "      <td>1.897702</td>\n",
       "      <td>2.674395</td>\n",
       "      <td>...</td>\n",
       "      <td>2.720955</td>\n",
       "      <td>2.720645</td>\n",
       "      <td>2.338409</td>\n",
       "      <td>2.680347</td>\n",
       "      <td>2.748471</td>\n",
       "      <td>2.639265</td>\n",
       "      <td>2.723052</td>\n",
       "      <td>2.587909</td>\n",
       "      <td>2.211214</td>\n",
       "      <td>b</td>\n",
       "    </tr>\n",
       "    <tr>\n",
       "      <td>...</td>\n",
       "      <td>...</td>\n",
       "      <td>...</td>\n",
       "      <td>...</td>\n",
       "      <td>...</td>\n",
       "      <td>...</td>\n",
       "      <td>...</td>\n",
       "      <td>...</td>\n",
       "      <td>...</td>\n",
       "      <td>...</td>\n",
       "      <td>...</td>\n",
       "      <td>...</td>\n",
       "      <td>...</td>\n",
       "      <td>...</td>\n",
       "      <td>...</td>\n",
       "      <td>...</td>\n",
       "      <td>...</td>\n",
       "      <td>...</td>\n",
       "      <td>...</td>\n",
       "      <td>...</td>\n",
       "      <td>...</td>\n",
       "      <td>...</td>\n",
       "    </tr>\n",
       "    <tr>\n",
       "      <td>2016</td>\n",
       "      <td>Medium Risk</td>\n",
       "      <td>nvr</td>\n",
       "      <td>NVR</td>\n",
       "      <td>Moody's Investors Service</td>\n",
       "      <td>9/5/2012</td>\n",
       "      <td>Capital Goods</td>\n",
       "      <td>2.691315</td>\n",
       "      <td>2.939885</td>\n",
       "      <td>2.648828</td>\n",
       "      <td>2.548767</td>\n",
       "      <td>...</td>\n",
       "      <td>2.787416</td>\n",
       "      <td>2.789924</td>\n",
       "      <td>2.708781</td>\n",
       "      <td>2.606631</td>\n",
       "      <td>2.762225</td>\n",
       "      <td>2.708324</td>\n",
       "      <td>2.754112</td>\n",
       "      <td>2.601838</td>\n",
       "      <td>2.566296</td>\n",
       "      <td>b</td>\n",
       "    </tr>\n",
       "    <tr>\n",
       "      <td>2017</td>\n",
       "      <td>High Risk</td>\n",
       "      <td>kaiser aluminum</td>\n",
       "      <td>KALU</td>\n",
       "      <td>Standard &amp; Poor's Ratings Services</td>\n",
       "      <td>4/28/2016</td>\n",
       "      <td>Capital Goods</td>\n",
       "      <td>2.573154</td>\n",
       "      <td>2.488770</td>\n",
       "      <td>2.166554</td>\n",
       "      <td>2.632323</td>\n",
       "      <td>...</td>\n",
       "      <td>2.742080</td>\n",
       "      <td>2.698755</td>\n",
       "      <td>2.214401</td>\n",
       "      <td>2.601424</td>\n",
       "      <td>2.583110</td>\n",
       "      <td>2.486617</td>\n",
       "      <td>2.626714</td>\n",
       "      <td>2.618580</td>\n",
       "      <td>2.540776</td>\n",
       "      <td>y</td>\n",
       "    </tr>\n",
       "    <tr>\n",
       "      <td>2018</td>\n",
       "      <td>High Risk</td>\n",
       "      <td>cresudcif y a</td>\n",
       "      <td>CRESY</td>\n",
       "      <td>Fitch Ratings</td>\n",
       "      <td>11/30/2012</td>\n",
       "      <td>Finance</td>\n",
       "      <td>2.241770</td>\n",
       "      <td>2.422340</td>\n",
       "      <td>2.003483</td>\n",
       "      <td>2.861132</td>\n",
       "      <td>...</td>\n",
       "      <td>2.784142</td>\n",
       "      <td>2.635780</td>\n",
       "      <td>2.120071</td>\n",
       "      <td>2.681013</td>\n",
       "      <td>2.830731</td>\n",
       "      <td>2.649662</td>\n",
       "      <td>2.478484</td>\n",
       "      <td>2.700053</td>\n",
       "      <td>2.132598</td>\n",
       "      <td>y</td>\n",
       "    </tr>\n",
       "    <tr>\n",
       "      <td>2019</td>\n",
       "      <td>High Risk</td>\n",
       "      <td>cresudcif y a</td>\n",
       "      <td>CRESY</td>\n",
       "      <td>Fitch Ratings</td>\n",
       "      <td>6/15/2012</td>\n",
       "      <td>Finance</td>\n",
       "      <td>2.248377</td>\n",
       "      <td>2.407124</td>\n",
       "      <td>2.075383</td>\n",
       "      <td>2.836174</td>\n",
       "      <td>...</td>\n",
       "      <td>2.754199</td>\n",
       "      <td>2.623802</td>\n",
       "      <td>2.128872</td>\n",
       "      <td>2.674686</td>\n",
       "      <td>2.780247</td>\n",
       "      <td>2.760468</td>\n",
       "      <td>2.466770</td>\n",
       "      <td>2.670197</td>\n",
       "      <td>2.115527</td>\n",
       "      <td>y</td>\n",
       "    </tr>\n",
       "    <tr>\n",
       "      <td>2020</td>\n",
       "      <td>Highest Risk</td>\n",
       "      <td>cresudcif y a</td>\n",
       "      <td>CRESY</td>\n",
       "      <td>Fitch Ratings</td>\n",
       "      <td>8/1/2014</td>\n",
       "      <td>Finance</td>\n",
       "      <td>2.287389</td>\n",
       "      <td>2.450581</td>\n",
       "      <td>1.971443</td>\n",
       "      <td>2.867262</td>\n",
       "      <td>...</td>\n",
       "      <td>2.805247</td>\n",
       "      <td>2.652433</td>\n",
       "      <td>2.217002</td>\n",
       "      <td>2.678126</td>\n",
       "      <td>2.843969</td>\n",
       "      <td>2.652027</td>\n",
       "      <td>2.493971</td>\n",
       "      <td>2.686241</td>\n",
       "      <td>2.107868</td>\n",
       "      <td>m</td>\n",
       "    </tr>\n",
       "  </tbody>\n",
       "</table>\n",
       "<p>2021 rows × 32 columns</p>\n",
       "</div>"
      ],
      "text/plain": [
       "            Rating             Name Symbol  \\\n",
       "0         Low Risk        whirlpool    WHR   \n",
       "1      Medium Risk        whirlpool    WHR   \n",
       "2      Medium Risk        whirlpool    WHR   \n",
       "3      Medium Risk        whirlpool    WHR   \n",
       "4      Medium Risk        whirlpool    WHR   \n",
       "...            ...              ...    ...   \n",
       "2016   Medium Risk              nvr    NVR   \n",
       "2017     High Risk  kaiser aluminum   KALU   \n",
       "2018     High Risk    cresudcif y a  CRESY   \n",
       "2019     High Risk    cresudcif y a  CRESY   \n",
       "2020  Highest Risk    cresudcif y a  CRESY   \n",
       "\n",
       "                      Rating Agency Name        Date             Sector  \\\n",
       "0             Egan-Jones Ratings Company  11/27/2015  Consumer Durables   \n",
       "1             Egan-Jones Ratings Company   2/13/2014  Consumer Durables   \n",
       "2                          Fitch Ratings    3/6/2015  Consumer Durables   \n",
       "3                          Fitch Ratings   6/15/2012  Consumer Durables   \n",
       "4     Standard & Poor's Ratings Services  10/24/2016  Consumer Durables   \n",
       "...                                  ...         ...                ...   \n",
       "2016           Moody's Investors Service    9/5/2012      Capital Goods   \n",
       "2017  Standard & Poor's Ratings Services   4/28/2016      Capital Goods   \n",
       "2018                       Fitch Ratings  11/30/2012            Finance   \n",
       "2019                       Fitch Ratings   6/15/2012            Finance   \n",
       "2020                       Fitch Ratings    8/1/2014            Finance   \n",
       "\n",
       "      currentRatio  quickRatio  cashRatio  daysOfSalesOutstanding  ...  \\\n",
       "0         2.256354    2.350680   1.839533                2.666000  ...   \n",
       "1         2.276168    2.363925   1.971038                2.653401  ...   \n",
       "2         2.260453    2.355356   1.871595                2.681535  ...   \n",
       "3         2.273129    2.366129   1.940355                2.658693  ...   \n",
       "4         2.259109    2.363416   1.897702                2.674395  ...   \n",
       "...            ...         ...        ...                     ...  ...   \n",
       "2016      2.691315    2.939885   2.648828                2.548767  ...   \n",
       "2017      2.573154    2.488770   2.166554                2.632323  ...   \n",
       "2018      2.241770    2.422340   2.003483                2.861132  ...   \n",
       "2019      2.248377    2.407124   2.075383                2.836174  ...   \n",
       "2020      2.287389    2.450581   1.971443                2.867262  ...   \n",
       "\n",
       "      freeCashFlowOperatingCashFlowRatio  freeCashFlowPerShare  cashPerShare  \\\n",
       "0                               2.718973              2.716213      2.276358   \n",
       "1                               2.733734              2.740427      2.377477   \n",
       "2                               2.729712              2.754071      2.323141   \n",
       "3                               2.625552              2.592848      2.340776   \n",
       "4                               2.720955              2.720645      2.338409   \n",
       "...                                  ...                   ...           ...   \n",
       "2016                            2.787416              2.789924      2.708781   \n",
       "2017                            2.742080              2.698755      2.214401   \n",
       "2018                            2.784142              2.635780      2.120071   \n",
       "2019                            2.754199              2.623802      2.128872   \n",
       "2020                            2.805247              2.652433      2.217002   \n",
       "\n",
       "      companyEquityMultiplier  ebitPerRevenue  enterpriseValueMultiple  \\\n",
       "0                    2.680203        2.746573                 2.626870   \n",
       "1                    2.653796        2.746361                 2.620762   \n",
       "2                    2.682801        2.744408                 2.660465   \n",
       "3                    2.668703        2.718935                 2.595498   \n",
       "4                    2.680347        2.748471                 2.639265   \n",
       "...                       ...             ...                      ...   \n",
       "2016                 2.606631        2.762225                 2.708324   \n",
       "2017                 2.601424        2.583110                 2.486617   \n",
       "2018                 2.681013        2.830731                 2.649662   \n",
       "2019                 2.674686        2.780247                 2.760468   \n",
       "2020                 2.678126        2.843969                 2.652027   \n",
       "\n",
       "      operatingCashFlowPerShare  operatingCashFlowSalesRatio  \\\n",
       "0                      2.719851                     2.588234   \n",
       "1                      2.724444                     2.593082   \n",
       "2                      2.761752                     2.597092   \n",
       "3                      2.586694                     2.570743   \n",
       "4                      2.723052                     2.587909   \n",
       "...                         ...                          ...   \n",
       "2016                   2.754112                     2.601838   \n",
       "2017                   2.626714                     2.618580   \n",
       "2018                   2.478484                     2.700053   \n",
       "2019                   2.466770                     2.670197   \n",
       "2020                   2.493971                     2.686241   \n",
       "\n",
       "      payablesTurnover  color  \n",
       "0             2.213464      g  \n",
       "1             2.217859      b  \n",
       "2             2.193581      b  \n",
       "3             2.243387      b  \n",
       "4             2.211214      b  \n",
       "...                ...    ...  \n",
       "2016          2.566296      b  \n",
       "2017          2.540776      y  \n",
       "2018          2.132598      y  \n",
       "2019          2.115527      y  \n",
       "2020          2.107868      m  \n",
       "\n",
       "[2021 rows x 32 columns]"
      ]
     },
     "execution_count": 2125,
     "metadata": {},
     "output_type": "execute_result"
    }
   ],
   "source": [
    "df_rating"
   ]
  },
  {
   "cell_type": "code",
   "execution_count": null,
   "metadata": {},
   "outputs": [],
   "source": []
  },
  {
   "cell_type": "code",
   "execution_count": null,
   "metadata": {},
   "outputs": [],
   "source": []
  },
  {
   "cell_type": "code",
   "execution_count": null,
   "metadata": {},
   "outputs": [],
   "source": []
  },
  {
   "cell_type": "code",
   "execution_count": null,
   "metadata": {},
   "outputs": [],
   "source": []
  },
  {
   "cell_type": "markdown",
   "metadata": {},
   "source": [
    "# Machine Learning "
   ]
  },
  {
   "cell_type": "markdown",
   "metadata": {},
   "source": [
    "## Prepare the Dataset"
   ]
  },
  {
   "cell_type": "code",
   "execution_count": 2126,
   "metadata": {},
   "outputs": [],
   "source": [
    "from sklearn import preprocessing\n",
    "le = preprocessing.LabelEncoder()\n",
    "le.fit(df_rating.Sector)\n",
    "df_rating.Sector = le.transform(df_rating.Sector)\n",
    "le.fit(df_rating.Rating)\n",
    "df_rating.Rating = le.transform(df_rating.Rating)"
   ]
  },
  {
   "cell_type": "code",
   "execution_count": 2127,
   "metadata": {},
   "outputs": [],
   "source": [
    "df_train, df_test = train_test_split(df_rating, test_size=0.1, random_state = 1234)"
   ]
  },
  {
   "cell_type": "code",
   "execution_count": 2128,
   "metadata": {},
   "outputs": [],
   "source": [
    "X_train, y_train = df_train.iloc[:,5:31], df_train.iloc[:,0]\n",
    "X_test, y_test = df_test.iloc[:,5:31], df_test.iloc[:,0]"
   ]
  },
  {
   "cell_type": "markdown",
   "metadata": {},
   "source": [
    "# Fit Models\n",
    "\n",
    "#### XGBOOST\n"
   ]
  },
  {
   "cell_type": "code",
   "execution_count": 2202,
   "metadata": {},
   "outputs": [
    {
     "name": "stdout",
     "output_type": "stream",
     "text": [
      "XGB Accuracy: 0.645320197044335\n"
     ]
    }
   ],
   "source": [
    "XGB_model = xgb.XGBRegressor(objective ='multi:softmax', num_class =4)\n",
    "XGB_model.fit(X_train, y_train)\n",
    "y_pred_XGB = xg_reg.predict(X_test)\n",
    "Accuracy_XGB = metrics.accuracy_score(y_test, y_pred_XGB)\n",
    "print(\"XGB Accuracy:\",Accuracy_XGB)"
   ]
  },
  {
   "cell_type": "markdown",
   "metadata": {},
   "source": [
    "#### Gradient Boosting Classifier"
   ]
  },
  {
   "cell_type": "code",
   "execution_count": 2130,
   "metadata": {},
   "outputs": [
    {
     "name": "stdout",
     "output_type": "stream",
     "text": [
      "GBT Accuracy: 0.625615763546798\n"
     ]
    }
   ],
   "source": [
    "GBT_model = GradientBoostingClassifier(random_state=1234)\n",
    "GBT_model.fit(X_train, y_train)\n",
    "y_pred_GBT = GBT_model.predict(X_test)\n",
    "Accuracy_GBT = metrics.accuracy_score(y_test, y_pred_GBT)\n",
    "print(\"GBT Accuracy:\",Accuracy_GBT)"
   ]
  },
  {
   "cell_type": "markdown",
   "metadata": {},
   "source": [
    "#### Random Forest\n"
   ]
  },
  {
   "cell_type": "code",
   "execution_count": 2131,
   "metadata": {},
   "outputs": [
    {
     "name": "stdout",
     "output_type": "stream",
     "text": [
      "RF Accuracy: 0.6108374384236454\n"
     ]
    }
   ],
   "source": [
    "RF_model = RandomForestClassifier(random_state=1234)\n",
    "RF_model.fit(X_train,y_train)\n",
    "y_pred_RF = RF_model.predict(X_test)\n",
    "Accuracy_RF = metrics.accuracy_score(y_test, y_pred_RF)\n",
    "print(\"RF Accuracy:\",Accuracy_RF)"
   ]
  },
  {
   "cell_type": "markdown",
   "metadata": {},
   "source": [
    "#### Support Vector Machine\n"
   ]
  },
  {
   "cell_type": "code",
   "execution_count": 2132,
   "metadata": {},
   "outputs": [
    {
     "name": "stdout",
     "output_type": "stream",
     "text": [
      "SVM Accuracy: 0.645320197044335\n"
     ]
    }
   ],
   "source": [
    "SVC_model = svm.SVC(kernel='rbf', gamma= 2, C = 5, random_state=1234)\n",
    "SVC_model.fit(X_train, y_train)\n",
    "y_pred_SVM = SVC_model.predict(X_test)\n",
    "Accuracy_SVM = metrics.accuracy_score(y_test, y_pred_SVM)\n",
    "print(\"SVM Accuracy:\",Accuracy_SVM)"
   ]
  },
  {
   "cell_type": "markdown",
   "metadata": {},
   "source": [
    "#### Neural Network"
   ]
  },
  {
   "cell_type": "code",
   "execution_count": 2133,
   "metadata": {},
   "outputs": [
    {
     "name": "stdout",
     "output_type": "stream",
     "text": [
      "MLP Accuracy: 0.3694581280788177\n"
     ]
    }
   ],
   "source": [
    "MLP_model = MLPClassifier(hidden_layer_sizes=(5,5,5), activation='logistic', solver='adam', max_iter=1500)\n",
    "MLP_model.fit(X_train, y_train)\n",
    "y_pred_MLP = MLP_model.predict(X_test)\n",
    "Accuracy_MLP = metrics.accuracy_score(y_test, y_pred_MLP)\n",
    "print(\"MLP Accuracy:\",Accuracy_MLP)"
   ]
  },
  {
   "cell_type": "markdown",
   "metadata": {},
   "source": [
    "#### Naive Bayes"
   ]
  },
  {
   "cell_type": "code",
   "execution_count": 2134,
   "metadata": {},
   "outputs": [
    {
     "name": "stdout",
     "output_type": "stream",
     "text": [
      "GNB Accuracy: 0.3497536945812808\n"
     ]
    }
   ],
   "source": [
    "GNB_model = GaussianNB()\n",
    "GNB_model.fit(X_train, y_train)\n",
    "y_pred_GNB = GNB_model.predict(X_test)\n",
    "Accuracy_GNB = metrics.accuracy_score(y_test, y_pred_GNB)\n",
    "print(\"GNB Accuracy:\",Accuracy_GNB)"
   ]
  },
  {
   "cell_type": "markdown",
   "metadata": {},
   "source": [
    "#### Linear Discriminant Analysis"
   ]
  },
  {
   "cell_type": "code",
   "execution_count": 2135,
   "metadata": {},
   "outputs": [
    {
     "name": "stdout",
     "output_type": "stream",
     "text": [
      "LDA Accuracy: 0.47783251231527096\n"
     ]
    }
   ],
   "source": [
    "LDA_model = LinearDiscriminantAnalysis()\n",
    "LDA_model.fit(X_train,y_train)\n",
    "y_pred_LDA = LDA_model.predict(X_test)\n",
    "Accuracy_LDA = metrics.accuracy_score(y_test, y_pred_LDA)\n",
    "print(\"LDA Accuracy:\",Accuracy_LDA)"
   ]
  },
  {
   "cell_type": "markdown",
   "metadata": {},
   "source": [
    "#### Quadratic Discriminant Analysis"
   ]
  },
  {
   "cell_type": "code",
   "execution_count": 2136,
   "metadata": {},
   "outputs": [
    {
     "name": "stdout",
     "output_type": "stream",
     "text": [
      "QDA Accuracy: 0.4039408866995074\n"
     ]
    }
   ],
   "source": [
    "QDA_model = QuadraticDiscriminantAnalysis()\n",
    "QDA_model.fit(X_train,y_train)\n",
    "y_pred_QDA = QDA_model.predict(X_test)\n",
    "Accuracy_QDA = metrics.accuracy_score(y_test, y_pred_QDA)\n",
    "print(\"QDA Accuracy:\",Accuracy_QDA)"
   ]
  },
  {
   "cell_type": "markdown",
   "metadata": {},
   "source": [
    "#### K Nearest Neighbours\n"
   ]
  },
  {
   "cell_type": "code",
   "execution_count": 2137,
   "metadata": {},
   "outputs": [
    {
     "name": "stdout",
     "output_type": "stream",
     "text": [
      "KNN Accuracy: 0.6551724137931034\n"
     ]
    }
   ],
   "source": [
    "KNN_model = KNeighborsClassifier(n_neighbors = 3)\n",
    "KNN_model.fit(X_train,y_train)\n",
    "y_pred_KNN = KNN_model.predict(X_test)\n",
    "Accuracy_KNN = metrics.accuracy_score(y_test, y_pred_KNN)\n",
    "print(\"KNN Accuracy:\",Accuracy_KNN)"
   ]
  },
  {
   "cell_type": "markdown",
   "metadata": {},
   "source": [
    "#### Logistic Regression\n"
   ]
  },
  {
   "cell_type": "code",
   "execution_count": 2138,
   "metadata": {},
   "outputs": [
    {
     "name": "stdout",
     "output_type": "stream",
     "text": [
      "LR Accuracy: 0.5221674876847291\n"
     ]
    }
   ],
   "source": [
    "LR_model = LogisticRegression(random_state=1234 , multi_class='multinomial', solver='newton-cg')\n",
    "LR_model = LR_model.fit(X_train, y_train)\n",
    "y_pred_LR = LR_model.predict(X_test)\n",
    "Accuracy_LR = metrics.accuracy_score(y_test, y_pred_LR)\n",
    "print(\"LR Accuracy:\",Accuracy_LR)"
   ]
  },
  {
   "cell_type": "markdown",
   "metadata": {},
   "source": [
    "### Analyse Results"
   ]
  },
  {
   "cell_type": "code",
   "execution_count": 2139,
   "metadata": {},
   "outputs": [],
   "source": [
    "accuracy_list = [Accuracy_XGB, Accuracy_GBT, Accuracy_RF, Accuracy_SVM, Accuracy_MLP, Accuracy_GNB, \n",
    "                 Accuracy_LDA, Accuracy_QDA, Accuracy_KNN, Accuracy_LR]\n",
    "\n",
    "model_list = ['XGBOOST', 'Gradient Boosting', 'Random Forest', 'Support Vector Machine', \n",
    "              \"Neural Network\", 'Naive Bayes', 'Linear Discriminat', 'Quadratic Discriminat', \n",
    "              'KNN', 'Logistic Regression']\n",
    "\n",
    "df_accuracy = pd.DataFrame({'Model': model_list, 'Accuracy': accuracy_list})"
   ]
  },
  {
   "cell_type": "code",
   "execution_count": 2140,
   "metadata": {},
   "outputs": [],
   "source": [
    "order = list(df_accuracy.sort_values('Accuracy', ascending=False).Model)\n",
    "df_accuracy = df_accuracy.sort_values('Accuracy', ascending=False).reset_index().drop(['index'], axis=1)"
   ]
  },
  {
   "cell_type": "code",
   "execution_count": 2141,
   "metadata": {},
   "outputs": [
    {
     "data": {
      "image/png": "[encoded data removed]",
      "text/plain": [
       "<Figure size 864x576 with 1 Axes>"
      ]
     },
     "metadata": {
      "needs_background": "light"
     },
     "output_type": "display_data"
    }
   ],
   "source": [
    "from matplotlib.ticker import PercentFormatter\n",
    "import matplotlib.ticker as mtick\n",
    "\n",
    "\n",
    "plt.figure(figsize=(12,8))\n",
    "# make barplot and sort bars\n",
    "x = sns.barplot(x='Model', y=\"Accuracy\", data=df_accuracy, order = order, palette=\"rocket\")\n",
    "plt.xlabel(\"Model\", fontsize=20)\n",
    "plt.ylabel(\"Accuracy\", fontsize=20)\n",
    "plt.title(\"Accuracy by Model\", fontsize=20)\n",
    "plt.grid(linestyle='-', linewidth='0.5', color='grey')\n",
    "plt.xticks(rotation=70, fontsize=12)\n",
    "plt.ylim(0,1)\n",
    "plt.gca().yaxis.set_major_formatter(mtick.PercentFormatter(1))\n",
    "\n",
    "for i in range(len(model_list)):\n",
    "    plt.text(x = i, y = df_accuracy.loc[i, 'Accuracy'] + 0.05, s = str(round((df_accuracy.loc[i, 'Accuracy'])*100, 2))+'%', \n",
    "             fontsize = 14, color='black',horizontalalignment='center')\n",
    "\n",
    "y_value=['{:,.2f}'.format(x) + '%' for x in ax.get_yticks()]\n",
    "ax.set_yticklabels(y_value)\n",
    "\n",
    "plt.tight_layout()\n"
   ]
  },
  {
   "cell_type": "code",
   "execution_count": 2144,
   "metadata": {},
   "outputs": [],
   "source": [
    "cm = confusion_matrix(y_test, y_pred_XGB)"
   ]
  },
  {
   "cell_type": "code",
   "execution_count": 2145,
   "metadata": {
    "scrolled": false
   },
   "outputs": [
    {
     "data": {
      "image/png": "[encoded data removed]",
      "text/plain": [
       "<Figure size 576x432 with 2 Axes>"
      ]
     },
     "metadata": {
      "needs_background": "light"
     },
     "output_type": "display_data"
    }
   ],
   "source": [
    "fig_dims = (8,6)\n",
    "fig, ax = plt.subplots(figsize=fig_dims)\n",
    "sns.heatmap(cm, annot=True, ax = ax, vmin=0, vmax=150, fmt=\"d\", linewidths=.5, linecolor = 'white', cmap=\"Reds\"); # annot=True to annotate cells\n",
    "# labels, title and ticks\n",
    "ax.set_xlabel('Predicted labels');ax.set_ylabel('True labels'); \n",
    "ax.set_title('Confusion Matrix'); \n",
    "ax.xaxis.set_ticklabels(['Low Risk', 'Medium Risk', 'High Risk', 'Highest Risk']); ax.yaxis.set_ticklabels(['Low Risk', 'Medium Risk', 'High Risk', 'Highest Risk']);\n",
    "b, t = plt.ylim() # discover the values for bottom and top\n",
    "b += 0.5 # Add 0.5 to the bottom\n",
    "t -= 0.5 # Subtract 0.5 from the top\n",
    "plt.ylim(b, t) # update the ylim(bottom, top) values\n",
    "plt.show() # ta-da!"
   ]
  },
  {
   "cell_type": "markdown",
   "metadata": {},
   "source": [
    "## XGBOOST Hyperparameter Tunning"
   ]
  },
  {
   "cell_type": "code",
   "execution_count": 2242,
   "metadata": {},
   "outputs": [
    {
     "name": "stderr",
     "output_type": "stream",
     "text": [
      "C:\\Users\\hp\\Anaconda3\\lib\\site-packages\\sklearn\\model_selection\\_search.py:814: DeprecationWarning: The default of the `iid` parameter will change from True to False in version 0.22 and will be removed in 0.24. This will change numeric results when test-set sizes are unequal.\n",
      "  DeprecationWarning)\n"
     ]
    },
    {
     "name": "stdout",
     "output_type": "stream",
     "text": [
      "Best: 0.683718 using {'n_estimators': 350}\n",
      "0.670517 (0.034088) with: {'n_estimators': 50}\n",
      "0.677668 (0.032426) with: {'n_estimators': 100}\n",
      "0.683168 (0.039959) with: {'n_estimators': 150}\n",
      "0.682068 (0.039497) with: {'n_estimators': 200}\n",
      "0.683168 (0.035748) with: {'n_estimators': 250}\n",
      "0.683168 (0.037036) with: {'n_estimators': 300}\n",
      "0.683718 (0.036765) with: {'n_estimators': 350}\n"
     ]
    },
    {
     "data": {
      "text/plain": [
       "Text(0, 0.5, 'Log Loss')"
      ]
     },
     "execution_count": 2242,
     "metadata": {},
     "output_type": "execute_result"
    },
    {
     "data": {
      "image/png": "[encoded data removed]",
      "text/plain": [
       "<Figure size 864x288 with 1 Axes>"
      ]
     },
     "metadata": {
      "needs_background": "light"
     },
     "output_type": "display_data"
    }
   ],
   "source": [
    "n_estimators = range(50, 400, 50)\n",
    "param_grid = dict(n_estimators=n_estimators)\n",
    "kfold = StratifiedKFold(n_splits=10, shuffle=True, random_state=7)\n",
    "grid_search = GridSearchCV(XGB_model, param_grid, scoring=\"accuracy\", n_jobs=-1, cv=kfold)\n",
    "grid_result = grid_search.fit(X_train, y_train)\n",
    "# summarize results\n",
    "print(\"Best: %f using %s\" % (grid_result.best_score_, grid_result.best_params_))\n",
    "means = grid_result.cv_results_['mean_test_score']\n",
    "stds = grid_result.cv_results_['std_test_score']\n",
    "params = grid_result.cv_results_['params']\n",
    "for mean, stdev, param in zip(means, stds, params):\n",
    "    print(\"%f (%f) with: %r\" % (mean, stdev, param))\n",
    "# plot\n",
    "plt.errorbar(n_estimators, means, yerr=stds)\n",
    "plt.title(\"XGBoost n_estimators vs Log Loss\")\n",
    "plt.xlabel('n_estimators')\n",
    "plt.ylabel('Log Loss')"
   ]
  },
  {
   "cell_type": "code",
   "execution_count": 2245,
   "metadata": {},
   "outputs": [
    {
     "data": {
      "text/plain": [
       "Text(0, 0.5, 'Log Loss')"
      ]
     },
     "execution_count": 2245,
     "metadata": {},
     "output_type": "execute_result"
    },
    {
     "data": {
      "image/png": "[encoded data removed]",
      "text/plain": [
       "<Figure size 864x288 with 1 Axes>"
      ]
     },
     "metadata": {
      "needs_background": "light"
     },
     "output_type": "display_data"
    }
   ],
   "source": [
    "max_depth = range(1, 11, 2)\n",
    "print(max_depth)\n",
    "param_grid = dict(max_depth=max_depth)\n",
    "kfold = StratifiedKFold(n_splits=10, shuffle=True, random_state=7)\n",
    "grid_search = GridSearchCV(XGB_model, param_grid, scoring=\"accuracy\", n_jobs=-1, cv=kfold)\n",
    "grid_result = grid_search.fit(X_train, y_train)\n",
    "# summarize results\n",
    "print(\"Best: %f using %s\" % (grid_result.best_score_, grid_result.best_params_))\n",
    "means = grid_result.cv_results_['mean_test_score']\n",
    "stds = grid_result.cv_results_['std_test_score']\n",
    "params = grid_result.cv_results_['params']\n",
    "for mean, stdev, param in zip(means, stds, params):\n",
    "    print(\"%f (%f) with: %r\" % (mean, stdev, param))\n",
    "# plot\n",
    "plt.errorbar(max_depth, means, yerr=stds)\n",
    "plt.title(\"XGBoost max_depth vs Log Loss\")\n",
    "plt.xlabel('max_depth')\n",
    "plt.ylabel('Log Loss')"
   ]
  },
  {
   "cell_type": "code",
   "execution_count": 2292,
   "metadata": {},
   "outputs": [
    {
     "name": "stdout",
     "output_type": "stream",
     "text": [
      "[0.0, 0.1, 0.2, 0.3, 0.4, 0.5, 0.6, 0.7, 0.8, 0.9, 1.0]\n"
     ]
    },
    {
     "name": "stderr",
     "output_type": "stream",
     "text": [
      "C:\\Users\\hp\\Anaconda3\\lib\\site-packages\\sklearn\\model_selection\\_search.py:814: DeprecationWarning: The default of the `iid` parameter will change from True to False in version 0.22 and will be removed in 0.24. This will change numeric results when test-set sizes are unequal.\n",
      "  DeprecationWarning)\n"
     ]
    },
    {
     "name": "stdout",
     "output_type": "stream",
     "text": [
      "Best: 0.677668 using {'gamma': 0.0}\n",
      "0.677668 (0.032426) with: {'gamma': 0.0}\n",
      "0.673267 (0.041326) with: {'gamma': 0.1}\n",
      "0.676568 (0.044013) with: {'gamma': 0.2}\n",
      "0.663366 (0.023780) with: {'gamma': 0.3}\n",
      "0.666667 (0.030753) with: {'gamma': 0.4}\n",
      "0.671067 (0.024510) with: {'gamma': 0.5}\n",
      "0.661166 (0.033699) with: {'gamma': 0.6}\n",
      "0.667767 (0.031308) with: {'gamma': 0.7}\n",
      "0.666117 (0.026463) with: {'gamma': 0.8}\n",
      "0.662266 (0.038157) with: {'gamma': 0.9}\n",
      "0.672717 (0.035166) with: {'gamma': 1.0}\n"
     ]
    },
    {
     "data": {
      "text/plain": [
       "Text(0, 0.5, 'Log Loss')"
      ]
     },
     "execution_count": 2292,
     "metadata": {},
     "output_type": "execute_result"
    },
    {
     "data": {
      "image/png": "[encoded data removed]",
      "text/plain": [
       "<Figure size 864x288 with 1 Axes>"
      ]
     },
     "metadata": {
      "needs_background": "light"
     },
     "output_type": "display_data"
    }
   ],
   "source": [
    "gamma = [i/10. for i in range(0,11)]\n",
    "print(gamma)\n",
    "param_grid = dict(gamma=gamma)\n",
    "kfold = StratifiedKFold(n_splits=10, shuffle=True, random_state=7)\n",
    "grid_search = GridSearchCV(XGB_model, param_grid, scoring=\"accuracy\", n_jobs=-1, cv=kfold)\n",
    "grid_result = grid_search.fit(X_train, y_train)\n",
    "# summarize results\n",
    "print(\"Best: %f using %s\" % (grid_result.best_score_, grid_result.best_params_))\n",
    "means = grid_result.cv_results_['mean_test_score']\n",
    "stds = grid_result.cv_results_['std_test_score']\n",
    "params = grid_result.cv_results_['params']\n",
    "for mean, stdev, param in zip(means, stds, params):\n",
    "    print(\"%f (%f) with: %r\" % (mean, stdev, param))\n",
    "# plot\n",
    "plt.errorbar(gamma, means, yerr=stds)\n",
    "plt.title(\"XGBoost max_depth vs Log Loss\")\n",
    "plt.xlabel('max_depth')\n",
    "plt.ylabel('Log Loss')"
   ]
  },
  {
   "cell_type": "code",
   "execution_count": 2286,
   "metadata": {},
   "outputs": [
    {
     "name": "stdout",
     "output_type": "stream",
     "text": [
      "0.544004 (0.017226) with: {'colsample_bytree': 0.1, 'subsample': 0.1}\n",
      "0.553905 (0.025594) with: {'colsample_bytree': 0.1, 'subsample': 0.2}\n",
      "0.567657 (0.027505) with: {'colsample_bytree': 0.1, 'subsample': 0.3}\n",
      "0.583608 (0.036249) with: {'colsample_bytree': 0.1, 'subsample': 0.4}\n",
      "0.601210 (0.037724) with: {'colsample_bytree': 0.1, 'subsample': 0.5}\n",
      "0.595710 (0.029808) with: {'colsample_bytree': 0.1, 'subsample': 0.6}\n",
      "0.603960 (0.036628) with: {'colsample_bytree': 0.1, 'subsample': 0.7}\n",
      "0.590209 (0.031716) with: {'colsample_bytree': 0.1, 'subsample': 0.8}\n",
      "0.602860 (0.024989) with: {'colsample_bytree': 0.1, 'subsample': 0.9}\n",
      "0.599560 (0.041532) with: {'colsample_bytree': 0.1, 'subsample': 1.0}\n",
      "0.567657 (0.032359) with: {'colsample_bytree': 0.2, 'subsample': 0.1}\n",
      "0.606161 (0.015203) with: {'colsample_bytree': 0.2, 'subsample': 0.2}\n",
      "0.624862 (0.038317) with: {'colsample_bytree': 0.2, 'subsample': 0.3}\n",
      "0.630363 (0.026628) with: {'colsample_bytree': 0.2, 'subsample': 0.4}\n",
      "0.645215 (0.031340) with: {'colsample_bytree': 0.2, 'subsample': 0.5}\n",
      "0.647965 (0.029671) with: {'colsample_bytree': 0.2, 'subsample': 0.6}\n",
      "0.654565 (0.035075) with: {'colsample_bytree': 0.2, 'subsample': 0.7}\n",
      "0.655666 (0.044790) with: {'colsample_bytree': 0.2, 'subsample': 0.8}\n",
      "0.661716 (0.036754) with: {'colsample_bytree': 0.2, 'subsample': 0.9}\n",
      "0.654015 (0.028069) with: {'colsample_bytree': 0.2, 'subsample': 1.0}\n",
      "0.580858 (0.037542) with: {'colsample_bytree': 0.3, 'subsample': 0.1}\n",
      "0.628713 (0.028309) with: {'colsample_bytree': 0.3, 'subsample': 0.2}\n",
      "0.631463 (0.039202) with: {'colsample_bytree': 0.3, 'subsample': 0.3}\n",
      "0.648515 (0.028149) with: {'colsample_bytree': 0.3, 'subsample': 0.4}\n",
      "0.647415 (0.033813) with: {'colsample_bytree': 0.3, 'subsample': 0.5}\n",
      "0.669967 (0.037508) with: {'colsample_bytree': 0.3, 'subsample': 0.6}\n",
      "0.661716 (0.030339) with: {'colsample_bytree': 0.3, 'subsample': 0.7}\n",
      "0.665567 (0.033756) with: {'colsample_bytree': 0.3, 'subsample': 0.8}\n",
      "0.669967 (0.040338) with: {'colsample_bytree': 0.3, 'subsample': 0.9}\n",
      "0.668317 (0.039175) with: {'colsample_bytree': 0.3, 'subsample': 1.0}\n",
      "0.584158 (0.032510) with: {'colsample_bytree': 0.4, 'subsample': 0.1}\n",
      "0.630363 (0.039030) with: {'colsample_bytree': 0.4, 'subsample': 0.2}\n",
      "0.653465 (0.038675) with: {'colsample_bytree': 0.4, 'subsample': 0.3}\n",
      "0.654015 (0.042639) with: {'colsample_bytree': 0.4, 'subsample': 0.4}\n",
      "0.662816 (0.022198) with: {'colsample_bytree': 0.4, 'subsample': 0.5}\n",
      "0.666667 (0.036124) with: {'colsample_bytree': 0.4, 'subsample': 0.6}\n",
      "0.671067 (0.041566) with: {'colsample_bytree': 0.4, 'subsample': 0.7}\n",
      "0.673267 (0.029251) with: {'colsample_bytree': 0.4, 'subsample': 0.8}\n",
      "0.666667 (0.041943) with: {'colsample_bytree': 0.4, 'subsample': 0.9}\n",
      "0.677118 (0.034057) with: {'colsample_bytree': 0.4, 'subsample': 1.0}\n",
      "0.596260 (0.045369) with: {'colsample_bytree': 0.5, 'subsample': 0.1}\n",
      "0.629813 (0.037400) with: {'colsample_bytree': 0.5, 'subsample': 0.2}\n",
      "0.651815 (0.021430) with: {'colsample_bytree': 0.5, 'subsample': 0.3}\n",
      "0.646865 (0.034057) with: {'colsample_bytree': 0.5, 'subsample': 0.4}\n",
      "0.660066 (0.033860) with: {'colsample_bytree': 0.5, 'subsample': 0.5}\n",
      "0.665567 (0.034207) with: {'colsample_bytree': 0.5, 'subsample': 0.6}\n",
      "0.669967 (0.029694) with: {'colsample_bytree': 0.5, 'subsample': 0.7}\n",
      "0.671067 (0.037046) with: {'colsample_bytree': 0.5, 'subsample': 0.8}\n",
      "0.674367 (0.033411) with: {'colsample_bytree': 0.5, 'subsample': 0.9}\n",
      "0.668867 (0.029058) with: {'colsample_bytree': 0.5, 'subsample': 1.0}\n",
      "0.599560 (0.053683) with: {'colsample_bytree': 0.6, 'subsample': 0.1}\n",
      "0.617162 (0.035092) with: {'colsample_bytree': 0.6, 'subsample': 0.2}\n",
      "0.649065 (0.033359) with: {'colsample_bytree': 0.6, 'subsample': 0.3}\n",
      "0.669417 (0.042606) with: {'colsample_bytree': 0.6, 'subsample': 0.4}\n",
      "0.667217 (0.037174) with: {'colsample_bytree': 0.6, 'subsample': 0.5}\n",
      "0.662266 (0.032729) with: {'colsample_bytree': 0.6, 'subsample': 0.6}\n",
      "0.671617 (0.042954) with: {'colsample_bytree': 0.6, 'subsample': 0.7}\n",
      "0.665567 (0.040175) with: {'colsample_bytree': 0.6, 'subsample': 0.8}\n",
      "0.672167 (0.037077) with: {'colsample_bytree': 0.6, 'subsample': 0.9}\n",
      "0.677668 (0.039609) with: {'colsample_bytree': 0.6, 'subsample': 1.0}\n",
      "0.602310 (0.041467) with: {'colsample_bytree': 0.7, 'subsample': 0.1}\n",
      "0.642464 (0.031517) with: {'colsample_bytree': 0.7, 'subsample': 0.2}\n",
      "0.650165 (0.041397) with: {'colsample_bytree': 0.7, 'subsample': 0.3}\n",
      "0.665567 (0.046112) with: {'colsample_bytree': 0.7, 'subsample': 0.4}\n",
      "0.663366 (0.029959) with: {'colsample_bytree': 0.7, 'subsample': 0.5}\n",
      "0.680418 (0.030526) with: {'colsample_bytree': 0.7, 'subsample': 0.6}\n",
      "0.679868 (0.024254) with: {'colsample_bytree': 0.7, 'subsample': 0.7}\n",
      "0.674917 (0.034342) with: {'colsample_bytree': 0.7, 'subsample': 0.8}\n",
      "0.679868 (0.042350) with: {'colsample_bytree': 0.7, 'subsample': 0.9}\n",
      "0.673267 (0.041798) with: {'colsample_bytree': 0.7, 'subsample': 1.0}\n",
      "0.594609 (0.042149) with: {'colsample_bytree': 0.8, 'subsample': 0.1}\n",
      "0.632563 (0.019503) with: {'colsample_bytree': 0.8, 'subsample': 0.2}\n",
      "0.669967 (0.039625) with: {'colsample_bytree': 0.8, 'subsample': 0.3}\n",
      "0.661716 (0.049076) with: {'colsample_bytree': 0.8, 'subsample': 0.4}\n",
      "0.672167 (0.026137) with: {'colsample_bytree': 0.8, 'subsample': 0.5}\n",
      "0.678218 (0.041444) with: {'colsample_bytree': 0.8, 'subsample': 0.6}\n",
      "0.681518 (0.036153) with: {'colsample_bytree': 0.8, 'subsample': 0.7}\n",
      "0.672167 (0.040044) with: {'colsample_bytree': 0.8, 'subsample': 0.8}\n",
      "0.671617 (0.040655) with: {'colsample_bytree': 0.8, 'subsample': 0.9}\n",
      "0.668317 (0.036693) with: {'colsample_bytree': 0.8, 'subsample': 1.0}\n",
      "0.611661 (0.036316) with: {'colsample_bytree': 0.9, 'subsample': 0.1}\n",
      "0.643014 (0.025770) with: {'colsample_bytree': 0.9, 'subsample': 0.2}\n",
      "0.655666 (0.031215) with: {'colsample_bytree': 0.9, 'subsample': 0.3}\n",
      "0.669417 (0.036778) with: {'colsample_bytree': 0.9, 'subsample': 0.4}\n",
      "0.676018 (0.036108) with: {'colsample_bytree': 0.9, 'subsample': 0.5}\n",
      "0.677668 (0.046580) with: {'colsample_bytree': 0.9, 'subsample': 0.6}\n",
      "0.676018 (0.029178) with: {'colsample_bytree': 0.9, 'subsample': 0.7}\n",
      "0.680418 (0.034075) with: {'colsample_bytree': 0.9, 'subsample': 0.8}\n",
      "0.678218 (0.033411) with: {'colsample_bytree': 0.9, 'subsample': 0.9}\n",
      "0.678218 (0.030556) with: {'colsample_bytree': 0.9, 'subsample': 1.0}\n",
      "0.592409 (0.049962) with: {'colsample_bytree': 1.0, 'subsample': 0.1}\n",
      "0.634763 (0.042048) with: {'colsample_bytree': 1.0, 'subsample': 0.2}\n",
      "0.654015 (0.025485) with: {'colsample_bytree': 1.0, 'subsample': 0.3}\n",
      "0.673267 (0.030698) with: {'colsample_bytree': 1.0, 'subsample': 0.4}\n",
      "0.672717 (0.045790) with: {'colsample_bytree': 1.0, 'subsample': 0.5}\n",
      "0.671067 (0.027970) with: {'colsample_bytree': 1.0, 'subsample': 0.6}\n",
      "0.673267 (0.031418) with: {'colsample_bytree': 1.0, 'subsample': 0.7}\n",
      "0.683718 (0.037653) with: {'colsample_bytree': 1.0, 'subsample': 0.8}\n",
      "0.676568 (0.039947) with: {'colsample_bytree': 1.0, 'subsample': 0.9}\n",
      "0.677668 (0.032426) with: {'colsample_bytree': 1.0, 'subsample': 1.0}\n"
     ]
    }
   ],
   "source": [
    "# subsample = [i/10. for i in range(1,11)]\n",
    "# colsample_bytree = [i/10. for i in range(1,11)]\n",
    "\n",
    "# print(subsample)\n",
    "# print(colsample_bytree)\n",
    "\n",
    "# param_grid = dict(subsample=subsample, colsample_bytree = colsample_bytree)\n",
    "# kfold = StratifiedKFold(n_splits=10, shuffle=True, random_state=7)\n",
    "# grid_search = GridSearchCV(XGB_model, param_grid, scoring=\"accuracy\", n_jobs=-1, cv=kfold)\n",
    "# grid_result = grid_search.fit(X_train, y_train)\n",
    "# # summarize results\n",
    "# print(\"Best: %f using %s\" % (grid_result.best_score_, grid_result.best_params_))\n",
    "# means = grid_result.cv_results_['mean_test_score']\n",
    "# stds = grid_result.cv_results_['std_test_score']\n",
    "# params = grid_result.cv_results_['params']\n",
    "for mean, stdev, param in zip(means, stds, params):\n",
    "    print(\"%f (%f) with: %r\" % (mean, stdev, param))\n",
    "# plt.errorbar(subsample, means, yerr=stds)\n",
    "# plt.title(\"XGBoost max_depth vs Log Loss\")\n",
    "# plt.xlabel('max_depth')\n",
    "# plt.ylabel('Log Loss')"
   ]
  },
  {
   "cell_type": "code",
   "execution_count": null,
   "metadata": {},
   "outputs": [],
   "source": []
  },
  {
   "cell_type": "code",
   "execution_count": null,
   "metadata": {},
   "outputs": [],
   "source": []
  },
  {
   "cell_type": "code",
   "execution_count": null,
   "metadata": {},
   "outputs": [],
   "source": []
  },
  {
   "cell_type": "code",
   "execution_count": null,
   "metadata": {},
   "outputs": [],
   "source": []
  },
  {
   "cell_type": "code",
   "execution_count": null,
   "metadata": {},
   "outputs": [],
   "source": []
  },
  {
   "cell_type": "code",
   "execution_count": null,
   "metadata": {},
   "outputs": [],
   "source": []
  },
  {
   "cell_type": "code",
   "execution_count": 2248,
   "metadata": {},
   "outputs": [
    {
     "name": "stdout",
     "output_type": "stream",
     "text": [
      "0.589109 (0.021585) with: {'max_depth': 2, 'n_estimators': 50}\n",
      "0.594609 (0.031956) with: {'max_depth': 2, 'n_estimators': 100}\n",
      "0.602860 (0.041249) with: {'max_depth': 2, 'n_estimators': 150}\n",
      "0.610011 (0.043826) with: {'max_depth': 2, 'n_estimators': 200}\n",
      "0.642464 (0.031361) with: {'max_depth': 4, 'n_estimators': 50}\n",
      "0.665567 (0.034620) with: {'max_depth': 4, 'n_estimators': 100}\n",
      "0.664466 (0.030367) with: {'max_depth': 4, 'n_estimators': 150}\n",
      "0.666667 (0.024235) with: {'max_depth': 4, 'n_estimators': 200}\n",
      "0.670517 (0.034088) with: {'max_depth': 6, 'n_estimators': 50}\n",
      "0.677668 (0.032426) with: {'max_depth': 6, 'n_estimators': 100}\n",
      "0.683168 (0.039959) with: {'max_depth': 6, 'n_estimators': 150}\n",
      "0.682068 (0.039497) with: {'max_depth': 6, 'n_estimators': 200}\n",
      "0.674917 (0.032084) with: {'max_depth': 8, 'n_estimators': 50}\n",
      "0.684268 (0.033519) with: {'max_depth': 8, 'n_estimators': 100}\n",
      "0.682068 (0.033914) with: {'max_depth': 8, 'n_estimators': 150}\n",
      "0.683168 (0.034450) with: {'max_depth': 8, 'n_estimators': 200}\n"
     ]
    },
    {
     "data": {
      "text/plain": [
       "Text(0, 0.5, 'Log Loss')"
      ]
     },
     "execution_count": 2248,
     "metadata": {},
     "output_type": "execute_result"
    },
    {
     "data": {
      "image/png": "[encoded data removed]",
      "text/plain": [
       "<Figure size 864x288 with 1 Axes>"
      ]
     },
     "metadata": {
      "needs_background": "light"
     },
     "output_type": "display_data"
    }
   ],
   "source": [
    "n_estimators = [50, 100, 150, 200]\n",
    "max_depth = [2, 4, 6, 8]\n",
    "print(max_depth)\n",
    "param_grid = dict(max_depth=max_depth, n_estimators=n_estimators)\n",
    "kfold = StratifiedKFold(n_splits=10, shuffle=True, random_state=7)\n",
    "grid_search = GridSearchCV(XGB_model, param_grid, scoring=\"accuracy\", n_jobs=-1, cv=kfold, verbose=1)\n",
    "grid_result = grid_search.fit(X_train, y_train)\n",
    "# summarize results\n",
    "print(\"Best: %f using %s\" % (grid_result.best_score_, grid_result.best_params_))\n",
    "means = grid_result.cv_results_['mean_test_score']\n",
    "stds = grid_result.cv_results_['std_test_score']\n",
    "params = grid_result.cv_results_['params']\n",
    "for mean, stdev, param in zip(means, stds, params):\n",
    "    print(\"%f (%f) with: %r\" % (mean, stdev, param))\n",
    "# plot results\n",
    "scores = np.array(means).reshape(len(max_depth), len(n_estimators))\n",
    "for i, value in enumerate(max_depth):\n",
    "    plt.plot(n_estimators, scores[i], label='depth: ' + str(value))\n",
    "plt.legend()\n",
    "plt.xlabel('n_estimators')\n",
    "plt.ylabel('Log Loss')"
   ]
  },
  {
   "cell_type": "code",
   "execution_count": 2249,
   "metadata": {},
   "outputs": [
    {
     "data": {
      "text/plain": [
       "{'objective': 'multi:softmax',\n",
       " 'base_score': 0.5,\n",
       " 'booster': 'gbtree',\n",
       " 'colsample_bylevel': 1,\n",
       " 'colsample_bynode': 1,\n",
       " 'colsample_bytree': 1,\n",
       " 'gamma': 0,\n",
       " 'gpu_id': -1,\n",
       " 'interaction_constraints': '',\n",
       " 'learning_rate': 0.300000012,\n",
       " 'max_delta_step': 0,\n",
       " 'max_depth': 6,\n",
       " 'min_child_weight': 1,\n",
       " 'monotone_constraints': '()',\n",
       " 'n_jobs': 0,\n",
       " 'num_parallel_tree': 1,\n",
       " 'random_state': 0,\n",
       " 'reg_alpha': 0,\n",
       " 'reg_lambda': 1,\n",
       " 'scale_pos_weight': None,\n",
       " 'subsample': 1,\n",
       " 'tree_method': 'exact',\n",
       " 'validate_parameters': 1,\n",
       " 'verbosity': None,\n",
       " 'num_class': 4}"
      ]
     },
     "execution_count": 2249,
     "metadata": {},
     "output_type": "execute_result"
    }
   ],
   "source": [
    "params = XGB_model.get_xgb_params()\n",
    "params"
   ]
  },
  {
   "cell_type": "code",
   "execution_count": 2291,
   "metadata": {},
   "outputs": [
    {
     "name": "stdout",
     "output_type": "stream",
     "text": [
      "XGB Accuracy: 0.6798029556650246\n"
     ]
    }
   ],
   "source": [
    "xg_reg = xgb.XGBRegressor(max_depth = 8, n_estimators = 350, num_class =  4, objective = 'multi:softmax', colsample_bytree = 1, subsample = 0.8)\n",
    "\n",
    "xg_reg.fit(X_train, y_train)\n",
    "y_pred_XGB = preds = xg_reg.predict(X_test)\n",
    "Accuracy_XGB = metrics.accuracy_score(y_test, preds)\n",
    "print(\"XGB Accuracy:\",Accuracy_XGB)"
   ]
  },
  {
   "cell_type": "code",
   "execution_count": 2294,
   "metadata": {},
   "outputs": [
    {
     "data": {
      "image/png": "[encoded data removed]",
      "text/plain": [
       "<Figure size 864x288 with 1 Axes>"
      ]
     },
     "metadata": {
      "needs_background": "light"
     },
     "output_type": "display_data"
    }
   ],
   "source": [
    "plt.bar(range(len(xg_reg.feature_importances_)), xg_reg.feature_importances_)\n",
    "plt.show()"
   ]
  },
  {
   "cell_type": "code",
   "execution_count": 2298,
   "metadata": {},
   "outputs": [
    {
     "name": "stdout",
     "output_type": "stream",
     "text": [
      "Accuracy: 67.98%\n",
      "Thresh=0.025, n=26, Accuracy: 65.52%\n",
      "Thresh=0.026, n=25, Accuracy: 64.04%\n",
      "Thresh=0.027, n=24, Accuracy: 63.55%\n",
      "Thresh=0.028, n=23, Accuracy: 64.53%\n",
      "Thresh=0.029, n=22, Accuracy: 62.56%\n",
      "Thresh=0.029, n=21, Accuracy: 62.07%\n",
      "Thresh=0.030, n=20, Accuracy: 63.55%\n",
      "Thresh=0.031, n=19, Accuracy: 64.04%\n",
      "Thresh=0.032, n=18, Accuracy: 63.55%\n",
      "Thresh=0.032, n=17, Accuracy: 65.52%\n",
      "Thresh=0.032, n=16, Accuracy: 64.04%\n",
      "Thresh=0.033, n=15, Accuracy: 64.53%\n",
      "Thresh=0.034, n=14, Accuracy: 64.53%\n",
      "Thresh=0.035, n=13, Accuracy: 63.55%\n",
      "Thresh=0.036, n=12, Accuracy: 63.55%\n",
      "Thresh=0.036, n=11, Accuracy: 59.61%\n",
      "Thresh=0.036, n=10, Accuracy: 59.61%\n",
      "Thresh=0.038, n=9, Accuracy: 55.67%\n",
      "Thresh=0.040, n=8, Accuracy: 53.69%\n",
      "Thresh=0.040, n=7, Accuracy: 55.67%\n",
      "Thresh=0.042, n=6, Accuracy: 49.26%\n",
      "Thresh=0.053, n=5, Accuracy: 48.28%\n",
      "Thresh=0.055, n=4, Accuracy: 49.75%\n",
      "Thresh=0.057, n=3, Accuracy: 52.22%\n",
      "Thresh=0.071, n=2, Accuracy: 49.75%\n",
      "Thresh=0.073, n=1, Accuracy: 41.38%\n"
     ]
    }
   ],
   "source": [
    "# use feature importance for feature selection\n",
    "from numpy import loadtxt\n",
    "from numpy import sort\n",
    "from xgboost import XGBClassifier\n",
    "from sklearn.model_selection import train_test_split\n",
    "from sklearn.metrics import accuracy_score\n",
    "from sklearn.feature_selection import SelectFromModel\n",
    "\n",
    "# fit model on all training data\n",
    "# model = XGBClassifier()\n",
    "# model.fit(X_train, y_train)\n",
    "# make predictions for test data and evaluate\n",
    "y_pred = xg_reg.predict(X_test)\n",
    "predictions = [round(value) for value in y_pred]\n",
    "accuracy = accuracy_score(y_test, predictions)\n",
    "print(\"Accuracy: %.2f%%\" % (accuracy * 100.0))\n",
    "# Fit model using each importance as a threshold\n",
    "thresholds = sort(model.feature_importances_)\n",
    "for thresh in thresholds:\n",
    "    # select features using threshold\n",
    "    selection = SelectFromModel(model, threshold=thresh, prefit=True)\n",
    "    select_X_train = selection.transform(X_train)\n",
    "    # train model\n",
    "    selection_model = XGBClassifier()\n",
    "    selection_model.fit(select_X_train, y_train)\n",
    "    # eval model\n",
    "    select_X_test = selection.transform(X_test)\n",
    "    y_pred = selection_model.predict(select_X_test)\n",
    "    predictions = [round(value) for value in y_pred]\n",
    "    accuracy = accuracy_score(y_test, predictions)\n",
    "    print(\"Thresh=%.3f, n=%d, Accuracy: %.2f%%\" % (thresh, select_X_train.shape[1], accuracy*100.0))"
   ]
  },
  {
   "cell_type": "code",
   "execution_count": 2300,
   "metadata": {},
   "outputs": [
    {
     "data": {
      "image/png": "[encoded data removed]",
      "text/plain": [
       "<Figure size 864x288 with 1 Axes>"
      ]
     },
     "metadata": {
      "needs_background": "light"
     },
     "output_type": "display_data"
    }
   ],
   "source": [
    "from xgboost import plot_importance\n",
    "\n",
    "plot_importance(xg_reg)\n",
    "plt.show()"
   ]
  }
 ],
 "metadata": {
  "kernelspec": {
   "display_name": "Python 3",
   "language": "python",
   "name": "python3"
  },
  "language_info": {
   "codemirror_mode": {
    "name": "ipython",
    "version": 3
   },
   "file_extension": ".py",
   "mimetype": "text/x-python",
   "name": "python",
   "nbconvert_exporter": "python",
   "pygments_lexer": "ipython3",
   "version": "3.7.4"
  }
 },
 "nbformat": 4,
 "nbformat_minor": 2
}
