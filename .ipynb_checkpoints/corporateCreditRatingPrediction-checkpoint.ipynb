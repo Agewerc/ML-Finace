{
 "cells": [
  {
   "cell_type": "markdown",
   "metadata": {},
   "source": [
    "# Corporate Credit Rating Forecasting \n",
    "\n",
    "\n",
    "Libraries used:\n",
    "- pandas\n",
    "- numpy\n",
    "- matplotlib\n",
    "- seaborn\n",
    "- random\n",
    "- sklearn\n",
    "\n",
    "\n",
    "## Introduction\n",
    "\n",
    "This notebook contains the results of the data analysis performed on a set of corporate credit ratings given by ratings agencies to a set of companies. The aim of the data analysis is to build a machine learning model from the rating data that can be used to predict the rating a company will receive.\n",
    "\n",
    "The first section section of the notebook shows the exploratory data analysis (EDA) performed to explore and understand the data. It looks at each attribute (variable) in the data to understand the nature and distribution of the attribute values. It also examines the correlation between the variables through visual analysis. A summary at the end highlights the key findings of the EDA.\n",
    "\n",
    "The second section shows the development of the linear regression model. It details the process used to build the model and shows the model at key points in the development process. The final model is then presented along with an analysis and interpretation of the model. This section concludes with the results of using the model to predict house prices for the data in the development dataset.\n",
    "\n",
    "The final section provides the details of the model to enable it to be rebuilt. In addition to the model itself, it includes the functions used to transform the data and run the model.\n",
    "\n",
    "Two datasets were provided for the assignment - training.csv and dev.csv. The exploratory data analysis and the model building were done using the training.csv dataset; the dev.csv dataset was only used to test the generated model\n",
    "\n",
    "## The Dataset\n",
    "\n",
    "There are xxxx features for every company. They can be divided in: <br>\n",
    "- Liquidity Measurement Ratios: currentRatio, quickRatio, cashRatio, daysOfSalesOutstanding, daysOfInventoryOutstanding, operatingCycle, daysOfPayablesOutstanding, cashConversionCycle\n",
    "- Profitability Indicator Ratios: grossProfitMargin, operatingProfitMargin, pretaxProfitMargin, netProfitMargin, effectiveTaxRate, returnOnAssets, returnOnEquity, returnOnCapitalEmployed, netIncomePerEBT, ebtPerEbit, ebitPerRevenue\n",
    "- Debt Ratios: debtRatio, debtEquityRatio, longTermDebtToCapitalization, totalDebtToCapitalization, interestCoverage, cashFlowToDebtRatio, companyEquityMultiplier\n",
    "- Operating Performance Ratios: receivablesTurnover, payablesTurnover, inventoryTurnover, fixedAssetTurnover, assetTurnover\n",
    "- Cash Flow Indicator Ratios: operatingCashFlowPerShare, freeCashFlowPerShare, cashPerShare, payoutRatio, operatingCashFlowSalesRatio, freeCashFlowOperatingCashFlowRatio, cashFlowCoverageRatios, shortTermCoverageRatios, capitalExpenditureCoverageRatio, dividendPaidAndCapexCoverageRatio, dividendPayoutRatio, \n",
    "- Investment Valuation Ratios: priceBookValueRatio, priceToBookRatio, priceToSalesRatio, priceEarningsRatio, priceToFreeCashFlowsRatio, priceToOperatingCashFlowsRatio, priceCashFlowRatio, priceEarningsToGrowthRatio, priceSalesRatio, dividendYield, enterpriseValueMultiple, priceFairValue\n"
   ]
  },
  {
   "cell_type": "code",
   "execution_count": 1230,
   "metadata": {},
   "outputs": [],
   "source": [
    "# import warnings filter\n",
    "from warnings import simplefilter\n",
    "# ignore all future warnings\n",
    "simplefilter(action='ignore', category=FutureWarning)"
   ]
  },
  {
   "cell_type": "markdown",
   "metadata": {},
   "source": [
    "Load the Libraries used in the notebook"
   ]
  },
  {
   "cell_type": "code",
   "execution_count": 1231,
   "metadata": {},
   "outputs": [],
   "source": [
    "import pandas as pd\n",
    "import numpy as np\n",
    "import matplotlib.pyplot as plt\n",
    "import seaborn as sns\n",
    "from random import choices \n",
    "from sklearn import svm\n",
    "from sklearn import metrics\n",
    "from sklearn.datasets import make_classification\n",
    "from sklearn.ensemble import GradientBoostingClassifier\n",
    "from sklearn.model_selection import train_test_split\n",
    "from sklearn.neural_network import MLPClassifier\n",
    "from sklearn.ensemble import RandomForestClassifier\n",
    "from sklearn.discriminant_analysis import LinearDiscriminantAnalysis\n",
    "from sklearn.discriminant_analysis import QuadraticDiscriminantAnalysis\n",
    "from sklearn.utils import resample\n",
    "from sklearn.model_selection import StratifiedShuffleSplit\n",
    "from sklearn.metrics import confusion_matrix\n",
    "from sklearn.preprocessing import StandardScaler\n",
    "from sklearn.decomposition import PCA\n",
    "from sklearn.naive_bayes import GaussianNB\n",
    "from sklearn.neighbors import KNeighborsClassifier\n",
    "from sklearn.linear_model import LogisticRegression\n",
    "from sklearn import metrics\n",
    "import xgboost as xgb"
   ]
  },
  {
   "cell_type": "markdown",
   "metadata": {},
   "source": [
    "## Exploratory Data Analysis\n",
    "\n",
    "### Import Dataset"
   ]
  },
  {
   "cell_type": "code",
   "execution_count": 1280,
   "metadata": {},
   "outputs": [],
   "source": [
    "df_rating = pd.read_csv('data/corporate_rating.csv')"
   ]
  },
  {
   "cell_type": "markdown",
   "metadata": {},
   "source": [
    "### Descriptive Data "
   ]
  },
  {
   "cell_type": "code",
   "execution_count": 1281,
   "metadata": {},
   "outputs": [
    {
     "name": "stdout",
     "output_type": "stream",
     "text": [
      "The credit rating dataset has 2029 records, each with 31 attributes\n"
     ]
    }
   ],
   "source": [
    "# Display the dimensions\n",
    "print(\"The credit rating dataset has\", df_rating.shape[0], \"records, each with\", df_rating.shape[1],\n",
    "    \"attributes\")"
   ]
  },
  {
   "cell_type": "markdown",
   "metadata": {},
   "source": [
    "Investigate class of columns.  "
   ]
  },
  {
   "cell_type": "code",
   "execution_count": 1282,
   "metadata": {},
   "outputs": [
    {
     "name": "stdout",
     "output_type": "stream",
     "text": [
      "<class 'pandas.core.frame.DataFrame'>\n",
      "RangeIndex: 2029 entries, 0 to 2028\n",
      "Data columns (total 31 columns):\n",
      "Rating                                2029 non-null object\n",
      "Name                                  2029 non-null object\n",
      "Symbol                                2029 non-null object\n",
      "Rating Agency Name                    2029 non-null object\n",
      "Date                                  2029 non-null object\n",
      "Sector                                2029 non-null object\n",
      "currentRatio                          2029 non-null float64\n",
      "quickRatio                            2029 non-null float64\n",
      "cashRatio                             2029 non-null float64\n",
      "daysOfSalesOutstanding                2029 non-null float64\n",
      "netProfitMargin                       2029 non-null float64\n",
      "pretaxProfitMargin                    2029 non-null float64\n",
      "grossProfitMargin                     2029 non-null float64\n",
      "operatingProfitMargin                 2029 non-null float64\n",
      "returnOnAssets                        2029 non-null float64\n",
      "returnOnCapitalEmployed               2029 non-null float64\n",
      "returnOnEquity                        2029 non-null float64\n",
      "assetTurnover                         2029 non-null float64\n",
      "fixedAssetTurnover                    2029 non-null float64\n",
      "debtEquityRatio                       2029 non-null float64\n",
      "debtRatio                             2029 non-null float64\n",
      "effectiveTaxRate                      2029 non-null float64\n",
      "freeCashFlowOperatingCashFlowRatio    2029 non-null float64\n",
      "freeCashFlowPerShare                  2029 non-null float64\n",
      "cashPerShare                          2029 non-null float64\n",
      "companyEquityMultiplier               2029 non-null float64\n",
      "ebitPerRevenue                        2029 non-null float64\n",
      "enterpriseValueMultiple               2029 non-null float64\n",
      "operatingCashFlowPerShare             2029 non-null float64\n",
      "operatingCashFlowSalesRatio           2029 non-null float64\n",
      "payablesTurnover                      2029 non-null float64\n",
      "dtypes: float64(25), object(6)\n",
      "memory usage: 491.5+ KB\n"
     ]
    }
   ],
   "source": [
    "# Display the structure\n",
    "df_rating.info()"
   ]
  },
  {
   "cell_type": "markdown",
   "metadata": {},
   "source": [
    "We have 26 columns of numerical data and 6 descriptive columns. A first look at the data:"
   ]
  },
  {
   "cell_type": "code",
   "execution_count": 1283,
   "metadata": {
    "scrolled": true
   },
   "outputs": [
    {
     "data": {
      "text/html": [
       "<div>\n",
       "<style scoped>\n",
       "    .dataframe tbody tr th:only-of-type {\n",
       "        vertical-align: middle;\n",
       "    }\n",
       "\n",
       "    .dataframe tbody tr th {\n",
       "        vertical-align: top;\n",
       "    }\n",
       "\n",
       "    .dataframe thead th {\n",
       "        text-align: right;\n",
       "    }\n",
       "</style>\n",
       "<table border=\"1\" class=\"dataframe\">\n",
       "  <thead>\n",
       "    <tr style=\"text-align: right;\">\n",
       "      <th></th>\n",
       "      <th>Rating</th>\n",
       "      <th>Name</th>\n",
       "      <th>Symbol</th>\n",
       "      <th>Rating Agency Name</th>\n",
       "      <th>Date</th>\n",
       "      <th>Sector</th>\n",
       "      <th>currentRatio</th>\n",
       "      <th>quickRatio</th>\n",
       "      <th>cashRatio</th>\n",
       "      <th>daysOfSalesOutstanding</th>\n",
       "      <th>...</th>\n",
       "      <th>effectiveTaxRate</th>\n",
       "      <th>freeCashFlowOperatingCashFlowRatio</th>\n",
       "      <th>freeCashFlowPerShare</th>\n",
       "      <th>cashPerShare</th>\n",
       "      <th>companyEquityMultiplier</th>\n",
       "      <th>ebitPerRevenue</th>\n",
       "      <th>enterpriseValueMultiple</th>\n",
       "      <th>operatingCashFlowPerShare</th>\n",
       "      <th>operatingCashFlowSalesRatio</th>\n",
       "      <th>payablesTurnover</th>\n",
       "    </tr>\n",
       "  </thead>\n",
       "  <tbody>\n",
       "    <tr>\n",
       "      <td>0</td>\n",
       "      <td>A</td>\n",
       "      <td>whirlpool</td>\n",
       "      <td>WHR</td>\n",
       "      <td>Egan-Jones Ratings Company</td>\n",
       "      <td>11/27/2015</td>\n",
       "      <td>Consumer Durables</td>\n",
       "      <td>0.945894</td>\n",
       "      <td>0.426395</td>\n",
       "      <td>0.099690</td>\n",
       "      <td>44.203245</td>\n",
       "      <td>...</td>\n",
       "      <td>0.202716</td>\n",
       "      <td>0.437551</td>\n",
       "      <td>6.810673</td>\n",
       "      <td>9.809403</td>\n",
       "      <td>4.008012</td>\n",
       "      <td>0.049351</td>\n",
       "      <td>7.057088</td>\n",
       "      <td>15.565438</td>\n",
       "      <td>0.058638</td>\n",
       "      <td>3.906655</td>\n",
       "    </tr>\n",
       "    <tr>\n",
       "      <td>1</td>\n",
       "      <td>BBB</td>\n",
       "      <td>whirlpool</td>\n",
       "      <td>WHR</td>\n",
       "      <td>Egan-Jones Ratings Company</td>\n",
       "      <td>2/13/2014</td>\n",
       "      <td>Consumer Durables</td>\n",
       "      <td>1.033559</td>\n",
       "      <td>0.498234</td>\n",
       "      <td>0.203120</td>\n",
       "      <td>38.991156</td>\n",
       "      <td>...</td>\n",
       "      <td>0.074155</td>\n",
       "      <td>0.541997</td>\n",
       "      <td>8.625473</td>\n",
       "      <td>17.402270</td>\n",
       "      <td>3.156783</td>\n",
       "      <td>0.048857</td>\n",
       "      <td>6.460618</td>\n",
       "      <td>15.914250</td>\n",
       "      <td>0.067239</td>\n",
       "      <td>4.002846</td>\n",
       "    </tr>\n",
       "    <tr>\n",
       "      <td>2</td>\n",
       "      <td>BBB</td>\n",
       "      <td>whirlpool</td>\n",
       "      <td>WHR</td>\n",
       "      <td>Fitch Ratings</td>\n",
       "      <td>3/6/2015</td>\n",
       "      <td>Consumer Durables</td>\n",
       "      <td>0.963703</td>\n",
       "      <td>0.451505</td>\n",
       "      <td>0.122099</td>\n",
       "      <td>50.841385</td>\n",
       "      <td>...</td>\n",
       "      <td>0.214529</td>\n",
       "      <td>0.513185</td>\n",
       "      <td>9.693487</td>\n",
       "      <td>13.103448</td>\n",
       "      <td>4.094575</td>\n",
       "      <td>0.044334</td>\n",
       "      <td>10.491970</td>\n",
       "      <td>18.888889</td>\n",
       "      <td>0.074426</td>\n",
       "      <td>3.483510</td>\n",
       "    </tr>\n",
       "    <tr>\n",
       "      <td>3</td>\n",
       "      <td>BBB</td>\n",
       "      <td>whirlpool</td>\n",
       "      <td>WHR</td>\n",
       "      <td>Fitch Ratings</td>\n",
       "      <td>6/15/2012</td>\n",
       "      <td>Consumer Durables</td>\n",
       "      <td>1.019851</td>\n",
       "      <td>0.510402</td>\n",
       "      <td>0.176116</td>\n",
       "      <td>41.161738</td>\n",
       "      <td>...</td>\n",
       "      <td>1.816667</td>\n",
       "      <td>-0.147170</td>\n",
       "      <td>-1.015625</td>\n",
       "      <td>14.440104</td>\n",
       "      <td>3.630950</td>\n",
       "      <td>-0.012858</td>\n",
       "      <td>4.080741</td>\n",
       "      <td>6.901042</td>\n",
       "      <td>0.028394</td>\n",
       "      <td>4.581150</td>\n",
       "    </tr>\n",
       "    <tr>\n",
       "      <td>4</td>\n",
       "      <td>BBB</td>\n",
       "      <td>whirlpool</td>\n",
       "      <td>WHR</td>\n",
       "      <td>Standard &amp; Poor's Ratings Services</td>\n",
       "      <td>10/24/2016</td>\n",
       "      <td>Consumer Durables</td>\n",
       "      <td>0.957844</td>\n",
       "      <td>0.495432</td>\n",
       "      <td>0.141608</td>\n",
       "      <td>47.761126</td>\n",
       "      <td>...</td>\n",
       "      <td>0.166966</td>\n",
       "      <td>0.451372</td>\n",
       "      <td>7.135348</td>\n",
       "      <td>14.257556</td>\n",
       "      <td>4.012780</td>\n",
       "      <td>0.053770</td>\n",
       "      <td>8.293505</td>\n",
       "      <td>15.808147</td>\n",
       "      <td>0.058065</td>\n",
       "      <td>3.857790</td>\n",
       "    </tr>\n",
       "  </tbody>\n",
       "</table>\n",
       "<p>5 rows × 31 columns</p>\n",
       "</div>"
      ],
      "text/plain": [
       "  Rating       Name Symbol                  Rating Agency Name        Date  \\\n",
       "0      A  whirlpool    WHR          Egan-Jones Ratings Company  11/27/2015   \n",
       "1    BBB  whirlpool    WHR          Egan-Jones Ratings Company   2/13/2014   \n",
       "2    BBB  whirlpool    WHR                       Fitch Ratings    3/6/2015   \n",
       "3    BBB  whirlpool    WHR                       Fitch Ratings   6/15/2012   \n",
       "4    BBB  whirlpool    WHR  Standard & Poor's Ratings Services  10/24/2016   \n",
       "\n",
       "              Sector  currentRatio  quickRatio  cashRatio  \\\n",
       "0  Consumer Durables      0.945894    0.426395   0.099690   \n",
       "1  Consumer Durables      1.033559    0.498234   0.203120   \n",
       "2  Consumer Durables      0.963703    0.451505   0.122099   \n",
       "3  Consumer Durables      1.019851    0.510402   0.176116   \n",
       "4  Consumer Durables      0.957844    0.495432   0.141608   \n",
       "\n",
       "   daysOfSalesOutstanding  ...  effectiveTaxRate  \\\n",
       "0               44.203245  ...          0.202716   \n",
       "1               38.991156  ...          0.074155   \n",
       "2               50.841385  ...          0.214529   \n",
       "3               41.161738  ...          1.816667   \n",
       "4               47.761126  ...          0.166966   \n",
       "\n",
       "   freeCashFlowOperatingCashFlowRatio  freeCashFlowPerShare  cashPerShare  \\\n",
       "0                            0.437551              6.810673      9.809403   \n",
       "1                            0.541997              8.625473     17.402270   \n",
       "2                            0.513185              9.693487     13.103448   \n",
       "3                           -0.147170             -1.015625     14.440104   \n",
       "4                            0.451372              7.135348     14.257556   \n",
       "\n",
       "   companyEquityMultiplier  ebitPerRevenue  enterpriseValueMultiple  \\\n",
       "0                 4.008012        0.049351                 7.057088   \n",
       "1                 3.156783        0.048857                 6.460618   \n",
       "2                 4.094575        0.044334                10.491970   \n",
       "3                 3.630950       -0.012858                 4.080741   \n",
       "4                 4.012780        0.053770                 8.293505   \n",
       "\n",
       "   operatingCashFlowPerShare  operatingCashFlowSalesRatio  payablesTurnover  \n",
       "0                  15.565438                     0.058638          3.906655  \n",
       "1                  15.914250                     0.067239          4.002846  \n",
       "2                  18.888889                     0.074426          3.483510  \n",
       "3                   6.901042                     0.028394          4.581150  \n",
       "4                  15.808147                     0.058065          3.857790  \n",
       "\n",
       "[5 rows x 31 columns]"
      ]
     },
     "execution_count": 1283,
     "metadata": {},
     "output_type": "execute_result"
    }
   ],
   "source": [
    "df_rating.head()"
   ]
  },
  {
   "cell_type": "markdown",
   "metadata": {},
   "source": [
    "Grouping labels"
   ]
  },
  {
   "cell_type": "markdown",
   "metadata": {},
   "source": [
    "#### Analyse Labels\n",
    "We will group labels to check their pattern."
   ]
  },
  {
   "cell_type": "code",
   "execution_count": 1284,
   "metadata": {},
   "outputs": [
    {
     "data": {
      "text/plain": [
       "BBB    671\n",
       "BB     490\n",
       "A      398\n",
       "B      302\n",
       "AA      89\n",
       "CCC     64\n",
       "AAA      7\n",
       "CC       5\n",
       "C        2\n",
       "D        1\n",
       "Name: Rating, dtype: int64"
      ]
     },
     "execution_count": 1284,
     "metadata": {},
     "output_type": "execute_result"
    }
   ],
   "source": [
    "df_rating.Rating.value_counts()"
   ]
  },
  {
   "cell_type": "markdown",
   "metadata": {},
   "source": [
    "We observe that the dataset is very unbalanced.\n",
    "We will have to adress this issue in the Machine Learning steps. \n",
    "\n",
    "However now we will use the following table extracted from [investopedia](https://www.investopedia.com/terms/c/corporate-credit-rating.asp) to transform our labels. We will classify according to the grading risk. \n",
    "\n",
    "| Bond Rating |                   |          |            |              |\n",
    "|-------------|-------------------|----------|------------|--------------|\n",
    "| Moody's     | Standard & Poor's | Fitch    | Grade      | Risk         |\n",
    "| Aaa         | AAA               | AAA      | Investment | Lowest Risk  |\n",
    "| Aa          | AA                | AA       | Investment | Low Risk     |\n",
    "| A           | A                 | A        | Investment | Low Risk     |\n",
    "| Baa         | BBB               | BBB      | Investment | Medium Risk  |\n",
    "| Ba, B       | BB, B             | BB, B    | Junk       | High Risk    |\n",
    "| Caa/Ca      | CCC/CC/C          | CCC/CC/C | Junk       | Highest Risk |\n",
    "| C           | D                 | D        | Junk       | In Default   |"
   ]
  },
  {
   "cell_type": "code",
   "execution_count": 1285,
   "metadata": {},
   "outputs": [],
   "source": [
    "rating_dict = {'AAA':'Lowest Risk', \n",
    "               'AA':'Low Risk',\n",
    "               'A':'Low Risk',\n",
    "               'BBB':'Medium Risk', \n",
    "               'BB':'High Risk',\n",
    "               'B':'High Risk',\n",
    "               'CCC':'Highest Risk', \n",
    "               'CC':'Highest Risk',\n",
    "               'C':'Highest Risk',\n",
    "               'D':'In Default'}\n",
    "\n",
    "df_rating.Rating = df_rating.Rating.map(rating_dict)"
   ]
  },
  {
   "cell_type": "code",
   "execution_count": 1286,
   "metadata": {},
   "outputs": [
    {
     "data": {
      "image/png": "[encoded data removed]",
      "text/plain": [
       "<Figure size 576x288 with 1 Axes>"
      ]
     },
     "metadata": {
      "needs_background": "light"
     },
     "output_type": "display_data"
    }
   ],
   "source": [
    "ax = df_rating['Rating'].value_counts().plot(kind='bar',\n",
    "                                             figsize=(8,4),\n",
    "                                             title=\"Count of Ratings by Type\",\n",
    "                                             grid=True)"
   ]
  },
  {
   "cell_type": "markdown",
   "metadata": {},
   "source": [
    "Unfortunately given the lack of \"Lowest Risk\" and \"In Default\" companies we will have to eliminate then from the table."
   ]
  },
  {
   "cell_type": "code",
   "execution_count": 1287,
   "metadata": {},
   "outputs": [],
   "source": [
    "df_rating = df_rating[df_rating['Rating']!='Lowest Risk']\n",
    "df_rating = df_rating[df_rating['Rating']!='In Default']\n",
    "df_rating.reset_index(inplace = True, drop=True)"
   ]
  },
  {
   "cell_type": "markdown",
   "metadata": {},
   "source": [
    "### Descriptive Statistics"
   ]
  },
  {
   "cell_type": "code",
   "execution_count": 1240,
   "metadata": {
    "scrolled": true
   },
   "outputs": [
    {
     "data": {
      "text/html": [
       "<div>\n",
       "<style scoped>\n",
       "    .dataframe tbody tr th:only-of-type {\n",
       "        vertical-align: middle;\n",
       "    }\n",
       "\n",
       "    .dataframe tbody tr th {\n",
       "        vertical-align: top;\n",
       "    }\n",
       "\n",
       "    .dataframe thead th {\n",
       "        text-align: right;\n",
       "    }\n",
       "</style>\n",
       "<table border=\"1\" class=\"dataframe\">\n",
       "  <thead>\n",
       "    <tr style=\"text-align: right;\">\n",
       "      <th></th>\n",
       "      <th>currentRatio</th>\n",
       "      <th>quickRatio</th>\n",
       "      <th>cashRatio</th>\n",
       "      <th>daysOfSalesOutstanding</th>\n",
       "      <th>netProfitMargin</th>\n",
       "      <th>pretaxProfitMargin</th>\n",
       "      <th>grossProfitMargin</th>\n",
       "      <th>operatingProfitMargin</th>\n",
       "      <th>returnOnAssets</th>\n",
       "      <th>returnOnCapitalEmployed</th>\n",
       "      <th>...</th>\n",
       "      <th>effectiveTaxRate</th>\n",
       "      <th>freeCashFlowOperatingCashFlowRatio</th>\n",
       "      <th>freeCashFlowPerShare</th>\n",
       "      <th>cashPerShare</th>\n",
       "      <th>companyEquityMultiplier</th>\n",
       "      <th>ebitPerRevenue</th>\n",
       "      <th>enterpriseValueMultiple</th>\n",
       "      <th>operatingCashFlowPerShare</th>\n",
       "      <th>operatingCashFlowSalesRatio</th>\n",
       "      <th>payablesTurnover</th>\n",
       "    </tr>\n",
       "  </thead>\n",
       "  <tbody>\n",
       "    <tr>\n",
       "      <td>count</td>\n",
       "      <td>2021.000000</td>\n",
       "      <td>2021.000000</td>\n",
       "      <td>2021.000000</td>\n",
       "      <td>2021.000000</td>\n",
       "      <td>2021.000000</td>\n",
       "      <td>2021.000000</td>\n",
       "      <td>2021.000000</td>\n",
       "      <td>2021.000000</td>\n",
       "      <td>2021.000000</td>\n",
       "      <td>2021.000000</td>\n",
       "      <td>...</td>\n",
       "      <td>2021.000000</td>\n",
       "      <td>2021.000000</td>\n",
       "      <td>2.021000e+03</td>\n",
       "      <td>2.021000e+03</td>\n",
       "      <td>2021.000000</td>\n",
       "      <td>2021.000000</td>\n",
       "      <td>2021.000000</td>\n",
       "      <td>2.021000e+03</td>\n",
       "      <td>2021.000000</td>\n",
       "      <td>2021.000000</td>\n",
       "    </tr>\n",
       "    <tr>\n",
       "      <td>mean</td>\n",
       "      <td>3.535411</td>\n",
       "      <td>2.657150</td>\n",
       "      <td>0.669048</td>\n",
       "      <td>334.855415</td>\n",
       "      <td>0.278725</td>\n",
       "      <td>0.432721</td>\n",
       "      <td>0.496900</td>\n",
       "      <td>0.588793</td>\n",
       "      <td>-37.666843</td>\n",
       "      <td>-74.267283</td>\n",
       "      <td>...</td>\n",
       "      <td>0.400755</td>\n",
       "      <td>0.408272</td>\n",
       "      <td>5.114871e+03</td>\n",
       "      <td>4.244248e+03</td>\n",
       "      <td>3.335166</td>\n",
       "      <td>0.438715</td>\n",
       "      <td>48.426558</td>\n",
       "      <td>6.540891e+03</td>\n",
       "      <td>1.452142</td>\n",
       "      <td>38.138233</td>\n",
       "    </tr>\n",
       "    <tr>\n",
       "      <td>std</td>\n",
       "      <td>44.139386</td>\n",
       "      <td>33.009920</td>\n",
       "      <td>3.590902</td>\n",
       "      <td>4456.606352</td>\n",
       "      <td>6.076128</td>\n",
       "      <td>9.002733</td>\n",
       "      <td>0.525996</td>\n",
       "      <td>11.246798</td>\n",
       "      <td>1168.476782</td>\n",
       "      <td>2354.920503</td>\n",
       "      <td>...</td>\n",
       "      <td>10.613711</td>\n",
       "      <td>3.803929</td>\n",
       "      <td>1.472059e+05</td>\n",
       "      <td>1.226418e+05</td>\n",
       "      <td>87.702375</td>\n",
       "      <td>9.002047</td>\n",
       "      <td>530.161001</td>\n",
       "      <td>1.778797e+05</td>\n",
       "      <td>19.521704</td>\n",
       "      <td>760.421855</td>\n",
       "    </tr>\n",
       "    <tr>\n",
       "      <td>min</td>\n",
       "      <td>-0.932005</td>\n",
       "      <td>-1.893266</td>\n",
       "      <td>-0.192736</td>\n",
       "      <td>-811.845623</td>\n",
       "      <td>-101.845815</td>\n",
       "      <td>-124.343612</td>\n",
       "      <td>-14.800817</td>\n",
       "      <td>-124.343612</td>\n",
       "      <td>-40213.178290</td>\n",
       "      <td>-87162.162160</td>\n",
       "      <td>...</td>\n",
       "      <td>-100.611016</td>\n",
       "      <td>-120.916010</td>\n",
       "      <td>-4.912742e+03</td>\n",
       "      <td>-1.915035e+01</td>\n",
       "      <td>-2555.419643</td>\n",
       "      <td>-124.343612</td>\n",
       "      <td>-3749.921337</td>\n",
       "      <td>-1.195049e+04</td>\n",
       "      <td>-4.461837</td>\n",
       "      <td>-76.662850</td>\n",
       "    </tr>\n",
       "    <tr>\n",
       "      <td>25%</td>\n",
       "      <td>1.071930</td>\n",
       "      <td>0.602298</td>\n",
       "      <td>0.131433</td>\n",
       "      <td>22.806507</td>\n",
       "      <td>0.020894</td>\n",
       "      <td>0.025649</td>\n",
       "      <td>0.232565</td>\n",
       "      <td>0.044546</td>\n",
       "      <td>0.018757</td>\n",
       "      <td>0.028112</td>\n",
       "      <td>...</td>\n",
       "      <td>0.147837</td>\n",
       "      <td>0.269616</td>\n",
       "      <td>4.094118e-01</td>\n",
       "      <td>1.562116e+00</td>\n",
       "      <td>2.050249</td>\n",
       "      <td>0.028057</td>\n",
       "      <td>6.235759</td>\n",
       "      <td>2.348851e+00</td>\n",
       "      <td>0.073664</td>\n",
       "      <td>2.202394</td>\n",
       "    </tr>\n",
       "    <tr>\n",
       "      <td>50%</td>\n",
       "      <td>1.492804</td>\n",
       "      <td>0.979094</td>\n",
       "      <td>0.297859</td>\n",
       "      <td>42.281804</td>\n",
       "      <td>0.064323</td>\n",
       "      <td>0.084965</td>\n",
       "      <td>0.414217</td>\n",
       "      <td>0.107640</td>\n",
       "      <td>0.045417</td>\n",
       "      <td>0.074639</td>\n",
       "      <td>...</td>\n",
       "      <td>0.300439</td>\n",
       "      <td>0.644265</td>\n",
       "      <td>2.123062e+00</td>\n",
       "      <td>3.680425e+00</td>\n",
       "      <td>2.657275</td>\n",
       "      <td>0.087424</td>\n",
       "      <td>9.269746</td>\n",
       "      <td>4.361649e+00</td>\n",
       "      <td>0.132758</td>\n",
       "      <td>5.775840</td>\n",
       "    </tr>\n",
       "    <tr>\n",
       "      <td>75%</td>\n",
       "      <td>2.160710</td>\n",
       "      <td>1.450457</td>\n",
       "      <td>0.625355</td>\n",
       "      <td>59.165369</td>\n",
       "      <td>0.113871</td>\n",
       "      <td>0.144763</td>\n",
       "      <td>0.849693</td>\n",
       "      <td>0.175334</td>\n",
       "      <td>0.077159</td>\n",
       "      <td>0.135036</td>\n",
       "      <td>...</td>\n",
       "      <td>0.370239</td>\n",
       "      <td>0.836949</td>\n",
       "      <td>4.230253e+00</td>\n",
       "      <td>8.027524e+00</td>\n",
       "      <td>3.665438</td>\n",
       "      <td>0.149355</td>\n",
       "      <td>12.898855</td>\n",
       "      <td>7.322553e+00</td>\n",
       "      <td>0.239359</td>\n",
       "      <td>9.500424</td>\n",
       "    </tr>\n",
       "    <tr>\n",
       "      <td>max</td>\n",
       "      <td>1725.505005</td>\n",
       "      <td>1139.541703</td>\n",
       "      <td>125.917417</td>\n",
       "      <td>115961.637400</td>\n",
       "      <td>198.517873</td>\n",
       "      <td>309.694856</td>\n",
       "      <td>2.702533</td>\n",
       "      <td>410.182214</td>\n",
       "      <td>0.487826</td>\n",
       "      <td>2.439504</td>\n",
       "      <td>...</td>\n",
       "      <td>429.926282</td>\n",
       "      <td>34.594086</td>\n",
       "      <td>5.753380e+06</td>\n",
       "      <td>4.786803e+06</td>\n",
       "      <td>2562.871795</td>\n",
       "      <td>309.694856</td>\n",
       "      <td>11153.607090</td>\n",
       "      <td>6.439270e+06</td>\n",
       "      <td>688.526591</td>\n",
       "      <td>20314.880400</td>\n",
       "    </tr>\n",
       "  </tbody>\n",
       "</table>\n",
       "<p>8 rows × 25 columns</p>\n",
       "</div>"
      ],
      "text/plain": [
       "       currentRatio   quickRatio    cashRatio  daysOfSalesOutstanding  \\\n",
       "count   2021.000000  2021.000000  2021.000000             2021.000000   \n",
       "mean       3.535411     2.657150     0.669048              334.855415   \n",
       "std       44.139386    33.009920     3.590902             4456.606352   \n",
       "min       -0.932005    -1.893266    -0.192736             -811.845623   \n",
       "25%        1.071930     0.602298     0.131433               22.806507   \n",
       "50%        1.492804     0.979094     0.297859               42.281804   \n",
       "75%        2.160710     1.450457     0.625355               59.165369   \n",
       "max     1725.505005  1139.541703   125.917417           115961.637400   \n",
       "\n",
       "       netProfitMargin  pretaxProfitMargin  grossProfitMargin  \\\n",
       "count      2021.000000         2021.000000        2021.000000   \n",
       "mean          0.278725            0.432721           0.496900   \n",
       "std           6.076128            9.002733           0.525996   \n",
       "min        -101.845815         -124.343612         -14.800817   \n",
       "25%           0.020894            0.025649           0.232565   \n",
       "50%           0.064323            0.084965           0.414217   \n",
       "75%           0.113871            0.144763           0.849693   \n",
       "max         198.517873          309.694856           2.702533   \n",
       "\n",
       "       operatingProfitMargin  returnOnAssets  returnOnCapitalEmployed  ...  \\\n",
       "count            2021.000000     2021.000000              2021.000000  ...   \n",
       "mean                0.588793      -37.666843               -74.267283  ...   \n",
       "std                11.246798     1168.476782              2354.920503  ...   \n",
       "min              -124.343612   -40213.178290            -87162.162160  ...   \n",
       "25%                 0.044546        0.018757                 0.028112  ...   \n",
       "50%                 0.107640        0.045417                 0.074639  ...   \n",
       "75%                 0.175334        0.077159                 0.135036  ...   \n",
       "max               410.182214        0.487826                 2.439504  ...   \n",
       "\n",
       "       effectiveTaxRate  freeCashFlowOperatingCashFlowRatio  \\\n",
       "count       2021.000000                         2021.000000   \n",
       "mean           0.400755                            0.408272   \n",
       "std           10.613711                            3.803929   \n",
       "min         -100.611016                         -120.916010   \n",
       "25%            0.147837                            0.269616   \n",
       "50%            0.300439                            0.644265   \n",
       "75%            0.370239                            0.836949   \n",
       "max          429.926282                           34.594086   \n",
       "\n",
       "       freeCashFlowPerShare  cashPerShare  companyEquityMultiplier  \\\n",
       "count          2.021000e+03  2.021000e+03              2021.000000   \n",
       "mean           5.114871e+03  4.244248e+03                 3.335166   \n",
       "std            1.472059e+05  1.226418e+05                87.702375   \n",
       "min           -4.912742e+03 -1.915035e+01             -2555.419643   \n",
       "25%            4.094118e-01  1.562116e+00                 2.050249   \n",
       "50%            2.123062e+00  3.680425e+00                 2.657275   \n",
       "75%            4.230253e+00  8.027524e+00                 3.665438   \n",
       "max            5.753380e+06  4.786803e+06              2562.871795   \n",
       "\n",
       "       ebitPerRevenue  enterpriseValueMultiple  operatingCashFlowPerShare  \\\n",
       "count     2021.000000              2021.000000               2.021000e+03   \n",
       "mean         0.438715                48.426558               6.540891e+03   \n",
       "std          9.002047               530.161001               1.778797e+05   \n",
       "min       -124.343612             -3749.921337              -1.195049e+04   \n",
       "25%          0.028057                 6.235759               2.348851e+00   \n",
       "50%          0.087424                 9.269746               4.361649e+00   \n",
       "75%          0.149355                12.898855               7.322553e+00   \n",
       "max        309.694856             11153.607090               6.439270e+06   \n",
       "\n",
       "       operatingCashFlowSalesRatio  payablesTurnover  \n",
       "count                  2021.000000       2021.000000  \n",
       "mean                      1.452142         38.138233  \n",
       "std                      19.521704        760.421855  \n",
       "min                      -4.461837        -76.662850  \n",
       "25%                       0.073664          2.202394  \n",
       "50%                       0.132758          5.775840  \n",
       "75%                       0.239359          9.500424  \n",
       "max                     688.526591      20314.880400  \n",
       "\n",
       "[8 rows x 25 columns]"
      ]
     },
     "execution_count": 1240,
     "metadata": {},
     "output_type": "execute_result"
    }
   ],
   "source": [
    "# Statistical summary \n",
    "df_rating.describe()"
   ]
  },
  {
   "cell_type": "markdown",
   "metadata": {},
   "source": [
    "We observe a lot of skewness in the data with this first exploration. There is very little variation within the interquartile but the max and the min are very distant from the interquartile. The dataset is polluted with outliers. \n",
    "We will demonstrate with histograms and boxplots of four chosen variables."
   ]
  },
  {
   "cell_type": "code",
   "execution_count": 1241,
   "metadata": {
    "scrolled": false
   },
   "outputs": [
    {
     "data": {
      "image/png": "[encoded data removed]",
      "text/plain": [
       "<Figure size 648x360 with 8 Axes>"
      ]
     },
     "metadata": {
      "needs_background": "light"
     },
     "output_type": "display_data"
    }
   ],
   "source": [
    "figure, axes = plt.subplots(nrows=2, ncols=4, figsize=(9,5))\n",
    "axes[0, 0].hist(df_rating.currentRatio)\n",
    "axes[0, 1].hist(df_rating.returnOnEquity)\n",
    "axes[1, 0].hist(df_rating.freeCashFlowPerShare)\n",
    "axes[1, 1].hist(df_rating.payablesTurnover)\n",
    "\n",
    "axes[0, 2].boxplot(df_rating.currentRatio)\n",
    "axes[1, 2].boxplot(df_rating.returnOnEquity)\n",
    "axes[0, 3].boxplot(df_rating.freeCashFlowPerShare)\n",
    "axes[1, 3].boxplot(df_rating.payablesTurnover)\n",
    "\n",
    "figure.tight_layout()"
   ]
  },
  {
   "cell_type": "markdown",
   "metadata": {},
   "source": [
    "We will use the function `.skew` from pandas in all columns. It should return between 0 and 1 if a column is normally distributed. "
   ]
  },
  {
   "cell_type": "code",
   "execution_count": 1242,
   "metadata": {},
   "outputs": [
    {
     "data": {
      "text/plain": [
       "currentRatio                          34.271115\n",
       "quickRatio                            30.864610\n",
       "cashRatio                             27.046952\n",
       "daysOfSalesOutstanding                20.359098\n",
       "netProfitMargin                       17.585073\n",
       "pretaxProfitMargin                    22.052558\n",
       "grossProfitMargin                    -14.198688\n",
       "operatingProfitMargin                 26.441502\n",
       "returnOnAssets                       -32.049111\n",
       "returnOnCapitalEmployed              -33.252701\n",
       "returnOnEquity                        31.639845\n",
       "assetTurnover                         25.968848\n",
       "fixedAssetTurnover                    26.068762\n",
       "debtEquityRatio                        0.268074\n",
       "debtRatio                              1.284256\n",
       "effectiveTaxRate                      32.265705\n",
       "freeCashFlowOperatingCashFlowRatio   -22.868222\n",
       "freeCashFlowPerShare                  33.610677\n",
       "cashPerShare                          33.958646\n",
       "companyEquityMultiplier                0.268175\n",
       "ebitPerRevenue                        22.055668\n",
       "enterpriseValueMultiple               13.920117\n",
       "operatingCashFlowPerShare             30.292914\n",
       "operatingCashFlowSalesRatio           25.400129\n",
       "payablesTurnover                      25.868293\n",
       "dtype: float64"
      ]
     },
     "execution_count": 1242,
     "metadata": {},
     "output_type": "execute_result"
    }
   ],
   "source": [
    "df_rating.skew(axis=0)"
   ]
  },
  {
   "cell_type": "markdown",
   "metadata": {},
   "source": [
    "As we can see almost all columns are extremely skewed. We will perform now transformations in the dataset to handle the skewness. An apprpriate method is usually to apply log or delete outliers, but we will follow a different approach. First we will perform an investigation of the data within the classes. "
   ]
  },
  {
   "cell_type": "code",
   "execution_count": 1243,
   "metadata": {
    "scrolled": true
   },
   "outputs": [
    {
     "data": {
      "text/html": [
       "<div>\n",
       "<style scoped>\n",
       "    .dataframe tbody tr th:only-of-type {\n",
       "        vertical-align: middle;\n",
       "    }\n",
       "\n",
       "    .dataframe tbody tr th {\n",
       "        vertical-align: top;\n",
       "    }\n",
       "\n",
       "    .dataframe thead th {\n",
       "        text-align: right;\n",
       "    }\n",
       "</style>\n",
       "<table border=\"1\" class=\"dataframe\">\n",
       "  <thead>\n",
       "    <tr style=\"text-align: right;\">\n",
       "      <th></th>\n",
       "      <th>currentRatio</th>\n",
       "      <th>quickRatio</th>\n",
       "      <th>cashRatio</th>\n",
       "      <th>daysOfSalesOutstanding</th>\n",
       "      <th>netProfitMargin</th>\n",
       "      <th>pretaxProfitMargin</th>\n",
       "      <th>grossProfitMargin</th>\n",
       "      <th>operatingProfitMargin</th>\n",
       "      <th>returnOnAssets</th>\n",
       "      <th>returnOnCapitalEmployed</th>\n",
       "      <th>...</th>\n",
       "      <th>effectiveTaxRate</th>\n",
       "      <th>freeCashFlowOperatingCashFlowRatio</th>\n",
       "      <th>freeCashFlowPerShare</th>\n",
       "      <th>cashPerShare</th>\n",
       "      <th>companyEquityMultiplier</th>\n",
       "      <th>ebitPerRevenue</th>\n",
       "      <th>enterpriseValueMultiple</th>\n",
       "      <th>operatingCashFlowPerShare</th>\n",
       "      <th>operatingCashFlowSalesRatio</th>\n",
       "      <th>payablesTurnover</th>\n",
       "    </tr>\n",
       "    <tr>\n",
       "      <th>Rating</th>\n",
       "      <th></th>\n",
       "      <th></th>\n",
       "      <th></th>\n",
       "      <th></th>\n",
       "      <th></th>\n",
       "      <th></th>\n",
       "      <th></th>\n",
       "      <th></th>\n",
       "      <th></th>\n",
       "      <th></th>\n",
       "      <th></th>\n",
       "      <th></th>\n",
       "      <th></th>\n",
       "      <th></th>\n",
       "      <th></th>\n",
       "      <th></th>\n",
       "      <th></th>\n",
       "      <th></th>\n",
       "      <th></th>\n",
       "      <th></th>\n",
       "      <th></th>\n",
       "    </tr>\n",
       "  </thead>\n",
       "  <tbody>\n",
       "    <tr>\n",
       "      <td>High Risk</td>\n",
       "      <td>1.658488</td>\n",
       "      <td>1.105294</td>\n",
       "      <td>0.336215</td>\n",
       "      <td>43.894020</td>\n",
       "      <td>0.035028</td>\n",
       "      <td>0.043417</td>\n",
       "      <td>0.374811</td>\n",
       "      <td>0.073341</td>\n",
       "      <td>0.027916</td>\n",
       "      <td>0.043071</td>\n",
       "      <td>...</td>\n",
       "      <td>0.282804</td>\n",
       "      <td>0.636441</td>\n",
       "      <td>1.333805</td>\n",
       "      <td>3.293783</td>\n",
       "      <td>2.758037</td>\n",
       "      <td>0.044425</td>\n",
       "      <td>8.920671</td>\n",
       "      <td>2.797530</td>\n",
       "      <td>0.107241</td>\n",
       "      <td>6.260503</td>\n",
       "    </tr>\n",
       "    <tr>\n",
       "      <td>Highest Risk</td>\n",
       "      <td>1.587039</td>\n",
       "      <td>1.026375</td>\n",
       "      <td>0.375458</td>\n",
       "      <td>40.173557</td>\n",
       "      <td>-0.043047</td>\n",
       "      <td>-0.047269</td>\n",
       "      <td>0.827221</td>\n",
       "      <td>0.012483</td>\n",
       "      <td>-0.019987</td>\n",
       "      <td>-0.016542</td>\n",
       "      <td>...</td>\n",
       "      <td>0.168791</td>\n",
       "      <td>0.771947</td>\n",
       "      <td>0.007281</td>\n",
       "      <td>3.849680</td>\n",
       "      <td>3.354741</td>\n",
       "      <td>-0.040075</td>\n",
       "      <td>8.739748</td>\n",
       "      <td>1.315617</td>\n",
       "      <td>0.048700</td>\n",
       "      <td>1.865682</td>\n",
       "    </tr>\n",
       "    <tr>\n",
       "      <td>Low Risk</td>\n",
       "      <td>1.354468</td>\n",
       "      <td>0.872729</td>\n",
       "      <td>0.265012</td>\n",
       "      <td>39.902746</td>\n",
       "      <td>0.094578</td>\n",
       "      <td>0.127175</td>\n",
       "      <td>0.502950</td>\n",
       "      <td>0.142032</td>\n",
       "      <td>0.071791</td>\n",
       "      <td>0.135035</td>\n",
       "      <td>...</td>\n",
       "      <td>0.303178</td>\n",
       "      <td>0.692668</td>\n",
       "      <td>3.263620</td>\n",
       "      <td>4.311189</td>\n",
       "      <td>2.500230</td>\n",
       "      <td>0.130094</td>\n",
       "      <td>9.816527</td>\n",
       "      <td>5.930780</td>\n",
       "      <td>0.152270</td>\n",
       "      <td>5.205684</td>\n",
       "    </tr>\n",
       "    <tr>\n",
       "      <td>Medium Risk</td>\n",
       "      <td>1.433680</td>\n",
       "      <td>0.929725</td>\n",
       "      <td>0.277880</td>\n",
       "      <td>42.373491</td>\n",
       "      <td>0.073023</td>\n",
       "      <td>0.092640</td>\n",
       "      <td>0.384978</td>\n",
       "      <td>0.119031</td>\n",
       "      <td>0.048949</td>\n",
       "      <td>0.081951</td>\n",
       "      <td>...</td>\n",
       "      <td>0.308170</td>\n",
       "      <td>0.604912</td>\n",
       "      <td>2.417054</td>\n",
       "      <td>3.654395</td>\n",
       "      <td>2.675544</td>\n",
       "      <td>0.095435</td>\n",
       "      <td>9.202408</td>\n",
       "      <td>5.072782</td>\n",
       "      <td>0.145493</td>\n",
       "      <td>5.762747</td>\n",
       "    </tr>\n",
       "  </tbody>\n",
       "</table>\n",
       "<p>4 rows × 25 columns</p>\n",
       "</div>"
      ],
      "text/plain": [
       "              currentRatio  quickRatio  cashRatio  daysOfSalesOutstanding  \\\n",
       "Rating                                                                      \n",
       "High Risk         1.658488    1.105294   0.336215               43.894020   \n",
       "Highest Risk      1.587039    1.026375   0.375458               40.173557   \n",
       "Low Risk          1.354468    0.872729   0.265012               39.902746   \n",
       "Medium Risk       1.433680    0.929725   0.277880               42.373491   \n",
       "\n",
       "              netProfitMargin  pretaxProfitMargin  grossProfitMargin  \\\n",
       "Rating                                                                 \n",
       "High Risk            0.035028            0.043417           0.374811   \n",
       "Highest Risk        -0.043047           -0.047269           0.827221   \n",
       "Low Risk             0.094578            0.127175           0.502950   \n",
       "Medium Risk          0.073023            0.092640           0.384978   \n",
       "\n",
       "              operatingProfitMargin  returnOnAssets  returnOnCapitalEmployed  \\\n",
       "Rating                                                                         \n",
       "High Risk                  0.073341        0.027916                 0.043071   \n",
       "Highest Risk               0.012483       -0.019987                -0.016542   \n",
       "Low Risk                   0.142032        0.071791                 0.135035   \n",
       "Medium Risk                0.119031        0.048949                 0.081951   \n",
       "\n",
       "              ...  effectiveTaxRate  freeCashFlowOperatingCashFlowRatio  \\\n",
       "Rating        ...                                                         \n",
       "High Risk     ...          0.282804                            0.636441   \n",
       "Highest Risk  ...          0.168791                            0.771947   \n",
       "Low Risk      ...          0.303178                            0.692668   \n",
       "Medium Risk   ...          0.308170                            0.604912   \n",
       "\n",
       "              freeCashFlowPerShare  cashPerShare  companyEquityMultiplier  \\\n",
       "Rating                                                                      \n",
       "High Risk                 1.333805      3.293783                 2.758037   \n",
       "Highest Risk              0.007281      3.849680                 3.354741   \n",
       "Low Risk                  3.263620      4.311189                 2.500230   \n",
       "Medium Risk               2.417054      3.654395                 2.675544   \n",
       "\n",
       "              ebitPerRevenue  enterpriseValueMultiple  \\\n",
       "Rating                                                  \n",
       "High Risk           0.044425                 8.920671   \n",
       "Highest Risk       -0.040075                 8.739748   \n",
       "Low Risk            0.130094                 9.816527   \n",
       "Medium Risk         0.095435                 9.202408   \n",
       "\n",
       "              operatingCashFlowPerShare  operatingCashFlowSalesRatio  \\\n",
       "Rating                                                                 \n",
       "High Risk                      2.797530                     0.107241   \n",
       "Highest Risk                   1.315617                     0.048700   \n",
       "Low Risk                       5.930780                     0.152270   \n",
       "Medium Risk                    5.072782                     0.145493   \n",
       "\n",
       "              payablesTurnover  \n",
       "Rating                          \n",
       "High Risk             6.260503  \n",
       "Highest Risk          1.865682  \n",
       "Low Risk              5.205684  \n",
       "Medium Risk           5.762747  \n",
       "\n",
       "[4 rows x 25 columns]"
      ]
     },
     "execution_count": 1243,
     "metadata": {},
     "output_type": "execute_result"
    }
   ],
   "source": [
    "df_rating.groupby('Rating').median()"
   ]
  },
  {
   "cell_type": "markdown",
   "metadata": {},
   "source": [
    "From the table we can see there is a difference in the means of each of the financial indicators with respect to the classes. Therefore, it might be worth to consider the distribution of each indicator whithin each class separetedly.\n",
    "\n",
    "### Outlier Exploration\n",
    "\n",
    "We will do the following approach:\n",
    "\n",
    "1. Analyse each of the variables according to each class.\n",
    "2. Detect outliers.\n",
    "3. Replace the outliers a random variable from the same class from the same variable."
   ]
  },
  {
   "cell_type": "code",
   "execution_count": 1244,
   "metadata": {
    "scrolled": true
   },
   "outputs": [
    {
     "name": "stdout",
     "output_type": "stream",
     "text": [
      "currentRatio : 18.01%\n",
      "quickRatio : 19.05%\n",
      "cashRatio : 14.84%\n",
      "daysOfSalesOutstanding : 23.55%\n",
      "netProfitMargin : 25.09%\n",
      "pretaxProfitMargin : 24.49%\n",
      "grossProfitMargin : 0.99%\n",
      "operatingProfitMargin : 22.12%\n",
      "returnOnAssets : 24.25%\n",
      "returnOnCapitalEmployed : 22.07%\n",
      "returnOnEquity : 28.70%\n",
      "assetTurnover : 15.83%\n",
      "fixedAssetTurnover : 13.46%\n",
      "debtEquityRatio : 22.07%\n",
      "debtRatio : 21.33%\n",
      "effectiveTaxRate : 28.06%\n",
      "freeCashFlowOperatingCashFlowRatio : 16.92%\n",
      "freeCashFlowPerShare : 23.55%\n",
      "cashPerShare : 17.12%\n",
      "companyEquityMultiplier : 22.02%\n",
      "ebitPerRevenue : 24.34%\n",
      "enterpriseValueMultiple : 23.70%\n",
      "operatingCashFlowPerShare : 17.66%\n",
      "operatingCashFlowSalesRatio : 16.87%\n",
      "payablesTurnover : 14.45%\n"
     ]
    }
   ],
   "source": [
    "Rating_set = set(df_rating.Rating)\n",
    "\n",
    "for c in df_rating.columns[6:31]:\n",
    "\n",
    "    q1 = df_rating[c].quantile(0.25)\n",
    "    q3 = df_rating[c].quantile(0.75)\n",
    "    iqr = q3 - q1 #Interquartile range\n",
    "    fence_low  = q3-1.5*iqr\n",
    "    fence_high = q1+1.5*iqr\n",
    "    lower_out = len(df_rating.loc[(df_rating[c] < fence_low)  ,c])\n",
    "    upper_out = len(df_rating.loc[(df_rating[c] > fence_high)  ,c])\n",
    "    outlier_count = upper_out+lower_out\n",
    "    prop_out = outlier_count/len(df_rating)\n",
    "    print(c, \": \"+\"{:.2%}\".format(prop_out))\n"
   ]
  },
  {
   "cell_type": "code",
   "execution_count": 1245,
   "metadata": {},
   "outputs": [],
   "source": [
    "df_rating_outlier = df_rating.copy()\n",
    "\n",
    "for c in df_rating_outlier.columns[6:31]:\n",
    "    \n",
    "    q1 = df_rating_outlier[c].quantile(0.25)\n",
    "    q3 = df_rating_outlier[c].quantile(0.75)\n",
    "    iqr = q3 - q1 #Interquartile range\n",
    "    fence_low  = q3-1.5*iqr\n",
    "    fence_high = q1+1.5*iqr\n",
    "    \n",
    "    for i in range(len(df_rating_outlier)):\n",
    "        \n",
    "        if df_rating.loc[i,c] < fence_low or df_rating.loc[i,c] > fence_high:\n",
    "            \n",
    "            df_rating_outlier.loc[i,c] = 1\n",
    "        \n",
    "        else:\n",
    "            df_rating_outlier.loc[i,c] = 0"
   ]
  },
  {
   "cell_type": "code",
   "execution_count": 1246,
   "metadata": {},
   "outputs": [],
   "source": [
    "df_rating_outlier[\"total\"] = df_rating_outlier.sum(axis=1)\n"
   ]
  },
  {
   "cell_type": "code",
   "execution_count": 1247,
   "metadata": {},
   "outputs": [
    {
     "data": {
      "text/plain": [
       "<matplotlib.axes._subplots.AxesSubplot at 0x202dcc18388>"
      ]
     },
     "execution_count": 1247,
     "metadata": {},
     "output_type": "execute_result"
    },
    {
     "data": {
      "image/png": "[encoded data removed]",
      "text/plain": [
       "<Figure size 864x288 with 1 Axes>"
      ]
     },
     "metadata": {
      "needs_background": "light"
     },
     "output_type": "display_data"
    }
   ],
   "source": [
    "df_rating_outlier.total.hist(bins = 20)"
   ]
  },
  {
   "cell_type": "code",
   "execution_count": null,
   "metadata": {},
   "outputs": [],
   "source": []
  },
  {
   "cell_type": "code",
   "execution_count": 1248,
   "metadata": {
    "scrolled": false
   },
   "outputs": [
    {
     "data": {
      "text/plain": [
       "Index(['currentRatio', 'quickRatio', 'cashRatio', 'daysOfSalesOutstanding',\n",
       "       'netProfitMargin', 'pretaxProfitMargin', 'grossProfitMargin',\n",
       "       'operatingProfitMargin', 'returnOnAssets', 'returnOnCapitalEmployed',\n",
       "       'returnOnEquity', 'assetTurnover', 'fixedAssetTurnover',\n",
       "       'debtEquityRatio', 'debtRatio', 'effectiveTaxRate',\n",
       "       'freeCashFlowOperatingCashFlowRatio', 'freeCashFlowPerShare',\n",
       "       'cashPerShare', 'companyEquityMultiplier', 'ebitPerRevenue',\n",
       "       'enterpriseValueMultiple', 'operatingCashFlowPerShare',\n",
       "       'operatingCashFlowSalesRatio', 'payablesTurnover'],\n",
       "      dtype='object')"
      ]
     },
     "execution_count": 1248,
     "metadata": {},
     "output_type": "execute_result"
    }
   ],
   "source": [
    "df_rating.columns[6:31]"
   ]
  },
  {
   "cell_type": "code",
   "execution_count": 1249,
   "metadata": {},
   "outputs": [],
   "source": [
    "from sklearn import preprocessing\n",
    "min_max_scaler = preprocessing.MinMaxScaler()\n",
    "\n",
    "for c in df_rating.columns[6:31]:\n",
    "\n",
    "    df_rating[[c]] = min_max_scaler.fit_transform(df_rating[[c]].to_numpy())\n",
    "    df_rating[[c]] = df_rating[c].apply(lambda x: np.log(x+0.01))\n",
    "\n",
    "\n",
    "# df_rating , df_test = train_test_split(df_rating, test_size=0.2, random_state = 1234)"
   ]
  },
  {
   "cell_type": "code",
   "execution_count": 1250,
   "metadata": {},
   "outputs": [
    {
     "name": "stdout",
     "output_type": "stream",
     "text": [
      "currentRatio  :  42\n",
      "quickRatio  :  52\n",
      "cashRatio  :  30\n",
      "daysOfSalesOutstanding  :  57\n",
      "netProfitMargin  :  99\n",
      "pretaxProfitMargin  :  85\n",
      "grossProfitMargin  :  14\n",
      "operatingProfitMargin  :  87\n",
      "returnOnAssets  :  50\n",
      "returnOnCapitalEmployed  :  55\n",
      "returnOnEquity  :  115\n",
      "assetTurnover  :  38\n",
      "fixedAssetTurnover  :  68\n",
      "debtEquityRatio  :  125\n",
      "debtRatio  :  30\n",
      "effectiveTaxRate  :  99\n",
      "freeCashFlowOperatingCashFlowRatio  :  76\n",
      "freeCashFlowPerShare  :  97\n",
      "cashPerShare  :  83\n",
      "companyEquityMultiplier  :  132\n",
      "ebitPerRevenue  :  86\n",
      "enterpriseValueMultiple  :  123\n",
      "operatingCashFlowPerShare  :  85\n",
      "operatingCashFlowSalesRatio  :  51\n",
      "payablesTurnover  :  55\n"
     ]
    }
   ],
   "source": [
    "Rating_set = set(df_rating.Rating)\n",
    "\n",
    "for c in df_rating.columns[6:31]:    \n",
    "\n",
    "        q1 = df_rating[c].quantile(0.05)\n",
    "        q3 = df_rating[c].quantile(0.95)\n",
    "        q5 = df_rating[c].quantile(0.5)\n",
    "        iqr = q3 - q1 #Interquartile range\n",
    "        fence_low  = q3-1.5*iqr\n",
    "        fence_high = q1+1.5*iqr\n",
    "                \n",
    "        a = df_rating.loc[(df_rating[c] < fence_low)  ,c]\n",
    "        b = df_rating.loc[(df_rating[c] > fence_high)  ,c]\n",
    "\n",
    "        df_rating.loc[(df_rating[c] < fence_low)  ,c] = q1\n",
    "        df_rating.loc[(df_rating[c] > fence_high)  ,c] = q3\n",
    "       \n",
    "        print(c , \" : \" , (len(a) + len(b)))\n",
    "\n",
    "        #         df_copy.loc[(df_copy[c] > fence_high),c] = choices(non_outliers_upper_median, k = n_upper)\n",
    "#         df_copy.loc[(df_copy[c] < fence_low),c] = choices(non_outliers_lower_median, k= n_lower)\n",
    "#         df_copy.loc[(df_copy[c] > fence_high),c] = choices(non_outliers_upper_median, k = n_upper)\n",
    "        \n",
    "#         frames = [df_support, df_copy]\n",
    "#         df_support = pd.concat(frames)\n",
    "        \n",
    "#     df_rating = df_support.copy()                        \n"
   ]
  },
  {
   "cell_type": "markdown",
   "metadata": {},
   "source": [
    "### Now we go back to the boxplots"
   ]
  },
  {
   "cell_type": "code",
   "execution_count": 1251,
   "metadata": {},
   "outputs": [
    {
     "data": {
      "image/png": "[encoded data removed]",
      "text/plain": [
       "<Figure size 648x360 with 8 Axes>"
      ]
     },
     "metadata": {
      "needs_background": "light"
     },
     "output_type": "display_data"
    }
   ],
   "source": [
    "figure, axes = plt.subplots(nrows=2, ncols=4, figsize=(9,5))\n",
    "axes[0, 0].hist(df_rating.currentRatio)\n",
    "axes[0, 1].hist(df_rating.returnOnEquity)\n",
    "axes[1, 0].hist(df_rating.freeCashFlowPerShare)\n",
    "axes[1, 1].hist(df_rating.payablesTurnover)\n",
    "\n",
    "axes[0, 2].boxplot(df_rating.currentRatio)\n",
    "axes[1, 2].boxplot(df_rating.returnOnEquity)\n",
    "axes[0, 3].boxplot(df_rating.freeCashFlowPerShare)\n",
    "axes[1, 3].boxplot(df_rating.payablesTurnover)\n",
    "\n",
    "figure.tight_layout()"
   ]
  },
  {
   "cell_type": "markdown",
   "metadata": {},
   "source": [
    "Great!"
   ]
  },
  {
   "cell_type": "markdown",
   "metadata": {},
   "source": [
    "# Analyse Relations"
   ]
  },
  {
   "cell_type": "code",
   "execution_count": 1252,
   "metadata": {},
   "outputs": [],
   "source": [
    "df_rating.colors = 'a'\n",
    "df_rating.loc[df_rating['Rating'] == 'Lowest Risk', 'color'] = 'r'\n",
    "df_rating.loc[df_rating['Rating'] == 'Low Risk', 'color'] = 'g'\n",
    "df_rating.loc[df_rating['Rating'] == 'Medium Risk', 'color'] = 'b'\n",
    "df_rating.loc[df_rating['Rating'] == 'High Risk','color'] = 'y'\n",
    "df_rating.loc[df_rating['Rating'] == 'Highest Risk', 'color'] = 'm'"
   ]
  },
  {
   "cell_type": "code",
   "execution_count": 1253,
   "metadata": {},
   "outputs": [
    {
     "data": {
      "text/plain": [
       "<matplotlib.axes._subplots.AxesSubplot at 0x202ed59ad88>"
      ]
     },
     "execution_count": 1253,
     "metadata": {},
     "output_type": "execute_result"
    },
    {
     "data": {
      "image/png": "[encoded data removed]",
      "text/plain": [
       "<Figure size 1008x576 with 4 Axes>"
      ]
     },
     "metadata": {
      "needs_background": "light"
     },
     "output_type": "display_data"
    }
   ],
   "source": [
    "figure, axes = plt.subplots(nrows=2, ncols=2, figsize=(14,8))\n",
    "\n",
    "sns.boxplot(x=df_rating.Rating, y=df_rating.currentRatio,palette=\"Set3\", ax=axes[0, 0])\n",
    "sns.boxplot(x=df_rating.Rating, y=df_rating.returnOnEquity,palette=\"Set3\", ax=axes[0, 1])\n",
    "sns.boxplot(x=df_rating.Rating, y=df_rating.freeCashFlowPerShare,palette=\"Set3\", ax=axes[1, 0])\n",
    "sns.boxplot(x=df_rating.Rating, y=df_rating.payablesTurnover,palette=\"Set3\", ax=axes[1, 1])\n",
    "\n"
   ]
  },
  {
   "cell_type": "markdown",
   "metadata": {},
   "source": [
    "# Machine Learning \n",
    "### Upsampling"
   ]
  },
  {
   "cell_type": "markdown",
   "metadata": {},
   "source": [
    "## Prepare the Dataset"
   ]
  },
  {
   "cell_type": "code",
   "execution_count": 1288,
   "metadata": {},
   "outputs": [],
   "source": [
    "from sklearn import preprocessing\n",
    "le = preprocessing.LabelEncoder()\n",
    "le.fit(df_rating.Sector)\n",
    "df_rating.Sector = le.transform(df_rating.Sector)\n",
    "le.fit(df_rating.Rating)\n",
    "df_rating.Rating = le.transform(df_rating.Rating)"
   ]
  },
  {
   "cell_type": "code",
   "execution_count": 1289,
   "metadata": {},
   "outputs": [],
   "source": [
    "df_train, df_test = train_test_split(df_rating, test_size=0.1, random_state = 1234)"
   ]
  },
  {
   "cell_type": "code",
   "execution_count": 1290,
   "metadata": {},
   "outputs": [],
   "source": [
    "X_train, y_train = df_train.iloc[:,5:31], df_train.iloc[:,0]\n",
    "X_test, y_test = df_test.iloc[:,5:31], df_test.iloc[:,0]"
   ]
  },
  {
   "cell_type": "markdown",
   "metadata": {},
   "source": [
    "# Fit Models\n",
    "\n",
    "#### XGBOOST\n"
   ]
  },
  {
   "cell_type": "code",
   "execution_count": 1318,
   "metadata": {},
   "outputs": [
    {
     "name": "stdout",
     "output_type": "stream",
     "text": [
      "XGB Accuracy: 0.6157635467980296\n"
     ]
    }
   ],
   "source": [
    "xg_reg = xgb.XGBRegressor(objective ='multi:softmax', num_class =4)\n",
    "xg_reg.fit(X_train, y_train)\n",
    "y_pred_XGB = xg_reg.predict(X_test)\n",
    "Accuracy_XGB = metrics.accuracy_score(y_test, y_pred_XGB)\n",
    "print(\"XGB Accuracy:\",Accuracy_XGB)"
   ]
  },
  {
   "cell_type": "markdown",
   "metadata": {},
   "source": [
    "#### Gradient Boosting Classifier"
   ]
  },
  {
   "cell_type": "code",
   "execution_count": 1319,
   "metadata": {},
   "outputs": [
    {
     "name": "stdout",
     "output_type": "stream",
     "text": [
      "GBT Accuracy: 0.5862068965517241\n"
     ]
    }
   ],
   "source": [
    "GBT_model = GradientBoostingClassifier(random_state=1234)\n",
    "GBT_model.fit(X_train, y_train)\n",
    "y_pred_GBT = GBT_model.predict(X_test)\n",
    "Accuracy_GBT = metrics.accuracy_score(y_test, y_pred_GBT)\n",
    "print(\"GBT Accuracy:\",Accuracy_GBT)"
   ]
  },
  {
   "cell_type": "markdown",
   "metadata": {},
   "source": [
    "#### Random Forest\n"
   ]
  },
  {
   "cell_type": "code",
   "execution_count": 1320,
   "metadata": {},
   "outputs": [
    {
     "name": "stdout",
     "output_type": "stream",
     "text": [
      "RF Accuracy: 0.645320197044335\n"
     ]
    }
   ],
   "source": [
    "RF_model = RandomForestClassifier(random_state=1234)\n",
    "RF_model.fit(X_train,y_train)\n",
    "y_pred_RF = RF_model.predict(X_test)\n",
    "Accuracy_RF = metrics.accuracy_score(y_test, y_pred_RF)\n",
    "print(\"RF Accuracy:\",Accuracy_RF)"
   ]
  },
  {
   "cell_type": "markdown",
   "metadata": {},
   "source": [
    "#### Support Vector Machine\n"
   ]
  },
  {
   "cell_type": "code",
   "execution_count": 1321,
   "metadata": {},
   "outputs": [
    {
     "name": "stdout",
     "output_type": "stream",
     "text": [
      "SVM Accuracy: 0.3645320197044335\n"
     ]
    }
   ],
   "source": [
    "SVC_model = svm.SVC(kernel='rbf', gamma= 2, C = 5, random_state=1234)\n",
    "SVC_model.fit(X_train, y_train)\n",
    "y_pred_SVM = SVC_model.predict(X_test)\n",
    "Accuracy_SVM = metrics.accuracy_score(y_test, y_pred_SVM)\n",
    "print(\"SVM Accuracy:\",Accuracy_SVM)"
   ]
  },
  {
   "cell_type": "markdown",
   "metadata": {},
   "source": [
    "#### Neural Network"
   ]
  },
  {
   "cell_type": "code",
   "execution_count": 1322,
   "metadata": {},
   "outputs": [
    {
     "name": "stdout",
     "output_type": "stream",
     "text": [
      "MLP Accuracy: 0.5714285714285714\n"
     ]
    }
   ],
   "source": [
    "MLP_model = MLPClassifier(hidden_layer_sizes=(5,5,5), activation='logistic', solver='adam', max_iter=1500)\n",
    "MLP_model.fit(X_train, y_train)\n",
    "y_pred_MLP = MLP_model.predict(X_test)\n",
    "Accuracy_MLP = metrics.accuracy_score(y_test, y_pred_MLP)\n",
    "print(\"MLP Accuracy:\",Accuracy_MLP)"
   ]
  },
  {
   "cell_type": "markdown",
   "metadata": {},
   "source": [
    "#### Naive Bayes"
   ]
  },
  {
   "cell_type": "code",
   "execution_count": 1323,
   "metadata": {},
   "outputs": [
    {
     "name": "stdout",
     "output_type": "stream",
     "text": [
      "GNB Accuracy: 0.2857142857142857\n"
     ]
    }
   ],
   "source": [
    "GNB_model = GaussianNB()\n",
    "GNB_model.fit(X_train, y_train)\n",
    "y_pred_GNB = GNB_model.predict(X_test)\n",
    "Accuracy_GNB = metrics.accuracy_score(y_test, y_pred_GNB)\n",
    "print(\"GNB Accuracy:\",Accuracy_GNB)"
   ]
  },
  {
   "cell_type": "markdown",
   "metadata": {},
   "source": [
    "#### Linear Discriminant Analysis"
   ]
  },
  {
   "cell_type": "code",
   "execution_count": 1324,
   "metadata": {},
   "outputs": [
    {
     "name": "stdout",
     "output_type": "stream",
     "text": [
      "LDA Accuracy: 0.4236453201970443\n"
     ]
    }
   ],
   "source": [
    "LDA_model = LinearDiscriminantAnalysis()\n",
    "LDA_model.fit(X_train,y_train)\n",
    "y_pred_LDA = LDA_model.predict(X_test)\n",
    "Accuracy_LDA = metrics.accuracy_score(y_test, y_pred_LDA)\n",
    "print(\"LDA Accuracy:\",Accuracy_LDA)"
   ]
  },
  {
   "cell_type": "markdown",
   "metadata": {},
   "source": [
    "#### Quadratic Discriminant Analysis"
   ]
  },
  {
   "cell_type": "code",
   "execution_count": 1325,
   "metadata": {},
   "outputs": [
    {
     "name": "stdout",
     "output_type": "stream",
     "text": [
      "QDA Accuracy: 0.2955665024630542\n"
     ]
    }
   ],
   "source": [
    "QDA_model = QuadraticDiscriminantAnalysis()\n",
    "QDA_model.fit(X_train,y_train)\n",
    "y_pred_QDA = QDA_model.predict(X_test)\n",
    "Accuracy_QDA = metrics.accuracy_score(y_test, y_pred_QDA)\n",
    "print(\"QDA Accuracy:\",Accuracy_QDA)"
   ]
  },
  {
   "cell_type": "markdown",
   "metadata": {},
   "source": [
    "#### K Nearest Neighbours\n"
   ]
  },
  {
   "cell_type": "code",
   "execution_count": 1326,
   "metadata": {},
   "outputs": [
    {
     "name": "stdout",
     "output_type": "stream",
     "text": [
      "KNN Accuracy: 0.5812807881773399\n"
     ]
    }
   ],
   "source": [
    "KNN_model = KNeighborsClassifier(n_neighbors = 3)\n",
    "KNN_model.fit(X_train,y_train)\n",
    "y_pred_KNN = KNN_model.predict(X_test)\n",
    "Accuracy_KNN = metrics.accuracy_score(y_test, y_pred_KNN)\n",
    "print(\"KNN Accuracy:\",Accuracy_KNN)"
   ]
  },
  {
   "cell_type": "markdown",
   "metadata": {},
   "source": [
    "#### Logistic Regression\n"
   ]
  },
  {
   "cell_type": "code",
   "execution_count": 1327,
   "metadata": {},
   "outputs": [
    {
     "name": "stdout",
     "output_type": "stream",
     "text": [
      "LR Accuracy: 0.46798029556650245\n"
     ]
    },
    {
     "name": "stderr",
     "output_type": "stream",
     "text": [
      "C:\\Users\\hp\\Anaconda3\\lib\\site-packages\\sklearn\\utils\\optimize.py:203: ConvergenceWarning: newton-cg failed to converge. Increase the number of iterations.\n",
      "  \"number of iterations.\", ConvergenceWarning)\n"
     ]
    }
   ],
   "source": [
    "LR_model = LogisticRegression(random_state=1234 , multi_class='multinomial', solver='newton-cg')\n",
    "LR_model = LR_model.fit(X_train, y_train)\n",
    "y_pred_LR = LR_model.predict(X_test)\n",
    "Accuracy_LR = metrics.accuracy_score(y_test, y_pred_LR)\n",
    "print(\"LR Accuracy:\",Accuracy_LR)"
   ]
  },
  {
   "cell_type": "markdown",
   "metadata": {},
   "source": [
    "### Analyse Results"
   ]
  },
  {
   "cell_type": "code",
   "execution_count": 1328,
   "metadata": {},
   "outputs": [],
   "source": [
    "accuracy_list = [Accuracy_XGB, Accuracy_GBT, Accuracy_RF, Accuracy_SVM, Accuracy_MLP, Accuracy_GNB, \n",
    "                 Accuracy_LDA, Accuracy_QDA, Accuracy_KNN, Accuracy_LR]\n",
    "\n",
    "model_list = ['XGBOOST', 'Gradient Boosting', 'Random Forest', 'Support Vector Machine', \n",
    "              \"Neural Network\", 'Naive Bayes', 'Linear Discriminat', 'Quadratic Discriminat', \n",
    "              'KNN', 'Logistic Regression']\n",
    "\n",
    "df_accuracy = pd.DataFrame({'Model': model_list, 'Accuracy': accuracy_list})"
   ]
  },
  {
   "cell_type": "code",
   "execution_count": 1329,
   "metadata": {},
   "outputs": [],
   "source": [
    "order = list(df_accuracy.sort_values('Accuracy', ascending=False).Model)\n",
    "df_accuracy = df_accuracy.sort_values('Accuracy', ascending=False).reset_index().drop(['index'], axis=1)"
   ]
  },
  {
   "cell_type": "code",
   "execution_count": 1330,
   "metadata": {},
   "outputs": [
    {
     "data": {
      "image/png": "[encoded data removed]",
      "text/plain": [
       "<Figure size 864x576 with 1 Axes>"
      ]
     },
     "metadata": {
      "needs_background": "light"
     },
     "output_type": "display_data"
    }
   ],
   "source": [
    "from matplotlib.ticker import PercentFormatter\n",
    "import matplotlib.ticker as mtick\n",
    "\n",
    "\n",
    "plt.figure(figsize=(12,8))\n",
    "# make barplot and sort bars\n",
    "x = sns.barplot(x='Model', y=\"Accuracy\", data=df_accuracy, order = order, palette=\"rocket\")\n",
    "plt.xlabel(\"Model\", fontsize=20)\n",
    "plt.ylabel(\"Accuracy\", fontsize=20)\n",
    "plt.title(\"Accuracy by Model\", fontsize=20)\n",
    "plt.grid(linestyle='-', linewidth='0.5', color='grey')\n",
    "plt.xticks(rotation=70, fontsize=12)\n",
    "plt.ylim(0,1)\n",
    "plt.gca().yaxis.set_major_formatter(mtick.PercentFormatter(1))\n",
    "\n",
    "for i in range(len(model_list)):\n",
    "    plt.text(x = i, y = df_accuracy.loc[i, 'Accuracy'] + 0.05, s = str(round((df_accuracy.loc[i, 'Accuracy'])*100, 2))+'%', \n",
    "             fontsize = 14, color='black',horizontalalignment='center')\n",
    "\n",
    "y_value=['{:,.2f}'.format(x) + '%' for x in ax.get_yticks()]\n",
    "ax.set_yticklabels(y_value)\n",
    "\n",
    "plt.tight_layout()\n"
   ]
  },
  {
   "cell_type": "code",
   "execution_count": 1331,
   "metadata": {},
   "outputs": [],
   "source": [
    "cm = confusion_matrix(y_test, y_pred_XGB)"
   ]
  },
  {
   "cell_type": "code",
   "execution_count": 1332,
   "metadata": {
    "scrolled": false
   },
   "outputs": [
    {
     "data": {
      "image/png": "[encoded data removed]",
      "text/plain": [
       "<Figure size 576x432 with 2 Axes>"
      ]
     },
     "metadata": {
      "needs_background": "light"
     },
     "output_type": "display_data"
    }
   ],
   "source": [
    "fig_dims = (8,6)\n",
    "fig, ax = plt.subplots(figsize=fig_dims)\n",
    "sns.heatmap(cm, annot=True, ax = ax, vmin=0, vmax=150, fmt=\"d\", linewidths=.5, linecolor = 'white', cmap=\"Reds\"); # annot=True to annotate cells\n",
    "# labels, title and ticks\n",
    "ax.set_xlabel('Predicted labels');ax.set_ylabel('True labels'); \n",
    "ax.set_title('Confusion Matrix'); \n",
    "ax.xaxis.set_ticklabels(['Low Risk', 'Medium Risk', 'High Risk', 'Highest Risk']); ax.yaxis.set_ticklabels(['Low Risk', 'Medium Risk', 'High Risk', 'Highest Risk']);\n",
    "b, t = plt.ylim() # discover the values for bottom and top\n",
    "b += 0.5 # Add 0.5 to the bottom\n",
    "t -= 0.5 # Subtract 0.5 from the top\n",
    "plt.ylim(b, t) # update the ylim(bottom, top) values\n",
    "plt.show() # ta-da!"
   ]
  },
  {
   "cell_type": "markdown",
   "metadata": {},
   "source": [
    "## XGBOOST Hyperparameter Tunning"
   ]
  },
  {
   "cell_type": "code",
   "execution_count": 1343,
   "metadata": {},
   "outputs": [],
   "source": [
    "dtrain = xgb.DMatrix(X_train, label=y_train)\n",
    "dtest = xgb.DMatrix(X_test, label=y_test)"
   ]
  },
  {
   "cell_type": "code",
   "execution_count": 1344,
   "metadata": {},
   "outputs": [],
   "source": [
    "params = {\n",
    "    # Parameters that we are going to tune.\n",
    "    'max_depth':6,\n",
    "    'min_child_weight': 1,\n",
    "    'eta':.3,\n",
    "    'num_class':4,\n",
    "    'subsample': 1,\n",
    "    'colsample_bytree': 1,\n",
    "    # Other parameters\n",
    "    'objective':'multi:softmax',\n",
    "}"
   ]
  },
  {
   "cell_type": "code",
   "execution_count": 1345,
   "metadata": {},
   "outputs": [],
   "source": [
    "params['eval_metric'] = \"merror\""
   ]
  },
  {
   "cell_type": "code",
   "execution_count": 1346,
   "metadata": {},
   "outputs": [],
   "source": [
    "num_boost_round = 999"
   ]
  },
  {
   "cell_type": "code",
   "execution_count": 1347,
   "metadata": {},
   "outputs": [
    {
     "name": "stdout",
     "output_type": "stream",
     "text": [
      "[0]\tTest-merror:0.46798\n",
      "Will train until Test-merror hasn't improved in 10 rounds.\n",
      "[1]\tTest-merror:0.45813\n",
      "[2]\tTest-merror:0.42857\n",
      "[3]\tTest-merror:0.42364\n",
      "[4]\tTest-merror:0.38916\n",
      "[5]\tTest-merror:0.42364\n",
      "[6]\tTest-merror:0.40887\n",
      "[7]\tTest-merror:0.41872\n",
      "[8]\tTest-merror:0.40887\n",
      "[9]\tTest-merror:0.38916\n",
      "[10]\tTest-merror:0.37931\n",
      "[11]\tTest-merror:0.37931\n",
      "[12]\tTest-merror:0.36946\n",
      "[13]\tTest-merror:0.39409\n",
      "[14]\tTest-merror:0.37438\n",
      "[15]\tTest-merror:0.38916\n",
      "[16]\tTest-merror:0.38424\n",
      "[17]\tTest-merror:0.38916\n",
      "[18]\tTest-merror:0.35961\n",
      "[19]\tTest-merror:0.36946\n",
      "[20]\tTest-merror:0.34975\n",
      "[21]\tTest-merror:0.36453\n",
      "[22]\tTest-merror:0.36453\n",
      "[23]\tTest-merror:0.37438\n",
      "[24]\tTest-merror:0.36453\n",
      "[25]\tTest-merror:0.37438\n",
      "[26]\tTest-merror:0.36453\n",
      "[27]\tTest-merror:0.37438\n",
      "[28]\tTest-merror:0.36946\n",
      "[29]\tTest-merror:0.36453\n",
      "[30]\tTest-merror:0.36453\n",
      "Stopping. Best iteration:\n",
      "[20]\tTest-merror:0.34975\n",
      "\n",
      "Best MAE: 0.35 with 21 rounds\n"
     ]
    }
   ],
   "source": [
    "model = xgb.train(\n",
    "    params,\n",
    "    dtrain,\n",
    "    num_boost_round=num_boost_round,\n",
    "    evals=[(dtest, \"Test\")],\n",
    "    early_stopping_rounds=10)\n",
    "\n",
    "print(\"Best MAE: {:.2f} with {} rounds\".format(model.best_score, model.best_iteration+1))"
   ]
  },
  {
   "cell_type": "code",
   "execution_count": 1348,
   "metadata": {},
   "outputs": [
    {
     "data": {
      "text/html": [
       "<div>\n",
       "<style scoped>\n",
       "    .dataframe tbody tr th:only-of-type {\n",
       "        vertical-align: middle;\n",
       "    }\n",
       "\n",
       "    .dataframe tbody tr th {\n",
       "        vertical-align: top;\n",
       "    }\n",
       "\n",
       "    .dataframe thead th {\n",
       "        text-align: right;\n",
       "    }\n",
       "</style>\n",
       "<table border=\"1\" class=\"dataframe\">\n",
       "  <thead>\n",
       "    <tr style=\"text-align: right;\">\n",
       "      <th></th>\n",
       "      <th>train-merror-mean</th>\n",
       "      <th>train-merror-std</th>\n",
       "      <th>test-merror-mean</th>\n",
       "      <th>test-merror-std</th>\n",
       "    </tr>\n",
       "  </thead>\n",
       "  <tbody>\n",
       "    <tr>\n",
       "      <td>0</td>\n",
       "      <td>0.231983</td>\n",
       "      <td>0.009850</td>\n",
       "      <td>0.443889</td>\n",
       "      <td>0.024647</td>\n",
       "    </tr>\n",
       "    <tr>\n",
       "      <td>1</td>\n",
       "      <td>0.191282</td>\n",
       "      <td>0.003437</td>\n",
       "      <td>0.425749</td>\n",
       "      <td>0.030985</td>\n",
       "    </tr>\n",
       "    <tr>\n",
       "      <td>2</td>\n",
       "      <td>0.162403</td>\n",
       "      <td>0.013180</td>\n",
       "      <td>0.414735</td>\n",
       "      <td>0.022363</td>\n",
       "    </tr>\n",
       "    <tr>\n",
       "      <td>3</td>\n",
       "      <td>0.133112</td>\n",
       "      <td>0.008136</td>\n",
       "      <td>0.402640</td>\n",
       "      <td>0.024723</td>\n",
       "    </tr>\n",
       "    <tr>\n",
       "      <td>4</td>\n",
       "      <td>0.116336</td>\n",
       "      <td>0.013455</td>\n",
       "      <td>0.391091</td>\n",
       "      <td>0.031551</td>\n",
       "    </tr>\n",
       "    <tr>\n",
       "      <td>5</td>\n",
       "      <td>0.097085</td>\n",
       "      <td>0.011091</td>\n",
       "      <td>0.389984</td>\n",
       "      <td>0.029908</td>\n",
       "    </tr>\n",
       "    <tr>\n",
       "      <td>6</td>\n",
       "      <td>0.083884</td>\n",
       "      <td>0.009095</td>\n",
       "      <td>0.381732</td>\n",
       "      <td>0.029070</td>\n",
       "    </tr>\n",
       "    <tr>\n",
       "      <td>7</td>\n",
       "      <td>0.069032</td>\n",
       "      <td>0.004816</td>\n",
       "      <td>0.374586</td>\n",
       "      <td>0.026809</td>\n",
       "    </tr>\n",
       "    <tr>\n",
       "      <td>8</td>\n",
       "      <td>0.059132</td>\n",
       "      <td>0.006855</td>\n",
       "      <td>0.373496</td>\n",
       "      <td>0.024917</td>\n",
       "    </tr>\n",
       "    <tr>\n",
       "      <td>9</td>\n",
       "      <td>0.048818</td>\n",
       "      <td>0.006353</td>\n",
       "      <td>0.365781</td>\n",
       "      <td>0.027353</td>\n",
       "    </tr>\n",
       "    <tr>\n",
       "      <td>10</td>\n",
       "      <td>0.039605</td>\n",
       "      <td>0.007024</td>\n",
       "      <td>0.365235</td>\n",
       "      <td>0.024827</td>\n",
       "    </tr>\n",
       "    <tr>\n",
       "      <td>11</td>\n",
       "      <td>0.033967</td>\n",
       "      <td>0.005032</td>\n",
       "      <td>0.359739</td>\n",
       "      <td>0.027153</td>\n",
       "    </tr>\n",
       "    <tr>\n",
       "      <td>12</td>\n",
       "      <td>0.029842</td>\n",
       "      <td>0.004840</td>\n",
       "      <td>0.363583</td>\n",
       "      <td>0.026418</td>\n",
       "    </tr>\n",
       "    <tr>\n",
       "      <td>13</td>\n",
       "      <td>0.024341</td>\n",
       "      <td>0.004759</td>\n",
       "      <td>0.364137</td>\n",
       "      <td>0.027334</td>\n",
       "    </tr>\n",
       "    <tr>\n",
       "      <td>14</td>\n",
       "      <td>0.021866</td>\n",
       "      <td>0.003976</td>\n",
       "      <td>0.366343</td>\n",
       "      <td>0.025899</td>\n",
       "    </tr>\n",
       "    <tr>\n",
       "      <td>15</td>\n",
       "      <td>0.017190</td>\n",
       "      <td>0.002221</td>\n",
       "      <td>0.364139</td>\n",
       "      <td>0.025564</td>\n",
       "    </tr>\n",
       "    <tr>\n",
       "      <td>16</td>\n",
       "      <td>0.013477</td>\n",
       "      <td>0.002445</td>\n",
       "      <td>0.360838</td>\n",
       "      <td>0.025358</td>\n",
       "    </tr>\n",
       "    <tr>\n",
       "      <td>17</td>\n",
       "      <td>0.011552</td>\n",
       "      <td>0.002014</td>\n",
       "      <td>0.361944</td>\n",
       "      <td>0.023806</td>\n",
       "    </tr>\n",
       "    <tr>\n",
       "      <td>18</td>\n",
       "      <td>0.008939</td>\n",
       "      <td>0.002303</td>\n",
       "      <td>0.358640</td>\n",
       "      <td>0.022359</td>\n",
       "    </tr>\n",
       "    <tr>\n",
       "      <td>19</td>\n",
       "      <td>0.007427</td>\n",
       "      <td>0.003180</td>\n",
       "      <td>0.359191</td>\n",
       "      <td>0.023179</td>\n",
       "    </tr>\n",
       "    <tr>\n",
       "      <td>20</td>\n",
       "      <td>0.006464</td>\n",
       "      <td>0.002773</td>\n",
       "      <td>0.359742</td>\n",
       "      <td>0.018126</td>\n",
       "    </tr>\n",
       "    <tr>\n",
       "      <td>21</td>\n",
       "      <td>0.003988</td>\n",
       "      <td>0.002013</td>\n",
       "      <td>0.362491</td>\n",
       "      <td>0.023228</td>\n",
       "    </tr>\n",
       "    <tr>\n",
       "      <td>22</td>\n",
       "      <td>0.003988</td>\n",
       "      <td>0.001592</td>\n",
       "      <td>0.359739</td>\n",
       "      <td>0.022674</td>\n",
       "    </tr>\n",
       "    <tr>\n",
       "      <td>23</td>\n",
       "      <td>0.002338</td>\n",
       "      <td>0.001348</td>\n",
       "      <td>0.355885</td>\n",
       "      <td>0.021817</td>\n",
       "    </tr>\n",
       "    <tr>\n",
       "      <td>24</td>\n",
       "      <td>0.001513</td>\n",
       "      <td>0.001183</td>\n",
       "      <td>0.353689</td>\n",
       "      <td>0.019308</td>\n",
       "    </tr>\n",
       "    <tr>\n",
       "      <td>25</td>\n",
       "      <td>0.001375</td>\n",
       "      <td>0.000973</td>\n",
       "      <td>0.350389</td>\n",
       "      <td>0.021605</td>\n",
       "    </tr>\n",
       "    <tr>\n",
       "      <td>26</td>\n",
       "      <td>0.000963</td>\n",
       "      <td>0.000701</td>\n",
       "      <td>0.350387</td>\n",
       "      <td>0.019833</td>\n",
       "    </tr>\n",
       "    <tr>\n",
       "      <td>27</td>\n",
       "      <td>0.000688</td>\n",
       "      <td>0.000753</td>\n",
       "      <td>0.351486</td>\n",
       "      <td>0.017002</td>\n",
       "    </tr>\n",
       "    <tr>\n",
       "      <td>28</td>\n",
       "      <td>0.000413</td>\n",
       "      <td>0.000550</td>\n",
       "      <td>0.354794</td>\n",
       "      <td>0.022454</td>\n",
       "    </tr>\n",
       "    <tr>\n",
       "      <td>29</td>\n",
       "      <td>0.000413</td>\n",
       "      <td>0.000550</td>\n",
       "      <td>0.356990</td>\n",
       "      <td>0.017760</td>\n",
       "    </tr>\n",
       "    <tr>\n",
       "      <td>30</td>\n",
       "      <td>0.000275</td>\n",
       "      <td>0.000337</td>\n",
       "      <td>0.357540</td>\n",
       "      <td>0.017725</td>\n",
       "    </tr>\n",
       "    <tr>\n",
       "      <td>31</td>\n",
       "      <td>0.000000</td>\n",
       "      <td>0.000000</td>\n",
       "      <td>0.357539</td>\n",
       "      <td>0.017804</td>\n",
       "    </tr>\n",
       "    <tr>\n",
       "      <td>32</td>\n",
       "      <td>0.000000</td>\n",
       "      <td>0.000000</td>\n",
       "      <td>0.355336</td>\n",
       "      <td>0.013172</td>\n",
       "    </tr>\n",
       "    <tr>\n",
       "      <td>33</td>\n",
       "      <td>0.000000</td>\n",
       "      <td>0.000000</td>\n",
       "      <td>0.354240</td>\n",
       "      <td>0.020609</td>\n",
       "    </tr>\n",
       "    <tr>\n",
       "      <td>34</td>\n",
       "      <td>0.000000</td>\n",
       "      <td>0.000000</td>\n",
       "      <td>0.350391</td>\n",
       "      <td>0.022116</td>\n",
       "    </tr>\n",
       "    <tr>\n",
       "      <td>35</td>\n",
       "      <td>0.000000</td>\n",
       "      <td>0.000000</td>\n",
       "      <td>0.353138</td>\n",
       "      <td>0.023911</td>\n",
       "    </tr>\n",
       "    <tr>\n",
       "      <td>36</td>\n",
       "      <td>0.000000</td>\n",
       "      <td>0.000000</td>\n",
       "      <td>0.348193</td>\n",
       "      <td>0.025103</td>\n",
       "    </tr>\n",
       "    <tr>\n",
       "      <td>37</td>\n",
       "      <td>0.000000</td>\n",
       "      <td>0.000000</td>\n",
       "      <td>0.346546</td>\n",
       "      <td>0.023934</td>\n",
       "    </tr>\n",
       "    <tr>\n",
       "      <td>38</td>\n",
       "      <td>0.000000</td>\n",
       "      <td>0.000000</td>\n",
       "      <td>0.348744</td>\n",
       "      <td>0.020223</td>\n",
       "    </tr>\n",
       "    <tr>\n",
       "      <td>39</td>\n",
       "      <td>0.000000</td>\n",
       "      <td>0.000000</td>\n",
       "      <td>0.343246</td>\n",
       "      <td>0.020724</td>\n",
       "    </tr>\n",
       "    <tr>\n",
       "      <td>40</td>\n",
       "      <td>0.000000</td>\n",
       "      <td>0.000000</td>\n",
       "      <td>0.346544</td>\n",
       "      <td>0.019066</td>\n",
       "    </tr>\n",
       "    <tr>\n",
       "      <td>41</td>\n",
       "      <td>0.000000</td>\n",
       "      <td>0.000000</td>\n",
       "      <td>0.348193</td>\n",
       "      <td>0.018105</td>\n",
       "    </tr>\n",
       "    <tr>\n",
       "      <td>42</td>\n",
       "      <td>0.000000</td>\n",
       "      <td>0.000000</td>\n",
       "      <td>0.343240</td>\n",
       "      <td>0.017092</td>\n",
       "    </tr>\n",
       "    <tr>\n",
       "      <td>43</td>\n",
       "      <td>0.000000</td>\n",
       "      <td>0.000000</td>\n",
       "      <td>0.343787</td>\n",
       "      <td>0.015291</td>\n",
       "    </tr>\n",
       "    <tr>\n",
       "      <td>44</td>\n",
       "      <td>0.000000</td>\n",
       "      <td>0.000000</td>\n",
       "      <td>0.345441</td>\n",
       "      <td>0.013237</td>\n",
       "    </tr>\n",
       "    <tr>\n",
       "      <td>45</td>\n",
       "      <td>0.000000</td>\n",
       "      <td>0.000000</td>\n",
       "      <td>0.343242</td>\n",
       "      <td>0.014332</td>\n",
       "    </tr>\n",
       "    <tr>\n",
       "      <td>46</td>\n",
       "      <td>0.000000</td>\n",
       "      <td>0.000000</td>\n",
       "      <td>0.342140</td>\n",
       "      <td>0.015135</td>\n",
       "    </tr>\n",
       "    <tr>\n",
       "      <td>47</td>\n",
       "      <td>0.000000</td>\n",
       "      <td>0.000000</td>\n",
       "      <td>0.341036</td>\n",
       "      <td>0.015291</td>\n",
       "    </tr>\n",
       "    <tr>\n",
       "      <td>48</td>\n",
       "      <td>0.000000</td>\n",
       "      <td>0.000000</td>\n",
       "      <td>0.339388</td>\n",
       "      <td>0.015488</td>\n",
       "    </tr>\n",
       "    <tr>\n",
       "      <td>49</td>\n",
       "      <td>0.000000</td>\n",
       "      <td>0.000000</td>\n",
       "      <td>0.339936</td>\n",
       "      <td>0.017888</td>\n",
       "    </tr>\n",
       "    <tr>\n",
       "      <td>50</td>\n",
       "      <td>0.000000</td>\n",
       "      <td>0.000000</td>\n",
       "      <td>0.338289</td>\n",
       "      <td>0.018245</td>\n",
       "    </tr>\n",
       "    <tr>\n",
       "      <td>51</td>\n",
       "      <td>0.000000</td>\n",
       "      <td>0.000000</td>\n",
       "      <td>0.334437</td>\n",
       "      <td>0.018995</td>\n",
       "    </tr>\n",
       "  </tbody>\n",
       "</table>\n",
       "</div>"
      ],
      "text/plain": [
       "    train-merror-mean  train-merror-std  test-merror-mean  test-merror-std\n",
       "0            0.231983          0.009850          0.443889         0.024647\n",
       "1            0.191282          0.003437          0.425749         0.030985\n",
       "2            0.162403          0.013180          0.414735         0.022363\n",
       "3            0.133112          0.008136          0.402640         0.024723\n",
       "4            0.116336          0.013455          0.391091         0.031551\n",
       "5            0.097085          0.011091          0.389984         0.029908\n",
       "6            0.083884          0.009095          0.381732         0.029070\n",
       "7            0.069032          0.004816          0.374586         0.026809\n",
       "8            0.059132          0.006855          0.373496         0.024917\n",
       "9            0.048818          0.006353          0.365781         0.027353\n",
       "10           0.039605          0.007024          0.365235         0.024827\n",
       "11           0.033967          0.005032          0.359739         0.027153\n",
       "12           0.029842          0.004840          0.363583         0.026418\n",
       "13           0.024341          0.004759          0.364137         0.027334\n",
       "14           0.021866          0.003976          0.366343         0.025899\n",
       "15           0.017190          0.002221          0.364139         0.025564\n",
       "16           0.013477          0.002445          0.360838         0.025358\n",
       "17           0.011552          0.002014          0.361944         0.023806\n",
       "18           0.008939          0.002303          0.358640         0.022359\n",
       "19           0.007427          0.003180          0.359191         0.023179\n",
       "20           0.006464          0.002773          0.359742         0.018126\n",
       "21           0.003988          0.002013          0.362491         0.023228\n",
       "22           0.003988          0.001592          0.359739         0.022674\n",
       "23           0.002338          0.001348          0.355885         0.021817\n",
       "24           0.001513          0.001183          0.353689         0.019308\n",
       "25           0.001375          0.000973          0.350389         0.021605\n",
       "26           0.000963          0.000701          0.350387         0.019833\n",
       "27           0.000688          0.000753          0.351486         0.017002\n",
       "28           0.000413          0.000550          0.354794         0.022454\n",
       "29           0.000413          0.000550          0.356990         0.017760\n",
       "30           0.000275          0.000337          0.357540         0.017725\n",
       "31           0.000000          0.000000          0.357539         0.017804\n",
       "32           0.000000          0.000000          0.355336         0.013172\n",
       "33           0.000000          0.000000          0.354240         0.020609\n",
       "34           0.000000          0.000000          0.350391         0.022116\n",
       "35           0.000000          0.000000          0.353138         0.023911\n",
       "36           0.000000          0.000000          0.348193         0.025103\n",
       "37           0.000000          0.000000          0.346546         0.023934\n",
       "38           0.000000          0.000000          0.348744         0.020223\n",
       "39           0.000000          0.000000          0.343246         0.020724\n",
       "40           0.000000          0.000000          0.346544         0.019066\n",
       "41           0.000000          0.000000          0.348193         0.018105\n",
       "42           0.000000          0.000000          0.343240         0.017092\n",
       "43           0.000000          0.000000          0.343787         0.015291\n",
       "44           0.000000          0.000000          0.345441         0.013237\n",
       "45           0.000000          0.000000          0.343242         0.014332\n",
       "46           0.000000          0.000000          0.342140         0.015135\n",
       "47           0.000000          0.000000          0.341036         0.015291\n",
       "48           0.000000          0.000000          0.339388         0.015488\n",
       "49           0.000000          0.000000          0.339936         0.017888\n",
       "50           0.000000          0.000000          0.338289         0.018245\n",
       "51           0.000000          0.000000          0.334437         0.018995"
      ]
     },
     "execution_count": 1348,
     "metadata": {},
     "output_type": "execute_result"
    }
   ],
   "source": [
    "cv_results = xgb.cv(\n",
    "    params,\n",
    "    dtrain,\n",
    "    num_boost_round=num_boost_round,\n",
    "    seed=42,\n",
    "    nfold=5,\n",
    "    metrics={'merror'},\n",
    "    early_stopping_rounds=10\n",
    ")\n",
    "cv_results"
   ]
  },
  {
   "cell_type": "code",
   "execution_count": 1349,
   "metadata": {},
   "outputs": [
    {
     "data": {
      "text/plain": [
       "0.33443680000000003"
      ]
     },
     "execution_count": 1349,
     "metadata": {},
     "output_type": "execute_result"
    }
   ],
   "source": [
    "cv_results['test-merror-mean'].min()"
   ]
  },
  {
   "cell_type": "code",
   "execution_count": 1350,
   "metadata": {},
   "outputs": [],
   "source": [
    "# You can try wider intervals with a larger step between\n",
    "# each value and then narrow it down. Here after several\n",
    "# iteration I found that the optimal value was in the\n",
    "# following ranges.\n",
    "gridsearch_params = [\n",
    "    (max_depth, min_child_weight)\n",
    "    for max_depth in range(9,12)\n",
    "    for min_child_weight in range(5,8)\n",
    "]"
   ]
  },
  {
   "cell_type": "code",
   "execution_count": 1351,
   "metadata": {},
   "outputs": [
    {
     "name": "stdout",
     "output_type": "stream",
     "text": [
      "CV with max_depth=9, min_child_weight=5\n",
      "\tMAE 0.33718539999999997 for 52 rounds\n",
      "CV with max_depth=9, min_child_weight=6\n",
      "\tMAE 0.34102400000000005 for 69 rounds\n",
      "CV with max_depth=9, min_child_weight=7\n",
      "\tMAE 0.353692 for 29 rounds\n",
      "CV with max_depth=10, min_child_weight=5\n",
      "\tMAE 0.3393786 for 43 rounds\n",
      "CV with max_depth=10, min_child_weight=6\n",
      "\tMAE 0.3481776 for 21 rounds\n",
      "CV with max_depth=10, min_child_weight=7\n",
      "\tMAE 0.3371918 for 38 rounds\n",
      "CV with max_depth=11, min_child_weight=5\n",
      "\tMAE 0.3349816 for 35 rounds\n",
      "CV with max_depth=11, min_child_weight=6\n",
      "\tMAE 0.33829499999999996 for 38 rounds\n",
      "CV with max_depth=11, min_child_weight=7\n",
      "\tMAE 0.3531498 for 17 rounds\n",
      "Best params: 11, 5, MAE: 0.3349816\n"
     ]
    }
   ],
   "source": [
    "# Define initial best params and MAE\n",
    "min_mae = float(\"Inf\")\n",
    "best_params = None\n",
    "\n",
    "for max_depth, min_child_weight in gridsearch_params:\n",
    "    print(\"CV with max_depth={}, min_child_weight={}\".format(\n",
    "                             max_depth,\n",
    "                             min_child_weight))\n",
    "    \n",
    "    # Update our parameters\n",
    "    params['max_depth'] = max_depth\n",
    "    params['min_child_weight'] = min_child_weight\n",
    "    \n",
    "    # Run CV\n",
    "    cv_results = xgb.cv(\n",
    "        params,\n",
    "        dtrain,\n",
    "        num_boost_round=num_boost_round,\n",
    "        seed=42,\n",
    "        nfold=5,\n",
    "        metrics={'merror'},\n",
    "        early_stopping_rounds=10)\n",
    "    \n",
    "    # Update best MAE\n",
    "    mean_mae = cv_results['test-merror-mean'].min()\n",
    "    boost_rounds = cv_results['test-merror-mean'].argmin()\n",
    "    print(\"\\tMAE {} for {} rounds\".format(mean_mae, boost_rounds))\n",
    "    \n",
    "    if mean_mae < min_mae:\n",
    "        min_mae = mean_mae\n",
    "        best_params = (max_depth,min_child_weight)\n",
    "\n",
    "print(\"Best params: {}, {}, MAE: {}\".format(best_params[0], best_params[1], min_mae))"
   ]
  },
  {
   "cell_type": "code",
   "execution_count": 1352,
   "metadata": {},
   "outputs": [],
   "source": [
    "params['max_depth'] = 11\n",
    "params['min_child_weight'] = 5"
   ]
  },
  {
   "cell_type": "code",
   "execution_count": 1355,
   "metadata": {},
   "outputs": [],
   "source": [
    "gridsearch_params = [\n",
    "    (subsample, colsample, gamma)\n",
    "    for subsample in [i/10. for i in range(7,11)]\n",
    "    for colsample in [i/10. for i in range(7,11)]\n",
    "    for gamma in [i/10.0 for i in range(5,10)]\n",
    "]"
   ]
  },
  {
   "cell_type": "code",
   "execution_count": 1356,
   "metadata": {},
   "outputs": [
    {
     "name": "stdout",
     "output_type": "stream",
     "text": [
      "CV with subsample=1.0, colsample=1.0, gamma=0.9\n",
      "\tMAE 0.3404914 for 31 rounds\n",
      "CV with subsample=1.0, colsample=1.0, gamma=0.8\n",
      "\tMAE 0.343776 for 26 rounds\n",
      "CV with subsample=1.0, colsample=1.0, gamma=0.7\n",
      "\tMAE 0.3371718 for 28 rounds\n",
      "CV with subsample=1.0, colsample=1.0, gamma=0.6\n",
      "\tMAE 0.3476374 for 46 rounds\n",
      "CV with subsample=1.0, colsample=1.0, gamma=0.5\n",
      "\tMAE 0.34377460000000004 for 27 rounds\n",
      "CV with subsample=1.0, colsample=0.9, gamma=0.9\n",
      "\tMAE 0.3459874 for 37 rounds\n",
      "CV with subsample=1.0, colsample=0.9, gamma=0.8\n",
      "\tMAE 0.34047639999999996 for 28 rounds\n",
      "CV with subsample=1.0, colsample=0.9, gamma=0.7\n",
      "\tMAE 0.342677 for 24 rounds\n",
      "CV with subsample=1.0, colsample=0.9, gamma=0.6\n",
      "\tMAE 0.3399388 for 31 rounds\n",
      "CV with subsample=1.0, colsample=0.9, gamma=0.5\n",
      "\tMAE 0.3360912 for 32 rounds\n",
      "CV with subsample=1.0, colsample=0.8, gamma=0.9\n",
      "\tMAE 0.3476296 for 18 rounds\n",
      "CV with subsample=1.0, colsample=0.8, gamma=0.8\n",
      "\tMAE 0.3426862 for 25 rounds\n",
      "CV with subsample=1.0, colsample=0.8, gamma=0.7\n",
      "\tMAE 0.34873919999999997 for 17 rounds\n",
      "CV with subsample=1.0, colsample=0.8, gamma=0.6\n",
      "\tMAE 0.3377336000000001 for 32 rounds\n",
      "CV with subsample=1.0, colsample=0.8, gamma=0.5\n",
      "\tMAE 0.3426952 for 19 rounds\n",
      "CV with subsample=1.0, colsample=0.7, gamma=0.9\n",
      "\tMAE 0.35257799999999995 for 23 rounds\n",
      "CV with subsample=1.0, colsample=0.7, gamma=0.8\n",
      "\tMAE 0.3498288 for 22 rounds\n",
      "CV with subsample=1.0, colsample=0.7, gamma=0.7\n",
      "\tMAE 0.3355266 for 38 rounds\n",
      "CV with subsample=1.0, colsample=0.7, gamma=0.6\n",
      "\tMAE 0.34378499999999995 for 19 rounds\n",
      "CV with subsample=1.0, colsample=0.7, gamma=0.5\n",
      "\tMAE 0.3382876 for 29 rounds\n",
      "CV with subsample=0.9, colsample=1.0, gamma=0.9\n",
      "\tMAE 0.34818520000000003 for 31 rounds\n",
      "CV with subsample=0.9, colsample=1.0, gamma=0.8\n",
      "\tMAE 0.3426952 for 45 rounds\n",
      "CV with subsample=0.9, colsample=1.0, gamma=0.7\n",
      "\tMAE 0.3432282 for 26 rounds\n",
      "CV with subsample=0.9, colsample=1.0, gamma=0.6\n",
      "\tMAE 0.338286 for 27 rounds\n",
      "CV with subsample=0.9, colsample=1.0, gamma=0.5\n"
     ]
    },
    {
     "ename": "KeyboardInterrupt",
     "evalue": "",
     "output_type": "error",
     "traceback": [
      "\u001b[1;31m---------------------------------------------------------------------------\u001b[0m",
      "\u001b[1;31mKeyboardInterrupt\u001b[0m                         Traceback (most recent call last)",
      "\u001b[1;32m<ipython-input-1356-e9032743728d>\u001b[0m in \u001b[0;36m<module>\u001b[1;34m\u001b[0m\n\u001b[0;32m     23\u001b[0m         \u001b[0mnfold\u001b[0m\u001b[1;33m=\u001b[0m\u001b[1;36m5\u001b[0m\u001b[1;33m,\u001b[0m\u001b[1;33m\u001b[0m\u001b[1;33m\u001b[0m\u001b[0m\n\u001b[0;32m     24\u001b[0m         \u001b[0mmetrics\u001b[0m\u001b[1;33m=\u001b[0m\u001b[1;33m{\u001b[0m\u001b[1;34m'merror'\u001b[0m\u001b[1;33m}\u001b[0m\u001b[1;33m,\u001b[0m\u001b[1;33m\u001b[0m\u001b[1;33m\u001b[0m\u001b[0m\n\u001b[1;32m---> 25\u001b[1;33m         \u001b[0mearly_stopping_rounds\u001b[0m\u001b[1;33m=\u001b[0m\u001b[1;36m10\u001b[0m\u001b[1;33m\u001b[0m\u001b[1;33m\u001b[0m\u001b[0m\n\u001b[0m\u001b[0;32m     26\u001b[0m     )\n\u001b[0;32m     27\u001b[0m     \u001b[1;31m# Update best score\u001b[0m\u001b[1;33m\u001b[0m\u001b[1;33m\u001b[0m\u001b[1;33m\u001b[0m\u001b[0m\n",
      "\u001b[1;32m~\\Anaconda3\\lib\\site-packages\\xgboost\\training.py\u001b[0m in \u001b[0;36mcv\u001b[1;34m(params, dtrain, num_boost_round, nfold, stratified, folds, metrics, obj, feval, maximize, early_stopping_rounds, fpreproc, as_pandas, verbose_eval, show_stdv, seed, callbacks, shuffle)\u001b[0m\n\u001b[0;32m    496\u001b[0m                            evaluation_result_list=None))\n\u001b[0;32m    497\u001b[0m         \u001b[1;32mfor\u001b[0m \u001b[0mfold\u001b[0m \u001b[1;32min\u001b[0m \u001b[0mcvfolds\u001b[0m\u001b[1;33m:\u001b[0m\u001b[1;33m\u001b[0m\u001b[1;33m\u001b[0m\u001b[0m\n\u001b[1;32m--> 498\u001b[1;33m             \u001b[0mfold\u001b[0m\u001b[1;33m.\u001b[0m\u001b[0mupdate\u001b[0m\u001b[1;33m(\u001b[0m\u001b[0mi\u001b[0m\u001b[1;33m,\u001b[0m \u001b[0mobj\u001b[0m\u001b[1;33m)\u001b[0m\u001b[1;33m\u001b[0m\u001b[1;33m\u001b[0m\u001b[0m\n\u001b[0m\u001b[0;32m    499\u001b[0m         \u001b[0mres\u001b[0m \u001b[1;33m=\u001b[0m \u001b[0maggcv\u001b[0m\u001b[1;33m(\u001b[0m\u001b[1;33m[\u001b[0m\u001b[0mf\u001b[0m\u001b[1;33m.\u001b[0m\u001b[0meval\u001b[0m\u001b[1;33m(\u001b[0m\u001b[0mi\u001b[0m\u001b[1;33m,\u001b[0m \u001b[0mfeval\u001b[0m\u001b[1;33m)\u001b[0m \u001b[1;32mfor\u001b[0m \u001b[0mf\u001b[0m \u001b[1;32min\u001b[0m \u001b[0mcvfolds\u001b[0m\u001b[1;33m]\u001b[0m\u001b[1;33m)\u001b[0m\u001b[1;33m\u001b[0m\u001b[1;33m\u001b[0m\u001b[0m\n\u001b[0;32m    500\u001b[0m \u001b[1;33m\u001b[0m\u001b[0m\n",
      "\u001b[1;32m~\\Anaconda3\\lib\\site-packages\\xgboost\\training.py\u001b[0m in \u001b[0;36mupdate\u001b[1;34m(self, iteration, fobj)\u001b[0m\n\u001b[0;32m    224\u001b[0m     \u001b[1;32mdef\u001b[0m \u001b[0mupdate\u001b[0m\u001b[1;33m(\u001b[0m\u001b[0mself\u001b[0m\u001b[1;33m,\u001b[0m \u001b[0miteration\u001b[0m\u001b[1;33m,\u001b[0m \u001b[0mfobj\u001b[0m\u001b[1;33m)\u001b[0m\u001b[1;33m:\u001b[0m\u001b[1;33m\u001b[0m\u001b[1;33m\u001b[0m\u001b[0m\n\u001b[0;32m    225\u001b[0m         \u001b[1;34m\"\"\"\"Update the boosters for one iteration\"\"\"\u001b[0m\u001b[1;33m\u001b[0m\u001b[1;33m\u001b[0m\u001b[0m\n\u001b[1;32m--> 226\u001b[1;33m         \u001b[0mself\u001b[0m\u001b[1;33m.\u001b[0m\u001b[0mbst\u001b[0m\u001b[1;33m.\u001b[0m\u001b[0mupdate\u001b[0m\u001b[1;33m(\u001b[0m\u001b[0mself\u001b[0m\u001b[1;33m.\u001b[0m\u001b[0mdtrain\u001b[0m\u001b[1;33m,\u001b[0m \u001b[0miteration\u001b[0m\u001b[1;33m,\u001b[0m \u001b[0mfobj\u001b[0m\u001b[1;33m)\u001b[0m\u001b[1;33m\u001b[0m\u001b[1;33m\u001b[0m\u001b[0m\n\u001b[0m\u001b[0;32m    227\u001b[0m \u001b[1;33m\u001b[0m\u001b[0m\n\u001b[0;32m    228\u001b[0m     \u001b[1;32mdef\u001b[0m \u001b[0meval\u001b[0m\u001b[1;33m(\u001b[0m\u001b[0mself\u001b[0m\u001b[1;33m,\u001b[0m \u001b[0miteration\u001b[0m\u001b[1;33m,\u001b[0m \u001b[0mfeval\u001b[0m\u001b[1;33m)\u001b[0m\u001b[1;33m:\u001b[0m\u001b[1;33m\u001b[0m\u001b[1;33m\u001b[0m\u001b[0m\n",
      "\u001b[1;32m~\\Anaconda3\\lib\\site-packages\\xgboost\\core.py\u001b[0m in \u001b[0;36mupdate\u001b[1;34m(self, dtrain, iteration, fobj)\u001b[0m\n\u001b[0;32m   1367\u001b[0m             _check_call(_LIB.XGBoosterUpdateOneIter(self.handle,\n\u001b[0;32m   1368\u001b[0m                                                     \u001b[0mctypes\u001b[0m\u001b[1;33m.\u001b[0m\u001b[0mc_int\u001b[0m\u001b[1;33m(\u001b[0m\u001b[0miteration\u001b[0m\u001b[1;33m)\u001b[0m\u001b[1;33m,\u001b[0m\u001b[1;33m\u001b[0m\u001b[1;33m\u001b[0m\u001b[0m\n\u001b[1;32m-> 1369\u001b[1;33m                                                     dtrain.handle))\n\u001b[0m\u001b[0;32m   1370\u001b[0m         \u001b[1;32melse\u001b[0m\u001b[1;33m:\u001b[0m\u001b[1;33m\u001b[0m\u001b[1;33m\u001b[0m\u001b[0m\n\u001b[0;32m   1371\u001b[0m             \u001b[0mpred\u001b[0m \u001b[1;33m=\u001b[0m \u001b[0mself\u001b[0m\u001b[1;33m.\u001b[0m\u001b[0mpredict\u001b[0m\u001b[1;33m(\u001b[0m\u001b[0mdtrain\u001b[0m\u001b[1;33m,\u001b[0m \u001b[0moutput_margin\u001b[0m\u001b[1;33m=\u001b[0m\u001b[1;32mTrue\u001b[0m\u001b[1;33m,\u001b[0m \u001b[0mtraining\u001b[0m\u001b[1;33m=\u001b[0m\u001b[1;32mTrue\u001b[0m\u001b[1;33m)\u001b[0m\u001b[1;33m\u001b[0m\u001b[1;33m\u001b[0m\u001b[0m\n",
      "\u001b[1;31mKeyboardInterrupt\u001b[0m: "
     ]
    }
   ],
   "source": [
    "min_mae = float(\"Inf\")\n",
    "best_params = None\n",
    "\n",
    "# We start by the largest values and go down to the smallest\n",
    "for subsample, colsample, gamma in reversed(gridsearch_params):\n",
    "    print(\"CV with subsample={}, colsample={}, gamma={}\".format(\n",
    "                             subsample,\n",
    "                             colsample,\n",
    "                                gamma))\n",
    "    \n",
    "    # We update our parameters\n",
    "    params['subsample'] = subsample\n",
    "    params['colsample_bytree'] = colsample\n",
    "    params['gamma'] = gamma\n",
    "\n",
    "    \n",
    "    # Run CV\n",
    "    cv_results = xgb.cv(\n",
    "        params,\n",
    "        dtrain,\n",
    "        num_boost_round=num_boost_round,\n",
    "        seed=42,\n",
    "        nfold=5,\n",
    "        metrics={'merror'},\n",
    "        early_stopping_rounds=10\n",
    "    )\n",
    "    # Update best score\n",
    "    mean_mae = cv_results['test-merror-mean'].min()\n",
    "    boost_rounds = cv_results['test-merror-mean'].argmin()\n",
    "    print(\"\\tMAE {} for {} rounds\".format(mean_mae, boost_rounds))\n",
    "    if mean_mae < min_mae:\n",
    "        min_mae = mean_mae\n",
    "        best_params = (subsample,colsample)\n",
    "print(\"Best params: {}, {},{}, MAE: {}\".format(best_params[0], best_params[1], best_params[2], min_mae))"
   ]
  },
  {
   "cell_type": "code",
   "execution_count": 1218,
   "metadata": {},
   "outputs": [],
   "source": [
    "params['subsample'] = 1.0\n",
    "params['colsample_bytree'] = 1.0\n",
    "params['gamma'] = 1.0"
   ]
  },
  {
   "cell_type": "code",
   "execution_count": 1357,
   "metadata": {},
   "outputs": [
    {
     "name": "stdout",
     "output_type": "stream",
     "text": [
      "Wall time: 0 ns\n",
      "CV with eta=0.3\n",
      "\tMAE 0.334977 for 27 rounds\n",
      "\n",
      "CV with eta=0.2\n",
      "\tMAE 0.3382982 for 43 rounds\n",
      "\n",
      "CV with eta=0.1\n",
      "\tMAE 0.346001 for 30 rounds\n",
      "\n",
      "CV with eta=0.05\n",
      "\tMAE 0.34159159999999994 for 69 rounds\n",
      "\n",
      "CV with eta=0.01\n",
      "\tMAE 0.361378 for 45 rounds\n",
      "\n",
      "CV with eta=0.005\n",
      "\tMAE 0.37404119999999996 for 14 rounds\n",
      "\n",
      "Best params: 0.3, MAE: 0.334977\n"
     ]
    }
   ],
   "source": [
    "%time\n",
    "# This can take some time…\n",
    "min_mae = float(\"Inf\")\n",
    "best_params = None\n",
    "\n",
    "for eta in [.3, .2, .1, .05, .01, .005]:\n",
    "    print(\"CV with eta={}\".format(eta))\n",
    "    \n",
    "    # We update our parameters\n",
    "    params['eta'] = eta\n",
    "    \n",
    "    # Run and time CV\n",
    "    cv_results = xgb.cv(params, dtrain, num_boost_round=num_boost_round,\n",
    "            seed=42, nfold=5, metrics=['merror'],early_stopping_rounds=10)\n",
    "    \n",
    "    # Update best score\n",
    "    mean_mae = cv_results['test-merror-mean'].min()\n",
    "    boost_rounds = cv_results['test-merror-mean'].argmin()\n",
    "    print(\"\\tMAE {} for {} rounds\\n\".format(mean_mae, boost_rounds))\n",
    "    if mean_mae < min_mae:\n",
    "        min_mae = mean_mae\n",
    "        best_params = eta\n",
    "print(\"Best params: {}, MAE: {}\".format(best_params, min_mae))"
   ]
  },
  {
   "cell_type": "code",
   "execution_count": 1358,
   "metadata": {},
   "outputs": [],
   "source": [
    "params['eta'] = 0.3"
   ]
  },
  {
   "cell_type": "code",
   "execution_count": 1359,
   "metadata": {},
   "outputs": [
    {
     "ename": "ValueError",
     "evalue": "too many values to unpack (expected 2)",
     "output_type": "error",
     "traceback": [
      "\u001b[1;31m---------------------------------------------------------------------------\u001b[0m",
      "\u001b[1;31mValueError\u001b[0m                                Traceback (most recent call last)",
      "\u001b[1;32m<ipython-input-1359-b1da4a6eca8a>\u001b[0m in \u001b[0;36m<module>\u001b[1;34m\u001b[0m\n\u001b[0;32m      1\u001b[0m \u001b[1;31m# We start by the largest values and go down to the smallest\u001b[0m\u001b[1;33m\u001b[0m\u001b[1;33m\u001b[0m\u001b[1;33m\u001b[0m\u001b[0m\n\u001b[1;32m----> 2\u001b[1;33m \u001b[1;32mfor\u001b[0m \u001b[0msubsample\u001b[0m\u001b[1;33m,\u001b[0m \u001b[0mcolsample\u001b[0m \u001b[1;32min\u001b[0m \u001b[0mreversed\u001b[0m\u001b[1;33m(\u001b[0m\u001b[0mgridsearch_params\u001b[0m\u001b[1;33m)\u001b[0m\u001b[1;33m:\u001b[0m\u001b[1;33m\u001b[0m\u001b[1;33m\u001b[0m\u001b[0m\n\u001b[0m\u001b[0;32m      3\u001b[0m     print(\"CV with subsample={}, colsample={}\".format(\n\u001b[0;32m      4\u001b[0m                              \u001b[0msubsample\u001b[0m\u001b[1;33m,\u001b[0m\u001b[1;33m\u001b[0m\u001b[1;33m\u001b[0m\u001b[0m\n\u001b[0;32m      5\u001b[0m                              colsample))\n",
      "\u001b[1;31mValueError\u001b[0m: too many values to unpack (expected 2)"
     ]
    }
   ],
   "source": [
    "\n",
    "# We start by the largest values and go down to the smallest\n",
    "for subsample, colsample in reversed(gridsearch_params):\n",
    "    print(\"CV with subsample={}, colsample={}\".format(\n",
    "                             subsample,\n",
    "                             colsample))\n",
    "    \n",
    "    # We update our parameters\n",
    "    params['subsample'] = subsample\n",
    "    params['colsample_bytree'] = colsample\n",
    "    # Run CV\n",
    "    cv_results = xgb.cv(\n",
    "        params,\n",
    "        dtrain,\n",
    "        num_boost_round=num_boost_round,\n",
    "        seed=42,\n",
    "        nfold=5,\n",
    "        metrics={'merror'},\n",
    "        early_stopping_rounds=10\n",
    "    )\n",
    "    # Update best score\n",
    "    mean_mae = cv_results['test-merror-mean'].min()\n",
    "    boost_rounds = cv_results['test-merror-mean'].argmin()\n",
    "    print(\"\\tMAE {} for {} rounds\".format(mean_mae, boost_rounds))\n",
    "    if mean_mae < min_mae:\n",
    "        min_mae = mean_mae\n",
    "        best_params = (subsample,colsample)\n",
    "print(\"Best params: {}, {}, MAE: {}\".format(best_params[0], best_params[1], min_mae))"
   ]
  },
  {
   "cell_type": "code",
   "execution_count": null,
   "metadata": {},
   "outputs": [],
   "source": [
    "params"
   ]
  },
  {
   "cell_type": "code",
   "execution_count": 1360,
   "metadata": {},
   "outputs": [
    {
     "name": "stdout",
     "output_type": "stream",
     "text": [
      "[0]\tTest-merror:0.44828\n",
      "Will train until Test-merror hasn't improved in 10 rounds.\n",
      "[1]\tTest-merror:0.43842\n",
      "[2]\tTest-merror:0.41379\n",
      "[3]\tTest-merror:0.39902\n",
      "[4]\tTest-merror:0.37931\n",
      "[5]\tTest-merror:0.36453\n",
      "[6]\tTest-merror:0.36946\n",
      "[7]\tTest-merror:0.37931\n",
      "[8]\tTest-merror:0.37438\n",
      "[9]\tTest-merror:0.36453\n",
      "[10]\tTest-merror:0.35468\n",
      "[11]\tTest-merror:0.35961\n",
      "[12]\tTest-merror:0.34483\n",
      "[13]\tTest-merror:0.34975\n",
      "[14]\tTest-merror:0.33498\n",
      "[15]\tTest-merror:0.33990\n",
      "[16]\tTest-merror:0.34483\n",
      "[17]\tTest-merror:0.34483\n",
      "[18]\tTest-merror:0.33498\n",
      "[19]\tTest-merror:0.32512\n",
      "[20]\tTest-merror:0.32512\n",
      "[21]\tTest-merror:0.33005\n",
      "[22]\tTest-merror:0.32512\n",
      "[23]\tTest-merror:0.33005\n",
      "[24]\tTest-merror:0.33498\n",
      "[25]\tTest-merror:0.33005\n",
      "[26]\tTest-merror:0.33498\n",
      "[27]\tTest-merror:0.33990\n",
      "[28]\tTest-merror:0.33498\n",
      "[29]\tTest-merror:0.33498\n",
      "Stopping. Best iteration:\n",
      "[19]\tTest-merror:0.32512\n",
      "\n"
     ]
    }
   ],
   "source": [
    "model = xgb.train(\n",
    "    params,\n",
    "    dtrain,\n",
    "    num_boost_round=num_boost_round,\n",
    "    evals=[(dtest, \"Test\")],\n",
    "    early_stopping_rounds=10\n",
    ")"
   ]
  },
  {
   "cell_type": "code",
   "execution_count": 1361,
   "metadata": {},
   "outputs": [
    {
     "name": "stdout",
     "output_type": "stream",
     "text": [
      "[0]\tTest-merror:0.44828\n",
      "[1]\tTest-merror:0.43842\n",
      "[2]\tTest-merror:0.41379\n",
      "[3]\tTest-merror:0.39902\n",
      "[4]\tTest-merror:0.37931\n",
      "[5]\tTest-merror:0.36453\n",
      "[6]\tTest-merror:0.36946\n",
      "[7]\tTest-merror:0.37931\n",
      "[8]\tTest-merror:0.37438\n",
      "[9]\tTest-merror:0.36453\n",
      "[10]\tTest-merror:0.35468\n",
      "[11]\tTest-merror:0.35961\n",
      "[12]\tTest-merror:0.34483\n",
      "[13]\tTest-merror:0.34975\n",
      "[14]\tTest-merror:0.33498\n",
      "[15]\tTest-merror:0.33990\n",
      "[16]\tTest-merror:0.34483\n",
      "[17]\tTest-merror:0.34483\n",
      "[18]\tTest-merror:0.33498\n",
      "[19]\tTest-merror:0.32512\n"
     ]
    }
   ],
   "source": [
    "num_boost_round = model.best_iteration + 1\n",
    "best_model = xgb.train(\n",
    "    params,\n",
    "    dtrain,\n",
    "    num_boost_round=num_boost_round,\n",
    "    evals=[(dtest, \"Test\")]\n",
    ")"
   ]
  },
  {
   "cell_type": "code",
   "execution_count": 1374,
   "metadata": {},
   "outputs": [],
   "source": [
    "xg_reg = xgb.XGBRegressor(max_depth = 11, min_child_weight = 5, eta = 0.3,n_estimators = 400,\n",
    "                          num_class =  4, subsample = 0.9, colsample_bytree = 1.0, objective = 'multi:softmax', gamma = 0.5)"
   ]
  },
  {
   "cell_type": "code",
   "execution_count": 1375,
   "metadata": {},
   "outputs": [
    {
     "name": "stdout",
     "output_type": "stream",
     "text": [
      "XGB Accuracy: 0.6699507389162561\n"
     ]
    }
   ],
   "source": [
    "xg_reg.fit(X_train, y_train)\n",
    "y_pred_XGB = preds = xg_reg.predict(X_test)\n",
    "Accuracy_XGB = metrics.accuracy_score(y_test, preds)\n",
    "print(\"XGB Accuracy:\",Accuracy_XGB)"
   ]
  },
  {
   "cell_type": "code",
   "execution_count": null,
   "metadata": {},
   "outputs": [],
   "source": []
  },
  {
   "cell_type": "code",
   "execution_count": null,
   "metadata": {},
   "outputs": [],
   "source": []
  },
  {
   "cell_type": "code",
   "execution_count": null,
   "metadata": {},
   "outputs": [],
   "source": []
  },
  {
   "cell_type": "code",
   "execution_count": null,
   "metadata": {},
   "outputs": [],
   "source": []
  },
  {
   "cell_type": "code",
   "execution_count": null,
   "metadata": {},
   "outputs": [],
   "source": []
  },
  {
   "cell_type": "code",
   "execution_count": null,
   "metadata": {},
   "outputs": [],
   "source": []
  }
 ],
 "metadata": {
  "kernelspec": {
   "display_name": "Python 3",
   "language": "python",
   "name": "python3"
  },
  "language_info": {
   "codemirror_mode": {
    "name": "ipython",
    "version": 3
   },
   "file_extension": ".py",
   "mimetype": "text/x-python",
   "name": "python",
   "nbconvert_exporter": "python",
   "pygments_lexer": "ipython3",
   "version": "3.7.4"
  }
 },
 "nbformat": 4,
 "nbformat_minor": 2
}
