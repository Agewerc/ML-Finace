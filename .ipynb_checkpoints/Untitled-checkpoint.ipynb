{
 "cells": [
  {
   "cell_type": "markdown",
   "metadata": {},
   "source": [
    "# API Function get Data"
   ]
  },
  {
   "cell_type": "code",
   "execution_count": null,
   "metadata": {
    "collapsed": true
   },
   "outputs": [],
   "source": [
    "#!/usr/bin/env python\n",
    "\n",
    "try:\n",
    "    # For Python 3.0 and later\n",
    "    from urllib.request import urlopen\n",
    "except ImportError:\n",
    "    # Fall back to Python 2's urllib2\n",
    "    from urllib2 import urlopen\n",
    "\n",
    "import json\n",
    "\n",
    "def get_jsonparsed_data(url):\n",
    "    \"\"\"\n",
    "    Receive the content of ``url``, parse it as JSON and return the object.\n",
    "\n",
    "    Parameters\n",
    "    ----------\n",
    "    url : str\n",
    "\n",
    "    Returns\n",
    "    -------\n",
    "    dict\n",
    "    \"\"\"\n",
    "    response = urlopen(url)\n",
    "    data = response.read().decode(\"utf-8\")\n",
    "    return json.loads(data)\n",
    "\n",
    "url = (\"https://financialmodelingprep.com/api/v3/ratios/BCE?apikey=c283e7eb3ddc10dcc0ed8146046dff97\")\n",
    "BCE = get_jsonparsed_data(url)\n",
    "\n"
   ]
  },
  {
   "cell_type": "code",
   "execution_count": null,
   "metadata": {},
   "outputs": [],
   "source": []
  },
  {
   "cell_type": "code",
   "execution_count": null,
   "metadata": {},
   "outputs": [],
   "source": []
  },
  {
   "cell_type": "code",
   "execution_count": null,
   "metadata": {},
   "outputs": [],
   "source": []
  },
  {
   "cell_type": "code",
   "execution_count": null,
   "metadata": {},
   "outputs": [],
   "source": []
  },
  {
   "cell_type": "code",
   "execution_count": null,
   "metadata": {},
   "outputs": [],
   "source": []
  },
  {
   "cell_type": "markdown",
   "metadata": {},
   "source": [
    "# Import Data"
   ]
  },
  {
   "cell_type": "code",
   "execution_count": 52,
   "metadata": {},
   "outputs": [],
   "source": [
    "import pandas as pd"
   ]
  },
  {
   "cell_type": "code",
   "execution_count": 55,
   "metadata": {},
   "outputs": [],
   "source": [
    "stocks = pd.read_csv('companies.csv')"
   ]
  },
  {
   "cell_type": "code",
   "execution_count": 62,
   "metadata": {},
   "outputs": [],
   "source": [
    "ticker_list = list(set(stocks.Ticker))"
   ]
  },
  {
   "cell_type": "code",
   "execution_count": 79,
   "metadata": {},
   "outputs": [],
   "source": [
    "company_all = pd.DataFrame.from_dict(get_jsonparsed_data(\"https://financialmodelingprep.com/api/v3/ratios/\" + ticker_list[0] + \n",
    "                                                         \"?apikey=c283e7eb3ddc10dcc0ed8146046dff97\"))\n",
    "\n",
    "company_all = company_all[0:0]"
   ]
  },
  {
   "cell_type": "code",
   "execution_count": 80,
   "metadata": {},
   "outputs": [],
   "source": [
    "for ticker in ticker_list:\n",
    "    \n",
    "    company = pd.DataFrame.from_dict(get_jsonparsed_data(\"https://financialmodelingprep.com/api/v3/ratios/\" + ticker + \n",
    "                                                         \"?apikey=c283e7eb3ddc10dcc0ed8146046dff97\"))\n",
    "\n",
    "    frames = [company_all, company]\n",
    "    \n",
    "    company_all = pd.concat(frames)   "
   ]
  },
  {
   "cell_type": "code",
   "execution_count": 92,
   "metadata": {},
   "outputs": [],
   "source": [
    "company_all.to_csv('fin_companies.csv')"
   ]
  },
  {
   "cell_type": "code",
   "execution_count": 82,
   "metadata": {},
   "outputs": [],
   "source": [
    "%matplotlib inline\n",
    "import matplotlib.pyplot as plt"
   ]
  },
  {
   "cell_type": "code",
   "execution_count": 95,
   "metadata": {},
   "outputs": [],
   "source": [
    "company_all['date'] = company_all['date'].astype('datetime64[ns]')"
   ]
  },
  {
   "cell_type": "code",
   "execution_count": 98,
   "metadata": {},
   "outputs": [
    {
     "data": {
      "text/html": [
       "<div>\n",
       "<style scoped>\n",
       "    .dataframe tbody tr th:only-of-type {\n",
       "        vertical-align: middle;\n",
       "    }\n",
       "\n",
       "    .dataframe tbody tr th {\n",
       "        vertical-align: top;\n",
       "    }\n",
       "\n",
       "    .dataframe thead th {\n",
       "        text-align: right;\n",
       "    }\n",
       "</style>\n",
       "<table border=\"1\" class=\"dataframe\">\n",
       "  <thead>\n",
       "    <tr style=\"text-align: right;\">\n",
       "      <th></th>\n",
       "      <th>symbol</th>\n",
       "      <th>date</th>\n",
       "      <th>currentRatio</th>\n",
       "      <th>quickRatio</th>\n",
       "      <th>cashRatio</th>\n",
       "      <th>daysOfSalesOutstanding</th>\n",
       "      <th>daysOfInventoryOutstanding</th>\n",
       "      <th>operatingCycle</th>\n",
       "      <th>daysOfPayablesOutstanding</th>\n",
       "      <th>cashConversionCycle</th>\n",
       "      <th>...</th>\n",
       "      <th>priceToSalesRatio</th>\n",
       "      <th>priceEarningsRatio</th>\n",
       "      <th>priceToFreeCashFlowsRatio</th>\n",
       "      <th>priceToOperatingCashFlowsRatio</th>\n",
       "      <th>priceCashFlowRatio</th>\n",
       "      <th>priceEarningsToGrowthRatio</th>\n",
       "      <th>priceSalesRatio</th>\n",
       "      <th>dividendYield</th>\n",
       "      <th>enterpriseValueMultiple</th>\n",
       "      <th>priceFairValue</th>\n",
       "    </tr>\n",
       "  </thead>\n",
       "  <tbody>\n",
       "    <tr>\n",
       "      <td>0</td>\n",
       "      <td>WYNN</td>\n",
       "      <td>2019-12-31</td>\n",
       "      <td>1.4405</td>\n",
       "      <td>1.1861</td>\n",
       "      <td>1.1861</td>\n",
       "      <td>0</td>\n",
       "      <td>11.0488</td>\n",
       "      <td>11.0488</td>\n",
       "      <td>32.7569</td>\n",
       "      <td>-32.7569</td>\n",
       "      <td>...</td>\n",
       "      <td>2.95502</td>\n",
       "      <td>109.9</td>\n",
       "      <td>-83.317729</td>\n",
       "      <td>15</td>\n",
       "      <td>15</td>\n",
       "      <td>20.4938</td>\n",
       "      <td>2.95502</td>\n",
       "      <td>0.0419147</td>\n",
       "      <td>14.0767</td>\n",
       "      <td>7.75428</td>\n",
       "    </tr>\n",
       "    <tr>\n",
       "      <td>1</td>\n",
       "      <td>WYNN</td>\n",
       "      <td>2018-12-31</td>\n",
       "      <td>1.40345</td>\n",
       "      <td>1.1769</td>\n",
       "      <td>1.1769</td>\n",
       "      <td>0</td>\n",
       "      <td>39.7558</td>\n",
       "      <td>39.7558</td>\n",
       "      <td>192.013</td>\n",
       "      <td>-192.013</td>\n",
       "      <td>...</td>\n",
       "      <td>1.91058</td>\n",
       "      <td>22.4213</td>\n",
       "      <td>-24.946624</td>\n",
       "      <td>13.3487</td>\n",
       "      <td>13.3487</td>\n",
       "      <td>4.17259</td>\n",
       "      <td>1.91058</td>\n",
       "      <td>0.0443941</td>\n",
       "      <td>15.1488</td>\n",
       "      <td>6.30965</td>\n",
       "    </tr>\n",
       "    <tr>\n",
       "      <td>2</td>\n",
       "      <td>WYNN</td>\n",
       "      <td>2017-12-31</td>\n",
       "      <td>1.77371</td>\n",
       "      <td>1.53927</td>\n",
       "      <td>1.45288</td>\n",
       "      <td>0</td>\n",
       "      <td>63.6454</td>\n",
       "      <td>63.6454</td>\n",
       "      <td>253.598</td>\n",
       "      <td>-253.598</td>\n",
       "      <td>...</td>\n",
       "      <td>2.77401</td>\n",
       "      <td>23.4133</td>\n",
       "      <td>18.588772</td>\n",
       "      <td>9.32227</td>\n",
       "      <td>9.32227</td>\n",
       "      <td>4.17486</td>\n",
       "      <td>2.77401</td>\n",
       "      <td>0.0183355</td>\n",
       "      <td>14.8922</td>\n",
       "      <td>18.4565</td>\n",
       "    </tr>\n",
       "    <tr>\n",
       "      <td>3</td>\n",
       "      <td>WYNN</td>\n",
       "      <td>2016-12-31</td>\n",
       "      <td>2.11139</td>\n",
       "      <td>1.85452</td>\n",
       "      <td>1.73206</td>\n",
       "      <td>0</td>\n",
       "      <td>89.0443</td>\n",
       "      <td>89.0443</td>\n",
       "      <td>290.364</td>\n",
       "      <td>-290.364</td>\n",
       "      <td>...</td>\n",
       "      <td>2.32926</td>\n",
       "      <td>42.9928</td>\n",
       "      <td>-40.733387</td>\n",
       "      <td>10.7189</td>\n",
       "      <td>10.7189</td>\n",
       "      <td>7.61911</td>\n",
       "      <td>2.32926</td>\n",
       "      <td>0.0312613</td>\n",
       "      <td>19.0124</td>\n",
       "      <td>65.8642</td>\n",
       "    </tr>\n",
       "    <tr>\n",
       "      <td>4</td>\n",
       "      <td>WYNN</td>\n",
       "      <td>2015-12-31</td>\n",
       "      <td>2.25711</td>\n",
       "      <td>1.97752</td>\n",
       "      <td>1.87367</td>\n",
       "      <td>0</td>\n",
       "      <td>75.2671</td>\n",
       "      <td>75.2671</td>\n",
       "      <td>212.558</td>\n",
       "      <td>-212.558</td>\n",
       "      <td>...</td>\n",
       "      <td>1.67137</td>\n",
       "      <td>34.8831</td>\n",
       "      <td>-5.052047</td>\n",
       "      <td>11.8927</td>\n",
       "      <td>11.8927</td>\n",
       "      <td>6.16473</td>\n",
       "      <td>1.67137</td>\n",
       "      <td>0.0732654</td>\n",
       "      <td>13.9279</td>\n",
       "      <td>-60.8357</td>\n",
       "    </tr>\n",
       "    <tr>\n",
       "      <td>...</td>\n",
       "      <td>...</td>\n",
       "      <td>...</td>\n",
       "      <td>...</td>\n",
       "      <td>...</td>\n",
       "      <td>...</td>\n",
       "      <td>...</td>\n",
       "      <td>...</td>\n",
       "      <td>...</td>\n",
       "      <td>...</td>\n",
       "      <td>...</td>\n",
       "      <td>...</td>\n",
       "      <td>...</td>\n",
       "      <td>...</td>\n",
       "      <td>...</td>\n",
       "      <td>...</td>\n",
       "      <td>...</td>\n",
       "      <td>...</td>\n",
       "      <td>...</td>\n",
       "      <td>...</td>\n",
       "      <td>...</td>\n",
       "      <td>...</td>\n",
       "    </tr>\n",
       "    <tr>\n",
       "      <td>12</td>\n",
       "      <td>FL</td>\n",
       "      <td>2009-01-31</td>\n",
       "      <td>8.17112</td>\n",
       "      <td>2.18182</td>\n",
       "      <td>2.05882</td>\n",
       "      <td>NaN</td>\n",
       "      <td>108.234</td>\n",
       "      <td>NaN</td>\n",
       "      <td>18.0712</td>\n",
       "      <td>NaN</td>\n",
       "      <td>...</td>\n",
       "      <td>NaN</td>\n",
       "      <td>-15.9653</td>\n",
       "      <td>3.293107</td>\n",
       "      <td>3.29311</td>\n",
       "      <td>3.29311</td>\n",
       "      <td>-4.54466</td>\n",
       "      <td>NaN</td>\n",
       "      <td>0.0737358</td>\n",
       "      <td>19.9659</td>\n",
       "      <td>NaN</td>\n",
       "    </tr>\n",
       "    <tr>\n",
       "      <td>13</td>\n",
       "      <td>FL</td>\n",
       "      <td>2008-02-02</td>\n",
       "      <td>7.61373</td>\n",
       "      <td>2.11588</td>\n",
       "      <td>2.09442</td>\n",
       "      <td>NaN</td>\n",
       "      <td>116.397</td>\n",
       "      <td>NaN</td>\n",
       "      <td>21.1713</td>\n",
       "      <td>NaN</td>\n",
       "      <td>...</td>\n",
       "      <td>NaN</td>\n",
       "      <td>38.25</td>\n",
       "      <td>6.893110</td>\n",
       "      <td>6.89311</td>\n",
       "      <td>6.89311</td>\n",
       "      <td>11.2682</td>\n",
       "      <td>NaN</td>\n",
       "      <td>0.039472</td>\n",
       "      <td>7.8314</td>\n",
       "      <td>NaN</td>\n",
       "    </tr>\n",
       "    <tr>\n",
       "      <td>14</td>\n",
       "      <td>FL</td>\n",
       "      <td>2007-02-03</td>\n",
       "      <td>6.56667</td>\n",
       "      <td>1.74074</td>\n",
       "      <td>0.818519</td>\n",
       "      <td>NaN</td>\n",
       "      <td>118.484</td>\n",
       "      <td>NaN</td>\n",
       "      <td>23.2785</td>\n",
       "      <td>NaN</td>\n",
       "      <td>...</td>\n",
       "      <td>NaN</td>\n",
       "      <td>14.1006</td>\n",
       "      <td>18.726232</td>\n",
       "      <td>18.7262</td>\n",
       "      <td>18.7262</td>\n",
       "      <td>4.11451</td>\n",
       "      <td>NaN</td>\n",
       "      <td>0.0172353</td>\n",
       "      <td>7.92952</td>\n",
       "      <td>NaN</td>\n",
       "    </tr>\n",
       "    <tr>\n",
       "      <td>15</td>\n",
       "      <td>FL</td>\n",
       "      <td>2005-12-30</td>\n",
       "      <td>4.46845</td>\n",
       "      <td>1.42476</td>\n",
       "      <td>0.701456</td>\n",
       "      <td>NaN</td>\n",
       "      <td>116.052</td>\n",
       "      <td>NaN</td>\n",
       "      <td>33.409</td>\n",
       "      <td>NaN</td>\n",
       "      <td>...</td>\n",
       "      <td>NaN</td>\n",
       "      <td>13.1706</td>\n",
       "      <td>9.822134</td>\n",
       "      <td>9.82213</td>\n",
       "      <td>9.82213</td>\n",
       "      <td>3.78062</td>\n",
       "      <td>NaN</td>\n",
       "      <td>0.0140925</td>\n",
       "      <td>7.58073</td>\n",
       "      <td>NaN</td>\n",
       "    </tr>\n",
       "    <tr>\n",
       "      <td>16</td>\n",
       "      <td>FL</td>\n",
       "      <td>2005-01-29</td>\n",
       "      <td>4.11779</td>\n",
       "      <td>1.23308</td>\n",
       "      <td>0.56391</td>\n",
       "      <td>NaN</td>\n",
       "      <td>112.873</td>\n",
       "      <td>NaN</td>\n",
       "      <td>37.363</td>\n",
       "      <td>NaN</td>\n",
       "      <td>...</td>\n",
       "      <td>NaN</td>\n",
       "      <td>16.1538</td>\n",
       "      <td>16.377429</td>\n",
       "      <td>16.3774</td>\n",
       "      <td>16.3774</td>\n",
       "      <td>5.17678</td>\n",
       "      <td>NaN</td>\n",
       "      <td>0.00823988</td>\n",
       "      <td>11.1102</td>\n",
       "      <td>NaN</td>\n",
       "    </tr>\n",
       "  </tbody>\n",
       "</table>\n",
       "<p>6173 rows × 56 columns</p>\n",
       "</div>"
      ],
      "text/plain": [
       "   symbol       date currentRatio quickRatio cashRatio daysOfSalesOutstanding  \\\n",
       "0    WYNN 2019-12-31       1.4405     1.1861    1.1861                      0   \n",
       "1    WYNN 2018-12-31      1.40345     1.1769    1.1769                      0   \n",
       "2    WYNN 2017-12-31      1.77371    1.53927   1.45288                      0   \n",
       "3    WYNN 2016-12-31      2.11139    1.85452   1.73206                      0   \n",
       "4    WYNN 2015-12-31      2.25711    1.97752   1.87367                      0   \n",
       "..    ...        ...          ...        ...       ...                    ...   \n",
       "12     FL 2009-01-31      8.17112    2.18182   2.05882                    NaN   \n",
       "13     FL 2008-02-02      7.61373    2.11588   2.09442                    NaN   \n",
       "14     FL 2007-02-03      6.56667    1.74074  0.818519                    NaN   \n",
       "15     FL 2005-12-30      4.46845    1.42476  0.701456                    NaN   \n",
       "16     FL 2005-01-29      4.11779    1.23308   0.56391                    NaN   \n",
       "\n",
       "   daysOfInventoryOutstanding operatingCycle daysOfPayablesOutstanding  \\\n",
       "0                     11.0488        11.0488                   32.7569   \n",
       "1                     39.7558        39.7558                   192.013   \n",
       "2                     63.6454        63.6454                   253.598   \n",
       "3                     89.0443        89.0443                   290.364   \n",
       "4                     75.2671        75.2671                   212.558   \n",
       "..                        ...            ...                       ...   \n",
       "12                    108.234            NaN                   18.0712   \n",
       "13                    116.397            NaN                   21.1713   \n",
       "14                    118.484            NaN                   23.2785   \n",
       "15                    116.052            NaN                    33.409   \n",
       "16                    112.873            NaN                    37.363   \n",
       "\n",
       "   cashConversionCycle  ... priceToSalesRatio priceEarningsRatio  \\\n",
       "0             -32.7569  ...           2.95502              109.9   \n",
       "1             -192.013  ...           1.91058            22.4213   \n",
       "2             -253.598  ...           2.77401            23.4133   \n",
       "3             -290.364  ...           2.32926            42.9928   \n",
       "4             -212.558  ...           1.67137            34.8831   \n",
       "..                 ...  ...               ...                ...   \n",
       "12                 NaN  ...               NaN           -15.9653   \n",
       "13                 NaN  ...               NaN              38.25   \n",
       "14                 NaN  ...               NaN            14.1006   \n",
       "15                 NaN  ...               NaN            13.1706   \n",
       "16                 NaN  ...               NaN            16.1538   \n",
       "\n",
       "   priceToFreeCashFlowsRatio priceToOperatingCashFlowsRatio  \\\n",
       "0                 -83.317729                             15   \n",
       "1                 -24.946624                        13.3487   \n",
       "2                  18.588772                        9.32227   \n",
       "3                 -40.733387                        10.7189   \n",
       "4                  -5.052047                        11.8927   \n",
       "..                       ...                            ...   \n",
       "12                  3.293107                        3.29311   \n",
       "13                  6.893110                        6.89311   \n",
       "14                 18.726232                        18.7262   \n",
       "15                  9.822134                        9.82213   \n",
       "16                 16.377429                        16.3774   \n",
       "\n",
       "   priceCashFlowRatio  priceEarningsToGrowthRatio priceSalesRatio  \\\n",
       "0                  15                     20.4938         2.95502   \n",
       "1             13.3487                     4.17259         1.91058   \n",
       "2             9.32227                     4.17486         2.77401   \n",
       "3             10.7189                     7.61911         2.32926   \n",
       "4             11.8927                     6.16473         1.67137   \n",
       "..                ...                         ...             ...   \n",
       "12            3.29311                    -4.54466             NaN   \n",
       "13            6.89311                     11.2682             NaN   \n",
       "14            18.7262                     4.11451             NaN   \n",
       "15            9.82213                     3.78062             NaN   \n",
       "16            16.3774                     5.17678             NaN   \n",
       "\n",
       "   dividendYield enterpriseValueMultiple priceFairValue  \n",
       "0      0.0419147                 14.0767        7.75428  \n",
       "1      0.0443941                 15.1488        6.30965  \n",
       "2      0.0183355                 14.8922        18.4565  \n",
       "3      0.0312613                 19.0124        65.8642  \n",
       "4      0.0732654                 13.9279       -60.8357  \n",
       "..           ...                     ...            ...  \n",
       "12     0.0737358                 19.9659            NaN  \n",
       "13      0.039472                  7.8314            NaN  \n",
       "14     0.0172353                 7.92952            NaN  \n",
       "15     0.0140925                 7.58073            NaN  \n",
       "16    0.00823988                 11.1102            NaN  \n",
       "\n",
       "[6173 rows x 56 columns]"
      ]
     },
     "execution_count": 98,
     "metadata": {},
     "output_type": "execute_result"
    }
   ],
   "source": [
    "company_all"
   ]
  },
  {
   "cell_type": "code",
   "execution_count": 106,
   "metadata": {},
   "outputs": [],
   "source": [
    "company_all = company_all.rename(columns={\"ticker\": \"Ticker\"})"
   ]
  },
  {
   "cell_type": "code",
   "execution_count": 108,
   "metadata": {},
   "outputs": [],
   "source": [
    "result = pd.merge(stocks, company_all, on='Ticker') "
   ]
  },
  {
   "cell_type": "code",
   "execution_count": 110,
   "metadata": {},
   "outputs": [],
   "source": [
    "result['rating_action_date'] = result['rating_action_date'].astype('datetime64[ns]')"
   ]
  },
  {
   "cell_type": "code",
   "execution_count": 115,
   "metadata": {},
   "outputs": [],
   "source": [
    "result['year_rating'] = pd.DatetimeIndex(result['rating_action_date']).year\n",
    "result['year_financials'] = pd.DatetimeIndex(result['date']).year"
   ]
  },
  {
   "cell_type": "code",
   "execution_count": 117,
   "metadata": {},
   "outputs": [],
   "source": [
    "df_financials = result[(result.year_financials == result.year_rating)]"
   ]
  },
  {
   "cell_type": "markdown",
   "metadata": {},
   "source": [
    "# Plot"
   ]
  },
  {
   "cell_type": "code",
   "execution_count": null,
   "metadata": {},
   "outputs": [],
   "source": []
  },
  {
   "cell_type": "code",
   "execution_count": 125,
   "metadata": {},
   "outputs": [
    {
     "data": {
      "image/png": "[encoded data removed]",
      "text/plain": [
       "<Figure size 432x288 with 1 Axes>"
      ]
     },
     "metadata": {
      "needs_background": "light"
     },
     "output_type": "display_data"
    }
   ],
   "source": [
    "plt.scatter(df_financials.debtRatio, df_financials.returnOnCapitalEmployed, marker='o');"
   ]
  },
  {
   "cell_type": "code",
   "execution_count": 146,
   "metadata": {},
   "outputs": [],
   "source": [
    "df_financials_nona = df_financials.dropna()"
   ]
  },
  {
   "cell_type": "code",
   "execution_count": null,
   "metadata": {},
   "outputs": [],
   "source": [
    "df_financials_nona"
   ]
  },
  {
   "cell_type": "code",
   "execution_count": 147,
   "metadata": {},
   "outputs": [],
   "source": [
    "# df_financials.columns\n",
    "a = list(df_financials_nona.debtRatio) \n",
    "b = list(df_financials_nona.totalDebtToCapitalization)\n",
    "\n",
    "amin, amax = min(a), max(a)\n",
    "for i, val in enumerate(a):\n",
    "    a[i] = (val-amin) / (amax-amin)\n",
    "    \n",
    "amin, amax = min(b), max(b)\n",
    "for i, val in enumerate(a):\n",
    "    b[i] = (val-amin) / (amax-amin)"
   ]
  },
  {
   "cell_type": "code",
   "execution_count": 170,
   "metadata": {},
   "outputs": [
    {
     "data": {
      "image/png": "[encoded data removed]",
      "text/plain": [
       "<Figure size 432x288 with 1 Axes>"
      ]
     },
     "metadata": {
      "needs_background": "light"
     },
     "output_type": "display_data"
    }
   ],
   "source": [
    "plt.scatter(df_financials_nona.returnOnCapitalEmployed, df_financials_nona.capitalExpenditureCoverageRatio, marker='o');"
   ]
  },
  {
   "cell_type": "code",
   "execution_count": null,
   "metadata": {},
   "outputs": [],
   "source": []
  },
  {
   "cell_type": "code",
   "execution_count": null,
   "metadata": {},
   "outputs": [],
   "source": []
  },
  {
   "cell_type": "code",
   "execution_count": null,
   "metadata": {},
   "outputs": [],
   "source": []
  },
  {
   "cell_type": "code",
   "execution_count": null,
   "metadata": {},
   "outputs": [],
   "source": []
  },
  {
   "cell_type": "code",
   "execution_count": null,
   "metadata": {},
   "outputs": [],
   "source": []
  },
  {
   "cell_type": "code",
   "execution_count": null,
   "metadata": {},
   "outputs": [],
   "source": []
  },
  {
   "cell_type": "code",
   "execution_count": null,
   "metadata": {},
   "outputs": [],
   "source": []
  },
  {
   "cell_type": "code",
   "execution_count": 160,
   "metadata": {},
   "outputs": [
    {
     "data": {
      "text/plain": [
       "Index(['id', 'rating_agency_name', 'file_creating_date', 'issued_paid',\n",
       "       'rating', 'rating_action_date', 'rating_action_class',\n",
       "       'obligor_sec_category', 'obligor_name', 'Ticker', 'date',\n",
       "       'currentRatio', 'quickRatio', 'cashRatio', 'daysOfSalesOutstanding',\n",
       "       'daysOfInventoryOutstanding', 'operatingCycle',\n",
       "       'daysOfPayablesOutstanding', 'cashConversionCycle', 'grossProfitMargin',\n",
       "       'operatingProfitMargin', 'pretaxProfitMargin', 'netProfitMargin',\n",
       "       'effectiveTaxRate', 'returnOnAssets', 'returnOnEquity',\n",
       "       'returnOnCapitalEmployed', 'netIncomePerEBT', 'ebtPerEbit',\n",
       "       'ebitPerRevenue', 'debtRatio', 'debtEquityRatio',\n",
       "       'longTermDebtToCapitalization', 'totalDebtToCapitalization',\n",
       "       'interestCoverage', 'cashFlowToDebtRatio', 'companyEquityMultiplier',\n",
       "       'receivablesTurnover', 'payablesTurnover', 'inventoryTurnover',\n",
       "       'fixedAssetTurnover', 'assetTurnover', 'operatingCashFlowPerShare',\n",
       "       'freeCashFlowPerShare', 'cashPerShare', 'payoutRatio',\n",
       "       'operatingCashFlowSalesRatio', 'freeCashFlowOperatingCashFlowRatio',\n",
       "       'cashFlowCoverageRatios', 'shortTermCoverageRatios',\n",
       "       'capitalExpenditureCoverageRatio', 'dividendPaidAndCapexCoverageRatio',\n",
       "       'dividendPayoutRatio', 'priceBookValueRatio', 'priceToBookRatio',\n",
       "       'priceToSalesRatio', 'priceEarningsRatio', 'priceToFreeCashFlowsRatio',\n",
       "       'priceToOperatingCashFlowsRatio', 'priceCashFlowRatio',\n",
       "       'priceEarningsToGrowthRatio', 'priceSalesRatio', 'dividendYield',\n",
       "       'enterpriseValueMultiple', 'priceFairValue', 'year_rating',\n",
       "       'year_financials'],\n",
       "      dtype='object')"
      ]
     },
     "execution_count": 160,
     "metadata": {},
     "output_type": "execute_result"
    }
   ],
   "source": [
    "df_financials_nona.columns"
   ]
  }
 ],
 "metadata": {
  "kernelspec": {
   "display_name": "Python 3",
   "language": "python",
   "name": "python3"
  },
  "language_info": {
   "codemirror_mode": {
    "name": "ipython",
    "version": 3
   },
   "file_extension": ".py",
   "mimetype": "text/x-python",
   "name": "python",
   "nbconvert_exporter": "python",
   "pygments_lexer": "ipython3",
   "version": "3.7.4"
  }
 },
 "nbformat": 4,
 "nbformat_minor": 2
}
